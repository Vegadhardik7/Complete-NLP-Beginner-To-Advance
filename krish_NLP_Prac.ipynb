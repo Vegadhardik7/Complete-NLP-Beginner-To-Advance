{
  "nbformat": 4,
  "nbformat_minor": 0,
  "metadata": {
    "colab": {
      "name": "krish NLP Prac.ipynb",
      "provenance": [],
      "collapsed_sections": [
        "8CHSR7LJzS5y",
        "UjAmwbqJyFZx"
      ]
    },
    "kernelspec": {
      "name": "python3",
      "display_name": "Python 3"
    },
    "language_info": {
      "name": "python"
    }
  },
  "cells": [
    {
      "cell_type": "code",
      "execution_count": null,
      "metadata": {
        "colab": {
          "base_uri": "https://localhost:8080/"
        },
        "id": "swo2jq4aQUX-",
        "outputId": "54583bf1-bd38-42c9-eafe-0dc15367f12b"
      },
      "outputs": [
        {
          "output_type": "stream",
          "name": "stdout",
          "text": [
            "Looking in indexes: https://pypi.org/simple, https://us-python.pkg.dev/colab-wheels/public/simple/\n",
            "Requirement already satisfied: nltk in /usr/local/lib/python3.7/dist-packages (3.7)\n",
            "Requirement already satisfied: joblib in /usr/local/lib/python3.7/dist-packages (from nltk) (1.1.0)\n",
            "Requirement already satisfied: click in /usr/local/lib/python3.7/dist-packages (from nltk) (7.1.2)\n",
            "Requirement already satisfied: regex>=2021.8.3 in /usr/local/lib/python3.7/dist-packages (from nltk) (2022.6.2)\n",
            "Requirement already satisfied: tqdm in /usr/local/lib/python3.7/dist-packages (from nltk) (4.64.0)\n"
          ]
        }
      ],
      "source": [
        "!pip install nltk"
      ]
    },
    {
      "cell_type": "code",
      "source": [
        "para = \"\"\"Narendra Damodardas Modi (Gujarati: [ˈnəɾendɾə dɑmodəɾˈdɑs ˈmodiː] (listen); born 17 September 1950)[a] is an Indian politician serving as the 14th and current prime minister of India since 2014. Modi was the chief minister of Gujarat from 2001 to 2014 and is the Member of Parliament from Varanasi. He is a member of the Bharatiya Janata Party (BJP) and of the Rashtriya Swayamsevak Sangh (RSS), a right-wing Hindu nationalist paramilitary volunteer organisation. He is the first prime minister to have been born after India's independence in 1947 and the second prime minister not belonging to the Indian National Congress to have won two consecutive majorities in the Lok Sabha, or the lower house of India's parliament. He is also the longest serving prime minister from a non-Congress party.\n",
        "\n",
        "Born and raised in Vadnagar, a small town in northeastern Gujarat, Modi completed his secondary education there. He was introduced to the RSS at age eight. He has drawn attention to having to work as a child in his father's tea stall on the Vadnagar railway station platform, a description that has not been reliably corroborated. At age 18, Modi was married to Jashodaben Chimanlal Modi, whom he abandoned soon after. He left his parental home where she had come to live. He first publicly acknowledged her as his wife more than four decades later when required to do so by Indian law, but has made no contact with her since. Modi has asserted he had travelled in northern India for two years after leaving his parental home, visiting a number of religious centres, but few details of his travels have emerged. Upon his return to Gujarat in 1971, he became a full-time worker for the RSS. After the state of emergency was declared by prime minister Indira Gandhi in 1975, Modi went into hiding. The RSS assigned him to the BJP in 1985 and he held several positions within the party hierarchy until 2001, rising to the rank of general secretary.\"\"\"\n",
        "\n",
        "para"
      ],
      "metadata": {
        "colab": {
          "base_uri": "https://localhost:8080/",
          "height": 123
        },
        "id": "XgzPfbuPc6Rh",
        "outputId": "856a3c4a-f67d-4e50-aa09-8d99f959fbac"
      },
      "execution_count": null,
      "outputs": [
        {
          "output_type": "execute_result",
          "data": {
            "text/plain": [
              "\"Narendra Damodardas Modi (Gujarati: [ˈnəɾendɾə dɑmodəɾˈdɑs ˈmodiː] (listen); born 17 September 1950)[a] is an Indian politician serving as the 14th and current prime minister of India since 2014. Modi was the chief minister of Gujarat from 2001 to 2014 and is the Member of Parliament from Varanasi. He is a member of the Bharatiya Janata Party (BJP) and of the Rashtriya Swayamsevak Sangh (RSS), a right-wing Hindu nationalist paramilitary volunteer organisation. He is the first prime minister to have been born after India's independence in 1947 and the second prime minister not belonging to the Indian National Congress to have won two consecutive majorities in the Lok Sabha, or the lower house of India's parliament. He is also the longest serving prime minister from a non-Congress party.\\n\\nBorn and raised in Vadnagar, a small town in northeastern Gujarat, Modi completed his secondary education there. He was introduced to the RSS at age eight. He has drawn attention to having to work as a child in his father's tea stall on the Vadnagar railway station platform, a description that has not been reliably corroborated. At age 18, Modi was married to Jashodaben Chimanlal Modi, whom he abandoned soon after. He left his parental home where she had come to live. He first publicly acknowledged her as his wife more than four decades later when required to do so by Indian law, but has made no contact with her since. Modi has asserted he had travelled in northern India for two years after leaving his parental home, visiting a number of religious centres, but few details of his travels have emerged. Upon his return to Gujarat in 1971, he became a full-time worker for the RSS. After the state of emergency was declared by prime minister Indira Gandhi in 1975, Modi went into hiding. The RSS assigned him to the BJP in 1985 and he held several positions within the party hierarchy until 2001, rising to the rank of general secretary.\""
            ],
            "application/vnd.google.colaboratory.intrinsic+json": {
              "type": "string"
            }
          },
          "metadata": {},
          "execution_count": 2
        }
      ]
    },
    {
      "cell_type": "code",
      "source": [
        "import nltk\n",
        "from nltk.corpus import stopwords"
      ],
      "metadata": {
        "id": "Uas_Svs8ddgk"
      },
      "execution_count": null,
      "outputs": []
    },
    {
      "cell_type": "code",
      "source": [
        "# tokenization ---> Sentence to words\n",
        "\n",
        "nltk.download('punkt')\n",
        "\n",
        "sentences = nltk.sent_tokenize(para)\n",
        "sentences"
      ],
      "metadata": {
        "colab": {
          "base_uri": "https://localhost:8080/"
        },
        "id": "Y5KGj74Jd802",
        "outputId": "8303702a-727b-4ca7-d21b-c47de7d89056"
      },
      "execution_count": null,
      "outputs": [
        {
          "output_type": "stream",
          "name": "stderr",
          "text": [
            "[nltk_data] Downloading package punkt to /root/nltk_data...\n",
            "[nltk_data]   Package punkt is already up-to-date!\n"
          ]
        },
        {
          "output_type": "execute_result",
          "data": {
            "text/plain": [
              "['Narendra Damodardas Modi (Gujarati: [ˈnəɾendɾə dɑmodəɾˈdɑs ˈmodiː] (listen); born 17 September 1950)[a] is an Indian politician serving as the 14th and current prime minister of India since 2014.',\n",
              " 'Modi was the chief minister of Gujarat from 2001 to 2014 and is the Member of Parliament from Varanasi.',\n",
              " 'He is a member of the Bharatiya Janata Party (BJP) and of the Rashtriya Swayamsevak Sangh (RSS), a right-wing Hindu nationalist paramilitary volunteer organisation.',\n",
              " \"He is the first prime minister to have been born after India's independence in 1947 and the second prime minister not belonging to the Indian National Congress to have won two consecutive majorities in the Lok Sabha, or the lower house of India's parliament.\",\n",
              " 'He is also the longest serving prime minister from a non-Congress party.',\n",
              " 'Born and raised in Vadnagar, a small town in northeastern Gujarat, Modi completed his secondary education there.',\n",
              " 'He was introduced to the RSS at age eight.',\n",
              " \"He has drawn attention to having to work as a child in his father's tea stall on the Vadnagar railway station platform, a description that has not been reliably corroborated.\",\n",
              " 'At age 18, Modi was married to Jashodaben Chimanlal Modi, whom he abandoned soon after.',\n",
              " 'He left his parental home where she had come to live.',\n",
              " 'He first publicly acknowledged her as his wife more than four decades later when required to do so by Indian law, but has made no contact with her since.',\n",
              " 'Modi has asserted he had travelled in northern India for two years after leaving his parental home, visiting a number of religious centres, but few details of his travels have emerged.',\n",
              " 'Upon his return to Gujarat in 1971, he became a full-time worker for the RSS.',\n",
              " 'After the state of emergency was declared by prime minister Indira Gandhi in 1975, Modi went into hiding.',\n",
              " 'The RSS assigned him to the BJP in 1985 and he held several positions within the party hierarchy until 2001, rising to the rank of general secretary.']"
            ]
          },
          "metadata": {},
          "execution_count": 4
        }
      ]
    },
    {
      "cell_type": "code",
      "source": [
        "# Stemmin ---> Find base root word (with no meaning)\n",
        "from nltk.stem import PorterStemmer\n",
        "stemmer = PorterStemmer()\n",
        "\n",
        "stemmer.stem(\"historic\")"
      ],
      "metadata": {
        "colab": {
          "base_uri": "https://localhost:8080/",
          "height": 36
        },
        "id": "cs-PbnCReNPm",
        "outputId": "c1612d02-b5b2-4578-d3c1-ec849f433d31"
      },
      "execution_count": null,
      "outputs": [
        {
          "output_type": "execute_result",
          "data": {
            "text/plain": [
              "'histor'"
            ],
            "application/vnd.google.colaboratory.intrinsic+json": {
              "type": "string"
            }
          },
          "metadata": {},
          "execution_count": 5
        }
      ]
    },
    {
      "cell_type": "code",
      "source": [
        "# Lemmetization --->Find base root word (with meaning)\n",
        "\n",
        "nltk.download('wordnet')\n",
        "\n",
        "from nltk.stem import WordNetLemmatizer\n",
        "\n",
        "lemma = WordNetLemmatizer()\n",
        "lemma.lemmatize('goes')"
      ],
      "metadata": {
        "colab": {
          "base_uri": "https://localhost:8080/",
          "height": 70
        },
        "id": "Cp8dGBAMeka1",
        "outputId": "0a13f9ec-43aa-47f6-ce9e-3829a8a0cb78"
      },
      "execution_count": null,
      "outputs": [
        {
          "output_type": "stream",
          "name": "stderr",
          "text": [
            "[nltk_data] Downloading package wordnet to /root/nltk_data...\n",
            "[nltk_data]   Package wordnet is already up-to-date!\n"
          ]
        },
        {
          "output_type": "execute_result",
          "data": {
            "text/plain": [
              "'go'"
            ],
            "application/vnd.google.colaboratory.intrinsic+json": {
              "type": "string"
            }
          },
          "metadata": {},
          "execution_count": 7
        }
      ]
    },
    {
      "cell_type": "code",
      "source": [
        "# Cleaning Text\n",
        "\n",
        "import re\n",
        "\n",
        "corpus = []\n",
        "\n",
        "for i in range(len(sentences)):\n",
        "  text = re.sub('[^a-zA-Z]',' ',sentences[i])\n",
        "  text = text.lower()\n",
        "  # text = text.split()      ---> Will create list of tokens ['he', 'is', 'also', 'the', 'longest', 'serving', 'prime', 'minister', 'from', 'a', 'non', 'congress', 'party']\n",
        "  corpus.append(text)\n",
        "\n",
        "corpus"
      ],
      "metadata": {
        "colab": {
          "base_uri": "https://localhost:8080/"
        },
        "id": "16MjbRQ1gFdz",
        "outputId": "ecaecc3e-4f11-4140-cf9e-fd9a8d197d39"
      },
      "execution_count": null,
      "outputs": [
        {
          "output_type": "execute_result",
          "data": {
            "text/plain": [
              "['narendra damodardas modi  gujarati    n  end   d mod   d s  modi    listen   born    september       a  is an indian politician serving as the   th and current prime minister of india since      ',\n",
              " 'modi was the chief minister of gujarat from      to      and is the member of parliament from varanasi ',\n",
              " 'he is a member of the bharatiya janata party  bjp  and of the rashtriya swayamsevak sangh  rss   a right wing hindu nationalist paramilitary volunteer organisation ',\n",
              " 'he is the first prime minister to have been born after india s independence in      and the second prime minister not belonging to the indian national congress to have won two consecutive majorities in the lok sabha  or the lower house of india s parliament ',\n",
              " 'he is also the longest serving prime minister from a non congress party ',\n",
              " 'born and raised in vadnagar  a small town in northeastern gujarat  modi completed his secondary education there ',\n",
              " 'he was introduced to the rss at age eight ',\n",
              " 'he has drawn attention to having to work as a child in his father s tea stall on the vadnagar railway station platform  a description that has not been reliably corroborated ',\n",
              " 'at age     modi was married to jashodaben chimanlal modi  whom he abandoned soon after ',\n",
              " 'he left his parental home where she had come to live ',\n",
              " 'he first publicly acknowledged her as his wife more than four decades later when required to do so by indian law  but has made no contact with her since ',\n",
              " 'modi has asserted he had travelled in northern india for two years after leaving his parental home  visiting a number of religious centres  but few details of his travels have emerged ',\n",
              " 'upon his return to gujarat in       he became a full time worker for the rss ',\n",
              " 'after the state of emergency was declared by prime minister indira gandhi in       modi went into hiding ',\n",
              " 'the rss assigned him to the bjp in      and he held several positions within the party hierarchy until       rising to the rank of general secretary ']"
            ]
          },
          "metadata": {},
          "execution_count": 13
        }
      ]
    },
    {
      "cell_type": "code",
      "source": [
        "nltk.download('stopwords')\n",
        "\n",
        "# Stemming\n",
        "\n",
        "for sent in corpus:\n",
        "  # tokenize the words in sentence\n",
        "  words = nltk.word_tokenize(sent)\n",
        "\n",
        "  # stem all the words in the sentence\n",
        "  for word in words:\n",
        "\n",
        "    # remove stopwords\n",
        "    if word not in set(stopwords.words('english')):\n",
        "      print(stemmer.stem(word))"
      ],
      "metadata": {
        "colab": {
          "base_uri": "https://localhost:8080/"
        },
        "id": "SO_CvhOCh9ck",
        "outputId": "b4bdc4fb-9fa6-421e-e9bb-45b2d0fdbe64"
      },
      "execution_count": null,
      "outputs": [
        {
          "output_type": "stream",
          "name": "stderr",
          "text": [
            "[nltk_data] Downloading package stopwords to /root/nltk_data...\n",
            "[nltk_data]   Package stopwords is already up-to-date!\n"
          ]
        },
        {
          "output_type": "stream",
          "name": "stdout",
          "text": [
            "narendra\n",
            "damodarda\n",
            "modi\n",
            "gujarati\n",
            "n\n",
            "end\n",
            "mod\n",
            "modi\n",
            "listen\n",
            "born\n",
            "septemb\n",
            "indian\n",
            "politician\n",
            "serv\n",
            "th\n",
            "current\n",
            "prime\n",
            "minist\n",
            "india\n",
            "sinc\n",
            "modi\n",
            "chief\n",
            "minist\n",
            "gujarat\n",
            "member\n",
            "parliament\n",
            "varanasi\n",
            "member\n",
            "bharatiya\n",
            "janata\n",
            "parti\n",
            "bjp\n",
            "rashtriya\n",
            "swayamsevak\n",
            "sangh\n",
            "rss\n",
            "right\n",
            "wing\n",
            "hindu\n",
            "nationalist\n",
            "paramilitari\n",
            "volunt\n",
            "organis\n",
            "first\n",
            "prime\n",
            "minist\n",
            "born\n",
            "india\n",
            "independ\n",
            "second\n",
            "prime\n",
            "minist\n",
            "belong\n",
            "indian\n",
            "nation\n",
            "congress\n",
            "two\n",
            "consecut\n",
            "major\n",
            "lok\n",
            "sabha\n",
            "lower\n",
            "hous\n",
            "india\n",
            "parliament\n",
            "also\n",
            "longest\n",
            "serv\n",
            "prime\n",
            "minist\n",
            "non\n",
            "congress\n",
            "parti\n",
            "born\n",
            "rais\n",
            "vadnagar\n",
            "small\n",
            "town\n",
            "northeastern\n",
            "gujarat\n",
            "modi\n",
            "complet\n",
            "secondari\n",
            "educ\n",
            "introduc\n",
            "rss\n",
            "age\n",
            "eight\n",
            "drawn\n",
            "attent\n",
            "work\n",
            "child\n",
            "father\n",
            "tea\n",
            "stall\n",
            "vadnagar\n",
            "railway\n",
            "station\n",
            "platform\n",
            "descript\n",
            "reliabl\n",
            "corrobor\n",
            "age\n",
            "modi\n",
            "marri\n",
            "jashodaben\n",
            "chimanl\n",
            "modi\n",
            "abandon\n",
            "soon\n",
            "left\n",
            "parent\n",
            "home\n",
            "come\n",
            "live\n",
            "first\n",
            "publicli\n",
            "acknowledg\n",
            "wife\n",
            "four\n",
            "decad\n",
            "later\n",
            "requir\n",
            "indian\n",
            "law\n",
            "made\n",
            "contact\n",
            "sinc\n",
            "modi\n",
            "assert\n",
            "travel\n",
            "northern\n",
            "india\n",
            "two\n",
            "year\n",
            "leav\n",
            "parent\n",
            "home\n",
            "visit\n",
            "number\n",
            "religi\n",
            "centr\n",
            "detail\n",
            "travel\n",
            "emerg\n",
            "upon\n",
            "return\n",
            "gujarat\n",
            "becam\n",
            "full\n",
            "time\n",
            "worker\n",
            "rss\n",
            "state\n",
            "emerg\n",
            "declar\n",
            "prime\n",
            "minist\n",
            "indira\n",
            "gandhi\n",
            "modi\n",
            "went\n",
            "hide\n",
            "rss\n",
            "assign\n",
            "bjp\n",
            "held\n",
            "sever\n",
            "posit\n",
            "within\n",
            "parti\n",
            "hierarchi\n",
            "rise\n",
            "rank\n",
            "gener\n",
            "secretari\n"
          ]
        }
      ]
    },
    {
      "cell_type": "code",
      "source": [
        "# Lemmetize\n",
        "\n",
        "nltk.download('stopwords')\n",
        "\n",
        "for sent in corpus:\n",
        "  # tokenize the words in sentence\n",
        "  words = nltk.word_tokenize(sent)\n",
        "\n",
        "  # stem all the words in the sentence\n",
        "  for word in words:\n",
        "\n",
        "    # remove stopwords\n",
        "    if word not in set(stopwords.words('english')):\n",
        "      print(lemma.lemmatize(word))"
      ],
      "metadata": {
        "colab": {
          "base_uri": "https://localhost:8080/"
        },
        "id": "wsSOaLvijZEH",
        "outputId": "8f314886-79ce-48ce-d6b5-a1566cc1add5"
      },
      "execution_count": null,
      "outputs": [
        {
          "output_type": "stream",
          "name": "stdout",
          "text": [
            "narendra\n",
            "damodardas\n",
            "modi\n",
            "gujarati\n",
            "n\n",
            "end\n",
            "mod\n",
            "modi\n",
            "listen\n",
            "born\n",
            "september\n",
            "indian\n",
            "politician\n",
            "serving\n",
            "th\n",
            "current\n",
            "prime\n",
            "minister\n",
            "india\n",
            "since\n",
            "modi\n",
            "chief\n",
            "minister\n",
            "gujarat\n",
            "member\n",
            "parliament\n",
            "varanasi\n",
            "member\n",
            "bharatiya\n",
            "janata\n",
            "party\n",
            "bjp\n",
            "rashtriya\n",
            "swayamsevak\n",
            "sangh\n",
            "r\n",
            "right\n",
            "wing\n",
            "hindu\n",
            "nationalist\n",
            "paramilitary\n",
            "volunteer\n",
            "organisation\n",
            "first\n",
            "prime\n",
            "minister\n",
            "born\n",
            "india\n",
            "independence\n",
            "second\n",
            "prime\n",
            "minister\n",
            "belonging\n",
            "indian\n",
            "national\n",
            "congress\n",
            "two\n",
            "consecutive\n",
            "majority\n",
            "lok\n",
            "sabha\n",
            "lower\n",
            "house\n",
            "india\n",
            "parliament\n",
            "also\n",
            "longest\n",
            "serving\n",
            "prime\n",
            "minister\n",
            "non\n",
            "congress\n",
            "party\n",
            "born\n",
            "raised\n",
            "vadnagar\n",
            "small\n",
            "town\n",
            "northeastern\n",
            "gujarat\n",
            "modi\n",
            "completed\n",
            "secondary\n",
            "education\n",
            "introduced\n",
            "r\n",
            "age\n",
            "eight\n",
            "drawn\n",
            "attention\n",
            "work\n",
            "child\n",
            "father\n",
            "tea\n",
            "stall\n",
            "vadnagar\n",
            "railway\n",
            "station\n",
            "platform\n",
            "description\n",
            "reliably\n",
            "corroborated\n",
            "age\n",
            "modi\n",
            "married\n",
            "jashodaben\n",
            "chimanlal\n",
            "modi\n",
            "abandoned\n",
            "soon\n",
            "left\n",
            "parental\n",
            "home\n",
            "come\n",
            "live\n",
            "first\n",
            "publicly\n",
            "acknowledged\n",
            "wife\n",
            "four\n",
            "decade\n",
            "later\n",
            "required\n",
            "indian\n",
            "law\n",
            "made\n",
            "contact\n",
            "since\n",
            "modi\n",
            "asserted\n",
            "travelled\n",
            "northern\n",
            "india\n",
            "two\n",
            "year\n",
            "leaving\n",
            "parental\n",
            "home\n",
            "visiting\n",
            "number\n",
            "religious\n",
            "centre\n",
            "detail\n",
            "travel\n",
            "emerged\n",
            "upon\n",
            "return\n",
            "gujarat\n",
            "became\n",
            "full\n",
            "time\n",
            "worker\n",
            "r\n",
            "state\n",
            "emergency\n",
            "declared\n",
            "prime\n",
            "minister\n",
            "indira\n",
            "gandhi\n",
            "modi\n",
            "went\n",
            "hiding\n",
            "r\n",
            "assigned\n",
            "bjp\n",
            "held\n",
            "several\n",
            "position\n",
            "within\n",
            "party\n",
            "hierarchy\n",
            "rising\n",
            "rank\n",
            "general\n",
            "secretary\n"
          ]
        },
        {
          "output_type": "stream",
          "name": "stderr",
          "text": [
            "[nltk_data] Downloading package stopwords to /root/nltk_data...\n",
            "[nltk_data]   Package stopwords is already up-to-date!\n"
          ]
        }
      ]
    },
    {
      "cell_type": "markdown",
      "source": [
        "# Bag Of Words"
      ],
      "metadata": {
        "id": "8CHSR7LJzS5y"
      }
    },
    {
      "cell_type": "code",
      "source": [
        "# Bag Of Words\n",
        "\n",
        "from sklearn.feature_extraction.text import CountVectorizer\n",
        "\n",
        "cv = CountVectorizer()\n",
        "\n",
        "values = cv.fit_transform(corpus)\n",
        "values"
      ],
      "metadata": {
        "colab": {
          "base_uri": "https://localhost:8080/"
        },
        "id": "-y2h9Ta9kMkr",
        "outputId": "abfb5087-e6d1-436d-825c-cc4c0bd9848d"
      },
      "execution_count": null,
      "outputs": [
        {
          "output_type": "execute_result",
          "data": {
            "text/plain": [
              "<15x176 sparse matrix of type '<class 'numpy.int64'>'\n",
              "\twith 285 stored elements in Compressed Sparse Row format>"
            ]
          },
          "metadata": {},
          "execution_count": 20
        }
      ]
    },
    {
      "cell_type": "code",
      "source": [
        "# value and index (NOT COUNT)\n",
        "print(cv.vocabulary_)"
      ],
      "metadata": {
        "colab": {
          "base_uri": "https://localhost:8080/"
        },
        "id": "FQUVxEPpkt2o",
        "outputId": "f11a6e15-aa79-4bda-a507-8427c58cf95e"
      },
      "execution_count": null,
      "outputs": [
        {
          "output_type": "stream",
          "name": "stdout",
          "text": [
            "{'narendra': 95, 'damodardas': 31, 'modi': 93, 'gujarati': 53, 'end': 42, 'mod': 92, 'listen': 82, 'born': 17, 'september': 133, 'is': 75, 'an': 5, 'indian': 71, 'politician': 113, 'serving': 134, 'as': 7, 'the': 149, 'th': 146, 'and': 6, 'current': 30, 'prime': 115, 'minister': 91, 'of': 104, 'india': 70, 'since': 137, 'was': 163, 'chief': 21, 'gujarat': 52, 'from': 48, 'to': 152, 'member': 90, 'parliament': 110, 'varanasi': 160, 'he': 58, 'bharatiya': 15, 'janata': 76, 'party': 111, 'bjp': 16, 'rashtriya': 120, 'swayamsevak': 144, 'sangh': 129, 'rss': 127, 'right': 125, 'wing': 169, 'hindu': 64, 'nationalist': 97, 'paramilitary': 108, 'volunteer': 162, 'organisation': 107, 'first': 45, 'have': 56, 'been': 13, 'after': 2, 'independence': 69, 'in': 68, 'second': 130, 'not': 102, 'belonging': 14, 'national': 96, 'congress': 26, 'won': 172, 'two': 156, 'consecutive': 27, 'majorities': 88, 'lok': 84, 'sabha': 128, 'or': 106, 'lower': 86, 'house': 67, 'also': 4, 'longest': 85, 'non': 99, 'raised': 118, 'vadnagar': 159, 'small': 138, 'town': 153, 'northeastern': 100, 'completed': 25, 'his': 65, 'secondary': 131, 'education': 38, 'there': 150, 'introduced': 74, 'at': 10, 'age': 3, 'eight': 39, 'has': 55, 'drawn': 37, 'attention': 11, 'having': 57, 'work': 173, 'child': 22, 'father': 43, 'tea': 145, 'stall': 141, 'on': 105, 'railway': 117, 'station': 143, 'platform': 112, 'description': 34, 'that': 148, 'reliably': 121, 'corroborated': 29, 'married': 89, 'jashodaben': 77, 'chimanlal': 23, 'whom': 167, 'abandoned': 0, 'soon': 140, 'left': 81, 'parental': 109, 'home': 66, 'where': 166, 'she': 136, 'had': 54, 'come': 24, 'live': 83, 'publicly': 116, 'acknowledged': 1, 'her': 60, 'wife': 168, 'more': 94, 'than': 147, 'four': 47, 'decades': 32, 'later': 78, 'when': 165, 'required': 123, 'do': 36, 'so': 139, 'by': 19, 'law': 79, 'but': 18, 'made': 87, 'no': 98, 'contact': 28, 'with': 170, 'asserted': 8, 'travelled': 154, 'northern': 101, 'for': 46, 'years': 175, 'leaving': 80, 'visiting': 161, 'number': 103, 'religious': 122, 'centres': 20, 'few': 44, 'details': 35, 'travels': 155, 'emerged': 40, 'upon': 158, 'return': 124, 'became': 12, 'full': 49, 'time': 151, 'worker': 174, 'state': 142, 'emergency': 41, 'declared': 33, 'indira': 72, 'gandhi': 50, 'went': 164, 'into': 73, 'hiding': 61, 'assigned': 9, 'him': 63, 'held': 59, 'several': 135, 'positions': 114, 'within': 171, 'hierarchy': 62, 'until': 157, 'rising': 126, 'rank': 119, 'general': 51, 'secretary': 132}\n"
          ]
        }
      ]
    },
    {
      "cell_type": "code",
      "source": [
        "print(corpus[0])"
      ],
      "metadata": {
        "colab": {
          "base_uri": "https://localhost:8080/"
        },
        "id": "QHO99X8Pk1rt",
        "outputId": "92f9e3bf-eb60-41ed-be88-c3df993f6753"
      },
      "execution_count": null,
      "outputs": [
        {
          "output_type": "stream",
          "name": "stdout",
          "text": [
            "narendra damodardas modi  gujarati    n  end   d mod   d s  modi    listen   born    september       a  is an indian politician serving as the   th and current prime minister of india since      \n"
          ]
        }
      ]
    },
    {
      "cell_type": "code",
      "source": [
        "values[0].toarray()"
      ],
      "metadata": {
        "colab": {
          "base_uri": "https://localhost:8080/"
        },
        "id": "7wb18etPk_N_",
        "outputId": "2a05fd94-7bbe-4250-e98b-de32de408f7a"
      },
      "execution_count": null,
      "outputs": [
        {
          "output_type": "execute_result",
          "data": {
            "text/plain": [
              "array([[0, 0, 0, 0, 0, 1, 1, 1, 0, 0, 0, 0, 0, 0, 0, 0, 0, 1, 0, 0, 0, 0,\n",
              "        0, 0, 0, 0, 0, 0, 0, 0, 1, 1, 0, 0, 0, 0, 0, 0, 0, 0, 0, 0, 1, 0,\n",
              "        0, 0, 0, 0, 0, 0, 0, 0, 0, 1, 0, 0, 0, 0, 0, 0, 0, 0, 0, 0, 0, 0,\n",
              "        0, 0, 0, 0, 1, 1, 0, 0, 0, 1, 0, 0, 0, 0, 0, 0, 1, 0, 0, 0, 0, 0,\n",
              "        0, 0, 0, 1, 1, 2, 0, 1, 0, 0, 0, 0, 0, 0, 0, 0, 1, 0, 0, 0, 0, 0,\n",
              "        0, 0, 0, 1, 0, 1, 0, 0, 0, 0, 0, 0, 0, 0, 0, 0, 0, 0, 0, 0, 0, 0,\n",
              "        0, 1, 1, 0, 0, 1, 0, 0, 0, 0, 0, 0, 0, 0, 1, 0, 0, 1, 0, 0, 0, 0,\n",
              "        0, 0, 0, 0, 0, 0, 0, 0, 0, 0, 0, 0, 0, 0, 0, 0, 0, 0, 0, 0, 0, 0]])"
            ]
          },
          "metadata": {},
          "execution_count": 25
        }
      ]
    },
    {
      "cell_type": "code",
      "source": [
        "# Binary BOW\n",
        "\n",
        "cv = CountVectorizer(binary=True)\n",
        "values = cv.fit_transform(corpus)\n",
        "values"
      ],
      "metadata": {
        "colab": {
          "base_uri": "https://localhost:8080/"
        },
        "id": "2u1zRaWHlNwe",
        "outputId": "ca950906-7968-4029-b7fe-e2c137224c2f"
      },
      "execution_count": null,
      "outputs": [
        {
          "output_type": "execute_result",
          "data": {
            "text/plain": [
              "<15x176 sparse matrix of type '<class 'numpy.int64'>'\n",
              "\twith 285 stored elements in Compressed Sparse Row format>"
            ]
          },
          "metadata": {},
          "execution_count": 27
        }
      ]
    },
    {
      "cell_type": "code",
      "source": [
        "print(cv.vocabulary_)"
      ],
      "metadata": {
        "colab": {
          "base_uri": "https://localhost:8080/"
        },
        "id": "JAmjefi3l1zG",
        "outputId": "124105f0-73af-4ffd-96f3-575c451009a4"
      },
      "execution_count": null,
      "outputs": [
        {
          "output_type": "stream",
          "name": "stdout",
          "text": [
            "{'narendra': 95, 'damodardas': 31, 'modi': 93, 'gujarati': 53, 'end': 42, 'mod': 92, 'listen': 82, 'born': 17, 'september': 133, 'is': 75, 'an': 5, 'indian': 71, 'politician': 113, 'serving': 134, 'as': 7, 'the': 149, 'th': 146, 'and': 6, 'current': 30, 'prime': 115, 'minister': 91, 'of': 104, 'india': 70, 'since': 137, 'was': 163, 'chief': 21, 'gujarat': 52, 'from': 48, 'to': 152, 'member': 90, 'parliament': 110, 'varanasi': 160, 'he': 58, 'bharatiya': 15, 'janata': 76, 'party': 111, 'bjp': 16, 'rashtriya': 120, 'swayamsevak': 144, 'sangh': 129, 'rss': 127, 'right': 125, 'wing': 169, 'hindu': 64, 'nationalist': 97, 'paramilitary': 108, 'volunteer': 162, 'organisation': 107, 'first': 45, 'have': 56, 'been': 13, 'after': 2, 'independence': 69, 'in': 68, 'second': 130, 'not': 102, 'belonging': 14, 'national': 96, 'congress': 26, 'won': 172, 'two': 156, 'consecutive': 27, 'majorities': 88, 'lok': 84, 'sabha': 128, 'or': 106, 'lower': 86, 'house': 67, 'also': 4, 'longest': 85, 'non': 99, 'raised': 118, 'vadnagar': 159, 'small': 138, 'town': 153, 'northeastern': 100, 'completed': 25, 'his': 65, 'secondary': 131, 'education': 38, 'there': 150, 'introduced': 74, 'at': 10, 'age': 3, 'eight': 39, 'has': 55, 'drawn': 37, 'attention': 11, 'having': 57, 'work': 173, 'child': 22, 'father': 43, 'tea': 145, 'stall': 141, 'on': 105, 'railway': 117, 'station': 143, 'platform': 112, 'description': 34, 'that': 148, 'reliably': 121, 'corroborated': 29, 'married': 89, 'jashodaben': 77, 'chimanlal': 23, 'whom': 167, 'abandoned': 0, 'soon': 140, 'left': 81, 'parental': 109, 'home': 66, 'where': 166, 'she': 136, 'had': 54, 'come': 24, 'live': 83, 'publicly': 116, 'acknowledged': 1, 'her': 60, 'wife': 168, 'more': 94, 'than': 147, 'four': 47, 'decades': 32, 'later': 78, 'when': 165, 'required': 123, 'do': 36, 'so': 139, 'by': 19, 'law': 79, 'but': 18, 'made': 87, 'no': 98, 'contact': 28, 'with': 170, 'asserted': 8, 'travelled': 154, 'northern': 101, 'for': 46, 'years': 175, 'leaving': 80, 'visiting': 161, 'number': 103, 'religious': 122, 'centres': 20, 'few': 44, 'details': 35, 'travels': 155, 'emerged': 40, 'upon': 158, 'return': 124, 'became': 12, 'full': 49, 'time': 151, 'worker': 174, 'state': 142, 'emergency': 41, 'declared': 33, 'indira': 72, 'gandhi': 50, 'went': 164, 'into': 73, 'hiding': 61, 'assigned': 9, 'him': 63, 'held': 59, 'several': 135, 'positions': 114, 'within': 171, 'hierarchy': 62, 'until': 157, 'rising': 126, 'rank': 119, 'general': 51, 'secretary': 132}\n"
          ]
        }
      ]
    },
    {
      "cell_type": "code",
      "source": [
        "print(corpus[0])"
      ],
      "metadata": {
        "colab": {
          "base_uri": "https://localhost:8080/"
        },
        "id": "SYHXMRNRl4pQ",
        "outputId": "fdfac63f-62bc-4812-a63a-9e0c007cf7c7"
      },
      "execution_count": null,
      "outputs": [
        {
          "output_type": "stream",
          "name": "stdout",
          "text": [
            "narendra damodardas modi  gujarati    n  end   d mod   d s  modi    listen   born    september       a  is an indian politician serving as the   th and current prime minister of india since      \n"
          ]
        }
      ]
    },
    {
      "cell_type": "code",
      "source": [
        "values[0].toarray() # No 2 in this array"
      ],
      "metadata": {
        "colab": {
          "base_uri": "https://localhost:8080/"
        },
        "id": "Xjj9HRZUmFfv",
        "outputId": "ccfba543-edee-4f51-f70f-df262b193766"
      },
      "execution_count": null,
      "outputs": [
        {
          "output_type": "execute_result",
          "data": {
            "text/plain": [
              "array([[0, 0, 0, 0, 0, 1, 1, 1, 0, 0, 0, 0, 0, 0, 0, 0, 0, 1, 0, 0, 0, 0,\n",
              "        0, 0, 0, 0, 0, 0, 0, 0, 1, 1, 0, 0, 0, 0, 0, 0, 0, 0, 0, 0, 1, 0,\n",
              "        0, 0, 0, 0, 0, 0, 0, 0, 0, 1, 0, 0, 0, 0, 0, 0, 0, 0, 0, 0, 0, 0,\n",
              "        0, 0, 0, 0, 1, 1, 0, 0, 0, 1, 0, 0, 0, 0, 0, 0, 1, 0, 0, 0, 0, 0,\n",
              "        0, 0, 0, 1, 1, 1, 0, 1, 0, 0, 0, 0, 0, 0, 0, 0, 1, 0, 0, 0, 0, 0,\n",
              "        0, 0, 0, 1, 0, 1, 0, 0, 0, 0, 0, 0, 0, 0, 0, 0, 0, 0, 0, 0, 0, 0,\n",
              "        0, 1, 1, 0, 0, 1, 0, 0, 0, 0, 0, 0, 0, 0, 1, 0, 0, 1, 0, 0, 0, 0,\n",
              "        0, 0, 0, 0, 0, 0, 0, 0, 0, 0, 0, 0, 0, 0, 0, 0, 0, 0, 0, 0, 0, 0]])"
            ]
          },
          "metadata": {},
          "execution_count": 30
        }
      ]
    },
    {
      "cell_type": "code",
      "source": [
        "# Create complete corpus\n",
        "\n",
        "cor = []\n",
        "for i in range(len(sentences)):\n",
        "  rev = re.sub('[^a-zA-Z]',' ',sentences[i])\n",
        "  rev = rev.lower()\n",
        "  rev = rev.split()\n",
        "  rev = [lemma.lemmatize(word) for word in rev if not word in set(stopwords.words('english'))]\n",
        "  rev = ' '.join(rev)\n",
        "\n",
        "  cor.append(rev)\n",
        "\n",
        "cor"
      ],
      "metadata": {
        "colab": {
          "base_uri": "https://localhost:8080/"
        },
        "id": "Tm6-i59MmHPV",
        "outputId": "06d3635c-a3d4-4e44-edbb-58026b3dd73a"
      },
      "execution_count": null,
      "outputs": [
        {
          "output_type": "execute_result",
          "data": {
            "text/plain": [
              "['narendra damodardas modi gujarati n end mod modi listen born september indian politician serving th current prime minister india since',\n",
              " 'modi chief minister gujarat member parliament varanasi',\n",
              " 'member bharatiya janata party bjp rashtriya swayamsevak sangh r right wing hindu nationalist paramilitary volunteer organisation',\n",
              " 'first prime minister born india independence second prime minister belonging indian national congress two consecutive majority lok sabha lower house india parliament',\n",
              " 'also longest serving prime minister non congress party',\n",
              " 'born raised vadnagar small town northeastern gujarat modi completed secondary education',\n",
              " 'introduced r age eight',\n",
              " 'drawn attention work child father tea stall vadnagar railway station platform description reliably corroborated',\n",
              " 'age modi married jashodaben chimanlal modi abandoned soon',\n",
              " 'left parental home come live',\n",
              " 'first publicly acknowledged wife four decade later required indian law made contact since',\n",
              " 'modi asserted travelled northern india two year leaving parental home visiting number religious centre detail travel emerged',\n",
              " 'upon return gujarat became full time worker r',\n",
              " 'state emergency declared prime minister indira gandhi modi went hiding',\n",
              " 'r assigned bjp held several position within party hierarchy rising rank general secretary']"
            ]
          },
          "metadata": {},
          "execution_count": 31
        }
      ]
    },
    {
      "cell_type": "code",
      "source": [
        "cv = CountVectorizer(binary=True)\n",
        "values = cv.fit_transform(cor)\n",
        "values"
      ],
      "metadata": {
        "colab": {
          "base_uri": "https://localhost:8080/"
        },
        "id": "q5EgG15bnGLq",
        "outputId": "99f5c93f-5421-496d-d661-3eed26c20201"
      },
      "execution_count": null,
      "outputs": [
        {
          "output_type": "execute_result",
          "data": {
            "text/plain": [
              "<15x132 sparse matrix of type '<class 'numpy.int64'>'\n",
              "\twith 166 stored elements in Compressed Sparse Row format>"
            ]
          },
          "metadata": {},
          "execution_count": 32
        }
      ]
    },
    {
      "cell_type": "code",
      "source": [
        "print(cv.vocabulary_)"
      ],
      "metadata": {
        "colab": {
          "base_uri": "https://localhost:8080/"
        },
        "id": "LBXgykCXnPDz",
        "outputId": "1551e19e-89e0-4ead-fd21-1f6fad53591e"
      },
      "execution_count": null,
      "outputs": [
        {
          "output_type": "stream",
          "name": "stdout",
          "text": [
            "{'narendra': 71, 'damodardas': 23, 'modi': 70, 'gujarati': 41, 'end': 33, 'mod': 69, 'listen': 59, 'born': 11, 'september': 103, 'indian': 50, 'politician': 84, 'serving': 104, 'th': 114, 'current': 22, 'prime': 86, 'minister': 68, 'india': 49, 'since': 106, 'chief': 13, 'gujarat': 40, 'member': 67, 'parliament': 81, 'varanasi': 122, 'bharatiya': 9, 'janata': 53, 'party': 82, 'bjp': 10, 'rashtriya': 91, 'swayamsevak': 112, 'sangh': 99, 'right': 96, 'wing': 127, 'hindu': 45, 'nationalist': 73, 'paramilitary': 79, 'volunteer': 124, 'organisation': 78, 'first': 35, 'independence': 48, 'second': 100, 'belonging': 8, 'national': 72, 'congress': 18, 'two': 119, 'consecutive': 19, 'majority': 65, 'lok': 61, 'sabha': 98, 'lower': 63, 'house': 47, 'also': 3, 'longest': 62, 'non': 74, 'raised': 89, 'vadnagar': 121, 'small': 107, 'town': 116, 'northeastern': 75, 'completed': 17, 'secondary': 101, 'education': 29, 'introduced': 52, 'age': 2, 'eight': 30, 'drawn': 28, 'attention': 6, 'work': 129, 'child': 14, 'father': 34, 'tea': 113, 'stall': 109, 'railway': 88, 'station': 111, 'platform': 83, 'description': 26, 'reliably': 92, 'corroborated': 21, 'married': 66, 'jashodaben': 54, 'chimanlal': 15, 'abandoned': 0, 'soon': 108, 'left': 58, 'parental': 80, 'home': 46, 'come': 16, 'live': 60, 'publicly': 87, 'acknowledged': 1, 'wife': 126, 'four': 36, 'decade': 24, 'later': 55, 'required': 94, 'law': 56, 'made': 64, 'contact': 20, 'asserted': 4, 'travelled': 118, 'northern': 76, 'year': 131, 'leaving': 57, 'visiting': 123, 'number': 77, 'religious': 93, 'centre': 12, 'detail': 27, 'travel': 117, 'emerged': 31, 'upon': 120, 'return': 95, 'became': 7, 'full': 37, 'time': 115, 'worker': 130, 'state': 110, 'emergency': 32, 'declared': 25, 'indira': 51, 'gandhi': 38, 'went': 125, 'hiding': 43, 'assigned': 5, 'held': 42, 'several': 105, 'position': 85, 'within': 128, 'hierarchy': 44, 'rising': 97, 'rank': 90, 'general': 39, 'secretary': 102}\n"
          ]
        }
      ]
    },
    {
      "cell_type": "code",
      "source": [
        "cor[0]"
      ],
      "metadata": {
        "colab": {
          "base_uri": "https://localhost:8080/",
          "height": 36
        },
        "id": "RbfVDwjinRLW",
        "outputId": "ee3f91b5-046a-4a3f-cbed-49efe7e66936"
      },
      "execution_count": null,
      "outputs": [
        {
          "output_type": "execute_result",
          "data": {
            "text/plain": [
              "'narendra damodardas modi gujarati n end mod modi listen born september indian politician serving th current prime minister india since'"
            ],
            "application/vnd.google.colaboratory.intrinsic+json": {
              "type": "string"
            }
          },
          "metadata": {},
          "execution_count": 34
        }
      ]
    },
    {
      "cell_type": "code",
      "source": [
        "values[0].toarray()"
      ],
      "metadata": {
        "colab": {
          "base_uri": "https://localhost:8080/"
        },
        "id": "zqKOWnFEnUak",
        "outputId": "7f526280-d33b-4d5f-fe97-cc2ccf5d4705"
      },
      "execution_count": null,
      "outputs": [
        {
          "output_type": "execute_result",
          "data": {
            "text/plain": [
              "array([[0, 0, 0, 0, 0, 0, 0, 0, 0, 0, 0, 1, 0, 0, 0, 0, 0, 0, 0, 0, 0, 0,\n",
              "        1, 1, 0, 0, 0, 0, 0, 0, 0, 0, 0, 1, 0, 0, 0, 0, 0, 0, 0, 1, 0, 0,\n",
              "        0, 0, 0, 0, 0, 1, 1, 0, 0, 0, 0, 0, 0, 0, 0, 1, 0, 0, 0, 0, 0, 0,\n",
              "        0, 0, 1, 1, 1, 1, 0, 0, 0, 0, 0, 0, 0, 0, 0, 0, 0, 0, 1, 0, 1, 0,\n",
              "        0, 0, 0, 0, 0, 0, 0, 0, 0, 0, 0, 0, 0, 0, 0, 1, 1, 0, 1, 0, 0, 0,\n",
              "        0, 0, 0, 0, 1, 0, 0, 0, 0, 0, 0, 0, 0, 0, 0, 0, 0, 0, 0, 0, 0, 0]])"
            ]
          },
          "metadata": {},
          "execution_count": 35
        }
      ]
    },
    {
      "cell_type": "code",
      "source": [
        "# n-grams parameter\n",
        "\n",
        "cv = CountVectorizer(ngram_range=(3,3)) # trigram --> (3,3)  |    bigram & trigram --> (2,3)\n",
        "values = cv.fit_transform(cor)\n",
        "values"
      ],
      "metadata": {
        "colab": {
          "base_uri": "https://localhost:8080/"
        },
        "id": "wweIM9wXzjA3",
        "outputId": "7092c533-1e08-41e8-b18e-40bf9268d94b"
      },
      "execution_count": null,
      "outputs": [
        {
          "output_type": "execute_result",
          "data": {
            "text/plain": [
              "<15x141 sparse matrix of type '<class 'numpy.int64'>'\n",
              "\twith 141 stored elements in Compressed Sparse Row format>"
            ]
          },
          "metadata": {},
          "execution_count": 41
        }
      ]
    },
    {
      "cell_type": "code",
      "source": [
        "print(cv.vocabulary_)"
      ],
      "metadata": {
        "colab": {
          "base_uri": "https://localhost:8080/"
        },
        "id": "N5SfikFSzi9c",
        "outputId": "402d5767-a351-4f55-c2e9-cec712062f86"
      },
      "execution_count": null,
      "outputs": [
        {
          "output_type": "stream",
          "name": "stdout",
          "text": [
            "{'narendra damodardas modi': 84, 'damodardas modi gujarati': 22, 'modi gujarati end': 80, 'gujarati end mod': 39, 'end mod modi': 29, 'mod modi listen': 75, 'modi listen born': 81, 'listen born september': 60, 'born september indian': 13, 'september indian politician': 117, 'indian politician serving': 51, 'politician serving th': 97, 'serving th current': 119, 'th current prime': 127, 'current prime minister': 21, 'prime minister india': 101, 'minister india since': 72, 'modi chief minister': 78, 'chief minister gujarat': 15, 'minister gujarat member': 71, 'gujarat member parliament': 37, 'member parliament varanasi': 68, 'member bharatiya janata': 67, 'bharatiya janata party': 8, 'janata party bjp': 54, 'party bjp rashtriya': 94, 'bjp rashtriya swayamsevak': 10, 'rashtriya swayamsevak sangh': 108, 'swayamsevak sangh right': 125, 'sangh right wing': 115, 'right wing hindu': 112, 'wing hindu nationalist': 137, 'hindu nationalist paramilitary': 42, 'nationalist paramilitary volunteer': 86, 'paramilitary volunteer organisation': 91, 'first prime minister': 31, 'prime minister born': 100, 'minister born india': 70, 'born india independence': 11, 'india independence second': 47, 'independence second prime': 46, 'second prime minister': 116, 'prime minister belonging': 99, 'minister belonging indian': 69, 'belonging indian national': 7, 'indian national congress': 50, 'national congress two': 85, 'congress two consecutive': 19, 'two consecutive majority': 130, 'consecutive majority lok': 20, 'majority lok sabha': 65, 'lok sabha lower': 61, 'sabha lower house': 114, 'lower house india': 63, 'house india parliament': 45, 'also longest serving': 2, 'longest serving prime': 62, 'serving prime minister': 118, 'prime minister non': 103, 'minister non congress': 74, 'non congress party': 87, 'born raised vadnagar': 12, 'raised vadnagar small': 106, 'vadnagar small town': 134, 'small town northeastern': 121, 'town northeastern gujarat': 128, 'northeastern gujarat modi': 88, 'gujarat modi completed': 38, 'modi completed secondary': 79, 'completed secondary education': 18, 'introduced age eight': 53, 'drawn attention work': 27, 'attention work child': 5, 'work child father': 139, 'child father tea': 16, 'father tea stall': 30, 'tea stall vadnagar': 126, 'stall vadnagar railway': 122, 'vadnagar railway station': 133, 'railway station platform': 105, 'station platform description': 124, 'platform description reliably': 96, 'description reliably corroborated': 25, 'age modi married': 1, 'modi married jashodaben': 82, 'married jashodaben chimanlal': 66, 'jashodaben chimanlal modi': 55, 'chimanlal modi abandoned': 17, 'modi abandoned soon': 76, 'left parental home': 59, 'parental home come': 92, 'home come live': 43, 'first publicly acknowledged': 32, 'publicly acknowledged wife': 104, 'acknowledged wife four': 0, 'wife four decade': 136, 'four decade later': 33, 'decade later required': 23, 'later required indian': 56, 'required indian law': 110, 'indian law made': 49, 'law made contact': 57, 'made contact since': 64, 'modi asserted travelled': 77, 'asserted travelled northern': 3, 'travelled northern india': 129, 'northern india two': 89, 'india two year': 48, 'two year leaving': 131, 'year leaving parental': 140, 'leaving parental home': 58, 'parental home visiting': 93, 'home visiting number': 44, 'visiting number religious': 135, 'number religious centre': 90, 'religious centre detail': 109, 'centre detail travel': 14, 'detail travel emerged': 26, 'upon return gujarat': 132, 'return gujarat became': 111, 'gujarat became full': 36, 'became full time': 6, 'full time worker': 34, 'state emergency declared': 123, 'emergency declared prime': 28, 'declared prime minister': 24, 'prime minister indira': 102, 'minister indira gandhi': 73, 'indira gandhi modi': 52, 'gandhi modi went': 35, 'modi went hiding': 83, 'assigned bjp held': 4, 'bjp held several': 9, 'held several position': 40, 'several position within': 120, 'position within party': 98, 'within party hierarchy': 138, 'party hierarchy rising': 95, 'hierarchy rising rank': 41, 'rising rank general': 113, 'rank general secretary': 107}\n"
          ]
        }
      ]
    },
    {
      "cell_type": "code",
      "source": [
        "values[0].toarray()"
      ],
      "metadata": {
        "colab": {
          "base_uri": "https://localhost:8080/"
        },
        "id": "oB0GrNfHzi7X",
        "outputId": "a3ad7055-1f8d-4015-fd12-63ff16a01c52"
      },
      "execution_count": null,
      "outputs": [
        {
          "output_type": "execute_result",
          "data": {
            "text/plain": [
              "array([[0, 0, 0, 0, 0, 0, 0, 0, 0, 0, 0, 0, 0, 1, 0, 0, 0, 0, 0, 0, 0, 1,\n",
              "        1, 0, 0, 0, 0, 0, 0, 1, 0, 0, 0, 0, 0, 0, 0, 0, 0, 1, 0, 0, 0, 0,\n",
              "        0, 0, 0, 0, 0, 0, 0, 1, 0, 0, 0, 0, 0, 0, 0, 0, 1, 0, 0, 0, 0, 0,\n",
              "        0, 0, 0, 0, 0, 0, 1, 0, 0, 1, 0, 0, 0, 0, 1, 1, 0, 0, 1, 0, 0, 0,\n",
              "        0, 0, 0, 0, 0, 0, 0, 0, 0, 1, 0, 0, 0, 1, 0, 0, 0, 0, 0, 0, 0, 0,\n",
              "        0, 0, 0, 0, 0, 0, 0, 1, 0, 1, 0, 0, 0, 0, 0, 0, 0, 1, 0, 0, 0, 0,\n",
              "        0, 0, 0, 0, 0, 0, 0, 0, 0]])"
            ]
          },
          "metadata": {},
          "execution_count": 43
        }
      ]
    },
    {
      "cell_type": "markdown",
      "source": [
        "______________________________________________________________________________\n",
        "\n",
        "# TF-IDF implementation"
      ],
      "metadata": {
        "id": "UjAmwbqJyFZx"
      }
    },
    {
      "cell_type": "code",
      "source": [
        "from sklearn.feature_extraction.text import TfidfVectorizer\n",
        "\n",
        "cv = TfidfVectorizer()                # max_features = 10 --> get the top 10 hignh occuracing elements only } help to reduce vectors\n",
        "values = cv.fit_transform(cor)\n",
        "values"
      ],
      "metadata": {
        "colab": {
          "base_uri": "https://localhost:8080/"
        },
        "id": "w9A1amoEnYLj",
        "outputId": "45183d97-fcfb-4210-c3e6-d36936301898"
      },
      "execution_count": null,
      "outputs": [
        {
          "output_type": "execute_result",
          "data": {
            "text/plain": [
              "<15x132 sparse matrix of type '<class 'numpy.float64'>'\n",
              "\twith 166 stored elements in Compressed Sparse Row format>"
            ]
          },
          "metadata": {},
          "execution_count": 45
        }
      ]
    },
    {
      "cell_type": "code",
      "source": [
        "print(cv.vocabulary_)"
      ],
      "metadata": {
        "colab": {
          "base_uri": "https://localhost:8080/"
        },
        "id": "txqFu8fJ0o0V",
        "outputId": "1c2835c3-a43f-43e3-96e0-54955f66c6fc"
      },
      "execution_count": null,
      "outputs": [
        {
          "output_type": "stream",
          "name": "stdout",
          "text": [
            "{'narendra': 71, 'damodardas': 23, 'modi': 70, 'gujarati': 41, 'end': 33, 'mod': 69, 'listen': 59, 'born': 11, 'september': 103, 'indian': 50, 'politician': 84, 'serving': 104, 'th': 114, 'current': 22, 'prime': 86, 'minister': 68, 'india': 49, 'since': 106, 'chief': 13, 'gujarat': 40, 'member': 67, 'parliament': 81, 'varanasi': 122, 'bharatiya': 9, 'janata': 53, 'party': 82, 'bjp': 10, 'rashtriya': 91, 'swayamsevak': 112, 'sangh': 99, 'right': 96, 'wing': 127, 'hindu': 45, 'nationalist': 73, 'paramilitary': 79, 'volunteer': 124, 'organisation': 78, 'first': 35, 'independence': 48, 'second': 100, 'belonging': 8, 'national': 72, 'congress': 18, 'two': 119, 'consecutive': 19, 'majority': 65, 'lok': 61, 'sabha': 98, 'lower': 63, 'house': 47, 'also': 3, 'longest': 62, 'non': 74, 'raised': 89, 'vadnagar': 121, 'small': 107, 'town': 116, 'northeastern': 75, 'completed': 17, 'secondary': 101, 'education': 29, 'introduced': 52, 'age': 2, 'eight': 30, 'drawn': 28, 'attention': 6, 'work': 129, 'child': 14, 'father': 34, 'tea': 113, 'stall': 109, 'railway': 88, 'station': 111, 'platform': 83, 'description': 26, 'reliably': 92, 'corroborated': 21, 'married': 66, 'jashodaben': 54, 'chimanlal': 15, 'abandoned': 0, 'soon': 108, 'left': 58, 'parental': 80, 'home': 46, 'come': 16, 'live': 60, 'publicly': 87, 'acknowledged': 1, 'wife': 126, 'four': 36, 'decade': 24, 'later': 55, 'required': 94, 'law': 56, 'made': 64, 'contact': 20, 'asserted': 4, 'travelled': 118, 'northern': 76, 'year': 131, 'leaving': 57, 'visiting': 123, 'number': 77, 'religious': 93, 'centre': 12, 'detail': 27, 'travel': 117, 'emerged': 31, 'upon': 120, 'return': 95, 'became': 7, 'full': 37, 'time': 115, 'worker': 130, 'state': 110, 'emergency': 32, 'declared': 25, 'indira': 51, 'gandhi': 38, 'went': 125, 'hiding': 43, 'assigned': 5, 'held': 42, 'several': 105, 'position': 85, 'within': 128, 'hierarchy': 44, 'rising': 97, 'rank': 90, 'general': 39, 'secretary': 102}\n"
          ]
        }
      ]
    },
    {
      "cell_type": "code",
      "source": [
        "print(cor[0])"
      ],
      "metadata": {
        "colab": {
          "base_uri": "https://localhost:8080/"
        },
        "id": "N9fUCG0N0uaz",
        "outputId": "5f57d6c8-f28b-4523-d0e4-c6050f1912f5"
      },
      "execution_count": null,
      "outputs": [
        {
          "output_type": "stream",
          "name": "stdout",
          "text": [
            "narendra damodardas modi gujarati n end mod modi listen born september indian politician serving th current prime minister india since\n"
          ]
        }
      ]
    },
    {
      "cell_type": "code",
      "source": [
        "print(values[0])"
      ],
      "metadata": {
        "colab": {
          "base_uri": "https://localhost:8080/"
        },
        "id": "vSsTAzwn01PL",
        "outputId": "0eee5305-1cfe-41e4-9b68-68d49f6fb084"
      },
      "execution_count": null,
      "outputs": [
        {
          "output_type": "stream",
          "name": "stdout",
          "text": [
            "  (0, 106)\t0.21967854921043894\n",
            "  (0, 49)\t0.19604424207271837\n",
            "  (0, 68)\t0.16273355706205037\n",
            "  (0, 86)\t0.17771204923701184\n",
            "  (0, 22)\t0.2529892342211069\n",
            "  (0, 114)\t0.2529892342211069\n",
            "  (0, 104)\t0.21967854921043894\n",
            "  (0, 84)\t0.2529892342211069\n",
            "  (0, 50)\t0.19604424207271837\n",
            "  (0, 103)\t0.2529892342211069\n",
            "  (0, 11)\t0.19604424207271837\n",
            "  (0, 59)\t0.2529892342211069\n",
            "  (0, 69)\t0.2529892342211069\n",
            "  (0, 33)\t0.2529892342211069\n",
            "  (0, 41)\t0.2529892342211069\n",
            "  (0, 70)\t0.3001388447503704\n",
            "  (0, 23)\t0.2529892342211069\n",
            "  (0, 71)\t0.2529892342211069\n"
          ]
        }
      ]
    },
    {
      "cell_type": "code",
      "source": [
        "print(values[0].toarray())"
      ],
      "metadata": {
        "colab": {
          "base_uri": "https://localhost:8080/"
        },
        "id": "ILYjPBu403pu",
        "outputId": "70d9212c-41b7-4366-e45f-da074a08fd02"
      },
      "execution_count": null,
      "outputs": [
        {
          "output_type": "stream",
          "name": "stdout",
          "text": [
            "[[0.         0.         0.         0.         0.         0.\n",
            "  0.         0.         0.         0.         0.         0.19604424\n",
            "  0.         0.         0.         0.         0.         0.\n",
            "  0.         0.         0.         0.         0.25298923 0.25298923\n",
            "  0.         0.         0.         0.         0.         0.\n",
            "  0.         0.         0.         0.25298923 0.         0.\n",
            "  0.         0.         0.         0.         0.         0.25298923\n",
            "  0.         0.         0.         0.         0.         0.\n",
            "  0.         0.19604424 0.19604424 0.         0.         0.\n",
            "  0.         0.         0.         0.         0.         0.25298923\n",
            "  0.         0.         0.         0.         0.         0.\n",
            "  0.         0.         0.16273356 0.25298923 0.30013884 0.25298923\n",
            "  0.         0.         0.         0.         0.         0.\n",
            "  0.         0.         0.         0.         0.         0.\n",
            "  0.25298923 0.         0.17771205 0.         0.         0.\n",
            "  0.         0.         0.         0.         0.         0.\n",
            "  0.         0.         0.         0.         0.         0.\n",
            "  0.         0.25298923 0.21967855 0.         0.21967855 0.\n",
            "  0.         0.         0.         0.         0.         0.\n",
            "  0.25298923 0.         0.         0.         0.         0.\n",
            "  0.         0.         0.         0.         0.         0.\n",
            "  0.         0.         0.         0.         0.         0.        ]]\n"
          ]
        }
      ]
    },
    {
      "cell_type": "markdown",
      "source": [
        "# Apply Word2Vec"
      ],
      "metadata": {
        "id": "JqLf-vEizF6D"
      }
    },
    {
      "cell_type": "code",
      "source": [
        "!pip install gensim"
      ],
      "metadata": {
        "id": "LWYHPpMU1KZu",
        "colab": {
          "base_uri": "https://localhost:8080/"
        },
        "outputId": "75a4ca08-fbf0-4309-dc8c-6b4ef73cce9e"
      },
      "execution_count": null,
      "outputs": [
        {
          "output_type": "stream",
          "name": "stdout",
          "text": [
            "Looking in indexes: https://pypi.org/simple, https://us-python.pkg.dev/colab-wheels/public/simple/\n",
            "Requirement already satisfied: gensim in /usr/local/lib/python3.7/dist-packages (3.6.0)\n",
            "Requirement already satisfied: numpy>=1.11.3 in /usr/local/lib/python3.7/dist-packages (from gensim) (1.21.6)\n",
            "Requirement already satisfied: six>=1.5.0 in /usr/local/lib/python3.7/dist-packages (from gensim) (1.15.0)\n",
            "Requirement already satisfied: scipy>=0.18.1 in /usr/local/lib/python3.7/dist-packages (from gensim) (1.7.3)\n",
            "Requirement already satisfied: smart-open>=1.2.1 in /usr/local/lib/python3.7/dist-packages (from gensim) (5.2.1)\n"
          ]
        }
      ]
    },
    {
      "cell_type": "code",
      "source": [
        "import gensim\n",
        "from gensim.models import Word2Vec, KeyedVectors"
      ],
      "metadata": {
        "id": "mM9Wq13GzJoJ"
      },
      "execution_count": null,
      "outputs": []
    },
    {
      "cell_type": "code",
      "source": [
        "import gensim.downloader as api\n",
        "\n",
        "wv = api.load('word2vec-google-news-300')            # 300 dimensions"
      ],
      "metadata": {
        "colab": {
          "base_uri": "https://localhost:8080/"
        },
        "id": "0AzT2J1GzYzY",
        "outputId": "4ed8cf99-f933-4bd4-e258-bf4012367d00"
      },
      "execution_count": null,
      "outputs": [
        {
          "output_type": "stream",
          "name": "stdout",
          "text": [
            "[==================================================] 100.0% 1662.8/1662.8MB downloaded\n"
          ]
        }
      ]
    },
    {
      "cell_type": "code",
      "source": [
        "vec_king = wv['King']\n",
        "vec_king"
      ],
      "metadata": {
        "colab": {
          "base_uri": "https://localhost:8080/"
        },
        "id": "2KMygsXmzxxm",
        "outputId": "45ee6946-8c75-4203-ce01-98d6d7994584"
      },
      "execution_count": null,
      "outputs": [
        {
          "output_type": "execute_result",
          "data": {
            "text/plain": [
              "array([-0.00350952,  0.01623535, -0.08154297,  0.12792969,  0.11230469,\n",
              "       -0.00534058,  0.03063965,  0.04931641,  0.22070312,  0.07373047,\n",
              "       -0.13769531,  0.16210938,  0.02148438, -0.09375   , -0.12792969,\n",
              "       -0.12402344, -0.11132812,  0.11816406, -0.07861328,  0.25390625,\n",
              "        0.01794434,  0.14160156,  0.0612793 , -0.08691406,  0.07763672,\n",
              "        0.05175781, -0.24609375, -0.17578125,  0.14746094,  0.06640625,\n",
              "       -0.03833008, -0.09033203, -0.07226562,  0.09375   , -0.18847656,\n",
              "        0.06347656,  0.24121094,  0.00714111, -0.30273438, -0.02478027,\n",
              "       -0.09619141, -0.30859375, -0.06054688,  0.22167969,  0.07763672,\n",
              "        0.05834961,  0.15527344, -0.13476562, -0.00341797, -0.13964844,\n",
              "       -0.02905273,  0.03833008, -0.15332031, -0.20996094,  0.21679688,\n",
              "        0.01171875, -0.078125  ,  0.00402832, -0.23535156, -0.10400391,\n",
              "        0.08837891,  0.25976562,  0.02709961,  0.01123047,  0.12988281,\n",
              "       -0.11914062, -0.07861328, -0.04736328, -0.06591797,  0.07958984,\n",
              "        0.04321289, -0.14355469,  0.04150391,  0.20410156,  0.05493164,\n",
              "       -0.06030273,  0.10107422, -0.00439453,  0.32617188, -0.05712891,\n",
              "       -0.09130859,  0.20019531,  0.02941895, -0.11230469,  0.06054688,\n",
              "       -0.00982666, -0.30664062, -0.02514648,  0.14355469,  0.07275391,\n",
              "        0.09716797, -0.09179688, -0.20410156, -0.21875   ,  0.07128906,\n",
              "        0.16503906, -0.01300049,  0.10888672, -0.09326172, -0.07568359,\n",
              "       -0.07568359, -0.15136719,  0.0625    , -0.09179688,  0.06176758,\n",
              "        0.01086426, -0.21484375, -0.12353516,  0.14453125,  0.02001953,\n",
              "        0.07910156,  0.33398438,  0.06640625, -0.08056641,  0.16699219,\n",
              "       -0.2421875 ,  0.0090332 , -0.14453125,  0.18066406,  0.21289062,\n",
              "        0.04077148,  0.171875  , -0.03100586, -0.12597656, -0.0625    ,\n",
              "       -0.13476562, -0.15820312,  0.11816406, -0.06591797, -0.10058594,\n",
              "       -0.15234375,  0.14550781, -0.14941406,  0.22070312,  0.04907227,\n",
              "        0.01281738,  0.00927734,  0.20019531, -0.15429688,  0.16308594,\n",
              "       -0.04907227, -0.16015625,  0.0177002 , -0.08544922,  0.23828125,\n",
              "       -0.11572266,  0.08154297, -0.38867188, -0.19433594,  0.33203125,\n",
              "       -0.12597656,  0.02819824,  0.14550781, -0.14160156,  0.08105469,\n",
              "        0.09619141, -0.00897217, -0.15332031,  0.15332031, -0.0088501 ,\n",
              "       -0.10498047,  0.04638672,  0.25195312,  0.09179688, -0.0300293 ,\n",
              "       -0.14355469, -0.01123047, -0.11865234,  0.12109375,  0.11572266,\n",
              "       -0.00640869,  0.05419922,  0.06884766, -0.08837891,  0.04589844,\n",
              "        0.00335693, -0.18164062,  0.02160645, -0.04370117, -0.0559082 ,\n",
              "       -0.13574219, -0.09375   ,  0.02600098, -0.13964844, -0.06542969,\n",
              "       -0.04858398,  0.41796875,  0.18554688,  0.18554688,  0.21875   ,\n",
              "       -0.09277344,  0.23925781,  0.00125885, -0.05102539, -0.20605469,\n",
              "        0.07128906, -0.04418945, -0.08056641,  0.02978516, -0.08007812,\n",
              "       -0.04296875, -0.18945312, -0.05810547, -0.0135498 ,  0.09765625,\n",
              "       -0.10644531, -0.02185059,  0.31445312,  0.04248047,  0.03491211,\n",
              "       -0.07861328,  0.27148438,  0.07275391, -0.12304688,  0.0291748 ,\n",
              "       -0.04736328,  0.11279297, -0.16503906,  0.05224609,  0.06933594,\n",
              "       -0.06542969, -0.02587891,  0.19824219, -0.16601562,  0.13867188,\n",
              "        0.01422119, -0.10791016,  0.0324707 ,  0.03442383,  0.05981445,\n",
              "        0.06738281, -0.01940918, -0.10742188, -0.00454712, -0.27539062,\n",
              "        0.00604248,  0.15917969, -0.06835938,  0.00086975, -0.07177734,\n",
              "        0.0625    , -0.13671875, -0.06591797, -0.23828125, -0.03466797,\n",
              "       -0.08105469, -0.05761719,  0.20410156, -0.01226807, -0.14257812,\n",
              "       -0.16113281,  0.17480469,  0.03662109,  0.12890625,  0.09082031,\n",
              "        0.0546875 , -0.24511719, -0.00866699, -0.05615234, -0.06933594,\n",
              "        0.01916504,  0.11865234, -0.06005859, -0.0859375 ,  0.01940918,\n",
              "       -0.02270508, -0.0612793 ,  0.06982422,  0.17285156,  0.17773438,\n",
              "        0.04370117,  0.05615234,  0.02734375,  0.2578125 ,  0.19433594,\n",
              "       -0.04003906, -0.12158203, -0.10839844, -0.17773438,  0.05249023,\n",
              "       -0.11376953, -0.11230469,  0.27148438, -0.00061417,  0.0168457 ,\n",
              "       -0.11816406, -0.03833008, -0.04223633, -0.12109375, -0.12695312,\n",
              "        0.00222778, -0.20019531, -0.1328125 ,  0.09960938, -0.2734375 ,\n",
              "       -0.328125  , -0.22460938, -0.14746094, -0.02368164,  0.24902344],\n",
              "      dtype=float32)"
            ]
          },
          "metadata": {},
          "execution_count": 5
        }
      ]
    },
    {
      "cell_type": "code",
      "source": [
        "wv.most_similar(\"man\")"
      ],
      "metadata": {
        "colab": {
          "base_uri": "https://localhost:8080/"
        },
        "id": "jBiUYW0j2rOt",
        "outputId": "fec12bc7-8d72-4eca-aae8-394442ff007a"
      },
      "execution_count": null,
      "outputs": [
        {
          "output_type": "execute_result",
          "data": {
            "text/plain": [
              "[('woman', 0.7664012908935547),\n",
              " ('boy', 0.6824870109558105),\n",
              " ('teenager', 0.6586930155754089),\n",
              " ('teenage_girl', 0.6147903800010681),\n",
              " ('girl', 0.5921714305877686),\n",
              " ('suspected_purse_snatcher', 0.5716364979743958),\n",
              " ('robber', 0.5585119128227234),\n",
              " ('Robbery_suspect', 0.5584409236907959),\n",
              " ('teen_ager', 0.5549196600914001),\n",
              " ('men', 0.5489763021469116)]"
            ]
          },
          "metadata": {},
          "execution_count": 6
        }
      ]
    },
    {
      "cell_type": "code",
      "source": [
        "wv.most_similar(\"madam\")"
      ],
      "metadata": {
        "colab": {
          "base_uri": "https://localhost:8080/"
        },
        "id": "NdZaWER129vA",
        "outputId": "9099ab70-fd2b-4cd5-d4d3-07067fe73aa5"
      },
      "execution_count": null,
      "outputs": [
        {
          "output_type": "execute_result",
          "data": {
            "text/plain": [
              "[('madame', 0.6676775813102722),\n",
              " ('brothel_madam', 0.5797247886657715),\n",
              " ('prostitute', 0.5724524855613708),\n",
              " ('brothel', 0.5678300857543945),\n",
              " ('madams', 0.5413955450057983),\n",
              " ('Jody_Babydol_Gibson', 0.5210111737251282),\n",
              " ('whorehouse', 0.5187260508537292),\n",
              " ('callgirl', 0.5123008489608765),\n",
              " ('lady', 0.5092427730560303),\n",
              " ('Madam', 0.5005230903625488)]"
            ]
          },
          "metadata": {},
          "execution_count": 7
        }
      ]
    },
    {
      "cell_type": "code",
      "source": [
        "wv.most_similar(\"Mr\")"
      ],
      "metadata": {
        "colab": {
          "base_uri": "https://localhost:8080/"
        },
        "id": "fnLJVldo3AgN",
        "outputId": "735c604a-ed33-493d-d940-b6a0c803d808"
      },
      "execution_count": null,
      "outputs": [
        {
          "output_type": "execute_result",
          "data": {
            "text/plain": [
              "[('Ms', 0.8722483515739441),\n",
              " ('Mrs', 0.8409187197685242),\n",
              " ('Dr', 0.7223308086395264),\n",
              " ('Prof', 0.6855796575546265),\n",
              " ('Sen_Const', 0.6838324666023254),\n",
              " ('Mr.', 0.6605225801467896),\n",
              " ('Snr_Const', 0.6603116393089294),\n",
              " ('Sen_Constable', 0.646409273147583),\n",
              " ('Det_Snr_Const', 0.6368887424468994),\n",
              " ('Cr', 0.6266059875488281)]"
            ]
          },
          "metadata": {},
          "execution_count": 8
        }
      ]
    },
    {
      "cell_type": "code",
      "source": [
        "wv.most_similar(\"bmw\")"
      ],
      "metadata": {
        "colab": {
          "base_uri": "https://localhost:8080/"
        },
        "id": "inQiU_Nf3WR6",
        "outputId": "ba670238-20d4-47b3-f1f4-5bad0b6547f5"
      },
      "execution_count": null,
      "outputs": [
        {
          "output_type": "execute_result",
          "data": {
            "text/plain": [
              "[('ferrari', 0.652829647064209),\n",
              " ('nissan', 0.6514203548431396),\n",
              " ('hyundai', 0.6436272859573364),\n",
              " ('audi', 0.6378492116928101),\n",
              " ('volvo', 0.6326830983161926),\n",
              " ('vw', 0.6287581920623779),\n",
              " ('mercedes', 0.6243146061897278),\n",
              " ('benz', 0.6237295866012573),\n",
              " ('mercedes_benz', 0.6220225691795349),\n",
              " ('camaro', 0.6160848736763)]"
            ]
          },
          "metadata": {},
          "execution_count": 12
        }
      ]
    },
    {
      "cell_type": "code",
      "source": [
        "wv.most_similar(\"jr\")"
      ],
      "metadata": {
        "colab": {
          "base_uri": "https://localhost:8080/"
        },
        "id": "39yfoU5d3bnT",
        "outputId": "db0c55f2-5483-4410-d3fb-d9e96d44eec8"
      },
      "execution_count": null,
      "outputs": [
        {
          "output_type": "execute_result",
          "data": {
            "text/plain": [
              "[('sr', 0.9063137769699097),\n",
              " ('Soph', 0.7633203864097595),\n",
              " ('jr.', 0.7583842277526855),\n",
              " ('soph', 0.7469446063041687),\n",
              " ('Hwt', 0.7323994636535645),\n",
              " ('sr.', 0.731921911239624),\n",
              " ('tf', 0.7193918228149414),\n",
              " ('soph.', 0.7131330966949463),\n",
              " ('dec', 0.7059367895126343),\n",
              " ('Soph.', 0.704092800617218)]"
            ]
          },
          "metadata": {},
          "execution_count": 18
        }
      ]
    },
    {
      "cell_type": "code",
      "source": [
        "wv.similarity('doctor', 'life')"
      ],
      "metadata": {
        "colab": {
          "base_uri": "https://localhost:8080/"
        },
        "id": "SUrcNLcm3skT",
        "outputId": "2e9f677e-ce23-47b8-e3b0-44c2bf070bac"
      },
      "execution_count": null,
      "outputs": [
        {
          "output_type": "execute_result",
          "data": {
            "text/plain": [
              "0.19076821"
            ]
          },
          "metadata": {},
          "execution_count": 34
        }
      ]
    },
    {
      "cell_type": "code",
      "source": [
        "k = wv['King']\n",
        "m = wv['man']\n",
        "w = wv['woman']\n",
        "\n",
        "q = k - m + w\n",
        "wv.most_similar(positive=[q,])"
      ],
      "metadata": {
        "colab": {
          "base_uri": "https://localhost:8080/"
        },
        "id": "47LjBbXS4ECd",
        "outputId": "03787181-3981-456f-9996-08c9c5f30224"
      },
      "execution_count": null,
      "outputs": [
        {
          "output_type": "execute_result",
          "data": {
            "text/plain": [
              "[('King', 0.7780153751373291),\n",
              " ('Queen', 0.55495285987854),\n",
              " ('Oprah_BFF_Gayle', 0.4718775153160095),\n",
              " ('Princess', 0.464548259973526),\n",
              " ('Geoffrey_Rush_Exit', 0.46232524514198303),\n",
              " ('K._Letourneau', 0.45581626892089844),\n",
              " ('Alveda_C.', 0.4519497752189636),\n",
              " ('L._Bonauto', 0.45188432931900024),\n",
              " ('Yvonne_Stickney', 0.45108550786972046),\n",
              " ('Mecklenburg_Strelitz', 0.44999104738235474)]"
            ]
          },
          "metadata": {},
          "execution_count": 43
        }
      ]
    },
    {
      "cell_type": "code",
      "source": [
        "!pip install wordcloud"
      ],
      "metadata": {
        "colab": {
          "base_uri": "https://localhost:8080/"
        },
        "id": "bKSmMmLR8ItA",
        "outputId": "12a96350-c9ac-4f6a-f043-08a711984fd7"
      },
      "execution_count": null,
      "outputs": [
        {
          "output_type": "stream",
          "name": "stdout",
          "text": [
            "Looking in indexes: https://pypi.org/simple, https://us-python.pkg.dev/colab-wheels/public/simple/\n",
            "Requirement already satisfied: wordcloud in /usr/local/lib/python3.7/dist-packages (1.5.0)\n",
            "Requirement already satisfied: numpy>=1.6.1 in /usr/local/lib/python3.7/dist-packages (from wordcloud) (1.21.6)\n",
            "Requirement already satisfied: pillow in /usr/local/lib/python3.7/dist-packages (from wordcloud) (7.1.2)\n"
          ]
        }
      ]
    },
    {
      "cell_type": "code",
      "source": [
        "import os\n",
        "from os import path\n",
        "from wordcloud import WordCloud"
      ],
      "metadata": {
        "id": "Hn72SGxt5Si_"
      },
      "execution_count": null,
      "outputs": []
    },
    {
      "cell_type": "code",
      "source": [
        "para = \"\"\"Narendra Damodardas Modi (Gujarati: [ˈnəɾendɾə dɑmodəɾˈdɑs ˈmodiː] (listen); born 17 September 1950)[a] is an Indian politician serving as the 14th and current prime minister of India since 2014. Modi was the chief minister of Gujarat from 2001 to 2014 and is the Member of Parliament from Varanasi. He is a member of the Bharatiya Janata Party (BJP) and of the Rashtriya Swayamsevak Sangh (RSS), a right-wing Hindu nationalist paramilitary volunteer organisation. He is the first prime minister to have been born after India's independence in 1947 and the second prime minister not belonging to the Indian National Congress to have won two consecutive majorities in the Lok Sabha, or the lower house of India's parliament. He is also the longest serving prime minister from a non-Congress party.\n",
        "\n",
        "Born and raised in Vadnagar, a small town in northeastern Gujarat, Modi completed his secondary education there. He was introduced to the RSS at age eight. He has drawn attention to having to work as a child in his father's tea stall on the Vadnagar railway station platform, a description that has not been reliably corroborated. At age 18, Modi was married to Jashodaben Chimanlal Modi, whom he abandoned soon after. He left his parental home where she had come to live. He first publicly acknowledged her as his wife more than four decades later when required to do so by Indian law, but has made no contact with her since. Modi has asserted he had travelled in northern India for two years after leaving his parental home, visiting a number of religious centres, but few details of his travels have emerged. Upon his return to Gujarat in 1971, he became a full-time worker for the RSS. After the state of emergency was declared by prime minister Indira Gandhi in 1975, Modi went into hiding. The RSS assigned him to the BJP in 1985 and he held several positions within the party hierarchy until 2001, rising to the rank of general secretary.\"\"\"\n",
        "\n",
        "para"
      ],
      "metadata": {
        "colab": {
          "base_uri": "https://localhost:8080/",
          "height": 123
        },
        "id": "Fch5F8cT51sB",
        "outputId": "bc9a3f48-bffd-4ed7-96c2-bf5565562b5f"
      },
      "execution_count": null,
      "outputs": [
        {
          "output_type": "execute_result",
          "data": {
            "text/plain": [
              "\"Narendra Damodardas Modi (Gujarati: [ˈnəɾendɾə dɑmodəɾˈdɑs ˈmodiː] (listen); born 17 September 1950)[a] is an Indian politician serving as the 14th and current prime minister of India since 2014. Modi was the chief minister of Gujarat from 2001 to 2014 and is the Member of Parliament from Varanasi. He is a member of the Bharatiya Janata Party (BJP) and of the Rashtriya Swayamsevak Sangh (RSS), a right-wing Hindu nationalist paramilitary volunteer organisation. He is the first prime minister to have been born after India's independence in 1947 and the second prime minister not belonging to the Indian National Congress to have won two consecutive majorities in the Lok Sabha, or the lower house of India's parliament. He is also the longest serving prime minister from a non-Congress party.\\n\\nBorn and raised in Vadnagar, a small town in northeastern Gujarat, Modi completed his secondary education there. He was introduced to the RSS at age eight. He has drawn attention to having to work as a child in his father's tea stall on the Vadnagar railway station platform, a description that has not been reliably corroborated. At age 18, Modi was married to Jashodaben Chimanlal Modi, whom he abandoned soon after. He left his parental home where she had come to live. He first publicly acknowledged her as his wife more than four decades later when required to do so by Indian law, but has made no contact with her since. Modi has asserted he had travelled in northern India for two years after leaving his parental home, visiting a number of religious centres, but few details of his travels have emerged. Upon his return to Gujarat in 1971, he became a full-time worker for the RSS. After the state of emergency was declared by prime minister Indira Gandhi in 1975, Modi went into hiding. The RSS assigned him to the BJP in 1985 and he held several positions within the party hierarchy until 2001, rising to the rank of general secretary.\""
            ],
            "application/vnd.google.colaboratory.intrinsic+json": {
              "type": "string"
            }
          },
          "metadata": {},
          "execution_count": 48
        }
      ]
    },
    {
      "cell_type": "code",
      "source": [
        "wc = WordCloud().generate(para)\n",
        "wc"
      ],
      "metadata": {
        "colab": {
          "base_uri": "https://localhost:8080/"
        },
        "id": "ruB4d4ZJ8Vo3",
        "outputId": "dd333b58-4300-41cd-96cf-130bda7aec1e"
      },
      "execution_count": null,
      "outputs": [
        {
          "output_type": "execute_result",
          "data": {
            "text/plain": [
              "<wordcloud.wordcloud.WordCloud at 0x7f4f54c62950>"
            ]
          },
          "metadata": {},
          "execution_count": 49
        }
      ]
    },
    {
      "cell_type": "code",
      "source": [
        "import matplotlib.pyplot as plt\n",
        "plt.imshow(wc, interpolation='bilinear')\n",
        "plt.axis(\"off\")"
      ],
      "metadata": {
        "colab": {
          "base_uri": "https://localhost:8080/",
          "height": 215
        },
        "id": "trRrvndi8fdC",
        "outputId": "6535d1a4-c6ea-47ef-cc40-da1cb38180a7"
      },
      "execution_count": null,
      "outputs": [
        {
          "output_type": "execute_result",
          "data": {
            "text/plain": [
              "(-0.5, 399.5, 199.5, -0.5)"
            ]
          },
          "metadata": {},
          "execution_count": 51
        },
        {
          "output_type": "display_data",
          "data": {
            "text/plain": [
              "<Figure size 432x288 with 1 Axes>"
            ],
            "image/png": "[encoded data removed]"
          },
          "metadata": {
            "needs_background": "light"
          }
        }
      ]
    },
    {
      "cell_type": "markdown",
      "source": [
        "\n",
        "\n",
        "\n",
        "---\n",
        "\n",
        "\n",
        "\n",
        "---\n",
        "\n",
        "\n",
        "# Word Embedding Technique"
      ],
      "metadata": {
        "id": "EDjZK_e0vKlO"
      }
    },
    {
      "cell_type": "code",
      "source": [
        "!pip install tensorflow"
      ],
      "metadata": {
        "id": "OgtRr0rn8rDG",
        "colab": {
          "base_uri": "https://localhost:8080/"
        },
        "outputId": "63df9ff4-2f31-4a47-c2aa-4487ea346ce7"
      },
      "execution_count": null,
      "outputs": [
        {
          "output_type": "stream",
          "name": "stdout",
          "text": [
            "Looking in indexes: https://pypi.org/simple, https://us-python.pkg.dev/colab-wheels/public/simple/\n",
            "Requirement already satisfied: tensorflow in /usr/local/lib/python3.7/dist-packages (2.8.2+zzzcolab20220719082949)\n",
            "Requirement already satisfied: tensorflow-io-gcs-filesystem>=0.23.1 in /usr/local/lib/python3.7/dist-packages (from tensorflow) (0.26.0)\n",
            "Requirement already satisfied: setuptools in /usr/local/lib/python3.7/dist-packages (from tensorflow) (57.4.0)\n",
            "Requirement already satisfied: absl-py>=0.4.0 in /usr/local/lib/python3.7/dist-packages (from tensorflow) (1.2.0)\n",
            "Requirement already satisfied: numpy>=1.20 in /usr/local/lib/python3.7/dist-packages (from tensorflow) (1.21.6)\n",
            "Requirement already satisfied: astunparse>=1.6.0 in /usr/local/lib/python3.7/dist-packages (from tensorflow) (1.6.3)\n",
            "Requirement already satisfied: wrapt>=1.11.0 in /usr/local/lib/python3.7/dist-packages (from tensorflow) (1.14.1)\n",
            "Requirement already satisfied: termcolor>=1.1.0 in /usr/local/lib/python3.7/dist-packages (from tensorflow) (1.1.0)\n",
            "Requirement already satisfied: keras-preprocessing>=1.1.1 in /usr/local/lib/python3.7/dist-packages (from tensorflow) (1.1.2)\n",
            "Requirement already satisfied: google-pasta>=0.1.1 in /usr/local/lib/python3.7/dist-packages (from tensorflow) (0.2.0)\n",
            "Requirement already satisfied: libclang>=9.0.1 in /usr/local/lib/python3.7/dist-packages (from tensorflow) (14.0.6)\n",
            "Requirement already satisfied: protobuf<3.20,>=3.9.2 in /usr/local/lib/python3.7/dist-packages (from tensorflow) (3.17.3)\n",
            "Requirement already satisfied: tensorboard<2.9,>=2.8 in /usr/local/lib/python3.7/dist-packages (from tensorflow) (2.8.0)\n",
            "Requirement already satisfied: opt-einsum>=2.3.2 in /usr/local/lib/python3.7/dist-packages (from tensorflow) (3.3.0)\n",
            "Requirement already satisfied: grpcio<2.0,>=1.24.3 in /usr/local/lib/python3.7/dist-packages (from tensorflow) (1.47.0)\n",
            "Requirement already satisfied: six>=1.12.0 in /usr/local/lib/python3.7/dist-packages (from tensorflow) (1.15.0)\n",
            "Requirement already satisfied: typing-extensions>=3.6.6 in /usr/local/lib/python3.7/dist-packages (from tensorflow) (4.1.1)\n",
            "Requirement already satisfied: gast>=0.2.1 in /usr/local/lib/python3.7/dist-packages (from tensorflow) (0.4.0)\n",
            "Requirement already satisfied: keras<2.9,>=2.8.0rc0 in /usr/local/lib/python3.7/dist-packages (from tensorflow) (2.8.0)\n",
            "Requirement already satisfied: tensorflow-estimator<2.9,>=2.8 in /usr/local/lib/python3.7/dist-packages (from tensorflow) (2.8.0)\n",
            "Requirement already satisfied: flatbuffers>=1.12 in /usr/local/lib/python3.7/dist-packages (from tensorflow) (1.12)\n",
            "Requirement already satisfied: h5py>=2.9.0 in /usr/local/lib/python3.7/dist-packages (from tensorflow) (3.1.0)\n",
            "Requirement already satisfied: wheel<1.0,>=0.23.0 in /usr/local/lib/python3.7/dist-packages (from astunparse>=1.6.0->tensorflow) (0.37.1)\n",
            "Requirement already satisfied: cached-property in /usr/local/lib/python3.7/dist-packages (from h5py>=2.9.0->tensorflow) (1.5.2)\n",
            "Requirement already satisfied: requests<3,>=2.21.0 in /usr/local/lib/python3.7/dist-packages (from tensorboard<2.9,>=2.8->tensorflow) (2.23.0)\n",
            "Requirement already satisfied: google-auth-oauthlib<0.5,>=0.4.1 in /usr/local/lib/python3.7/dist-packages (from tensorboard<2.9,>=2.8->tensorflow) (0.4.6)\n",
            "Requirement already satisfied: tensorboard-data-server<0.7.0,>=0.6.0 in /usr/local/lib/python3.7/dist-packages (from tensorboard<2.9,>=2.8->tensorflow) (0.6.1)\n",
            "Requirement already satisfied: google-auth<3,>=1.6.3 in /usr/local/lib/python3.7/dist-packages (from tensorboard<2.9,>=2.8->tensorflow) (1.35.0)\n",
            "Requirement already satisfied: markdown>=2.6.8 in /usr/local/lib/python3.7/dist-packages (from tensorboard<2.9,>=2.8->tensorflow) (3.4.1)\n",
            "Requirement already satisfied: tensorboard-plugin-wit>=1.6.0 in /usr/local/lib/python3.7/dist-packages (from tensorboard<2.9,>=2.8->tensorflow) (1.8.1)\n",
            "Requirement already satisfied: werkzeug>=0.11.15 in /usr/local/lib/python3.7/dist-packages (from tensorboard<2.9,>=2.8->tensorflow) (1.0.1)\n",
            "Requirement already satisfied: pyasn1-modules>=0.2.1 in /usr/local/lib/python3.7/dist-packages (from google-auth<3,>=1.6.3->tensorboard<2.9,>=2.8->tensorflow) (0.2.8)\n",
            "Requirement already satisfied: cachetools<5.0,>=2.0.0 in /usr/local/lib/python3.7/dist-packages (from google-auth<3,>=1.6.3->tensorboard<2.9,>=2.8->tensorflow) (4.2.4)\n",
            "Requirement already satisfied: rsa<5,>=3.1.4 in /usr/local/lib/python3.7/dist-packages (from google-auth<3,>=1.6.3->tensorboard<2.9,>=2.8->tensorflow) (4.9)\n",
            "Requirement already satisfied: requests-oauthlib>=0.7.0 in /usr/local/lib/python3.7/dist-packages (from google-auth-oauthlib<0.5,>=0.4.1->tensorboard<2.9,>=2.8->tensorflow) (1.3.1)\n",
            "Requirement already satisfied: importlib-metadata>=4.4 in /usr/local/lib/python3.7/dist-packages (from markdown>=2.6.8->tensorboard<2.9,>=2.8->tensorflow) (4.12.0)\n",
            "Requirement already satisfied: zipp>=0.5 in /usr/local/lib/python3.7/dist-packages (from importlib-metadata>=4.4->markdown>=2.6.8->tensorboard<2.9,>=2.8->tensorflow) (3.8.1)\n",
            "Requirement already satisfied: pyasn1<0.5.0,>=0.4.6 in /usr/local/lib/python3.7/dist-packages (from pyasn1-modules>=0.2.1->google-auth<3,>=1.6.3->tensorboard<2.9,>=2.8->tensorflow) (0.4.8)\n",
            "Requirement already satisfied: certifi>=2017.4.17 in /usr/local/lib/python3.7/dist-packages (from requests<3,>=2.21.0->tensorboard<2.9,>=2.8->tensorflow) (2022.6.15)\n",
            "Requirement already satisfied: idna<3,>=2.5 in /usr/local/lib/python3.7/dist-packages (from requests<3,>=2.21.0->tensorboard<2.9,>=2.8->tensorflow) (2.10)\n",
            "Requirement already satisfied: chardet<4,>=3.0.2 in /usr/local/lib/python3.7/dist-packages (from requests<3,>=2.21.0->tensorboard<2.9,>=2.8->tensorflow) (3.0.4)\n",
            "Requirement already satisfied: urllib3!=1.25.0,!=1.25.1,<1.26,>=1.21.1 in /usr/local/lib/python3.7/dist-packages (from requests<3,>=2.21.0->tensorboard<2.9,>=2.8->tensorflow) (1.24.3)\n",
            "Requirement already satisfied: oauthlib>=3.0.0 in /usr/local/lib/python3.7/dist-packages (from requests-oauthlib>=0.7.0->google-auth-oauthlib<0.5,>=0.4.1->tensorboard<2.9,>=2.8->tensorflow) (3.2.0)\n"
          ]
        }
      ]
    },
    {
      "cell_type": "code",
      "source": [
        "from tensorflow.keras.preprocessing.text import one_hot"
      ],
      "metadata": {
        "id": "9fubhCxkvbhf"
      },
      "execution_count": null,
      "outputs": []
    },
    {
      "cell_type": "code",
      "source": [
        "### sentences\n",
        "sent=[  'the glass of milk',\n",
        "     'the glass of juice',\n",
        "     'the cup of tea',\n",
        "    'I am a good boy',\n",
        "     'I am a good developer',\n",
        "     'understand the meaning of words',\n",
        "     'your videos are good']"
      ],
      "metadata": {
        "id": "EOJWQJWB0N6-"
      },
      "execution_count": null,
      "outputs": []
    },
    {
      "cell_type": "code",
      "source": [
        "sent"
      ],
      "metadata": {
        "colab": {
          "base_uri": "https://localhost:8080/"
        },
        "id": "Luh7JZsO0SKr",
        "outputId": "f2b74c6a-967b-4970-a2b7-54be36a9b806"
      },
      "execution_count": null,
      "outputs": [
        {
          "output_type": "execute_result",
          "data": {
            "text/plain": [
              "['the glass of milk',\n",
              " 'the glass of juice',\n",
              " 'the cup of tea',\n",
              " 'I am a good boy',\n",
              " 'I am a good developer',\n",
              " 'understand the meaning of words',\n",
              " 'your videos are good']"
            ]
          },
          "metadata": {},
          "execution_count": 4
        }
      ]
    },
    {
      "cell_type": "code",
      "source": [
        "# converting into OHE\n",
        "\n",
        "vocab_size = 500 # initialize vocab size"
      ],
      "metadata": {
        "id": "mlF9-sT57JtZ"
      },
      "execution_count": null,
      "outputs": []
    },
    {
      "cell_type": "code",
      "source": [
        "# OHE\n",
        "\n",
        "ohe_rep = [one_hot(wrds, vocab_size) for wrds in sent]\n",
        "ohe_rep"
      ],
      "metadata": {
        "colab": {
          "base_uri": "https://localhost:8080/"
        },
        "id": "MVihltX07Zx7",
        "outputId": "3e03d082-d885-4904-b796-bb32662d964f"
      },
      "execution_count": null,
      "outputs": [
        {
          "output_type": "execute_result",
          "data": {
            "text/plain": [
              "[[28, 410, 281, 361],\n",
              " [28, 410, 281, 137],\n",
              " [28, 56, 281, 228],\n",
              " [438, 346, 200, 405, 383],\n",
              " [438, 346, 200, 405, 13],\n",
              " [181, 28, 337, 281, 473],\n",
              " [33, 346, 443, 405]]"
            ]
          },
          "metadata": {},
          "execution_count": 6
        }
      ]
    },
    {
      "cell_type": "code",
      "source": [
        "# [3230, 9141, 5686, 1909]  --> \"the glass of milk\""
      ],
      "metadata": {
        "id": "FXYO72Oe7lsm"
      },
      "execution_count": null,
      "outputs": []
    },
    {
      "cell_type": "code",
      "source": [
        "from tensorflow.keras.layers import Embedding\n",
        "from tensorflow.keras.preprocessing.sequence import pad_sequences\n",
        "from tensorflow.keras.models import Sequential\n",
        "import numpy as np"
      ],
      "metadata": {
        "id": "orL-CRVV8-F-"
      },
      "execution_count": null,
      "outputs": []
    },
    {
      "cell_type": "code",
      "source": [
        "sen_len = 8\n",
        "embedded_docs = pad_sequences(ohe_rep, padding='pre', maxlen=sen_len)  # Pre-padding\n",
        "embedded_docs"
      ],
      "metadata": {
        "colab": {
          "base_uri": "https://localhost:8080/"
        },
        "id": "-h9Rp6pm8-fT",
        "outputId": "d4a96c09-8ca7-47f1-95a6-bc0bb0bfebf5"
      },
      "execution_count": null,
      "outputs": [
        {
          "output_type": "execute_result",
          "data": {
            "text/plain": [
              "array([[  0,   0,   0,   0,  28, 410, 281, 361],\n",
              "       [  0,   0,   0,   0,  28, 410, 281, 137],\n",
              "       [  0,   0,   0,   0,  28,  56, 281, 228],\n",
              "       [  0,   0,   0, 438, 346, 200, 405, 383],\n",
              "       [  0,   0,   0, 438, 346, 200, 405,  13],\n",
              "       [  0,   0,   0, 181,  28, 337, 281, 473],\n",
              "       [  0,   0,   0,   0,  33, 346, 443, 405]], dtype=int32)"
            ]
          },
          "metadata": {},
          "execution_count": 9
        }
      ]
    },
    {
      "cell_type": "code",
      "source": [
        "# dim = 10\n",
        "\n",
        "# [   0,    0,    0,    0, 8161, 2000, 8697, 7957]\n",
        "\n",
        "#   [0]   ...\n",
        "#   [0]   ...\n",
        "#   [0]   ...\n",
        "#   [0]   ...\n",
        "#   [1]   ...\n",
        "#   [0]   ...\n",
        "#   [0]   ...\n",
        "#   [0]   ...\n",
        "#   [0]   ...\n",
        "#   [0]   ..."
      ],
      "metadata": {
        "id": "HsSm12dH9QV6"
      },
      "execution_count": null,
      "outputs": []
    },
    {
      "cell_type": "code",
      "source": [
        "dim = 10\n",
        "\n",
        "model = Sequential()\n",
        "model.add(Embedding(vocab_size, dim, input_length=sen_len))\n",
        "model.compile(optimizer='adam', loss='mse')\n",
        "model.summary()                               # 8 --> Sentence_len, 10 --> Dimension, 500 --> Vocab size"
      ],
      "metadata": {
        "colab": {
          "base_uri": "https://localhost:8080/"
        },
        "id": "74o1oJ6958Iy",
        "outputId": "af0bfdb4-30b7-481d-bdaf-0f8fd8d5bf27"
      },
      "execution_count": null,
      "outputs": [
        {
          "output_type": "stream",
          "name": "stdout",
          "text": [
            "Model: \"sequential\"\n",
            "_________________________________________________________________\n",
            " Layer (type)                Output Shape              Param #   \n",
            "=================================================================\n",
            " embedding (Embedding)       (None, 8, 10)             5000      \n",
            "                                                                 \n",
            "=================================================================\n",
            "Total params: 5,000\n",
            "Trainable params: 5,000\n",
            "Non-trainable params: 0\n",
            "_________________________________________________________________\n"
          ]
        }
      ]
    },
    {
      "cell_type": "code",
      "source": [
        "embedded_docs[0]     # \"the glass of milk\""
      ],
      "metadata": {
        "colab": {
          "base_uri": "https://localhost:8080/"
        },
        "id": "JotBKu4o7ff2",
        "outputId": "8a586ec4-ec59-4b70-9d7f-19c285e2d41d"
      },
      "execution_count": null,
      "outputs": [
        {
          "output_type": "execute_result",
          "data": {
            "text/plain": [
              "array([  0,   0,   0,   0,  28, 410, 281, 361], dtype=int32)"
            ]
          },
          "metadata": {},
          "execution_count": 12
        }
      ]
    },
    {
      "cell_type": "code",
      "source": [
        "model.predict(embedded_docs[0])"
      ],
      "metadata": {
        "colab": {
          "base_uri": "https://localhost:8080/"
        },
        "id": "poxhm-3G7GvZ",
        "outputId": "b673ed61-f5c1-4a7c-a18b-8db79aedeb05"
      },
      "execution_count": null,
      "outputs": [
        {
          "output_type": "stream",
          "name": "stderr",
          "text": [
            "WARNING:tensorflow:Model was constructed with shape (None, 8) for input KerasTensor(type_spec=TensorSpec(shape=(None, 8), dtype=tf.float32, name='embedding_input'), name='embedding_input', description=\"created by layer 'embedding_input'\"), but it was called on an input with incompatible shape (None,).\n"
          ]
        },
        {
          "output_type": "execute_result",
          "data": {
            "text/plain": [
              "array([[ 0.03266012, -0.01602243, -0.02422085, -0.0268299 , -0.03421179,\n",
              "         0.008316  , -0.00205587,  0.04914105, -0.0070821 , -0.01748485],\n",
              "       [ 0.03266012, -0.01602243, -0.02422085, -0.0268299 , -0.03421179,\n",
              "         0.008316  , -0.00205587,  0.04914105, -0.0070821 , -0.01748485],\n",
              "       [ 0.03266012, -0.01602243, -0.02422085, -0.0268299 , -0.03421179,\n",
              "         0.008316  , -0.00205587,  0.04914105, -0.0070821 , -0.01748485],\n",
              "       [ 0.03266012, -0.01602243, -0.02422085, -0.0268299 , -0.03421179,\n",
              "         0.008316  , -0.00205587,  0.04914105, -0.0070821 , -0.01748485],\n",
              "       [ 0.04990793,  0.03450075,  0.00996673,  0.01067871,  0.01022644,\n",
              "        -0.00385054, -0.02630336,  0.04635494, -0.01156094, -0.01144696],\n",
              "       [ 0.02371014, -0.0444418 , -0.02167307, -0.00770644,  0.00368284,\n",
              "        -0.02939161,  0.02665449, -0.03404905, -0.02200015,  0.01512741],\n",
              "       [-0.00945501,  0.00152902,  0.03272252,  0.02684741, -0.00258978,\n",
              "        -0.04143903, -0.02384759, -0.04380019, -0.02147326,  0.04275206],\n",
              "       [ 0.00535669,  0.04575587,  0.00890763, -0.04370067, -0.04563173,\n",
              "        -0.02659807, -0.03076775,  0.00677853,  0.0006187 , -0.00398202]],\n",
              "      dtype=float32)"
            ]
          },
          "metadata": {},
          "execution_count": 14
        }
      ]
    },
    {
      "cell_type": "code",
      "source": [
        "model.predict(embedded_docs)"
      ],
      "metadata": {
        "colab": {
          "base_uri": "https://localhost:8080/"
        },
        "id": "1UftVsDI7qFh",
        "outputId": "850dbdee-4e99-455c-ae0f-25a38b572d6f"
      },
      "execution_count": null,
      "outputs": [
        {
          "output_type": "execute_result",
          "data": {
            "text/plain": [
              "array([[[ 3.26601155e-02, -1.60224326e-02, -2.42208485e-02,\n",
              "         -2.68298984e-02, -3.42117921e-02,  8.31600279e-03,\n",
              "         -2.05587223e-03,  4.91410531e-02, -7.08210468e-03,\n",
              "         -1.74848549e-02],\n",
              "        [ 3.26601155e-02, -1.60224326e-02, -2.42208485e-02,\n",
              "         -2.68298984e-02, -3.42117921e-02,  8.31600279e-03,\n",
              "         -2.05587223e-03,  4.91410531e-02, -7.08210468e-03,\n",
              "         -1.74848549e-02],\n",
              "        [ 3.26601155e-02, -1.60224326e-02, -2.42208485e-02,\n",
              "         -2.68298984e-02, -3.42117921e-02,  8.31600279e-03,\n",
              "         -2.05587223e-03,  4.91410531e-02, -7.08210468e-03,\n",
              "         -1.74848549e-02],\n",
              "        [ 3.26601155e-02, -1.60224326e-02, -2.42208485e-02,\n",
              "         -2.68298984e-02, -3.42117921e-02,  8.31600279e-03,\n",
              "         -2.05587223e-03,  4.91410531e-02, -7.08210468e-03,\n",
              "         -1.74848549e-02],\n",
              "        [ 4.99079339e-02,  3.45007516e-02,  9.96673107e-03,\n",
              "          1.06787086e-02,  1.02264397e-02, -3.85054201e-03,\n",
              "         -2.63033640e-02,  4.63549383e-02, -1.15609393e-02,\n",
              "         -1.14469640e-02],\n",
              "        [ 2.37101354e-02, -4.44417968e-02, -2.16730721e-02,\n",
              "         -7.70644099e-03,  3.68284062e-03, -2.93916110e-02,\n",
              "          2.66544931e-02, -3.40490490e-02, -2.20001470e-02,\n",
              "          1.51274092e-02],\n",
              "        [-9.45501402e-03,  1.52901560e-03,  3.27225216e-02,\n",
              "          2.68474109e-02, -2.58978456e-03, -4.14390340e-02,\n",
              "         -2.38475930e-02, -4.38001864e-02, -2.14732643e-02,\n",
              "          4.27520610e-02],\n",
              "        [ 5.35669178e-03,  4.57558744e-02,  8.90762731e-03,\n",
              "         -4.37006727e-02, -4.56317328e-02, -2.65980717e-02,\n",
              "         -3.07677519e-02,  6.77852705e-03,  6.18696213e-04,\n",
              "         -3.98201868e-03]],\n",
              "\n",
              "       [[ 3.26601155e-02, -1.60224326e-02, -2.42208485e-02,\n",
              "         -2.68298984e-02, -3.42117921e-02,  8.31600279e-03,\n",
              "         -2.05587223e-03,  4.91410531e-02, -7.08210468e-03,\n",
              "         -1.74848549e-02],\n",
              "        [ 3.26601155e-02, -1.60224326e-02, -2.42208485e-02,\n",
              "         -2.68298984e-02, -3.42117921e-02,  8.31600279e-03,\n",
              "         -2.05587223e-03,  4.91410531e-02, -7.08210468e-03,\n",
              "         -1.74848549e-02],\n",
              "        [ 3.26601155e-02, -1.60224326e-02, -2.42208485e-02,\n",
              "         -2.68298984e-02, -3.42117921e-02,  8.31600279e-03,\n",
              "         -2.05587223e-03,  4.91410531e-02, -7.08210468e-03,\n",
              "         -1.74848549e-02],\n",
              "        [ 3.26601155e-02, -1.60224326e-02, -2.42208485e-02,\n",
              "         -2.68298984e-02, -3.42117921e-02,  8.31600279e-03,\n",
              "         -2.05587223e-03,  4.91410531e-02, -7.08210468e-03,\n",
              "         -1.74848549e-02],\n",
              "        [ 4.99079339e-02,  3.45007516e-02,  9.96673107e-03,\n",
              "          1.06787086e-02,  1.02264397e-02, -3.85054201e-03,\n",
              "         -2.63033640e-02,  4.63549383e-02, -1.15609393e-02,\n",
              "         -1.14469640e-02],\n",
              "        [ 2.37101354e-02, -4.44417968e-02, -2.16730721e-02,\n",
              "         -7.70644099e-03,  3.68284062e-03, -2.93916110e-02,\n",
              "          2.66544931e-02, -3.40490490e-02, -2.20001470e-02,\n",
              "          1.51274092e-02],\n",
              "        [-9.45501402e-03,  1.52901560e-03,  3.27225216e-02,\n",
              "          2.68474109e-02, -2.58978456e-03, -4.14390340e-02,\n",
              "         -2.38475930e-02, -4.38001864e-02, -2.14732643e-02,\n",
              "          4.27520610e-02],\n",
              "        [-2.88521890e-02,  4.67833318e-02, -4.09976467e-02,\n",
              "         -9.27405432e-03,  1.67737864e-02,  1.27518661e-02,\n",
              "         -1.53182633e-02,  3.82941850e-02,  1.03802085e-02,\n",
              "         -3.27324867e-03]],\n",
              "\n",
              "       [[ 3.26601155e-02, -1.60224326e-02, -2.42208485e-02,\n",
              "         -2.68298984e-02, -3.42117921e-02,  8.31600279e-03,\n",
              "         -2.05587223e-03,  4.91410531e-02, -7.08210468e-03,\n",
              "         -1.74848549e-02],\n",
              "        [ 3.26601155e-02, -1.60224326e-02, -2.42208485e-02,\n",
              "         -2.68298984e-02, -3.42117921e-02,  8.31600279e-03,\n",
              "         -2.05587223e-03,  4.91410531e-02, -7.08210468e-03,\n",
              "         -1.74848549e-02],\n",
              "        [ 3.26601155e-02, -1.60224326e-02, -2.42208485e-02,\n",
              "         -2.68298984e-02, -3.42117921e-02,  8.31600279e-03,\n",
              "         -2.05587223e-03,  4.91410531e-02, -7.08210468e-03,\n",
              "         -1.74848549e-02],\n",
              "        [ 3.26601155e-02, -1.60224326e-02, -2.42208485e-02,\n",
              "         -2.68298984e-02, -3.42117921e-02,  8.31600279e-03,\n",
              "         -2.05587223e-03,  4.91410531e-02, -7.08210468e-03,\n",
              "         -1.74848549e-02],\n",
              "        [ 4.99079339e-02,  3.45007516e-02,  9.96673107e-03,\n",
              "          1.06787086e-02,  1.02264397e-02, -3.85054201e-03,\n",
              "         -2.63033640e-02,  4.63549383e-02, -1.15609393e-02,\n",
              "         -1.14469640e-02],\n",
              "        [-4.89096530e-02, -2.86579132e-03, -2.67369039e-02,\n",
              "         -2.19894536e-02, -6.44490868e-03,  9.65150446e-03,\n",
              "          2.65756138e-02, -4.65486199e-03,  1.16986036e-02,\n",
              "         -1.23754144e-05],\n",
              "        [-9.45501402e-03,  1.52901560e-03,  3.27225216e-02,\n",
              "          2.68474109e-02, -2.58978456e-03, -4.14390340e-02,\n",
              "         -2.38475930e-02, -4.38001864e-02, -2.14732643e-02,\n",
              "          4.27520610e-02],\n",
              "        [ 4.02676947e-02,  2.96208598e-02, -1.00108981e-02,\n",
              "         -1.85719356e-02, -5.45451790e-03, -3.90547514e-03,\n",
              "         -2.95635592e-02,  3.43667343e-03,  1.61695816e-02,\n",
              "         -4.77727056e-02]],\n",
              "\n",
              "       [[ 3.26601155e-02, -1.60224326e-02, -2.42208485e-02,\n",
              "         -2.68298984e-02, -3.42117921e-02,  8.31600279e-03,\n",
              "         -2.05587223e-03,  4.91410531e-02, -7.08210468e-03,\n",
              "         -1.74848549e-02],\n",
              "        [ 3.26601155e-02, -1.60224326e-02, -2.42208485e-02,\n",
              "         -2.68298984e-02, -3.42117921e-02,  8.31600279e-03,\n",
              "         -2.05587223e-03,  4.91410531e-02, -7.08210468e-03,\n",
              "         -1.74848549e-02],\n",
              "        [ 3.26601155e-02, -1.60224326e-02, -2.42208485e-02,\n",
              "         -2.68298984e-02, -3.42117921e-02,  8.31600279e-03,\n",
              "         -2.05587223e-03,  4.91410531e-02, -7.08210468e-03,\n",
              "         -1.74848549e-02],\n",
              "        [ 2.60715522e-02,  3.06657664e-02,  1.02221966e-02,\n",
              "         -3.04373633e-02, -4.58039753e-02,  2.42914446e-02,\n",
              "          2.66873948e-02, -1.15694292e-02,  3.30354460e-02,\n",
              "         -1.03094690e-02],\n",
              "        [-1.45027153e-02, -2.31045019e-02,  4.45265807e-02,\n",
              "         -2.84580141e-03,  3.79337929e-02,  2.78171636e-02,\n",
              "         -2.92745233e-02,  1.47452392e-02, -2.11707596e-02,\n",
              "          7.17171282e-03],\n",
              "        [ 7.50459731e-04,  2.02750601e-02, -7.08608702e-03,\n",
              "         -2.88753752e-02, -3.46511379e-02, -4.87759002e-02,\n",
              "          2.13198997e-02, -4.88718599e-03, -1.07727423e-02,\n",
              "         -4.81308624e-03],\n",
              "        [-7.02917576e-03, -8.46995041e-03,  4.29639928e-02,\n",
              "          3.90794128e-03, -1.56588070e-02, -4.73152474e-03,\n",
              "         -2.44971160e-02, -2.19529271e-02,  4.78768833e-02,\n",
              "          9.08446312e-03],\n",
              "        [ 4.41275947e-02,  2.89984234e-02,  1.98808201e-02,\n",
              "         -9.17551666e-03,  4.56841849e-02,  2.10688822e-02,\n",
              "          2.13036053e-02, -5.07138669e-04,  9.13897902e-03,\n",
              "         -2.62313616e-02]],\n",
              "\n",
              "       [[ 3.26601155e-02, -1.60224326e-02, -2.42208485e-02,\n",
              "         -2.68298984e-02, -3.42117921e-02,  8.31600279e-03,\n",
              "         -2.05587223e-03,  4.91410531e-02, -7.08210468e-03,\n",
              "         -1.74848549e-02],\n",
              "        [ 3.26601155e-02, -1.60224326e-02, -2.42208485e-02,\n",
              "         -2.68298984e-02, -3.42117921e-02,  8.31600279e-03,\n",
              "         -2.05587223e-03,  4.91410531e-02, -7.08210468e-03,\n",
              "         -1.74848549e-02],\n",
              "        [ 3.26601155e-02, -1.60224326e-02, -2.42208485e-02,\n",
              "         -2.68298984e-02, -3.42117921e-02,  8.31600279e-03,\n",
              "         -2.05587223e-03,  4.91410531e-02, -7.08210468e-03,\n",
              "         -1.74848549e-02],\n",
              "        [ 2.60715522e-02,  3.06657664e-02,  1.02221966e-02,\n",
              "         -3.04373633e-02, -4.58039753e-02,  2.42914446e-02,\n",
              "          2.66873948e-02, -1.15694292e-02,  3.30354460e-02,\n",
              "         -1.03094690e-02],\n",
              "        [-1.45027153e-02, -2.31045019e-02,  4.45265807e-02,\n",
              "         -2.84580141e-03,  3.79337929e-02,  2.78171636e-02,\n",
              "         -2.92745233e-02,  1.47452392e-02, -2.11707596e-02,\n",
              "          7.17171282e-03],\n",
              "        [ 7.50459731e-04,  2.02750601e-02, -7.08608702e-03,\n",
              "         -2.88753752e-02, -3.46511379e-02, -4.87759002e-02,\n",
              "          2.13198997e-02, -4.88718599e-03, -1.07727423e-02,\n",
              "         -4.81308624e-03],\n",
              "        [-7.02917576e-03, -8.46995041e-03,  4.29639928e-02,\n",
              "          3.90794128e-03, -1.56588070e-02, -4.73152474e-03,\n",
              "         -2.44971160e-02, -2.19529271e-02,  4.78768833e-02,\n",
              "          9.08446312e-03],\n",
              "        [ 1.46558546e-02, -3.97579446e-02, -1.09809414e-02,\n",
              "          3.90598066e-02, -3.37758064e-02, -1.64595991e-03,\n",
              "         -1.66105740e-02,  9.41228867e-03, -1.24718063e-02,\n",
              "          2.58576982e-02]],\n",
              "\n",
              "       [[ 3.26601155e-02, -1.60224326e-02, -2.42208485e-02,\n",
              "         -2.68298984e-02, -3.42117921e-02,  8.31600279e-03,\n",
              "         -2.05587223e-03,  4.91410531e-02, -7.08210468e-03,\n",
              "         -1.74848549e-02],\n",
              "        [ 3.26601155e-02, -1.60224326e-02, -2.42208485e-02,\n",
              "         -2.68298984e-02, -3.42117921e-02,  8.31600279e-03,\n",
              "         -2.05587223e-03,  4.91410531e-02, -7.08210468e-03,\n",
              "         -1.74848549e-02],\n",
              "        [ 3.26601155e-02, -1.60224326e-02, -2.42208485e-02,\n",
              "         -2.68298984e-02, -3.42117921e-02,  8.31600279e-03,\n",
              "         -2.05587223e-03,  4.91410531e-02, -7.08210468e-03,\n",
              "         -1.74848549e-02],\n",
              "        [ 1.77855007e-02,  4.74656709e-02, -3.73865366e-02,\n",
              "          2.94962414e-02, -6.76789135e-03, -1.96310040e-02,\n",
              "          3.52884568e-02,  1.53170712e-02,  9.92852449e-03,\n",
              "         -4.66806553e-02],\n",
              "        [ 4.99079339e-02,  3.45007516e-02,  9.96673107e-03,\n",
              "          1.06787086e-02,  1.02264397e-02, -3.85054201e-03,\n",
              "         -2.63033640e-02,  4.63549383e-02, -1.15609393e-02,\n",
              "         -1.14469640e-02],\n",
              "        [-2.92087719e-03,  4.81496193e-02, -8.55056196e-03,\n",
              "         -2.63822209e-02, -4.36232239e-03,  4.08788435e-02,\n",
              "         -4.55871001e-02, -1.46119818e-02,  4.12427895e-02,\n",
              "          2.26129927e-02],\n",
              "        [-9.45501402e-03,  1.52901560e-03,  3.27225216e-02,\n",
              "          2.68474109e-02, -2.58978456e-03, -4.14390340e-02,\n",
              "         -2.38475930e-02, -4.38001864e-02, -2.14732643e-02,\n",
              "          4.27520610e-02],\n",
              "        [ 2.74724700e-02, -3.87371704e-03, -2.81879194e-02,\n",
              "         -2.65791062e-02,  5.88268042e-03, -3.70815024e-02,\n",
              "         -2.40699202e-03, -2.31011268e-02, -1.04319304e-04,\n",
              "          7.66270235e-03]],\n",
              "\n",
              "       [[ 3.26601155e-02, -1.60224326e-02, -2.42208485e-02,\n",
              "         -2.68298984e-02, -3.42117921e-02,  8.31600279e-03,\n",
              "         -2.05587223e-03,  4.91410531e-02, -7.08210468e-03,\n",
              "         -1.74848549e-02],\n",
              "        [ 3.26601155e-02, -1.60224326e-02, -2.42208485e-02,\n",
              "         -2.68298984e-02, -3.42117921e-02,  8.31600279e-03,\n",
              "         -2.05587223e-03,  4.91410531e-02, -7.08210468e-03,\n",
              "         -1.74848549e-02],\n",
              "        [ 3.26601155e-02, -1.60224326e-02, -2.42208485e-02,\n",
              "         -2.68298984e-02, -3.42117921e-02,  8.31600279e-03,\n",
              "         -2.05587223e-03,  4.91410531e-02, -7.08210468e-03,\n",
              "         -1.74848549e-02],\n",
              "        [ 3.26601155e-02, -1.60224326e-02, -2.42208485e-02,\n",
              "         -2.68298984e-02, -3.42117921e-02,  8.31600279e-03,\n",
              "         -2.05587223e-03,  4.91410531e-02, -7.08210468e-03,\n",
              "         -1.74848549e-02],\n",
              "        [ 3.84322144e-02,  4.71234061e-02,  3.97009291e-02,\n",
              "          3.39034237e-02,  4.72608246e-02, -4.64891680e-02,\n",
              "         -2.34135985e-02,  3.20517682e-02,  1.70668997e-02,\n",
              "          3.66163515e-02],\n",
              "        [-1.45027153e-02, -2.31045019e-02,  4.45265807e-02,\n",
              "         -2.84580141e-03,  3.79337929e-02,  2.78171636e-02,\n",
              "         -2.92745233e-02,  1.47452392e-02, -2.11707596e-02,\n",
              "          7.17171282e-03],\n",
              "        [ 1.07413046e-02, -6.58571720e-03, -1.24062300e-02,\n",
              "          2.94341929e-02, -6.30597025e-03,  3.01465876e-02,\n",
              "          3.18502299e-02,  2.20186003e-02, -1.14787742e-03,\n",
              "          2.76270770e-02],\n",
              "        [-7.02917576e-03, -8.46995041e-03,  4.29639928e-02,\n",
              "          3.90794128e-03, -1.56588070e-02, -4.73152474e-03,\n",
              "         -2.44971160e-02, -2.19529271e-02,  4.78768833e-02,\n",
              "          9.08446312e-03]]], dtype=float32)"
            ]
          },
          "metadata": {},
          "execution_count": 15
        }
      ]
    },
    {
      "cell_type": "code",
      "source": [
        "###\n",
        "\n",
        "sent=[\"The world is a better place\",\n",
        "      \"Marvel series is my favourite movie\",\n",
        "      \"I like DC movies\",\n",
        "      \"the cat is eating the food\",\n",
        "      \"Tom and Jerry is my favourite movie\",\n",
        "      \"Python is my favourite programming language\"\n",
        "      ]"
      ],
      "metadata": {
        "id": "W2JISvqu-6aj"
      },
      "execution_count": null,
      "outputs": []
    },
    {
      "cell_type": "code",
      "source": [
        "vocab_size = 500\n",
        "dim = 10\n",
        "sen_len = 10"
      ],
      "metadata": {
        "id": "xzZQOOQX_usM"
      },
      "execution_count": null,
      "outputs": []
    },
    {
      "cell_type": "code",
      "source": [
        "# OHE\n",
        "from tensorflow.keras.preprocessing.text import one_hot\n",
        "ohe_rep = [one_hot(wrds, vocab_size) for wrds in sent]\n",
        "ohe_rep"
      ],
      "metadata": {
        "colab": {
          "base_uri": "https://localhost:8080/"
        },
        "id": "qp40il5R_5sX",
        "outputId": "0fa0957c-73d4-420f-8278-7c2e13dd4213"
      },
      "execution_count": null,
      "outputs": [
        {
          "output_type": "execute_result",
          "data": {
            "text/plain": [
              "[[28, 490, 419, 200, 75, 146],\n",
              " [141, 302, 419, 63, 5, 124],\n",
              " [438, 322, 327, 143],\n",
              " [28, 46, 419, 318, 28, 87],\n",
              " [356, 218, 219, 419, 63, 5, 124],\n",
              " [134, 419, 63, 5, 217, 96]]"
            ]
          },
          "metadata": {},
          "execution_count": 18
        }
      ]
    },
    {
      "cell_type": "code",
      "source": [
        "from tensorflow.keras.layers import Embedding\n",
        "from tensorflow.keras.preprocessing.sequence import pad_sequences\n",
        "from tensorflow.keras.models import Sequential\n",
        "import numpy as np"
      ],
      "metadata": {
        "id": "cMr1fMI0_-dZ"
      },
      "execution_count": null,
      "outputs": []
    },
    {
      "cell_type": "code",
      "source": [
        "embedded_docs = pad_sequences(ohe_rep, padding='pre', maxlen=sen_len)  # Pre-padding\n",
        "embedded_docs"
      ],
      "metadata": {
        "colab": {
          "base_uri": "https://localhost:8080/"
        },
        "id": "N6NHEqG0AITR",
        "outputId": "6d507789-a6ce-4e73-b535-cd08b5902ccc"
      },
      "execution_count": null,
      "outputs": [
        {
          "output_type": "execute_result",
          "data": {
            "text/plain": [
              "array([[  0,   0,   0,   0,  28, 490, 419, 200,  75, 146],\n",
              "       [  0,   0,   0,   0, 141, 302, 419,  63,   5, 124],\n",
              "       [  0,   0,   0,   0,   0,   0, 438, 322, 327, 143],\n",
              "       [  0,   0,   0,   0,  28,  46, 419, 318,  28,  87],\n",
              "       [  0,   0,   0, 356, 218, 219, 419,  63,   5, 124],\n",
              "       [  0,   0,   0,   0, 134, 419,  63,   5, 217,  96]], dtype=int32)"
            ]
          },
          "metadata": {},
          "execution_count": 20
        }
      ]
    },
    {
      "cell_type": "code",
      "source": [
        "model = Sequential()\n",
        "model.add(Embedding(vocab_size, dim, input_length=sen_len))\n",
        "model.compile(optimizer='adam', loss='mse')\n",
        "model.summary()                               # 10 --> Sentence_len, 10 --> Dimension, 500 --> Vocab size"
      ],
      "metadata": {
        "colab": {
          "base_uri": "https://localhost:8080/"
        },
        "id": "-42v47SJALGt",
        "outputId": "c7b9b451-9ee3-4535-9615-6fff0d9c3e20"
      },
      "execution_count": null,
      "outputs": [
        {
          "output_type": "stream",
          "name": "stdout",
          "text": [
            "Model: \"sequential_1\"\n",
            "_________________________________________________________________\n",
            " Layer (type)                Output Shape              Param #   \n",
            "=================================================================\n",
            " embedding_1 (Embedding)     (None, 10, 10)            5000      \n",
            "                                                                 \n",
            "=================================================================\n",
            "Total params: 5,000\n",
            "Trainable params: 5,000\n",
            "Non-trainable params: 0\n",
            "_________________________________________________________________\n"
          ]
        }
      ]
    },
    {
      "cell_type": "code",
      "source": [
        "embedded_docs[0]"
      ],
      "metadata": {
        "colab": {
          "base_uri": "https://localhost:8080/"
        },
        "id": "FamDkZB-ARxU",
        "outputId": "b476eb06-9856-4aed-ded9-ffbbe56056c4"
      },
      "execution_count": null,
      "outputs": [
        {
          "output_type": "execute_result",
          "data": {
            "text/plain": [
              "array([  0,   0,   0,   0,  28, 490, 419, 200,  75, 146], dtype=int32)"
            ]
          },
          "metadata": {},
          "execution_count": 22
        }
      ]
    },
    {
      "cell_type": "code",
      "source": [
        "model.predict(embedded_docs[0])"
      ],
      "metadata": {
        "colab": {
          "base_uri": "https://localhost:8080/"
        },
        "id": "0_gQknzbAU_d",
        "outputId": "a37b4860-cacf-4332-a6b4-eae5487a3c39"
      },
      "execution_count": null,
      "outputs": [
        {
          "output_type": "stream",
          "name": "stderr",
          "text": [
            "WARNING:tensorflow:Model was constructed with shape (None, 10) for input KerasTensor(type_spec=TensorSpec(shape=(None, 10), dtype=tf.float32, name='embedding_1_input'), name='embedding_1_input', description=\"created by layer 'embedding_1_input'\"), but it was called on an input with incompatible shape (None,).\n"
          ]
        },
        {
          "output_type": "execute_result",
          "data": {
            "text/plain": [
              "array([[ 0.03842076,  0.02985399, -0.02538074, -0.01008635, -0.00670414,\n",
              "        -0.04382273,  0.01376737,  0.0084637 , -0.04714607, -0.03034272],\n",
              "       [ 0.03842076,  0.02985399, -0.02538074, -0.01008635, -0.00670414,\n",
              "        -0.04382273,  0.01376737,  0.0084637 , -0.04714607, -0.03034272],\n",
              "       [ 0.03842076,  0.02985399, -0.02538074, -0.01008635, -0.00670414,\n",
              "        -0.04382273,  0.01376737,  0.0084637 , -0.04714607, -0.03034272],\n",
              "       [ 0.03842076,  0.02985399, -0.02538074, -0.01008635, -0.00670414,\n",
              "        -0.04382273,  0.01376737,  0.0084637 , -0.04714607, -0.03034272],\n",
              "       [-0.01216627, -0.0182573 , -0.0180647 , -0.02811748,  0.02421678,\n",
              "        -0.00010259, -0.03349186,  0.03368497, -0.00873116,  0.0286149 ],\n",
              "       [-0.01485416, -0.0044379 , -0.04919371,  0.035636  , -0.0029938 ,\n",
              "        -0.04417509, -0.02271394,  0.00632823, -0.03814033, -0.04839032],\n",
              "       [-0.01645907, -0.0085664 ,  0.02274888, -0.01321322,  0.01448986,\n",
              "         0.01909516, -0.03263072,  0.04126224, -0.04532007, -0.04354776],\n",
              "       [-0.04216547,  0.03944929, -0.01904595,  0.00755059,  0.03107289,\n",
              "        -0.02965492,  0.00232191, -0.02934177,  0.03784079,  0.00974189],\n",
              "       [-0.01953837,  0.02070374, -0.02850747,  0.00526883, -0.01593364,\n",
              "         0.03305098,  0.02547958, -0.00278129, -0.03752571,  0.00807738],\n",
              "       [-0.03087953,  0.04909914,  0.01874563,  0.000818  , -0.01540507,\n",
              "         0.0341221 ,  0.02663921,  0.0134698 ,  0.006727  , -0.04968448]],\n",
              "      dtype=float32)"
            ]
          },
          "metadata": {},
          "execution_count": 23
        }
      ]
    },
    {
      "cell_type": "markdown",
      "source": [
        "\n",
        "---\n",
        "\n",
        "# LSTM Prac"
      ],
      "metadata": {
        "id": "xzWQOR6cmaN6"
      }
    },
    {
      "cell_type": "code",
      "source": [
        "from google.colab import drive\n",
        "drive.mount('/content/drive')"
      ],
      "metadata": {
        "colab": {
          "base_uri": "https://localhost:8080/"
        },
        "id": "DOqig40yqbvn",
        "outputId": "8da03db2-bdee-4522-fb29-4265580bc41a"
      },
      "execution_count": 1,
      "outputs": [
        {
          "output_type": "stream",
          "name": "stdout",
          "text": [
            "Drive already mounted at /content/drive; to attempt to forcibly remount, call drive.mount(\"/content/drive\", force_remount=True).\n"
          ]
        }
      ]
    },
    {
      "cell_type": "code",
      "source": [
        "import re\n",
        "import nltk\n",
        "import numpy as np\n",
        "import pandas as pd"
      ],
      "metadata": {
        "id": "s1oqXO62AWDh"
      },
      "execution_count": 62,
      "outputs": []
    },
    {
      "cell_type": "code",
      "source": [
        "df_train = pd.read_csv(r'/content/drive/MyDrive/Colab Notebooks/NLP KRISH LIVE SESSION/train.csv')\n",
        "df = df_train.iloc[:,1:]\n",
        "df.head()"
      ],
      "metadata": {
        "colab": {
          "base_uri": "https://localhost:8080/",
          "height": 206
        },
        "id": "xlaa-yRxoUa_",
        "outputId": "53e598d4-5d13-4236-f88c-45a0bd3381f4"
      },
      "execution_count": 63,
      "outputs": [
        {
          "output_type": "execute_result",
          "data": {
            "text/plain": [
              "                                               title              author  \\\n",
              "0  House Dem Aide: We Didn’t Even See Comey’s Let...       Darrell Lucus   \n",
              "1  FLYNN: Hillary Clinton, Big Woman on Campus - ...     Daniel J. Flynn   \n",
              "2                  Why the Truth Might Get You Fired  Consortiumnews.com   \n",
              "3  15 Civilians Killed In Single US Airstrike Hav...     Jessica Purkiss   \n",
              "4  Iranian woman jailed for fictional unpublished...      Howard Portnoy   \n",
              "\n",
              "                                                text  label  \n",
              "0  House Dem Aide: We Didn’t Even See Comey’s Let...      1  \n",
              "1  Ever get the feeling your life circles the rou...      0  \n",
              "2  Why the Truth Might Get You Fired October 29, ...      1  \n",
              "3  Videos 15 Civilians Killed In Single US Airstr...      1  \n",
              "4  Print \\nAn Iranian woman has been sentenced to...      1  "
            ],
            "text/html": [
              "\n",
              "  <div id=\"df-ede5b538-04ec-402d-9333-873d4d7a2dfa\">\n",
              "    <div class=\"colab-df-container\">\n",
              "      <div>\n",
              "<style scoped>\n",
              "    .dataframe tbody tr th:only-of-type {\n",
              "        vertical-align: middle;\n",
              "    }\n",
              "\n",
              "    .dataframe tbody tr th {\n",
              "        vertical-align: top;\n",
              "    }\n",
              "\n",
              "    .dataframe thead th {\n",
              "        text-align: right;\n",
              "    }\n",
              "</style>\n",
              "<table border=\"1\" class=\"dataframe\">\n",
              "  <thead>\n",
              "    <tr style=\"text-align: right;\">\n",
              "      <th></th>\n",
              "      <th>title</th>\n",
              "      <th>author</th>\n",
              "      <th>text</th>\n",
              "      <th>label</th>\n",
              "    </tr>\n",
              "  </thead>\n",
              "  <tbody>\n",
              "    <tr>\n",
              "      <th>0</th>\n",
              "      <td>House Dem Aide: We Didn’t Even See Comey’s Let...</td>\n",
              "      <td>Darrell Lucus</td>\n",
              "      <td>House Dem Aide: We Didn’t Even See Comey’s Let...</td>\n",
              "      <td>1</td>\n",
              "    </tr>\n",
              "    <tr>\n",
              "      <th>1</th>\n",
              "      <td>FLYNN: Hillary Clinton, Big Woman on Campus - ...</td>\n",
              "      <td>Daniel J. Flynn</td>\n",
              "      <td>Ever get the feeling your life circles the rou...</td>\n",
              "      <td>0</td>\n",
              "    </tr>\n",
              "    <tr>\n",
              "      <th>2</th>\n",
              "      <td>Why the Truth Might Get You Fired</td>\n",
              "      <td>Consortiumnews.com</td>\n",
              "      <td>Why the Truth Might Get You Fired October 29, ...</td>\n",
              "      <td>1</td>\n",
              "    </tr>\n",
              "    <tr>\n",
              "      <th>3</th>\n",
              "      <td>15 Civilians Killed In Single US Airstrike Hav...</td>\n",
              "      <td>Jessica Purkiss</td>\n",
              "      <td>Videos 15 Civilians Killed In Single US Airstr...</td>\n",
              "      <td>1</td>\n",
              "    </tr>\n",
              "    <tr>\n",
              "      <th>4</th>\n",
              "      <td>Iranian woman jailed for fictional unpublished...</td>\n",
              "      <td>Howard Portnoy</td>\n",
              "      <td>Print \\nAn Iranian woman has been sentenced to...</td>\n",
              "      <td>1</td>\n",
              "    </tr>\n",
              "  </tbody>\n",
              "</table>\n",
              "</div>\n",
              "      <button class=\"colab-df-convert\" onclick=\"convertToInteractive('df-ede5b538-04ec-402d-9333-873d4d7a2dfa')\"\n",
              "              title=\"Convert this dataframe to an interactive table.\"\n",
              "              style=\"display:none;\">\n",
              "        \n",
              "  <svg xmlns=\"http://www.w3.org/2000/svg\" height=\"24px\"viewBox=\"0 0 24 24\"\n",
              "       width=\"24px\">\n",
              "    <path d=\"M0 0h24v24H0V0z\" fill=\"none\"/>\n",
              "    <path d=\"M18.56 5.44l.94 2.06.94-2.06 2.06-.94-2.06-.94-.94-2.06-.94 2.06-2.06.94zm-11 1L8.5 8.5l.94-2.06 2.06-.94-2.06-.94L8.5 2.5l-.94 2.06-2.06.94zm10 10l.94 2.06.94-2.06 2.06-.94-2.06-.94-.94-2.06-.94 2.06-2.06.94z\"/><path d=\"M17.41 7.96l-1.37-1.37c-.4-.4-.92-.59-1.43-.59-.52 0-1.04.2-1.43.59L10.3 9.45l-7.72 7.72c-.78.78-.78 2.05 0 2.83L4 21.41c.39.39.9.59 1.41.59.51 0 1.02-.2 1.41-.59l7.78-7.78 2.81-2.81c.8-.78.8-2.07 0-2.86zM5.41 20L4 18.59l7.72-7.72 1.47 1.35L5.41 20z\"/>\n",
              "  </svg>\n",
              "      </button>\n",
              "      \n",
              "  <style>\n",
              "    .colab-df-container {\n",
              "      display:flex;\n",
              "      flex-wrap:wrap;\n",
              "      gap: 12px;\n",
              "    }\n",
              "\n",
              "    .colab-df-convert {\n",
              "      background-color: #E8F0FE;\n",
              "      border: none;\n",
              "      border-radius: 50%;\n",
              "      cursor: pointer;\n",
              "      display: none;\n",
              "      fill: #1967D2;\n",
              "      height: 32px;\n",
              "      padding: 0 0 0 0;\n",
              "      width: 32px;\n",
              "    }\n",
              "\n",
              "    .colab-df-convert:hover {\n",
              "      background-color: #E2EBFA;\n",
              "      box-shadow: 0px 1px 2px rgba(60, 64, 67, 0.3), 0px 1px 3px 1px rgba(60, 64, 67, 0.15);\n",
              "      fill: #174EA6;\n",
              "    }\n",
              "\n",
              "    [theme=dark] .colab-df-convert {\n",
              "      background-color: #3B4455;\n",
              "      fill: #D2E3FC;\n",
              "    }\n",
              "\n",
              "    [theme=dark] .colab-df-convert:hover {\n",
              "      background-color: #434B5C;\n",
              "      box-shadow: 0px 1px 3px 1px rgba(0, 0, 0, 0.15);\n",
              "      filter: drop-shadow(0px 1px 2px rgba(0, 0, 0, 0.3));\n",
              "      fill: #FFFFFF;\n",
              "    }\n",
              "  </style>\n",
              "\n",
              "      <script>\n",
              "        const buttonEl =\n",
              "          document.querySelector('#df-ede5b538-04ec-402d-9333-873d4d7a2dfa button.colab-df-convert');\n",
              "        buttonEl.style.display =\n",
              "          google.colab.kernel.accessAllowed ? 'block' : 'none';\n",
              "\n",
              "        async function convertToInteractive(key) {\n",
              "          const element = document.querySelector('#df-ede5b538-04ec-402d-9333-873d4d7a2dfa');\n",
              "          const dataTable =\n",
              "            await google.colab.kernel.invokeFunction('convertToInteractive',\n",
              "                                                     [key], {});\n",
              "          if (!dataTable) return;\n",
              "\n",
              "          const docLinkHtml = 'Like what you see? Visit the ' +\n",
              "            '<a target=\"_blank\" href=https://colab.research.google.com/notebooks/data_table.ipynb>data table notebook</a>'\n",
              "            + ' to learn more about interactive tables.';\n",
              "          element.innerHTML = '';\n",
              "          dataTable['output_type'] = 'display_data';\n",
              "          await google.colab.output.renderOutput(dataTable, element);\n",
              "          const docLink = document.createElement('div');\n",
              "          docLink.innerHTML = docLinkHtml;\n",
              "          element.appendChild(docLink);\n",
              "        }\n",
              "      </script>\n",
              "    </div>\n",
              "  </div>\n",
              "  "
            ]
          },
          "metadata": {},
          "execution_count": 63
        }
      ]
    },
    {
      "cell_type": "code",
      "source": [
        "df_test = pd.read_csv(r'/content/drive/MyDrive/Colab Notebooks/NLP KRISH LIVE SESSION/test.csv')\n",
        "df_test = df_test.iloc[:,1:]\n",
        "df_test"
      ],
      "metadata": {
        "colab": {
          "base_uri": "https://localhost:8080/",
          "height": 424
        },
        "id": "48J132TwpFFJ",
        "outputId": "74742064-b16f-469f-9025-96e61723afcb"
      },
      "execution_count": 64,
      "outputs": [
        {
          "output_type": "execute_result",
          "data": {
            "text/plain": [
              "                                                  title  \\\n",
              "0     Specter of Trump Loosens Tongues, if Not Purse...   \n",
              "1     Russian warships ready to strike terrorists ne...   \n",
              "2     #NoDAPL: Native American Leaders Vow to Stay A...   \n",
              "3     Tim Tebow Will Attempt Another Comeback, This ...   \n",
              "4                       Keiser Report: Meme Wars (E995)   \n",
              "...                                                 ...   \n",
              "5195  The Bangladeshi Traffic Jam That Never Ends - ...   \n",
              "5196  John Kasich Signs One Abortion Bill in Ohio bu...   \n",
              "5197  California Today: What, Exactly, Is in Your Su...   \n",
              "5198  300 US Marines To Be Deployed To Russian Borde...   \n",
              "5199  Awkward Sex, Onscreen and Off - The New York T...   \n",
              "\n",
              "                       author  \\\n",
              "0            David Streitfeld   \n",
              "1                         NaN   \n",
              "2               Common Dreams   \n",
              "3               Daniel Victor   \n",
              "4     Truth Broadcast Network   \n",
              "...                       ...   \n",
              "5195               Jody Rosen   \n",
              "5196      Sheryl Gay Stolberg   \n",
              "5197             Mike McPhate   \n",
              "5198                      NaN   \n",
              "5199              Teddy Wayne   \n",
              "\n",
              "                                                   text  \n",
              "0     PALO ALTO, Calif.  —   After years of scorning...  \n",
              "1     Russian warships ready to strike terrorists ne...  \n",
              "2     Videos #NoDAPL: Native American Leaders Vow to...  \n",
              "3     If at first you don’t succeed, try a different...  \n",
              "4     42 mins ago 1 Views 0 Comments 0 Likes 'For th...  \n",
              "...                                                 ...  \n",
              "5195  Of all the dysfunctions that plague the world’...  \n",
              "5196  WASHINGTON  —   Gov. John Kasich of Ohio on Tu...  \n",
              "5197  Good morning. (Want to get California Today by...  \n",
              "5198  « Previous - Next » 300 US Marines To Be Deplo...  \n",
              "5199  Perhaps you’ve seen the new TV series whose pi...  \n",
              "\n",
              "[5200 rows x 3 columns]"
            ],
            "text/html": [
              "\n",
              "  <div id=\"df-0b694a29-b4a8-48be-89d9-972d0c76f0e0\">\n",
              "    <div class=\"colab-df-container\">\n",
              "      <div>\n",
              "<style scoped>\n",
              "    .dataframe tbody tr th:only-of-type {\n",
              "        vertical-align: middle;\n",
              "    }\n",
              "\n",
              "    .dataframe tbody tr th {\n",
              "        vertical-align: top;\n",
              "    }\n",
              "\n",
              "    .dataframe thead th {\n",
              "        text-align: right;\n",
              "    }\n",
              "</style>\n",
              "<table border=\"1\" class=\"dataframe\">\n",
              "  <thead>\n",
              "    <tr style=\"text-align: right;\">\n",
              "      <th></th>\n",
              "      <th>title</th>\n",
              "      <th>author</th>\n",
              "      <th>text</th>\n",
              "    </tr>\n",
              "  </thead>\n",
              "  <tbody>\n",
              "    <tr>\n",
              "      <th>0</th>\n",
              "      <td>Specter of Trump Loosens Tongues, if Not Purse...</td>\n",
              "      <td>David Streitfeld</td>\n",
              "      <td>PALO ALTO, Calif.  —   After years of scorning...</td>\n",
              "    </tr>\n",
              "    <tr>\n",
              "      <th>1</th>\n",
              "      <td>Russian warships ready to strike terrorists ne...</td>\n",
              "      <td>NaN</td>\n",
              "      <td>Russian warships ready to strike terrorists ne...</td>\n",
              "    </tr>\n",
              "    <tr>\n",
              "      <th>2</th>\n",
              "      <td>#NoDAPL: Native American Leaders Vow to Stay A...</td>\n",
              "      <td>Common Dreams</td>\n",
              "      <td>Videos #NoDAPL: Native American Leaders Vow to...</td>\n",
              "    </tr>\n",
              "    <tr>\n",
              "      <th>3</th>\n",
              "      <td>Tim Tebow Will Attempt Another Comeback, This ...</td>\n",
              "      <td>Daniel Victor</td>\n",
              "      <td>If at first you don’t succeed, try a different...</td>\n",
              "    </tr>\n",
              "    <tr>\n",
              "      <th>4</th>\n",
              "      <td>Keiser Report: Meme Wars (E995)</td>\n",
              "      <td>Truth Broadcast Network</td>\n",
              "      <td>42 mins ago 1 Views 0 Comments 0 Likes 'For th...</td>\n",
              "    </tr>\n",
              "    <tr>\n",
              "      <th>...</th>\n",
              "      <td>...</td>\n",
              "      <td>...</td>\n",
              "      <td>...</td>\n",
              "    </tr>\n",
              "    <tr>\n",
              "      <th>5195</th>\n",
              "      <td>The Bangladeshi Traffic Jam That Never Ends - ...</td>\n",
              "      <td>Jody Rosen</td>\n",
              "      <td>Of all the dysfunctions that plague the world’...</td>\n",
              "    </tr>\n",
              "    <tr>\n",
              "      <th>5196</th>\n",
              "      <td>John Kasich Signs One Abortion Bill in Ohio bu...</td>\n",
              "      <td>Sheryl Gay Stolberg</td>\n",
              "      <td>WASHINGTON  —   Gov. John Kasich of Ohio on Tu...</td>\n",
              "    </tr>\n",
              "    <tr>\n",
              "      <th>5197</th>\n",
              "      <td>California Today: What, Exactly, Is in Your Su...</td>\n",
              "      <td>Mike McPhate</td>\n",
              "      <td>Good morning. (Want to get California Today by...</td>\n",
              "    </tr>\n",
              "    <tr>\n",
              "      <th>5198</th>\n",
              "      <td>300 US Marines To Be Deployed To Russian Borde...</td>\n",
              "      <td>NaN</td>\n",
              "      <td>« Previous - Next » 300 US Marines To Be Deplo...</td>\n",
              "    </tr>\n",
              "    <tr>\n",
              "      <th>5199</th>\n",
              "      <td>Awkward Sex, Onscreen and Off - The New York T...</td>\n",
              "      <td>Teddy Wayne</td>\n",
              "      <td>Perhaps you’ve seen the new TV series whose pi...</td>\n",
              "    </tr>\n",
              "  </tbody>\n",
              "</table>\n",
              "<p>5200 rows × 3 columns</p>\n",
              "</div>\n",
              "      <button class=\"colab-df-convert\" onclick=\"convertToInteractive('df-0b694a29-b4a8-48be-89d9-972d0c76f0e0')\"\n",
              "              title=\"Convert this dataframe to an interactive table.\"\n",
              "              style=\"display:none;\">\n",
              "        \n",
              "  <svg xmlns=\"http://www.w3.org/2000/svg\" height=\"24px\"viewBox=\"0 0 24 24\"\n",
              "       width=\"24px\">\n",
              "    <path d=\"M0 0h24v24H0V0z\" fill=\"none\"/>\n",
              "    <path d=\"M18.56 5.44l.94 2.06.94-2.06 2.06-.94-2.06-.94-.94-2.06-.94 2.06-2.06.94zm-11 1L8.5 8.5l.94-2.06 2.06-.94-2.06-.94L8.5 2.5l-.94 2.06-2.06.94zm10 10l.94 2.06.94-2.06 2.06-.94-2.06-.94-.94-2.06-.94 2.06-2.06.94z\"/><path d=\"M17.41 7.96l-1.37-1.37c-.4-.4-.92-.59-1.43-.59-.52 0-1.04.2-1.43.59L10.3 9.45l-7.72 7.72c-.78.78-.78 2.05 0 2.83L4 21.41c.39.39.9.59 1.41.59.51 0 1.02-.2 1.41-.59l7.78-7.78 2.81-2.81c.8-.78.8-2.07 0-2.86zM5.41 20L4 18.59l7.72-7.72 1.47 1.35L5.41 20z\"/>\n",
              "  </svg>\n",
              "      </button>\n",
              "      \n",
              "  <style>\n",
              "    .colab-df-container {\n",
              "      display:flex;\n",
              "      flex-wrap:wrap;\n",
              "      gap: 12px;\n",
              "    }\n",
              "\n",
              "    .colab-df-convert {\n",
              "      background-color: #E8F0FE;\n",
              "      border: none;\n",
              "      border-radius: 50%;\n",
              "      cursor: pointer;\n",
              "      display: none;\n",
              "      fill: #1967D2;\n",
              "      height: 32px;\n",
              "      padding: 0 0 0 0;\n",
              "      width: 32px;\n",
              "    }\n",
              "\n",
              "    .colab-df-convert:hover {\n",
              "      background-color: #E2EBFA;\n",
              "      box-shadow: 0px 1px 2px rgba(60, 64, 67, 0.3), 0px 1px 3px 1px rgba(60, 64, 67, 0.15);\n",
              "      fill: #174EA6;\n",
              "    }\n",
              "\n",
              "    [theme=dark] .colab-df-convert {\n",
              "      background-color: #3B4455;\n",
              "      fill: #D2E3FC;\n",
              "    }\n",
              "\n",
              "    [theme=dark] .colab-df-convert:hover {\n",
              "      background-color: #434B5C;\n",
              "      box-shadow: 0px 1px 3px 1px rgba(0, 0, 0, 0.15);\n",
              "      filter: drop-shadow(0px 1px 2px rgba(0, 0, 0, 0.3));\n",
              "      fill: #FFFFFF;\n",
              "    }\n",
              "  </style>\n",
              "\n",
              "      <script>\n",
              "        const buttonEl =\n",
              "          document.querySelector('#df-0b694a29-b4a8-48be-89d9-972d0c76f0e0 button.colab-df-convert');\n",
              "        buttonEl.style.display =\n",
              "          google.colab.kernel.accessAllowed ? 'block' : 'none';\n",
              "\n",
              "        async function convertToInteractive(key) {\n",
              "          const element = document.querySelector('#df-0b694a29-b4a8-48be-89d9-972d0c76f0e0');\n",
              "          const dataTable =\n",
              "            await google.colab.kernel.invokeFunction('convertToInteractive',\n",
              "                                                     [key], {});\n",
              "          if (!dataTable) return;\n",
              "\n",
              "          const docLinkHtml = 'Like what you see? Visit the ' +\n",
              "            '<a target=\"_blank\" href=https://colab.research.google.com/notebooks/data_table.ipynb>data table notebook</a>'\n",
              "            + ' to learn more about interactive tables.';\n",
              "          element.innerHTML = '';\n",
              "          dataTable['output_type'] = 'display_data';\n",
              "          await google.colab.output.renderOutput(dataTable, element);\n",
              "          const docLink = document.createElement('div');\n",
              "          docLink.innerHTML = docLinkHtml;\n",
              "          element.appendChild(docLink);\n",
              "        }\n",
              "      </script>\n",
              "    </div>\n",
              "  </div>\n",
              "  "
            ]
          },
          "metadata": {},
          "execution_count": 64
        }
      ]
    },
    {
      "cell_type": "code",
      "source": [
        "df.isna().sum()"
      ],
      "metadata": {
        "colab": {
          "base_uri": "https://localhost:8080/"
        },
        "id": "iBHjMoew32Bg",
        "outputId": "8376d90e-3150-494c-eb4c-4ce9d0978cbd"
      },
      "execution_count": 65,
      "outputs": [
        {
          "output_type": "execute_result",
          "data": {
            "text/plain": [
              "title      558\n",
              "author    1957\n",
              "text        39\n",
              "label        0\n",
              "dtype: int64"
            ]
          },
          "metadata": {},
          "execution_count": 65
        }
      ]
    },
    {
      "cell_type": "code",
      "source": [
        "df = df.dropna()\n",
        "df.head()"
      ],
      "metadata": {
        "colab": {
          "base_uri": "https://localhost:8080/",
          "height": 206
        },
        "id": "ujDLdl0J4sCV",
        "outputId": "b82e8af4-b70a-4c74-8a8f-426e8fa7429f"
      },
      "execution_count": 66,
      "outputs": [
        {
          "output_type": "execute_result",
          "data": {
            "text/plain": [
              "                                               title              author  \\\n",
              "0  House Dem Aide: We Didn’t Even See Comey’s Let...       Darrell Lucus   \n",
              "1  FLYNN: Hillary Clinton, Big Woman on Campus - ...     Daniel J. Flynn   \n",
              "2                  Why the Truth Might Get You Fired  Consortiumnews.com   \n",
              "3  15 Civilians Killed In Single US Airstrike Hav...     Jessica Purkiss   \n",
              "4  Iranian woman jailed for fictional unpublished...      Howard Portnoy   \n",
              "\n",
              "                                                text  label  \n",
              "0  House Dem Aide: We Didn’t Even See Comey’s Let...      1  \n",
              "1  Ever get the feeling your life circles the rou...      0  \n",
              "2  Why the Truth Might Get You Fired October 29, ...      1  \n",
              "3  Videos 15 Civilians Killed In Single US Airstr...      1  \n",
              "4  Print \\nAn Iranian woman has been sentenced to...      1  "
            ],
            "text/html": [
              "\n",
              "  <div id=\"df-8b4e4cb7-2855-4bf3-a872-cadc78b8e833\">\n",
              "    <div class=\"colab-df-container\">\n",
              "      <div>\n",
              "<style scoped>\n",
              "    .dataframe tbody tr th:only-of-type {\n",
              "        vertical-align: middle;\n",
              "    }\n",
              "\n",
              "    .dataframe tbody tr th {\n",
              "        vertical-align: top;\n",
              "    }\n",
              "\n",
              "    .dataframe thead th {\n",
              "        text-align: right;\n",
              "    }\n",
              "</style>\n",
              "<table border=\"1\" class=\"dataframe\">\n",
              "  <thead>\n",
              "    <tr style=\"text-align: right;\">\n",
              "      <th></th>\n",
              "      <th>title</th>\n",
              "      <th>author</th>\n",
              "      <th>text</th>\n",
              "      <th>label</th>\n",
              "    </tr>\n",
              "  </thead>\n",
              "  <tbody>\n",
              "    <tr>\n",
              "      <th>0</th>\n",
              "      <td>House Dem Aide: We Didn’t Even See Comey’s Let...</td>\n",
              "      <td>Darrell Lucus</td>\n",
              "      <td>House Dem Aide: We Didn’t Even See Comey’s Let...</td>\n",
              "      <td>1</td>\n",
              "    </tr>\n",
              "    <tr>\n",
              "      <th>1</th>\n",
              "      <td>FLYNN: Hillary Clinton, Big Woman on Campus - ...</td>\n",
              "      <td>Daniel J. Flynn</td>\n",
              "      <td>Ever get the feeling your life circles the rou...</td>\n",
              "      <td>0</td>\n",
              "    </tr>\n",
              "    <tr>\n",
              "      <th>2</th>\n",
              "      <td>Why the Truth Might Get You Fired</td>\n",
              "      <td>Consortiumnews.com</td>\n",
              "      <td>Why the Truth Might Get You Fired October 29, ...</td>\n",
              "      <td>1</td>\n",
              "    </tr>\n",
              "    <tr>\n",
              "      <th>3</th>\n",
              "      <td>15 Civilians Killed In Single US Airstrike Hav...</td>\n",
              "      <td>Jessica Purkiss</td>\n",
              "      <td>Videos 15 Civilians Killed In Single US Airstr...</td>\n",
              "      <td>1</td>\n",
              "    </tr>\n",
              "    <tr>\n",
              "      <th>4</th>\n",
              "      <td>Iranian woman jailed for fictional unpublished...</td>\n",
              "      <td>Howard Portnoy</td>\n",
              "      <td>Print \\nAn Iranian woman has been sentenced to...</td>\n",
              "      <td>1</td>\n",
              "    </tr>\n",
              "  </tbody>\n",
              "</table>\n",
              "</div>\n",
              "      <button class=\"colab-df-convert\" onclick=\"convertToInteractive('df-8b4e4cb7-2855-4bf3-a872-cadc78b8e833')\"\n",
              "              title=\"Convert this dataframe to an interactive table.\"\n",
              "              style=\"display:none;\">\n",
              "        \n",
              "  <svg xmlns=\"http://www.w3.org/2000/svg\" height=\"24px\"viewBox=\"0 0 24 24\"\n",
              "       width=\"24px\">\n",
              "    <path d=\"M0 0h24v24H0V0z\" fill=\"none\"/>\n",
              "    <path d=\"M18.56 5.44l.94 2.06.94-2.06 2.06-.94-2.06-.94-.94-2.06-.94 2.06-2.06.94zm-11 1L8.5 8.5l.94-2.06 2.06-.94-2.06-.94L8.5 2.5l-.94 2.06-2.06.94zm10 10l.94 2.06.94-2.06 2.06-.94-2.06-.94-.94-2.06-.94 2.06-2.06.94z\"/><path d=\"M17.41 7.96l-1.37-1.37c-.4-.4-.92-.59-1.43-.59-.52 0-1.04.2-1.43.59L10.3 9.45l-7.72 7.72c-.78.78-.78 2.05 0 2.83L4 21.41c.39.39.9.59 1.41.59.51 0 1.02-.2 1.41-.59l7.78-7.78 2.81-2.81c.8-.78.8-2.07 0-2.86zM5.41 20L4 18.59l7.72-7.72 1.47 1.35L5.41 20z\"/>\n",
              "  </svg>\n",
              "      </button>\n",
              "      \n",
              "  <style>\n",
              "    .colab-df-container {\n",
              "      display:flex;\n",
              "      flex-wrap:wrap;\n",
              "      gap: 12px;\n",
              "    }\n",
              "\n",
              "    .colab-df-convert {\n",
              "      background-color: #E8F0FE;\n",
              "      border: none;\n",
              "      border-radius: 50%;\n",
              "      cursor: pointer;\n",
              "      display: none;\n",
              "      fill: #1967D2;\n",
              "      height: 32px;\n",
              "      padding: 0 0 0 0;\n",
              "      width: 32px;\n",
              "    }\n",
              "\n",
              "    .colab-df-convert:hover {\n",
              "      background-color: #E2EBFA;\n",
              "      box-shadow: 0px 1px 2px rgba(60, 64, 67, 0.3), 0px 1px 3px 1px rgba(60, 64, 67, 0.15);\n",
              "      fill: #174EA6;\n",
              "    }\n",
              "\n",
              "    [theme=dark] .colab-df-convert {\n",
              "      background-color: #3B4455;\n",
              "      fill: #D2E3FC;\n",
              "    }\n",
              "\n",
              "    [theme=dark] .colab-df-convert:hover {\n",
              "      background-color: #434B5C;\n",
              "      box-shadow: 0px 1px 3px 1px rgba(0, 0, 0, 0.15);\n",
              "      filter: drop-shadow(0px 1px 2px rgba(0, 0, 0, 0.3));\n",
              "      fill: #FFFFFF;\n",
              "    }\n",
              "  </style>\n",
              "\n",
              "      <script>\n",
              "        const buttonEl =\n",
              "          document.querySelector('#df-8b4e4cb7-2855-4bf3-a872-cadc78b8e833 button.colab-df-convert');\n",
              "        buttonEl.style.display =\n",
              "          google.colab.kernel.accessAllowed ? 'block' : 'none';\n",
              "\n",
              "        async function convertToInteractive(key) {\n",
              "          const element = document.querySelector('#df-8b4e4cb7-2855-4bf3-a872-cadc78b8e833');\n",
              "          const dataTable =\n",
              "            await google.colab.kernel.invokeFunction('convertToInteractive',\n",
              "                                                     [key], {});\n",
              "          if (!dataTable) return;\n",
              "\n",
              "          const docLinkHtml = 'Like what you see? Visit the ' +\n",
              "            '<a target=\"_blank\" href=https://colab.research.google.com/notebooks/data_table.ipynb>data table notebook</a>'\n",
              "            + ' to learn more about interactive tables.';\n",
              "          element.innerHTML = '';\n",
              "          dataTable['output_type'] = 'display_data';\n",
              "          await google.colab.output.renderOutput(dataTable, element);\n",
              "          const docLink = document.createElement('div');\n",
              "          docLink.innerHTML = docLinkHtml;\n",
              "          element.appendChild(docLink);\n",
              "        }\n",
              "      </script>\n",
              "    </div>\n",
              "  </div>\n",
              "  "
            ]
          },
          "metadata": {},
          "execution_count": 66
        }
      ]
    },
    {
      "cell_type": "code",
      "source": [
        "df.reset_index(inplace=True)\n",
        "\n",
        "df = df.iloc[:,1:]\n",
        "df"
      ],
      "metadata": {
        "colab": {
          "base_uri": "https://localhost:8080/",
          "height": 468
        },
        "id": "zAPPpxhdWG1R",
        "outputId": "dc6418ab-7eda-4648-cb41-f9ece31e4881"
      },
      "execution_count": 67,
      "outputs": [
        {
          "output_type": "execute_result",
          "data": {
            "text/plain": [
              "                                                   title  \\\n",
              "0      House Dem Aide: We Didn’t Even See Comey’s Let...   \n",
              "1      FLYNN: Hillary Clinton, Big Woman on Campus - ...   \n",
              "2                      Why the Truth Might Get You Fired   \n",
              "3      15 Civilians Killed In Single US Airstrike Hav...   \n",
              "4      Iranian woman jailed for fictional unpublished...   \n",
              "...                                                  ...   \n",
              "18280  Rapper T.I.: Trump a ’Poster Child For White S...   \n",
              "18281  N.F.L. Playoffs: Schedule, Matchups and Odds -...   \n",
              "18282  Macy’s Is Said to Receive Takeover Approach by...   \n",
              "18283  NATO, Russia To Hold Parallel Exercises In Bal...   \n",
              "18284                          What Keeps the F-35 Alive   \n",
              "\n",
              "                                          author  \\\n",
              "0                                  Darrell Lucus   \n",
              "1                                Daniel J. Flynn   \n",
              "2                             Consortiumnews.com   \n",
              "3                                Jessica Purkiss   \n",
              "4                                 Howard Portnoy   \n",
              "...                                          ...   \n",
              "18280                              Jerome Hudson   \n",
              "18281                           Benjamin Hoffman   \n",
              "18282  Michael J. de la Merced and Rachel Abrams   \n",
              "18283                                Alex Ansary   \n",
              "18284                              David Swanson   \n",
              "\n",
              "                                                    text  label  \n",
              "0      House Dem Aide: We Didn’t Even See Comey’s Let...      1  \n",
              "1      Ever get the feeling your life circles the rou...      0  \n",
              "2      Why the Truth Might Get You Fired October 29, ...      1  \n",
              "3      Videos 15 Civilians Killed In Single US Airstr...      1  \n",
              "4      Print \\nAn Iranian woman has been sentenced to...      1  \n",
              "...                                                  ...    ...  \n",
              "18280  Rapper T. I. unloaded on black celebrities who...      0  \n",
              "18281  When the Green Bay Packers lost to the Washing...      0  \n",
              "18282  The Macy’s of today grew from the union of sev...      0  \n",
              "18283  NATO, Russia To Hold Parallel Exercises In Bal...      1  \n",
              "18284    David Swanson is an author, activist, journa...      1  \n",
              "\n",
              "[18285 rows x 4 columns]"
            ],
            "text/html": [
              "\n",
              "  <div id=\"df-81ba588e-3ed3-4a5e-81fc-dfb9d8ea5982\">\n",
              "    <div class=\"colab-df-container\">\n",
              "      <div>\n",
              "<style scoped>\n",
              "    .dataframe tbody tr th:only-of-type {\n",
              "        vertical-align: middle;\n",
              "    }\n",
              "\n",
              "    .dataframe tbody tr th {\n",
              "        vertical-align: top;\n",
              "    }\n",
              "\n",
              "    .dataframe thead th {\n",
              "        text-align: right;\n",
              "    }\n",
              "</style>\n",
              "<table border=\"1\" class=\"dataframe\">\n",
              "  <thead>\n",
              "    <tr style=\"text-align: right;\">\n",
              "      <th></th>\n",
              "      <th>title</th>\n",
              "      <th>author</th>\n",
              "      <th>text</th>\n",
              "      <th>label</th>\n",
              "    </tr>\n",
              "  </thead>\n",
              "  <tbody>\n",
              "    <tr>\n",
              "      <th>0</th>\n",
              "      <td>House Dem Aide: We Didn’t Even See Comey’s Let...</td>\n",
              "      <td>Darrell Lucus</td>\n",
              "      <td>House Dem Aide: We Didn’t Even See Comey’s Let...</td>\n",
              "      <td>1</td>\n",
              "    </tr>\n",
              "    <tr>\n",
              "      <th>1</th>\n",
              "      <td>FLYNN: Hillary Clinton, Big Woman on Campus - ...</td>\n",
              "      <td>Daniel J. Flynn</td>\n",
              "      <td>Ever get the feeling your life circles the rou...</td>\n",
              "      <td>0</td>\n",
              "    </tr>\n",
              "    <tr>\n",
              "      <th>2</th>\n",
              "      <td>Why the Truth Might Get You Fired</td>\n",
              "      <td>Consortiumnews.com</td>\n",
              "      <td>Why the Truth Might Get You Fired October 29, ...</td>\n",
              "      <td>1</td>\n",
              "    </tr>\n",
              "    <tr>\n",
              "      <th>3</th>\n",
              "      <td>15 Civilians Killed In Single US Airstrike Hav...</td>\n",
              "      <td>Jessica Purkiss</td>\n",
              "      <td>Videos 15 Civilians Killed In Single US Airstr...</td>\n",
              "      <td>1</td>\n",
              "    </tr>\n",
              "    <tr>\n",
              "      <th>4</th>\n",
              "      <td>Iranian woman jailed for fictional unpublished...</td>\n",
              "      <td>Howard Portnoy</td>\n",
              "      <td>Print \\nAn Iranian woman has been sentenced to...</td>\n",
              "      <td>1</td>\n",
              "    </tr>\n",
              "    <tr>\n",
              "      <th>...</th>\n",
              "      <td>...</td>\n",
              "      <td>...</td>\n",
              "      <td>...</td>\n",
              "      <td>...</td>\n",
              "    </tr>\n",
              "    <tr>\n",
              "      <th>18280</th>\n",
              "      <td>Rapper T.I.: Trump a ’Poster Child For White S...</td>\n",
              "      <td>Jerome Hudson</td>\n",
              "      <td>Rapper T. I. unloaded on black celebrities who...</td>\n",
              "      <td>0</td>\n",
              "    </tr>\n",
              "    <tr>\n",
              "      <th>18281</th>\n",
              "      <td>N.F.L. Playoffs: Schedule, Matchups and Odds -...</td>\n",
              "      <td>Benjamin Hoffman</td>\n",
              "      <td>When the Green Bay Packers lost to the Washing...</td>\n",
              "      <td>0</td>\n",
              "    </tr>\n",
              "    <tr>\n",
              "      <th>18282</th>\n",
              "      <td>Macy’s Is Said to Receive Takeover Approach by...</td>\n",
              "      <td>Michael J. de la Merced and Rachel Abrams</td>\n",
              "      <td>The Macy’s of today grew from the union of sev...</td>\n",
              "      <td>0</td>\n",
              "    </tr>\n",
              "    <tr>\n",
              "      <th>18283</th>\n",
              "      <td>NATO, Russia To Hold Parallel Exercises In Bal...</td>\n",
              "      <td>Alex Ansary</td>\n",
              "      <td>NATO, Russia To Hold Parallel Exercises In Bal...</td>\n",
              "      <td>1</td>\n",
              "    </tr>\n",
              "    <tr>\n",
              "      <th>18284</th>\n",
              "      <td>What Keeps the F-35 Alive</td>\n",
              "      <td>David Swanson</td>\n",
              "      <td>David Swanson is an author, activist, journa...</td>\n",
              "      <td>1</td>\n",
              "    </tr>\n",
              "  </tbody>\n",
              "</table>\n",
              "<p>18285 rows × 4 columns</p>\n",
              "</div>\n",
              "      <button class=\"colab-df-convert\" onclick=\"convertToInteractive('df-81ba588e-3ed3-4a5e-81fc-dfb9d8ea5982')\"\n",
              "              title=\"Convert this dataframe to an interactive table.\"\n",
              "              style=\"display:none;\">\n",
              "        \n",
              "  <svg xmlns=\"http://www.w3.org/2000/svg\" height=\"24px\"viewBox=\"0 0 24 24\"\n",
              "       width=\"24px\">\n",
              "    <path d=\"M0 0h24v24H0V0z\" fill=\"none\"/>\n",
              "    <path d=\"M18.56 5.44l.94 2.06.94-2.06 2.06-.94-2.06-.94-.94-2.06-.94 2.06-2.06.94zm-11 1L8.5 8.5l.94-2.06 2.06-.94-2.06-.94L8.5 2.5l-.94 2.06-2.06.94zm10 10l.94 2.06.94-2.06 2.06-.94-2.06-.94-.94-2.06-.94 2.06-2.06.94z\"/><path d=\"M17.41 7.96l-1.37-1.37c-.4-.4-.92-.59-1.43-.59-.52 0-1.04.2-1.43.59L10.3 9.45l-7.72 7.72c-.78.78-.78 2.05 0 2.83L4 21.41c.39.39.9.59 1.41.59.51 0 1.02-.2 1.41-.59l7.78-7.78 2.81-2.81c.8-.78.8-2.07 0-2.86zM5.41 20L4 18.59l7.72-7.72 1.47 1.35L5.41 20z\"/>\n",
              "  </svg>\n",
              "      </button>\n",
              "      \n",
              "  <style>\n",
              "    .colab-df-container {\n",
              "      display:flex;\n",
              "      flex-wrap:wrap;\n",
              "      gap: 12px;\n",
              "    }\n",
              "\n",
              "    .colab-df-convert {\n",
              "      background-color: #E8F0FE;\n",
              "      border: none;\n",
              "      border-radius: 50%;\n",
              "      cursor: pointer;\n",
              "      display: none;\n",
              "      fill: #1967D2;\n",
              "      height: 32px;\n",
              "      padding: 0 0 0 0;\n",
              "      width: 32px;\n",
              "    }\n",
              "\n",
              "    .colab-df-convert:hover {\n",
              "      background-color: #E2EBFA;\n",
              "      box-shadow: 0px 1px 2px rgba(60, 64, 67, 0.3), 0px 1px 3px 1px rgba(60, 64, 67, 0.15);\n",
              "      fill: #174EA6;\n",
              "    }\n",
              "\n",
              "    [theme=dark] .colab-df-convert {\n",
              "      background-color: #3B4455;\n",
              "      fill: #D2E3FC;\n",
              "    }\n",
              "\n",
              "    [theme=dark] .colab-df-convert:hover {\n",
              "      background-color: #434B5C;\n",
              "      box-shadow: 0px 1px 3px 1px rgba(0, 0, 0, 0.15);\n",
              "      filter: drop-shadow(0px 1px 2px rgba(0, 0, 0, 0.3));\n",
              "      fill: #FFFFFF;\n",
              "    }\n",
              "  </style>\n",
              "\n",
              "      <script>\n",
              "        const buttonEl =\n",
              "          document.querySelector('#df-81ba588e-3ed3-4a5e-81fc-dfb9d8ea5982 button.colab-df-convert');\n",
              "        buttonEl.style.display =\n",
              "          google.colab.kernel.accessAllowed ? 'block' : 'none';\n",
              "\n",
              "        async function convertToInteractive(key) {\n",
              "          const element = document.querySelector('#df-81ba588e-3ed3-4a5e-81fc-dfb9d8ea5982');\n",
              "          const dataTable =\n",
              "            await google.colab.kernel.invokeFunction('convertToInteractive',\n",
              "                                                     [key], {});\n",
              "          if (!dataTable) return;\n",
              "\n",
              "          const docLinkHtml = 'Like what you see? Visit the ' +\n",
              "            '<a target=\"_blank\" href=https://colab.research.google.com/notebooks/data_table.ipynb>data table notebook</a>'\n",
              "            + ' to learn more about interactive tables.';\n",
              "          element.innerHTML = '';\n",
              "          dataTable['output_type'] = 'display_data';\n",
              "          await google.colab.output.renderOutput(dataTable, element);\n",
              "          const docLink = document.createElement('div');\n",
              "          docLink.innerHTML = docLinkHtml;\n",
              "          element.appendChild(docLink);\n",
              "        }\n",
              "      </script>\n",
              "    </div>\n",
              "  </div>\n",
              "  "
            ]
          },
          "metadata": {},
          "execution_count": 67
        }
      ]
    },
    {
      "cell_type": "code",
      "source": [
        "df.info()"
      ],
      "metadata": {
        "colab": {
          "base_uri": "https://localhost:8080/"
        },
        "id": "hZavS4CAXZgL",
        "outputId": "23273177-8313-48b0-92df-7825e3d4d807"
      },
      "execution_count": 68,
      "outputs": [
        {
          "output_type": "stream",
          "name": "stdout",
          "text": [
            "<class 'pandas.core.frame.DataFrame'>\n",
            "RangeIndex: 18285 entries, 0 to 18284\n",
            "Data columns (total 4 columns):\n",
            " #   Column  Non-Null Count  Dtype \n",
            "---  ------  --------------  ----- \n",
            " 0   title   18285 non-null  object\n",
            " 1   author  18285 non-null  object\n",
            " 2   text    18285 non-null  object\n",
            " 3   label   18285 non-null  int64 \n",
            "dtypes: int64(1), object(3)\n",
            "memory usage: 571.5+ KB\n"
          ]
        }
      ]
    },
    {
      "cell_type": "code",
      "source": [
        "X = df.drop(['label', 'author', 'text'],axis=1)\n",
        "y = df['label']"
      ],
      "metadata": {
        "id": "xtCKXb8j6agG"
      },
      "execution_count": 72,
      "outputs": []
    },
    {
      "cell_type": "code",
      "source": [
        "X"
      ],
      "metadata": {
        "colab": {
          "base_uri": "https://localhost:8080/",
          "height": 424
        },
        "id": "2BDJ_lHfXg3O",
        "outputId": "4dfa8ba0-3737-4883-dbbc-8c608ca91d9b"
      },
      "execution_count": 73,
      "outputs": [
        {
          "output_type": "execute_result",
          "data": {
            "text/plain": [
              "                                                   title\n",
              "0      House Dem Aide: We Didn’t Even See Comey’s Let...\n",
              "1      FLYNN: Hillary Clinton, Big Woman on Campus - ...\n",
              "2                      Why the Truth Might Get You Fired\n",
              "3      15 Civilians Killed In Single US Airstrike Hav...\n",
              "4      Iranian woman jailed for fictional unpublished...\n",
              "...                                                  ...\n",
              "18280  Rapper T.I.: Trump a ’Poster Child For White S...\n",
              "18281  N.F.L. Playoffs: Schedule, Matchups and Odds -...\n",
              "18282  Macy’s Is Said to Receive Takeover Approach by...\n",
              "18283  NATO, Russia To Hold Parallel Exercises In Bal...\n",
              "18284                          What Keeps the F-35 Alive\n",
              "\n",
              "[18285 rows x 1 columns]"
            ],
            "text/html": [
              "\n",
              "  <div id=\"df-3a8c6739-b3c4-4329-8fcc-df6f247fe088\">\n",
              "    <div class=\"colab-df-container\">\n",
              "      <div>\n",
              "<style scoped>\n",
              "    .dataframe tbody tr th:only-of-type {\n",
              "        vertical-align: middle;\n",
              "    }\n",
              "\n",
              "    .dataframe tbody tr th {\n",
              "        vertical-align: top;\n",
              "    }\n",
              "\n",
              "    .dataframe thead th {\n",
              "        text-align: right;\n",
              "    }\n",
              "</style>\n",
              "<table border=\"1\" class=\"dataframe\">\n",
              "  <thead>\n",
              "    <tr style=\"text-align: right;\">\n",
              "      <th></th>\n",
              "      <th>title</th>\n",
              "    </tr>\n",
              "  </thead>\n",
              "  <tbody>\n",
              "    <tr>\n",
              "      <th>0</th>\n",
              "      <td>House Dem Aide: We Didn’t Even See Comey’s Let...</td>\n",
              "    </tr>\n",
              "    <tr>\n",
              "      <th>1</th>\n",
              "      <td>FLYNN: Hillary Clinton, Big Woman on Campus - ...</td>\n",
              "    </tr>\n",
              "    <tr>\n",
              "      <th>2</th>\n",
              "      <td>Why the Truth Might Get You Fired</td>\n",
              "    </tr>\n",
              "    <tr>\n",
              "      <th>3</th>\n",
              "      <td>15 Civilians Killed In Single US Airstrike Hav...</td>\n",
              "    </tr>\n",
              "    <tr>\n",
              "      <th>4</th>\n",
              "      <td>Iranian woman jailed for fictional unpublished...</td>\n",
              "    </tr>\n",
              "    <tr>\n",
              "      <th>...</th>\n",
              "      <td>...</td>\n",
              "    </tr>\n",
              "    <tr>\n",
              "      <th>18280</th>\n",
              "      <td>Rapper T.I.: Trump a ’Poster Child For White S...</td>\n",
              "    </tr>\n",
              "    <tr>\n",
              "      <th>18281</th>\n",
              "      <td>N.F.L. Playoffs: Schedule, Matchups and Odds -...</td>\n",
              "    </tr>\n",
              "    <tr>\n",
              "      <th>18282</th>\n",
              "      <td>Macy’s Is Said to Receive Takeover Approach by...</td>\n",
              "    </tr>\n",
              "    <tr>\n",
              "      <th>18283</th>\n",
              "      <td>NATO, Russia To Hold Parallel Exercises In Bal...</td>\n",
              "    </tr>\n",
              "    <tr>\n",
              "      <th>18284</th>\n",
              "      <td>What Keeps the F-35 Alive</td>\n",
              "    </tr>\n",
              "  </tbody>\n",
              "</table>\n",
              "<p>18285 rows × 1 columns</p>\n",
              "</div>\n",
              "      <button class=\"colab-df-convert\" onclick=\"convertToInteractive('df-3a8c6739-b3c4-4329-8fcc-df6f247fe088')\"\n",
              "              title=\"Convert this dataframe to an interactive table.\"\n",
              "              style=\"display:none;\">\n",
              "        \n",
              "  <svg xmlns=\"http://www.w3.org/2000/svg\" height=\"24px\"viewBox=\"0 0 24 24\"\n",
              "       width=\"24px\">\n",
              "    <path d=\"M0 0h24v24H0V0z\" fill=\"none\"/>\n",
              "    <path d=\"M18.56 5.44l.94 2.06.94-2.06 2.06-.94-2.06-.94-.94-2.06-.94 2.06-2.06.94zm-11 1L8.5 8.5l.94-2.06 2.06-.94-2.06-.94L8.5 2.5l-.94 2.06-2.06.94zm10 10l.94 2.06.94-2.06 2.06-.94-2.06-.94-.94-2.06-.94 2.06-2.06.94z\"/><path d=\"M17.41 7.96l-1.37-1.37c-.4-.4-.92-.59-1.43-.59-.52 0-1.04.2-1.43.59L10.3 9.45l-7.72 7.72c-.78.78-.78 2.05 0 2.83L4 21.41c.39.39.9.59 1.41.59.51 0 1.02-.2 1.41-.59l7.78-7.78 2.81-2.81c.8-.78.8-2.07 0-2.86zM5.41 20L4 18.59l7.72-7.72 1.47 1.35L5.41 20z\"/>\n",
              "  </svg>\n",
              "      </button>\n",
              "      \n",
              "  <style>\n",
              "    .colab-df-container {\n",
              "      display:flex;\n",
              "      flex-wrap:wrap;\n",
              "      gap: 12px;\n",
              "    }\n",
              "\n",
              "    .colab-df-convert {\n",
              "      background-color: #E8F0FE;\n",
              "      border: none;\n",
              "      border-radius: 50%;\n",
              "      cursor: pointer;\n",
              "      display: none;\n",
              "      fill: #1967D2;\n",
              "      height: 32px;\n",
              "      padding: 0 0 0 0;\n",
              "      width: 32px;\n",
              "    }\n",
              "\n",
              "    .colab-df-convert:hover {\n",
              "      background-color: #E2EBFA;\n",
              "      box-shadow: 0px 1px 2px rgba(60, 64, 67, 0.3), 0px 1px 3px 1px rgba(60, 64, 67, 0.15);\n",
              "      fill: #174EA6;\n",
              "    }\n",
              "\n",
              "    [theme=dark] .colab-df-convert {\n",
              "      background-color: #3B4455;\n",
              "      fill: #D2E3FC;\n",
              "    }\n",
              "\n",
              "    [theme=dark] .colab-df-convert:hover {\n",
              "      background-color: #434B5C;\n",
              "      box-shadow: 0px 1px 3px 1px rgba(0, 0, 0, 0.15);\n",
              "      filter: drop-shadow(0px 1px 2px rgba(0, 0, 0, 0.3));\n",
              "      fill: #FFFFFF;\n",
              "    }\n",
              "  </style>\n",
              "\n",
              "      <script>\n",
              "        const buttonEl =\n",
              "          document.querySelector('#df-3a8c6739-b3c4-4329-8fcc-df6f247fe088 button.colab-df-convert');\n",
              "        buttonEl.style.display =\n",
              "          google.colab.kernel.accessAllowed ? 'block' : 'none';\n",
              "\n",
              "        async function convertToInteractive(key) {\n",
              "          const element = document.querySelector('#df-3a8c6739-b3c4-4329-8fcc-df6f247fe088');\n",
              "          const dataTable =\n",
              "            await google.colab.kernel.invokeFunction('convertToInteractive',\n",
              "                                                     [key], {});\n",
              "          if (!dataTable) return;\n",
              "\n",
              "          const docLinkHtml = 'Like what you see? Visit the ' +\n",
              "            '<a target=\"_blank\" href=https://colab.research.google.com/notebooks/data_table.ipynb>data table notebook</a>'\n",
              "            + ' to learn more about interactive tables.';\n",
              "          element.innerHTML = '';\n",
              "          dataTable['output_type'] = 'display_data';\n",
              "          await google.colab.output.renderOutput(dataTable, element);\n",
              "          const docLink = document.createElement('div');\n",
              "          docLink.innerHTML = docLinkHtml;\n",
              "          element.appendChild(docLink);\n",
              "        }\n",
              "      </script>\n",
              "    </div>\n",
              "  </div>\n",
              "  "
            ]
          },
          "metadata": {},
          "execution_count": 73
        }
      ]
    },
    {
      "cell_type": "code",
      "source": [
        "y"
      ],
      "metadata": {
        "colab": {
          "base_uri": "https://localhost:8080/"
        },
        "id": "Jpw5St-qXiRq",
        "outputId": "81556b8f-c624-4536-e05e-ffa774081517"
      },
      "execution_count": 74,
      "outputs": [
        {
          "output_type": "execute_result",
          "data": {
            "text/plain": [
              "0        1\n",
              "1        0\n",
              "2        1\n",
              "3        1\n",
              "4        1\n",
              "        ..\n",
              "18280    0\n",
              "18281    0\n",
              "18282    0\n",
              "18283    1\n",
              "18284    1\n",
              "Name: label, Length: 18285, dtype: int64"
            ]
          },
          "metadata": {},
          "execution_count": 74
        }
      ]
    },
    {
      "cell_type": "code",
      "source": [
        "import tensorflow as tf\n",
        "\n",
        "tf.__version__"
      ],
      "metadata": {
        "colab": {
          "base_uri": "https://localhost:8080/",
          "height": 36
        },
        "id": "j9usXNNb6kul",
        "outputId": "98a419d5-f03e-491d-a1fe-5cae163c9393"
      },
      "execution_count": 75,
      "outputs": [
        {
          "output_type": "execute_result",
          "data": {
            "text/plain": [
              "'2.8.2'"
            ],
            "application/vnd.google.colaboratory.intrinsic+json": {
              "type": "string"
            }
          },
          "metadata": {},
          "execution_count": 75
        }
      ]
    },
    {
      "cell_type": "code",
      "source": [
        "from tensorflow.keras.models import Sequential\n",
        "from tensorflow.keras.preprocessing.text import one_hot\n",
        "from tensorflow.keras.layers import Embedding, Dense, LSTM\n",
        "from tensorflow.keras.preprocessing.sequence import pad_sequences"
      ],
      "metadata": {
        "id": "ZDDudEa96zdT"
      },
      "execution_count": 76,
      "outputs": []
    },
    {
      "cell_type": "code",
      "source": [
        "lst = []\n",
        "for i in X['title']:\n",
        "  lst.append(len(i.split()))\n",
        "\n",
        "max(lst)"
      ],
      "metadata": {
        "colab": {
          "base_uri": "https://localhost:8080/"
        },
        "id": "mOtglRPO7aaN",
        "outputId": "48f9577e-c8fd-4524-df3f-b72dccead485"
      },
      "execution_count": 77,
      "outputs": [
        {
          "output_type": "execute_result",
          "data": {
            "text/plain": [
              "72"
            ]
          },
          "metadata": {},
          "execution_count": 77
        }
      ]
    },
    {
      "cell_type": "code",
      "source": [
        "len(X['title'][0].split())"
      ],
      "metadata": {
        "colab": {
          "base_uri": "https://localhost:8080/"
        },
        "id": "jRZ51Nqq8oBJ",
        "outputId": "4f091978-2a5f-4943-b00e-b7a162110209"
      },
      "execution_count": 78,
      "outputs": [
        {
          "output_type": "execute_result",
          "data": {
            "text/plain": [
              "14"
            ]
          },
          "metadata": {},
          "execution_count": 78
        }
      ]
    },
    {
      "cell_type": "code",
      "source": [
        ""
      ],
      "metadata": {
        "id": "TAZrlJYr7mVb"
      },
      "execution_count": 78,
      "outputs": []
    },
    {
      "cell_type": "code",
      "source": [
        "# Download Stopwords\n",
        "\n",
        "from nltk.corpus import stopwords\n",
        "nltk.download('stopwords')"
      ],
      "metadata": {
        "colab": {
          "base_uri": "https://localhost:8080/"
        },
        "id": "dE524L6g-Gf5",
        "outputId": "b77d7ac0-5c64-4863-eed4-f24412ca8a2e"
      },
      "execution_count": 79,
      "outputs": [
        {
          "output_type": "stream",
          "name": "stderr",
          "text": [
            "[nltk_data] Downloading package stopwords to /root/nltk_data...\n",
            "[nltk_data]   Package stopwords is already up-to-date!\n"
          ]
        },
        {
          "output_type": "execute_result",
          "data": {
            "text/plain": [
              "True"
            ]
          },
          "metadata": {},
          "execution_count": 79
        }
      ]
    },
    {
      "cell_type": "code",
      "source": [
        "len(X)"
      ],
      "metadata": {
        "colab": {
          "base_uri": "https://localhost:8080/"
        },
        "id": "IaR72AOn-mCf",
        "outputId": "09c3795c-8727-4184-ee48-c5c248d285be"
      },
      "execution_count": 80,
      "outputs": [
        {
          "output_type": "execute_result",
          "data": {
            "text/plain": [
              "18285"
            ]
          },
          "metadata": {},
          "execution_count": 80
        }
      ]
    },
    {
      "cell_type": "code",
      "source": [
        "X.head(10)"
      ],
      "metadata": {
        "colab": {
          "base_uri": "https://localhost:8080/",
          "height": 363
        },
        "id": "KIM_dMihB6y0",
        "outputId": "90c5e9fd-30ef-40dc-e4f3-5929b369e294"
      },
      "execution_count": 81,
      "outputs": [
        {
          "output_type": "execute_result",
          "data": {
            "text/plain": [
              "                                               title\n",
              "0  House Dem Aide: We Didn’t Even See Comey’s Let...\n",
              "1  FLYNN: Hillary Clinton, Big Woman on Campus - ...\n",
              "2                  Why the Truth Might Get You Fired\n",
              "3  15 Civilians Killed In Single US Airstrike Hav...\n",
              "4  Iranian woman jailed for fictional unpublished...\n",
              "5  Jackie Mason: Hollywood Would Love Trump if He...\n",
              "6  Benoît Hamon Wins French Socialist Party’s Pre...\n",
              "7  A Back-Channel Plan for Ukraine and Russia, Co...\n",
              "8  Obama’s Organizing for Action Partners with So...\n",
              "9  BBC Comedy Sketch \"Real Housewives of ISIS\" Ca..."
            ],
            "text/html": [
              "\n",
              "  <div id=\"df-f9c89490-f0ca-4f03-b2e7-4c4c095a92c4\">\n",
              "    <div class=\"colab-df-container\">\n",
              "      <div>\n",
              "<style scoped>\n",
              "    .dataframe tbody tr th:only-of-type {\n",
              "        vertical-align: middle;\n",
              "    }\n",
              "\n",
              "    .dataframe tbody tr th {\n",
              "        vertical-align: top;\n",
              "    }\n",
              "\n",
              "    .dataframe thead th {\n",
              "        text-align: right;\n",
              "    }\n",
              "</style>\n",
              "<table border=\"1\" class=\"dataframe\">\n",
              "  <thead>\n",
              "    <tr style=\"text-align: right;\">\n",
              "      <th></th>\n",
              "      <th>title</th>\n",
              "    </tr>\n",
              "  </thead>\n",
              "  <tbody>\n",
              "    <tr>\n",
              "      <th>0</th>\n",
              "      <td>House Dem Aide: We Didn’t Even See Comey’s Let...</td>\n",
              "    </tr>\n",
              "    <tr>\n",
              "      <th>1</th>\n",
              "      <td>FLYNN: Hillary Clinton, Big Woman on Campus - ...</td>\n",
              "    </tr>\n",
              "    <tr>\n",
              "      <th>2</th>\n",
              "      <td>Why the Truth Might Get You Fired</td>\n",
              "    </tr>\n",
              "    <tr>\n",
              "      <th>3</th>\n",
              "      <td>15 Civilians Killed In Single US Airstrike Hav...</td>\n",
              "    </tr>\n",
              "    <tr>\n",
              "      <th>4</th>\n",
              "      <td>Iranian woman jailed for fictional unpublished...</td>\n",
              "    </tr>\n",
              "    <tr>\n",
              "      <th>5</th>\n",
              "      <td>Jackie Mason: Hollywood Would Love Trump if He...</td>\n",
              "    </tr>\n",
              "    <tr>\n",
              "      <th>6</th>\n",
              "      <td>Benoît Hamon Wins French Socialist Party’s Pre...</td>\n",
              "    </tr>\n",
              "    <tr>\n",
              "      <th>7</th>\n",
              "      <td>A Back-Channel Plan for Ukraine and Russia, Co...</td>\n",
              "    </tr>\n",
              "    <tr>\n",
              "      <th>8</th>\n",
              "      <td>Obama’s Organizing for Action Partners with So...</td>\n",
              "    </tr>\n",
              "    <tr>\n",
              "      <th>9</th>\n",
              "      <td>BBC Comedy Sketch \"Real Housewives of ISIS\" Ca...</td>\n",
              "    </tr>\n",
              "  </tbody>\n",
              "</table>\n",
              "</div>\n",
              "      <button class=\"colab-df-convert\" onclick=\"convertToInteractive('df-f9c89490-f0ca-4f03-b2e7-4c4c095a92c4')\"\n",
              "              title=\"Convert this dataframe to an interactive table.\"\n",
              "              style=\"display:none;\">\n",
              "        \n",
              "  <svg xmlns=\"http://www.w3.org/2000/svg\" height=\"24px\"viewBox=\"0 0 24 24\"\n",
              "       width=\"24px\">\n",
              "    <path d=\"M0 0h24v24H0V0z\" fill=\"none\"/>\n",
              "    <path d=\"M18.56 5.44l.94 2.06.94-2.06 2.06-.94-2.06-.94-.94-2.06-.94 2.06-2.06.94zm-11 1L8.5 8.5l.94-2.06 2.06-.94-2.06-.94L8.5 2.5l-.94 2.06-2.06.94zm10 10l.94 2.06.94-2.06 2.06-.94-2.06-.94-.94-2.06-.94 2.06-2.06.94z\"/><path d=\"M17.41 7.96l-1.37-1.37c-.4-.4-.92-.59-1.43-.59-.52 0-1.04.2-1.43.59L10.3 9.45l-7.72 7.72c-.78.78-.78 2.05 0 2.83L4 21.41c.39.39.9.59 1.41.59.51 0 1.02-.2 1.41-.59l7.78-7.78 2.81-2.81c.8-.78.8-2.07 0-2.86zM5.41 20L4 18.59l7.72-7.72 1.47 1.35L5.41 20z\"/>\n",
              "  </svg>\n",
              "      </button>\n",
              "      \n",
              "  <style>\n",
              "    .colab-df-container {\n",
              "      display:flex;\n",
              "      flex-wrap:wrap;\n",
              "      gap: 12px;\n",
              "    }\n",
              "\n",
              "    .colab-df-convert {\n",
              "      background-color: #E8F0FE;\n",
              "      border: none;\n",
              "      border-radius: 50%;\n",
              "      cursor: pointer;\n",
              "      display: none;\n",
              "      fill: #1967D2;\n",
              "      height: 32px;\n",
              "      padding: 0 0 0 0;\n",
              "      width: 32px;\n",
              "    }\n",
              "\n",
              "    .colab-df-convert:hover {\n",
              "      background-color: #E2EBFA;\n",
              "      box-shadow: 0px 1px 2px rgba(60, 64, 67, 0.3), 0px 1px 3px 1px rgba(60, 64, 67, 0.15);\n",
              "      fill: #174EA6;\n",
              "    }\n",
              "\n",
              "    [theme=dark] .colab-df-convert {\n",
              "      background-color: #3B4455;\n",
              "      fill: #D2E3FC;\n",
              "    }\n",
              "\n",
              "    [theme=dark] .colab-df-convert:hover {\n",
              "      background-color: #434B5C;\n",
              "      box-shadow: 0px 1px 3px 1px rgba(0, 0, 0, 0.15);\n",
              "      filter: drop-shadow(0px 1px 2px rgba(0, 0, 0, 0.3));\n",
              "      fill: #FFFFFF;\n",
              "    }\n",
              "  </style>\n",
              "\n",
              "      <script>\n",
              "        const buttonEl =\n",
              "          document.querySelector('#df-f9c89490-f0ca-4f03-b2e7-4c4c095a92c4 button.colab-df-convert');\n",
              "        buttonEl.style.display =\n",
              "          google.colab.kernel.accessAllowed ? 'block' : 'none';\n",
              "\n",
              "        async function convertToInteractive(key) {\n",
              "          const element = document.querySelector('#df-f9c89490-f0ca-4f03-b2e7-4c4c095a92c4');\n",
              "          const dataTable =\n",
              "            await google.colab.kernel.invokeFunction('convertToInteractive',\n",
              "                                                     [key], {});\n",
              "          if (!dataTable) return;\n",
              "\n",
              "          const docLinkHtml = 'Like what you see? Visit the ' +\n",
              "            '<a target=\"_blank\" href=https://colab.research.google.com/notebooks/data_table.ipynb>data table notebook</a>'\n",
              "            + ' to learn more about interactive tables.';\n",
              "          element.innerHTML = '';\n",
              "          dataTable['output_type'] = 'display_data';\n",
              "          await google.colab.output.renderOutput(dataTable, element);\n",
              "          const docLink = document.createElement('div');\n",
              "          docLink.innerHTML = docLinkHtml;\n",
              "          element.appendChild(docLink);\n",
              "        }\n",
              "      </script>\n",
              "    </div>\n",
              "  </div>\n",
              "  "
            ]
          },
          "metadata": {},
          "execution_count": 81
        }
      ]
    },
    {
      "cell_type": "code",
      "source": [
        "# Dataset Preprocessing\n",
        "\n",
        "from nltk.stem.porter import PorterStemmer\n",
        "ps = PorterStemmer()\n",
        "corpus = []\n",
        "for i in range(0, len(X['title'])):\n",
        "  review = re.sub('[^a-zA-Z]',' ', X['title'][i])\n",
        "  review = review.lower()\n",
        "  review = review.split()\n",
        "\n",
        "  review = [ps.stem(word) for word in review if not word in stopwords.words('english')]\n",
        "  review = ' '.join(review)\n",
        "  corpus.append(review)\n",
        "\n",
        "corpus"
      ],
      "metadata": {
        "colab": {
          "base_uri": "https://localhost:8080/"
        },
        "id": "Ttoa0i-b-JeN",
        "outputId": "19656eed-8082-4c4a-ed2d-b741cc85d6e7"
      },
      "execution_count": 82,
      "outputs": [
        {
          "output_type": "execute_result",
          "data": {
            "text/plain": [
              "['hous dem aid even see comey letter jason chaffetz tweet',\n",
              " 'flynn hillari clinton big woman campu breitbart',\n",
              " 'truth might get fire',\n",
              " 'civilian kill singl us airstrik identifi',\n",
              " 'iranian woman jail fiction unpublish stori woman stone death adulteri',\n",
              " 'jacki mason hollywood would love trump bomb north korea lack tran bathroom exclus video breitbart',\n",
              " 'beno hamon win french socialist parti presidenti nomin new york time',\n",
              " 'back channel plan ukrain russia courtesi trump associ new york time',\n",
              " 'obama organ action partner soro link indivis disrupt trump agenda',\n",
              " 'bbc comedi sketch real housew isi caus outrag',\n",
              " 'russian research discov secret nazi militari base treasur hunter arctic photo',\n",
              " 'us offici see link trump russia',\n",
              " 'ye paid govern troll social media blog forum websit',\n",
              " 'major leagu soccer argentin find home success new york time',\n",
              " 'well fargo chief abruptli step new york time',\n",
              " 'anonym donor pay million releas everyon arrest dakota access pipelin',\n",
              " 'fbi close hillari',\n",
              " 'chuck todd buzzfe donald trump polit favor breitbart',\n",
              " 'monica lewinski clinton sex scandal set american crime stori',\n",
              " 'rob reiner trump mental unstabl breitbart',\n",
              " 'abort pill order rise latin american nation zika alert new york time',\n",
              " 'nuke un histor treati ban nuclear weapon',\n",
              " 'exclus islam state support vow shake west follow manchest terrorist massacr breitbart',\n",
              " 'humili hillari tri hide camera caught min ralli',\n",
              " 'andrea tantaro fox news claim retali sex harass complaint new york time',\n",
              " 'hillari clinton becam hawk new york time',\n",
              " 'chuck todd buzzfe eic publish fake news breitbart',\n",
              " 'bori johnson brexit leader fumbl new york time',\n",
              " 'texa oil field rebound price lull job left behind new york time',\n",
              " 'bayer deal monsanto follow agribusi trend rais worri farmer new york time',\n",
              " 'russia move ban jehovah wit extremist new york time',\n",
              " 'still danger zone januari th',\n",
              " 'open thread u elect',\n",
              " 'democrat gutierrez blame chicago gun violenc nra breitbart',\n",
              " 'avoid peanut avoid allergi bad strategi new york time',\n",
              " 'mri show detail imag week unborn babi breitbart',\n",
              " 'best kind milk dairi',\n",
              " 'ryan locht drop speedo usa retail new york time',\n",
              " 'conserv urg session clean obama civil right divis breitbart',\n",
              " 'intern inquiri seal fate roger ail fox new york time',\n",
              " 'press tv debat duff lebanon hezbollah aoun presid video',\n",
              " 'samsung combust galaxi note unveil new smartphon new york time',\n",
              " 'poland vow referendum migrant quota amidst eu pressur public voic heard breitbart',\n",
              " 'spark inner revolut',\n",
              " 'studi half car crash involv driver distract cell phone breitbart',\n",
              " 'trump elect spark individu collect heal',\n",
              " 'ep fade black jimmi church w laura eisenhow restor balanc video',\n",
              " 'cognit true islam book review',\n",
              " 'donald trump win elect biggest miracl us polit histori',\n",
              " 'mind eat way fight bing new york time',\n",
              " 'major potenti impact corpor tax overhaul new york time',\n",
              " 'wonder glp like day elect',\n",
              " 'maker world smallest machin award nobel prize chemistri new york time',\n",
              " 'massiv anti trump protest union squar nyc live stream',\n",
              " 'review lion bring tear lost boy wipe dri googl new york time',\n",
              " 'u gener islam state chemic attack impact u forc',\n",
              " 'juri find oregon standoff defend guilti feder conspiraci gun charg',\n",
              " 'clinton campaign stun fbi reportedli reopen probe hillari clinton email',\n",
              " 'penc speak anti abort ralli new york time',\n",
              " 'berni sander say media trump gutless polit coward',\n",
              " 'make briquett daili wast',\n",
              " 'treason nyt vow reded report',\n",
              " 'dress like woman mean new york time',\n",
              " 'ella brennan still feed lead new orlean new york time',\n",
              " 'press asia agenda obama tread lightli human right new york time',\n",
              " 'democrat percent chanc retak senat new york time',\n",
              " 'judg spank transgend obsess obama lie redflag news',\n",
              " 'u diplomat urg strike assad syria new york time',\n",
              " 'franken call independ investig trump putin crush breitbart',\n",
              " 'louisiana simon bile u presidenti race tuesday even brief new york time',\n",
              " 'turkey threaten open migrant land passag europ row dutch',\n",
              " 'huma weiner dog hillari',\n",
              " 'colin kaepernick start black panther inspir youth camp wow',\n",
              " 'trump immigr polici explain new york time',\n",
              " 'mari tyler moor mourn dick van dyke star new york time',\n",
              " 'poison',\n",
              " 'trump fan ralli across nation support presid new york time',\n",
              " 'fox biz report help bash clinton ralli cover trump pack event day',\n",
              " 'fiction podcast worth listen new york time',\n",
              " 'mike birbiglia tip make small hollywood anywher new york time',\n",
              " 'invest strategist forecast collaps timelin last gasp econom cycl come',\n",
              " 'venezuela muzzl legislatur move closer one man rule new york time',\n",
              " 'whether john mccain mitt romney donald trump democrat alway run war women tactic destroy republican candid',\n",
              " 'breitbart news daili trump boom breitbart',\n",
              " 'white hous confirm gitmo transfer obama leav offic',\n",
              " 'poll voter heard democrat elect candid breitbart',\n",
              " 'migrant confront judgment day old deport order new york time',\n",
              " 'n u yale su retir plan fee new york time',\n",
              " 'technocraci real reason un want control internet',\n",
              " 'american driver regain appetit ga guzzler new york time',\n",
              " 'hillari clinton build million war chest doubl donald trump new york time',\n",
              " 'trump catch sick report snuck interview priceless respons',\n",
              " 'senat contact russian govern week',\n",
              " 'imag perfectli illustr struggl dakota access pipelin',\n",
              " 'washington state take refuge muslim rest countri take refuge muslim breitbart',\n",
              " 'ncaa big keep watch eye texa bathroom bill breitbart',\n",
              " 'massiv espn financi subscrib loss drag disney first quarter sale breitbart',\n",
              " 'megyn kelli contract set expir next year prime big show new york time',\n",
              " 'teacher suspend allow student hit trump pinata cinco de mayo',\n",
              " 'break trump express concern anthoni weiner illeg access classifi info month ago truthfe',\n",
              " 'snap share leap debut investor doubt valu vanish new york time',\n",
              " 'clinton campaign chair dinner top doj offici one day hillari benghazi hear',\n",
              " 'tv seri first femal mlb pitcher can one low rate season breitbart',\n",
              " 'seek best fit women final four return friday sunday new york time',\n",
              " 'propos canadian nation bird ruffl feather new york time',\n",
              " 'review beyonc make lemonad marit strife new york time',\n",
              " 'trump ask sharp increas militari spend offici say new york time',\n",
              " 'waterg smoke gun email discuss clean obama hillari email',\n",
              " 'chapo trap hous new left wing podcast flagrant rip right stuff',\n",
              " 'taiwan respond china send carrier taiwan strait new york time',\n",
              " 'mother octob surpris hous card come tumbl',\n",
              " 'explos assang pilger interview us elect expect riot hillari win',\n",
              " 'telescop ate astronomi track surpass hubbl new york time',\n",
              " 'close afghan pakistani border becom humanitarian crisi new york time',\n",
              " 'tv anchor arriv white hous lunch donald trump breitbart',\n",
              " 'pelosi republican tell trump bring dishonor presid breitbart',\n",
              " 'beauti prehistor world earth wasteland',\n",
              " 'ignor trump news week learn new york time',\n",
              " 'donald trump unveil plan famili bid women vote new york time',\n",
              " 'montana democrat vote bill ban sharia law call repugn breitbart',\n",
              " 'monsanto tribun go happen',\n",
              " 'offici simon bile world best gymnast new york time',\n",
              " 'liter hurt brain read econom idioci emit trumpkin libertarian',\n",
              " 'u n secretari gener complain mass reject global favor nation',\n",
              " 'trump bollywood ad meant sway indian american voter hilari fail video',\n",
              " 'fbi find previous unseen hillari clinton email weiner laptop',\n",
              " 'year american journalist kill conspiraci theori syria proven fact',\n",
              " 'report illeg alien forego food stamp stay trump radar',\n",
              " 'make netherland great hahaha spread worldwid',\n",
              " 'four kill injur jerusalem truck ram terror attack',\n",
              " 'leader salut comrad newt brutal megyn sic kelli beatdown play game',\n",
              " 'student black colleg got beaten mace protest kkk david duke',\n",
              " 'despit strict gun control one child youth shot everi day ontario',\n",
              " 'rise internet fan bulli new york time',\n",
              " 'newli vibrant washington fear trump drain cultur new york time',\n",
              " 'fed hold interest rate steadi plan slower increas new york time',\n",
              " 'battl unesco',\n",
              " 'latest test white hous pull easter egg roll new york time',\n",
              " 'burlesqu dancer fire investig secret servic trump assassin tweet breitbart',\n",
              " 'clinton haiti',\n",
              " 'cuomo christi parallel path top troubl got new york time',\n",
              " 'top place world allow visit',\n",
              " 'new studi link fluorid consumpt hypothyroid weight gain wors',\n",
              " 'jame matti secretari offens',\n",
              " 'black church burn spray paint vote trump',\n",
              " 'sear agre sell craftsman stanley black amp decker rais cash new york time',\n",
              " 'takata chief execut resign financi pressur mount new york time',\n",
              " 'goodby good black sabbath new york time',\n",
              " 'teen geisha doll gang bust arm robberi breitbart',\n",
              " 'mohamad khwei anoth virginia man palestinian american muslim charg terror',\n",
              " 'price obamacar replac nobodi wors financi breitbart',\n",
              " 'va fail properli examin thousand veteran',\n",
              " 'trump famili alreadi sworn secreci fake moon land soon',\n",
              " 'sport writer nfl great jim brown decad civil right work eras say nice thing donald trump breitbart',\n",
              " 'watch tv excus republican skip donald trump convent new york time',\n",
              " 'open letter trump voter told like',\n",
              " 'comment power corpor lobbi quietli back hillari nobodi talk runsinquicksand',\n",
              " 'hijack end peac libyan airlin land malta new york time',\n",
              " 'like girl girl geniu new york time',\n",
              " 'scientist say canadian bacteria fossil may earth oldest new york time',\n",
              " 'pro govern forc advanc syria amid talk u russia cooper new york time',\n",
              " 'cancer agenc fire withhold carcinogen glyphos document',\n",
              " 'work walk minut work new york time',\n",
              " 'steve harvey talk hous presid elect trump new york time',\n",
              " 'coalit u troop fight mosul offens come fire',\n",
              " 'uk citizen war hero get cheap pre fab hous muslim colon get taxpay fund luxuri council home',\n",
              " 'vet fight war fed demand money back illeg refuge keep money',\n",
              " 'mr trump wild ride new york time',\n",
              " 'fbi director comey bamboozl doj congress clinton',\n",
              " 'food natur unclog arteri prevent heart attack',\n",
              " 'death two state solut',\n",
              " 'comment parent date asleep car cop arriv kill facespac',\n",
              " 'donald trump team show sign post elect moder new york time',\n",
              " 'miami beach tri tame raucou street fishbowl drink stay new york time',\n",
              " 'doctor mysteri found dead summit breakthrough cure cancer',\n",
              " 'donald trump unsink candid new york time',\n",
              " 'shock new mock hillari ad campaign warn take us war enlistforh fightforh dieforh',\n",
              " 'exclus famili slain border patrol agent brian terri say eric holder among real crimin respons',\n",
              " 'trump tell report wall work ask israel breitbart',\n",
              " 'america surviv next year',\n",
              " 'commission start press cleveland indian logo new york time',\n",
              " 'un plan implant everyon biometr id drill',\n",
              " 'trump attack senat credibl gorsuch comment new york time',\n",
              " 'clinton advisor lose leak email hillari illeg activ',\n",
              " 'art laffer paul ryan perfect right breitbart',\n",
              " 'donald trump blame econom crash',\n",
              " 'pokemon go player inadvert stop peopl commit suicid japan',\n",
              " 'california senat race tale divers flail g p new york time',\n",
              " 'exclus sourc say megyn kelli would welcom back fox news',\n",
              " 'break preced obama envoy deni extens past inaugur day new york time',\n",
              " 'brexit vote go monti python may offer clue new york time',\n",
              " 'blind mystic predict bad news trump',\n",
              " 'total vet fail left wing snowden fan girl realiti winner get access nsa secret',\n",
              " 'somalia u escal shadow war new york time',\n",
              " 'free care bless victim orlando nightclub attack new york time',\n",
              " 'durabl democrat counti countri could go trump',\n",
              " 'fed challeng rais rate may existenti new york time',\n",
              " 'russia intent attack anyon absurd say vladimir putin',\n",
              " 'f investig errant flight involv harrison ford new york time',\n",
              " 'fed rais key interest rate cite strengthen economi new york time',\n",
              " 'la expresi n lo siguient ya es la utilizada lo siguient en el castellano',\n",
              " 'trump berat news media new strategi need cover new york time',\n",
              " 'u drone strike target taliban leader new york time',\n",
              " 'u intellig expect al qaeda attack monday new york virginia texa',\n",
              " 'told cannabi great revers alzheim',\n",
              " 'report megyn kelli kick nbc show kardashian famili interview',\n",
              " 'local percent may rich think new york time',\n",
              " 'dr david duke mark collett uk collett explain duke trump victori would chang polit forev',\n",
              " 'statement senat well fargo chief deepli sorri new york time',\n",
              " 'cnn statement distanc network buzzfe fake news dossier breitbart',\n",
              " 'c e ponder new game trump rule new york time',\n",
              " 'spicer bradi stolen jersey anoth bad press breitbart',\n",
              " 'scaredi cat investig peopl enjoy fear new york time',\n",
              " 'left vision',\n",
              " 'showdown loom u question chines deal german chip design new york time',\n",
              " 'trump administr take harder tack trade china new york time',\n",
              " 'pew american trust level feder govern plummet histor low breitbart',\n",
              " 'islam state support former nation guardsman plead guilti terror charg virginia',\n",
              " 'spicer report go rais hand like big boy girl breitbart',\n",
              " 'leader applaud gorsuch confirm win pro life movement',\n",
              " 'newstick',\n",
              " 'french vogu march cover featur transgend model new york time',\n",
              " 'trump veer parti line gun control new york time',\n",
              " 'oligarchi prepar groundwork steal elect',\n",
              " 'ya hay reencuentro de operaci n triunfo que edicion de operaci n triunfo',\n",
              " 'chatsworth hous tale five centuri new york time',\n",
              " 'uncomfort love affair donald trump new england patriot new york time',\n",
              " 'john mccain withdraw support donald trump disclosur record new york time',\n",
              " 'strang unend limbo egypt hosni mubarak new york time',\n",
              " 'poverti rose u hous district obama presid',\n",
              " 'huma abedin seek fbi immun deal',\n",
              " 'singl mom escap friend zone one non date time new york time',\n",
              " 'boe suit futur spaceflight new spacesuit design breitbart',\n",
              " 'trump float oliv branch might keep part health law new york time',\n",
              " 'wapo tri compar elizabeth warren break senat rule milo shut violent riot breitbart',\n",
              " 'crumpl school bu leav chattanooga daze new york time',\n",
              " 'die came back life incred messag human',\n",
              " 'fight nation african american museum new york time',\n",
              " 'father manchest suicid bomber arrest libya breitbart',\n",
              " 'secret true leader',\n",
              " 'muslim demand local walk dog public violat sharia disrespect',\n",
              " 'hillari campaign bed pac staff donat k fbi agent wife investig',\n",
              " 'still tri flip elector colleg block trump win',\n",
              " 'al sharpton dem point appeal archi bunker trump voter breitbart',\n",
              " 'think mani doom sayer trump get offic',\n",
              " 'democrat jump session resign band wagon breitbart',\n",
              " 'alt right architect glenn beck open fire alt right grave threat republ audio tweet',\n",
              " 'politic justic protect hillari',\n",
              " 'north carolina satur surpris reel hurrican matthew new york time',\n",
              " 'live love submit memori new york time',\n",
              " 'achiev mind work medit cushion requir new york time',\n",
              " 'world first zero emiss hydrogen power passeng train unveil germani',\n",
              " 'confus chip credit card get line new york time',\n",
              " 'brook trump side foreign leader us presid israel russia breitbart',\n",
              " 'toxic air home get rid natur',\n",
              " 'connecticut reader report record voter registr inspir trump',\n",
              " 'germani react merkel trump visit could lot wors new york time',\n",
              " 'justin rose outduel henrik stenson golf gold medal new york time',\n",
              " 'iceland water cure new york time',\n",
              " 'shorten l train shutdown month new york time',\n",
              " 'time presid decid new york time',\n",
              " 'u n relief offici call crisi aleppo apex horror new york time',\n",
              " 'berkeley treat violent anti speech left like kkk',\n",
              " 'statist propaganda mani syrian us regim chang kill',\n",
              " 'self help guru jame altuch own thing new york time',\n",
              " 'trump religi liberti order give session major leeway breitbart',\n",
              " 'demoledor amparo contra salgado keiko congresista',\n",
              " 'era trump china presid champion econom global new york time',\n",
              " 'sad saga john walker lindh rebel without clue',\n",
              " 'court disagre michigan vote recount new york time',\n",
              " 'berni sander feud democrat leadership heat new york time',\n",
              " 'shortest power explan trump victori ever seen',\n",
              " 'russia look popul far east wimp need appli new york time',\n",
              " 'johnson amend trump vow destroy explain new york time',\n",
              " 'donald trump march life full support',\n",
              " 'polic offici found dead long island suicid suspect new york time',\n",
              " 'radic chang store world global market readi',\n",
              " 'like make showbiz best friend new york time',\n",
              " 'trump nomin neil gorsuch suprem court new york time',\n",
              " 'bidder cast doubt serious mexican border wall project',\n",
              " 'stake us elect',\n",
              " 'israel approv addit fund settlement west bank new york time',\n",
              " 'tx gov abbott sign legisl could put sheriff sanctuari citi jail breitbart',\n",
              " 'donald trump hold thank ralli cincinnati announc pick defens secretari new york time',\n",
              " 'lawmak look bipartisanship health care new york time',\n",
              " 'insid conserv push state amend constitut new york time',\n",
              " 'donald trump tell n r hillari clinton want let violent crimin go free new york time',\n",
              " 'pope franci trump japan tuesday brief new york time',\n",
              " 'mayorsstand day tout support illeg immigr',\n",
              " 'trump campaign celebr',\n",
              " 'democrat drag jeff session confirm fight breitbart',\n",
              " 'break news podesta brother pedo ring mr trump drain swamp v guerrilla economist',\n",
              " 'la frase destacada del debat de investidura',\n",
              " 'confus jihad hirabah build peac world',\n",
              " 'lazi liber journalist smear bannon',\n",
              " 'australia close detent center manu island still accept asylum seeker new york time',\n",
              " 'politico hillari clinton run breitbart',\n",
              " 'giant lynx make ador sound whenev human rub face',\n",
              " 'minnesota cop found guilti philando castil shoot trial',\n",
              " 'million american kill minut',\n",
              " 'wayn madsen cia alway serv interest wall street',\n",
              " 'novemb daili contrarian read',\n",
              " 'flashback report obama campaign rep talk iran hama',\n",
              " 'lesseroftwoevil',\n",
              " 'aya cash first time ate veget new york time',\n",
              " 'trump advis say isra settlement illeg',\n",
              " 'serena william prevail open problem new york time',\n",
              " 'soul man sam moor honor perform trump inaugur',\n",
              " 'ferrel came back bush destroy trump video',\n",
              " 'chines govern concern tough talk trump cabinet breitbart',\n",
              " 'billionair report seiz hong kong hotel taken china new york time',\n",
              " 'easi know link',\n",
              " 'homebodi find ultim home offic new york time',\n",
              " 'ann coulter unload paul ryan deepli unpopular obamacar bill breitbart',\n",
              " 'transgend bathroom debat turn person vermont high school new york time',\n",
              " 'obama hillari want libya gaddafi toppl kill',\n",
              " 'alert former soro associ warn pro wrong gold silver skyrocket like',\n",
              " 'hillari panick fbi weiner email',\n",
              " 'chaotic minut trump defend fine tune machin new york time',\n",
              " 'one polic shift patrol anxiou america new york time',\n",
              " 'fight ghost fascist aid real one',\n",
              " 'monday even brief brexit abort game throne new york time',\n",
              " 'eu increas brexit bill demand billion billion',\n",
              " 'arianna huffington sleep revolut start home new york time',\n",
              " 'iranian missil accident destroy iranian ship aim syria',\n",
              " 'sonoma counti california vote creat largest gmo free zone america',\n",
              " 'fbi comey wikileak intellig porn journal breitbart',\n",
              " 'clare waight keller name first femal design givenchi new york time',\n",
              " 'realiti face black canadian nation shame',\n",
              " 'top nfl draft prospect caleb brantley charg punch woman face breitbart',\n",
              " 'video pacif crest trail associ lavoy finicim murder',\n",
              " 'life lesson man seen death',\n",
              " 'trump g p work win repeal obama health act new york time',\n",
              " 'atlant goldberg confid trump handl matter life death breitbart',\n",
              " 'orthodox rabbi support trump',\n",
              " 'nuclear tension us russia reach danger point',\n",
              " 'gambia join south africa burundi exodu intern crimin court',\n",
              " 'peyton man golf presid trump sunday',\n",
              " 'obama urg donald trump send signal uniti minor group women new york time',\n",
              " 'like miracl woman give birth use ovari frozen sinc childhood new york time',\n",
              " 'uconn recip success run run run new york time',\n",
              " 'assang final afford opportun give statement rape accus',\n",
              " 'hillari puppet show much hillari care god omiss word',\n",
              " 'stock market gone high problem new york time',\n",
              " 'john kerri reject suggest u involv turkey coup new york time',\n",
              " 'trump aid stephen miller u absolut sovereign right determin cannot enter countri breitbart',\n",
              " 'year old russian girl speak languag',\n",
              " 'power corpor lobbi quietli back hillari nobodi talk',\n",
              " 'maintain sunni spirit face hardship new york time',\n",
              " 'rush limbaugh comey fire epic troll trump dem breitbart',\n",
              " 'twitter sue govern block unmask account critic trump new york time',\n",
              " 'warrior resili home cruis cavali new york time',\n",
              " 'comey letter clinton email subject justic dept inquiri new york time',\n",
              " 'spain malta u uk pressur refus allow russian carrier group refuel port',\n",
              " 'review radiohead moon shape pool patient perfection new york time',\n",
              " 'man militar polic stand rock work',\n",
              " 'woman arrest properti land stolen dapl',\n",
              " 'pulitz prize new york time win daili news propublica share public servic award new york time',\n",
              " 'vanquish wit takeov bush clinton attend donald trump inaugur breitbart',\n",
              " 'specul possibl obama pardon edward snowden bow bergdahl chelsea man breitbart',\n",
              " 'cheesi mash potato soul new york time',\n",
              " 'unprincipl wapo editor damn comey critic join',\n",
              " 'nation wreck immigr civil war brew good swede turn muslim migrant violenc rape murder',\n",
              " 'man shot dead offic crucifix gun polic say new york time',\n",
              " 'exclus rep jim jordan trump first day think great start breitbart',\n",
              " 'haley attack syria one presid finest hour breitbart',\n",
              " 'justin bieber defec ador irish fan hotel window',\n",
              " 'cancer agenc fire withhold carcinogen glyphos document',\n",
              " 'gianno caldwel claim hillari care black vote black live',\n",
              " 'isi use ramadan call new terrorist attack new york time',\n",
              " 'daili show mock mahatma blondi megyn kelli nbc debut',\n",
              " 'health care bill failur part art deal breitbart',\n",
              " 'lewandowski comey liar look sign major book deal breitbart',\n",
              " 'kimberli guilfoyl discuss potenti white hous press secretari job interview',\n",
              " 'clinton campaign chairman john podesta invit occult spirit cook dinner marina abramovi',\n",
              " 'obama coalit crumbl leav open trump new york time',\n",
              " 'pregnanc chang brain way may help mother new york time',\n",
              " 'fema open loan window red cross tri shut shelter',\n",
              " 'gaiaport interweb gaia energet strengthen',\n",
              " 'scarborough trump poop pant call modern art breitbart',\n",
              " 'cook invest time work new york time',\n",
              " 'bad news jackson famili woman leak star sick k sex secret',\n",
              " 'gorsuch london republican parti thursday even brief new york time',\n",
              " 'emma morano last person born die breitbart',\n",
              " 'loserpalooza craziest scene anti trump protest breitbart',\n",
              " 'trump victori mean africa',\n",
              " 'vision life mar earth depth new york time',\n",
              " 'obama cancel talk rodrigo dutert philippin say regret slur new york time',\n",
              " 'new jersey increas ga tax end long polit stalem new york time',\n",
              " 'abc manchest attack like inflam anti islam sentiment breitbart',\n",
              " 'hidden plain sight global depopul agenda',\n",
              " 'job american new york time',\n",
              " 'sander ask obama interven dakota access pipelin disput',\n",
              " 'googl add job section search engin includ employ rate breitbart',\n",
              " 'cri jordan meme die new york time',\n",
              " 'dem rep nchez trump use fear muslim immigr promot polici undermin valu breitbart',\n",
              " 'announc saker commun german saker blog vineyard saker',\n",
              " 'shoot victim famili watch gun measur stall new york time',\n",
              " 'imag reveal crash schiaparelli mar lander',\n",
              " 'grassroot coalit share mani question concern betsi devo senat',\n",
              " 'octob daili contrarian read',\n",
              " 'trump inaugur ball work begin play game breitbart',\n",
              " 'trump choic stephen bannon nod anti washington base new york time',\n",
              " 'media outrag white hous exclus fake news breitbart',\n",
              " 'benni morri unten denial ethnic cleans palestin',\n",
              " 'obama hillari clinton pardon could heal divid nation',\n",
              " 'except handl',\n",
              " 'nota conceptu para la presidencia de rusia',\n",
              " 'respons philippin presid fatal blast rais fear new york time',\n",
              " 'david adjay design museum speak differ languag new york time',\n",
              " 'bulletin righteou jew trump rule ruin gop establish etc item',\n",
              " 'britain reduc terror level one notch sever terror cell arrest',\n",
              " 'mute alon never short kind word friend new york time',\n",
              " 'iranian militari command claim rogu nation send elit fighter infiltr us europ',\n",
              " 'account',\n",
              " 'watch muslim student claim non believ kill islam countri breitbart',\n",
              " 'yemen yet anoth fals flag protect saudi us interest middl east new eastern outlook',\n",
              " 'watch muslim palestinian declar follow prophet muhammad kill christian jew',\n",
              " 'street dog kerala call upon superdog krypto rescu human',\n",
              " 'israel track anti govern journalist facebook',\n",
              " 'new alaska law take first step common core',\n",
              " 'key baylor footbal execut demarko butler fire text scandal breitbart',\n",
              " 'calgari airport arriv yyc',\n",
              " 'georg michael wrestl fame frank sinatra advic new york time',\n",
              " 'sharon old laureat sexual scrutin bodi ode new york time',\n",
              " 'blue collar elect shock liber media',\n",
              " 'die new york time',\n",
              " 'polic fire rubber bullet pipelin protest',\n",
              " 'ann coulter hit suppos gay icon kathi griffin isi crib antic',\n",
              " 'contamin food china enter u organ label',\n",
              " 'ten famou peopl read summer new york time',\n",
              " 'hillari clinton knew year ago anthoni weiner pedophil wikileak',\n",
              " 'million stairway nowher far west side new york time',\n",
              " 'cyber war trifl catastroph inform',\n",
              " 'presid putin ask us stop provok russia',\n",
              " 'inquiri cloud de blasio bid come strong manag race new york time',\n",
              " 'us drone strike afghanistan kill wound sever civilian',\n",
              " 'bobbi hutcherson vibraphonist colorist rang sound die new york time',\n",
              " 'amnesti advoc boycott agenc meet pro american advoc invit breitbart',\n",
              " 'project verita robert creamer illeg foreign wire transfer caught tape',\n",
              " 'ex flotu michel obama trump want feed crap kid',\n",
              " 'south sudan slide closer war gunfir rumbl capit new york time',\n",
              " 'nation mood focu group reflect angri divid america',\n",
              " 'bankrupt puerto rico vote u statehood breitbart',\n",
              " 'overwhelm brexit basic new york time',\n",
              " 'seattl gay mayor accus sexual molest teen breitbart',\n",
              " 'gender fluiditi runway new york time',\n",
              " 'us nato attack putin militari drill russia world war red alert kopya',\n",
              " 'new clinton email came underag sex pest anthoni weiner',\n",
              " 'montana bear attack lesson hope surviv first aid new york time',\n",
              " 'best america new york time',\n",
              " 'pecan step pie plate new york time',\n",
              " 'barack obama plagiar tell word matter breitbart',\n",
              " 'lower back ach activ wait new guidelin say new york time',\n",
              " 'sleep hour peopl die new york time',\n",
              " 'veep season episod littl danc new york time',\n",
              " 'dr oz trump offer placebo transpar new york time',\n",
              " 'comment gold medalist wrestler get violent polic cop choos engag deadli forc buck roger',\n",
              " 'one year water orang counti four day breitbart',\n",
              " 'doctor enemi afghan forc target f hospit new york time',\n",
              " 'year old hebrew mention jerusalem found',\n",
              " 'spirit cook disturb podesta email yet warn graphic content',\n",
              " 'donald trump misstep risk put ceil support swing state new york time',\n",
              " 'green parti margaret flower challeng us senat debat maryland undemocrat',\n",
              " 'offic rescu drown deer pool quick think',\n",
              " 'polic suspect punch armi veteran steal servic dog outsid home bronx breitbart',\n",
              " 'yike megyn kelli receiv rude awaken remind replac',\n",
              " 'iran send elit irgc warfight europ unit state prepar battl',\n",
              " 'hillari endors donald trump presid accord wikileak',\n",
              " 'woodward trump dossier garbag document intellig chief apolog trump breitbart',\n",
              " 'emmi nomin traci morgan emot return saturday night live new york time',\n",
              " 'trump pick mick mulvaney south carolina congressman budget director new york time',\n",
              " 'donald trump el primer president naranja de lo estado unido',\n",
              " 'attorney gener loretta lynch plead fifth',\n",
              " 'russia u missil defens pose deep risk secur asia',\n",
              " 'washington plan b syria realli mean',\n",
              " 'upset brexit british jew look germani new york time',\n",
              " 'girl ask boyfriend give iphon use money buy hous',\n",
              " 'amnesti intern slam obama gov kill civilian syria',\n",
              " 'find flock rural writer book club new york time',\n",
              " 'venezuela crisi enter danger phase maduro foe go milit',\n",
              " 'emigr super bloc part viii quasi legal coup hillari clinton inform oper elect',\n",
              " 'could question ask love one vote way new york time',\n",
              " 'bbc ask realli happen clinton haiti',\n",
              " 'trump pick thoma bossert top counterterror advis new york time',\n",
              " 'come unglu',\n",
              " 'trump jr suspici help arizona woman push stall car use photo op video',\n",
              " 'suicid chicago polic offic skyrocket',\n",
              " 'think suv safe shock video',\n",
              " 'peopl tortur kill sufi muslim shrine pakistan',\n",
              " 'comment architectur clever arrang brick man transform heal process architectur clever arrang brick man transform heal process new earth media',\n",
              " 'hybrid war strategi africa introduct',\n",
              " 'julian assang speak prerecord rt interview',\n",
              " 'watch israel love hollywood actor issu major plea america minut rock elect',\n",
              " 'n l donald trump botch independ day moment new york time',\n",
              " 'exclus congresswoman marsha blackburn say elimin net neutral preserv open internet breitbart',\n",
              " 'attach year round greenhous home',\n",
              " 'sheriff clark obama final day obama like tenant evict properti gonna trash place way door video',\n",
              " 'weird ban women iran',\n",
              " 'end game close clinton deep state turn',\n",
              " 'trump fight chanc establish new eastern outlook',\n",
              " 'trade stanc toward china clinton trump signal chill new york time',\n",
              " 'review secret life pet amus miss opportun new york time',\n",
              " 'first case demonetis relat hiv man unprotect sex atm machin',\n",
              " 'thing need know dakota access pipelin protest',\n",
              " 'koch brother battl prevent dark money disclosur south dakota',\n",
              " 'milo berkeley event evacu mask protest light fire storm venu breitbart',\n",
              " 'authoritarian west demon strong popular leader',\n",
              " 'swedish journo sweden collaps without illeg migrant',\n",
              " 'promis internet career vine dead write newsbiscuit cheer',\n",
              " 'iowa trump voter unfaz controversi new york time',\n",
              " 'radic american grown marxist terror group made announc januari th conserv daili post',\n",
              " 'guardian opinion writer trump bannon count terrorist massacr',\n",
              " 'putin pro trump onlin troll spill bean samantha bee',\n",
              " 'along mosul front line desper civilian dug troop fighter new york time',\n",
              " 'second avenu subway open train delay end happi tear new york time',\n",
              " 'year old cher don see top nippl pasti billboard award',\n",
              " 'report stop nine percent illeg alien border crosser would pay trump border wall breitbart',\n",
              " 'ice union issu final warn voter',\n",
              " 'elit new york polic unit rehears terrorist attack new york time',\n",
              " 'trump hollywood star vandal out shameless new video taunt polic seek',\n",
              " 'california today view san francisco lean tower space new york time',\n",
              " 'matthew trump speech putin say america first hitlerian background breitbart',\n",
              " 'vladimir putin valdai intern discuss club shape world tomorrow vladimir putin',\n",
              " 'chines social media rage unit airlin controversi breitbart',\n",
              " 'america better without border',\n",
              " 'chao terror tie make venezuela direct threat usa former un secur council presid say breitbart',\n",
              " 'rick ross documentari video doubl ad checker new york time',\n",
              " 'oil spill pacif ocean sinc last month total ignor',\n",
              " 'podesta mill go dump email',\n",
              " 'thoughtlessli disbeliev conspiraci theori need read',\n",
              " 'dr david duke dr slatteri expos hillari treason trump duke win',\n",
              " 'russian frigat syrian cost blast terrorist hq cruis missil video',\n",
              " 'hillari clinton like covert action stay covert transcript show new york time',\n",
              " 'us kurdish troop involv invad isi capit raqqa',\n",
              " 'awaken human await fulli script end controversi elect day near',\n",
              " 'georg soro back climat march bring celeb nation mall swelter saturday breitbart',\n",
              " 'edward snowden long strang journey hollywood new york time',\n",
              " 'black trump man belong murder cult',\n",
              " 'bill clinton lover call ruthless hillari warden',\n",
              " 'russia cina e arabia saudita domano l egemonia del dollaro di ariel noyola rodr guez',\n",
              " 'third month india cash shortag begin bite new york time',\n",
              " 'one trump administr posit gain popular go shock breitbart',\n",
              " 'bill clinton said white middl class life expect declin obama year',\n",
              " 'furiou eric holder issu dire warn comey partisan smear',\n",
              " 'memo trump action day',\n",
              " 'chao desper thousand flee aleppo amid govern advanc new york time',\n",
              " 'wildfir empti fort mcmurray alberta oil sand region new york time',\n",
              " 'schumer session investig seem violat recus breitbart',\n",
              " 'amid divis march washington seek bring women togeth new york time',\n",
              " 'zoe saldana trump hollywood got cocki becam arrog bulli',\n",
              " 'anti establish trump plan appoint goldman sach georg soro insid',\n",
              " 'cholesterol drug men gonad',\n",
              " 'trump flynn treat unfair fake media illeg leak breitbart',\n",
              " 'california today virtual realiti investig trayvon martin case new york time',\n",
              " 'nearli decad later apolog lynch georgia new york time',\n",
              " 'marcia clark final moment savor emmi new york time',\n",
              " 'brexit speech theresa may outlin clean break u k new york time',\n",
              " 'man hate black men found victim care other new york time',\n",
              " 'michael flynn fail disclos incom russia link entiti new york time',\n",
              " 'feder judg throw convict c sniper four life sentenc',\n",
              " 'donald trump obama thanksgiv weekend brief new york time',\n",
              " '',\n",
              " 'vine celebr life death app clip',\n",
              " 'squatti potti ceo griffin imag divis disturb decis realli',\n",
              " 'thing let go new year',\n",
              " 'comment polic union post pic hillari arrest facebook dan',\n",
              " 'koch brother secretli alli w georg soro hillari clinton',\n",
              " 'trump expand search secretari state new york time',\n",
              " 'teacher yr old wait trump elect go deport muslim',\n",
              " 'cost choic top concern health insur custom new york time',\n",
              " 'shaq announc plan run sheriff breitbart',\n",
              " 'illeg immigr cross border vote',\n",
              " 'pirat fail take helm iceland pirat parti gain mileag enough steadi ship alon',\n",
              " 'billionair build davo new york time',\n",
              " 'run danger alaskan trail new york time',\n",
              " 'la pel cula de su vida descubr que ha llevado siempr un trozo de lechuga entr lo dient',\n",
              " 'dem win congression basebal game give trophi republican steve scalis breitbart',\n",
              " 'franc present strict gun control paper tiger breitbart',\n",
              " 'china russia silk road commod nixon massiv bull market gold silver',\n",
              " 'troubl quarterback johnni manziel appear shop mall sign autograph next super bowl breitbart',\n",
              " 'bob dylan accus lift part nobel prize speech sparknot',\n",
              " 'blimp crash e coli contamin snakebitten u open wit spectat death breitbart',\n",
              " 'public employe shadow world american carnag',\n",
              " 'espn lz granderson justifi think kaepernick blackbal nobodi sign breitbart',\n",
              " 'prescript painkil death drop state legal marijuana',\n",
              " 'low growth world get new york time',\n",
              " 'istanbul donald trump benjamin netanyahu morn brief new york time',\n",
              " 'hitler hillari',\n",
              " 'dalian wanda hollywood event product new york time',\n",
              " 'comment pm water cooler timmi',\n",
              " 'breakdown clinton money machin',\n",
              " 'california forefront climat fight back trump new york time',\n",
              " 'g e year old softwar start new york time',\n",
              " 'hillari clinton hamilton would enough new york time',\n",
              " 'brain concuss children adult know vaccin damag',\n",
              " 'trump great paul craig robert',\n",
              " 'hillari frantic dirti secret implod get wors prison bombshel',\n",
              " 'rent car know rule road new york time',\n",
              " 'impeach polit brazil someth sinist new york time',\n",
              " 'trump interview moder view defi convent new york time',\n",
              " 'review sweetbitt bright light big citi restaur set new york time',\n",
              " 'gonzaga beat south carolina final four shot anoth first new york time',\n",
              " 'gorka trump interventionist command chief noth chang breitbart',\n",
              " 'thank fbi clinton email investig shift poll number significantli trump favor',\n",
              " 'race class dictat republican futur',\n",
              " 'gorsuch scalia lion law judg look law demand prefer breitbart',\n",
              " 'nc state provid student post elect comfort food therapi',\n",
              " 'iraqi troop push mosul kill across iraq',\n",
              " 'pregnant women turn marijuana perhap harm infant new york time',\n",
              " 'biggest winner loser u presidenti elect',\n",
              " 'trump psychic listen word one year ago look happen',\n",
              " 'mccain trump attack press dictat get start breitbart',\n",
              " 'judgment day one reason everi christian jew america vote donald trump',\n",
              " 'coup stolen elect',\n",
              " '',\n",
              " 'thing need know black dakota access pipelin protest',\n",
              " 'germani iraqi asylum seeker convict rape chines student',\n",
              " 'teenag boy knock classmat assault femal teacher face epic',\n",
              " 'take bring hillari clinton justic',\n",
              " 'ice round crimin alien texa capit',\n",
              " 'elect hate grief new stori',\n",
              " 'hillari question michel obama help',\n",
              " 'keith vaz british lawmak quit senior post amid sex drug scandal new york time',\n",
              " 'comment sunday devot whole univers grain sunday devot whole univers grain fellowship mind kommonsentsjan',\n",
              " 'donald trump syria emperor akihito morn brief new york time',\n",
              " 'hell frozen michel obama made hillari destroy move twitter',\n",
              " 'flynn critic call nuclear scientist miss usa dumb diss femin call health care privileg breitbart',\n",
              " 'hampshir colleg student accus assault basketbal player wear hair braid claim cultur appropri breitbart',\n",
              " 'obamamomet toxic legaci rule lawless',\n",
              " 'simon manuel gold rippl beyond pool new york time',\n",
              " 'vote machin program order steal elect',\n",
              " 'redraw tree life scientist discov new bacteria group stun microbi divers underground',\n",
              " 'trump putin destroy isi',\n",
              " 'photo game camera catch glimps possibl antler buck',\n",
              " 'turkey relat europ sink amid quarrel netherland new york time',\n",
              " 'wikileak document reveal unit nation interest ufo video',\n",
              " 'blue state blue deliber politic intimaci',\n",
              " 'clare hollingworth report broke news world war ii die new york time',\n",
              " 'north miami polic offic shoot man aid patient autism new york time',\n",
              " 'path total dictatorship america shadow govern silent coup',\n",
              " 'effort curb polic abus mix record uncertain futur new york time',\n",
              " 'signal major bottom gold silver',\n",
              " 'hey ho old england embrac punk rock year later new york time',\n",
              " 'cano reek genocid theft white privileg say canadian professor',\n",
              " 'illeg immigr advoc pledg resist deport trump',\n",
              " 'cdc scientist confirm donald trump right vaccin autism',\n",
              " 'breitbart news daili drain swamp breitbart',\n",
              " 'trump media frankenstein monster',\n",
              " 'watch toni romo say goodby dalla cowboy instagram video breitbart',\n",
              " 'global far right conspiraci theori buoy trump new york time',\n",
              " 'georgia father convict murder toddler death hot car new york time',\n",
              " 'richard boll die wrote color parachut new york time',\n",
              " 'stranahan steve bannon nail media fight trump breitbart',\n",
              " 'texa elector expect massiv corrupt relat elector colleg vote',\n",
              " 'guilti power nullif counteract govern tyranni',\n",
              " 'trillion new debt day',\n",
              " 'tori councillor say homeless peopl elimin',\n",
              " 'review hillbilli elegi tough love analysi poor back trump new york time',\n",
              " 'crimin chief',\n",
              " 'govern lie movi',\n",
              " 'trump brexit defeat global anyway',\n",
              " 'face congress sport offici begin confront sexual abus new york time',\n",
              " 'airbnb end fight new york citi fine new york time',\n",
              " 'big pharma martin shkreli suspend twitter breitbart',\n",
              " 'next big tech corridor seattl vancouv planner hope new york time',\n",
              " 'evid robot win race american job new york time',\n",
              " 'see africa road new york time',\n",
              " 'happen hip hop hillari goe dead broke brace',\n",
              " 'bill maher high trump state free speech new era new york time',\n",
              " 'l p g tour donald trump complic new york time',\n",
              " 'legend art cashin trump presid new world order gold brexit great depress see panic',\n",
              " 'fl sheriff day goe arrest lot illeg alien prey peopl breitbart',\n",
              " 'donald trump threaten cancel berkeley feder fund riot shut milo event',\n",
              " '',\n",
              " 'bill herz last war world broadcast crew die new york time',\n",
              " 'gari johnson equat syria death caus assad west new york time',\n",
              " 'republican senat bill defund un anti israel resolut',\n",
              " 'rose evanski pioneer women hairstyl die new york time',\n",
              " 'blackston saudi arabia announc billion invest u infrastructur breitbart',\n",
              " 'satur fat heart diseas greatest scam histori medicin',\n",
              " 'dem sen merkley gorsuch nomin court pack scheme turn nomin breitbart',\n",
              " 'four common mistak burn wood',\n",
              " 'push internet privaci rule move statehous new york time',\n",
              " 'madonna gave surpris pop concert support clinton new york time',\n",
              " 'trump support plan anti trump ralli lack tax reform',\n",
              " 'british healthcar offer glimps futur obamacar',\n",
              " 'trump iranian presid rouhani better care breitbart',\n",
              " 'break sec defens carter attempt fool american public veteran caught red hand',\n",
              " 'putin advis take credit trump victori mayb help bit wikileak',\n",
              " 'warren buffett stake suggest appl grown new york time',\n",
              " 'fbi clinton email investig shift poll number significantli trump favor',\n",
              " 'hillari horrifi pic surfac overnight want',\n",
              " 'paul lepag governor main say quit new york time',\n",
              " 'colorado radio station paul martin interview dave hodg elect fraud stand rock',\n",
              " 'bill clinton want call someth complet ridicul hillari elect',\n",
              " 'son death salli mann stage haunt show new york time',\n",
              " 'trump team link russia crisscross washington new york time',\n",
              " 'north korean arrest kill kim jong un half brother new york time',\n",
              " 'surgeon admit mammographi outdat harm women',\n",
              " 'war street pari arm migrant fight run battl french capit',\n",
              " 'oscar voter meryl streep nomin anti trump speech',\n",
              " 'texa enact anti sharia law',\n",
              " 'chicago polic board chair windi citi need feder help turn tide crime breitbart',\n",
              " 'look beyond novemb th song oligarchi doom',\n",
              " 'neil young celebr st birthday perform stand rock',\n",
              " 'exclus amid paul ryan obamacar push mississippi chri mcdaniel prep potenti senat run breitbart',\n",
              " 'boom short list peopl inspir michel obama',\n",
              " 'artist go boycott grammi face fallout fraught award new york time',\n",
              " 'video idiot destroy trump hollywood star get bad news second later',\n",
              " 'elit want global economi collaps',\n",
              " 'best health benefit sweat',\n",
              " 'senat confirm scott pruitt e p head new york time',\n",
              " 'cricket snake crab mix fact fraud new york subway new york time',\n",
              " 'session potenti deputi face stern test russia inquiri new york time',\n",
              " 'suicid squad top box offic second weekend new york time',\n",
              " 'health insur plan rate hike obamacar exchang breitbart',\n",
              " 'look like someon think democrat ohio full manur',\n",
              " 'syrian war report novemb govt forc relaunch offens oper insid outsid aleppo',\n",
              " 'mysteri solv get hillari clinton get movin twitchi com',\n",
              " 'senat narrowli pass rollback obama era auto r rule new york time',\n",
              " 'cramp costli bay area cri build babi build new york time',\n",
              " 'champion optim obama hail clinton polit heir new york time',\n",
              " 'fiona appl releas trump protest chant new york time',\n",
              " 'susan rice u must integr lgbt right gov foreign polici',\n",
              " 'trump organ move avoid possibl conflict interest new york time',\n",
              " 'sweden brink polic forc push break point violenc amid migrant influx',\n",
              " 'comment hemp vs cotton ultim showdown hemp readdress cannabi kuebiko co',\n",
              " 'jare kushner trump son law clear serv advis new york time',\n",
              " 'fisherman face life prison catch worth cocain sell breitbart',\n",
              " 'step ring roll punch new york time',\n",
              " 'adnan sy serial podcast get retrial murder case new york time',\n",
              " 'scientist say weird signal space probabl alien',\n",
              " 'u swimmer disput robberi claim fuel tension brazil new york time',\n",
              " 'way take self care vacat new york time',\n",
              " 'economist sign letter urg america vote donald trump',\n",
              " 'campaign long expens chaotic mayb good thing new york time',\n",
              " 'alien megastructur star target million seti search',\n",
              " 'brazen kill myanmar lawyer came spar militari new york time',\n",
              " 'jane pauley back new york time',\n",
              " 'deutsch bank consid altern pay cash bonu',\n",
              " 'danni dyer footbal foul up dvd second',\n",
              " 'lack oxford comma could cost main compani million overtim disput new york time',\n",
              " 'european parliament committe consid legal right robot breitbart',\n",
              " 'rex tillerson aggress dealmak whose tie russia may prompt scrutini new york time',\n",
              " 'fbi conduct new investig email clinton privat illeg server',\n",
              " 'heart mine us empir cultur industri',\n",
              " 'report megyn trash trump newt murdoch announc replac avail',\n",
              " 'russian scientist track sea lion space',\n",
              " 'seiz definit popul reuter warn us chao come',\n",
              " 'seaworthi readi earli unveil new york time',\n",
              " 'donald trump add k mcfarland nation secur team new york time',\n",
              " 'snowstorm bring wintri mix slush gripe new york time',\n",
              " 'republican wilder tillerson thursday even brief new york time',\n",
              " 'review bryan cranston shine lyndon johnson way new york time',\n",
              " 'samsung urg consum stop use galaxi note batteri fire new york time',\n",
              " 'elect result discuss presidenti elect open thread',\n",
              " 'ag lynch told fbi director comey go public new clinton email investig',\n",
              " 'donald trump rise white ident polit',\n",
              " 'red blue divid six view america new york time',\n",
              " 'franc identifi nd man attack church kill priest new york time',\n",
              " 'dreamer arrest nationwid gang crackdown',\n",
              " 'maxin water american public get weari trump impeach yet breitbart',\n",
              " 'wwn horoscop',\n",
              " 'deport italian mobster caught sneak across u mexico border',\n",
              " 'leak audio hillari clinton push rig palestin elect',\n",
              " 'iranian saudi proxi struggl tore apart middl east new york time',\n",
              " 'lavrov kerri discuss syrian settlement',\n",
              " 'l influenc de usa et de l otan dan le rapport de l ue avec la chine manlio dinucci',\n",
              " 'open border group gird h b fight',\n",
              " 'weinerg expos darker dirtier secret imagin',\n",
              " 'trump elect break chain polit correct',\n",
              " 'whitehous gov take climat page put america first energi plan breitbart',\n",
              " 'iran warn presid elect trump mess sweetheart nuclear deal obama',\n",
              " 'toni perkin trump eo affirm jefferson doctrin separ church state',\n",
              " 'moon fell heaven',\n",
              " 'mom star launch campaign plan parenthood',\n",
              " 'assad lesson aleppo forc work consequ new york time',\n",
              " 'penc bossert bannon demot continu play import polici role breitbart',\n",
              " 'bundi ranch occupi acquit count challeng corrupt bureau land manag',\n",
              " 'report googl face fine billion eu antitrust case breitbart',\n",
              " 'ask thom york write cover quot book',\n",
              " 'internet flasher',\n",
              " 'gretchen carlson suit aim retali discrimin new york time',\n",
              " 'googl launch ai program detect hate speech breitbart',\n",
              " 'poll show hillari lead useless mislead cartoon',\n",
              " 'last second lane merger good traffic new york time',\n",
              " 'macau skip casino embrac past new york time',\n",
              " 'montreal ungainli unlov christma tree new york time',\n",
              " 'photo jupit nasa spacecraft near far new york time',\n",
              " 'trump labor pick andrew puzder critic minimum wage increas new york time',\n",
              " 'nico rosberg take formula one driver titl despit lewi hamilton win abu dhabi new york time',\n",
              " 'sensori isol tank taught brain new york time',\n",
              " 'chelsea handler botch tweet attack trump grandchild',\n",
              " 'report trump move tax reform plan without speaker paul ryan breitbart',\n",
              " 'ag jeff session unveil program acceler deport imprison illeg breitbart',\n",
              " 'former us attorney dc new hillari email probe result revolt insid fbi',\n",
              " 'keep appear ruin former dalla banker new york time',\n",
              " 'sesam seed knee osteoarthr',\n",
              " 'white cop interact black real life',\n",
              " 'pennsylvania republican push ban privat gun sale breitbart',\n",
              " 'review warcraft orc differ domain fight heart new york time',\n",
              " 'good peopl share bad info need fact check click share',\n",
              " 'charit wed registri new york time',\n",
              " 'nypd raid hillari properti found ruin life usa newsflash',\n",
              " 'feinstein gorsuch originalist doctrin realli troubl origin would allow segreg breitbart',\n",
              " 'confront flare obama travel parti reach china new york time',\n",
              " 'reason appli job trump administr',\n",
              " 'thought silver market rig',\n",
              " 'hear agn martin seren john zorn frenzi music new york time',\n",
              " 'must see welcom famili mani hispan american vote donald trump',\n",
              " 'iraqi forc enter western mosul fierc battl isi new york time',\n",
              " 'european futur putin migrant crisi video',\n",
              " 'roll stone defam case magazin report order pay million new york time',\n",
              " 'hillari sick tire suffer weiner backup',\n",
              " 'taiwan itali joe mcknight friday even brief new york time',\n",
              " 'shiit militia say close tal afar turkey warn limit',\n",
              " 'brother clinton campaign chair activ foreign agent saudi arabian payrol',\n",
              " 'must fight trump goe conserv freedom caucu new york time',\n",
              " 'isi kidnap kill least civilian afghanistan',\n",
              " 'hold hillari account',\n",
              " 'break ted cruz call special prosecutor investig hillari truthfe',\n",
              " 'spare gunman charleston churchgoer describ night terror new york time',\n",
              " 'war satur fat harm peopl poor countri shun tradit fat like coconut oil',\n",
              " 'democrat garland mind mobil suprem court fight new york time',\n",
              " 'comment best kind milk dairi best kind milk dairi collect evolut apg editori',\n",
              " 'harri reid blast comey misconduct drop bombshel fbi sit russian trump info',\n",
              " 'nation review conservat inc plan cave even immigr',\n",
              " 'watch thug call us marin pussi bare live tell tale',\n",
              " 'next us presid psycho lesbian plu break news video',\n",
              " 'critic see effort counti town purg minor voter roll new york time',\n",
              " 'even brief hillari clinton donald trump cultur revolut new york time',\n",
              " 'indiana parent lose babi year live jail abus say never happen',\n",
              " 'roll stone paint blue new album new york time',\n",
              " 'uber extend oliv branch local govern data new york time',\n",
              " 'wilder put dutch first brussel africa asylum seeker',\n",
              " 'donald trump good educ enrich mind soul',\n",
              " 'watch brad pitt play afghanistan war gener war machin teaser breitbart',\n",
              " 'two power earthquak strike central itali',\n",
              " 'indoor garden made easi nutritow',\n",
              " 'elizabeth warren defin sleazi hypocrisi',\n",
              " 'rush limbaugh reilli departur natur campaign breitbart',\n",
              " 'museum truste trump donor support group deni climat chang new york time',\n",
              " 'cecil richard credit plan parenthood support stop ahca breitbart',\n",
              " 'switch chip know anymor',\n",
              " 'u conced million payment iran delay prison leverag new york time',\n",
              " 'australia say foil terrorist plot new york time',\n",
              " 'orovil dam state feder govern share blame',\n",
              " 'daili traditionalist jeff schoep nsm',\n",
              " 'michael moor joe blow vote trump ultim f elit human molotov cocktail',\n",
              " 'jaguar owner shahid khan oppos trump immigr ban new york time',\n",
              " 'anti trump advert side bu realli visual clever see motion',\n",
              " 'piano man mani face stranger stori new york time',\n",
              " 'ticket releas harri potter curs child new york time',\n",
              " 'fbi visit man home film us postal distribut center',\n",
              " 'hispan crowd boo marco rubio stage',\n",
              " 'fire tv report receiv thousand sexual violent threat',\n",
              " 'detain illeg alien end day hunger strike',\n",
              " 'break silenc offic testifi kill walter scott new york time',\n",
              " 'illeg immigr allegedli kill park spot',\n",
              " 'presid trump honor littl sister poor first white hous nat l day prayer year breitbart',\n",
              " 'hillari clinton support call recount vote battleground state',\n",
              " 'hbo scrap jon stewart anim comedi seri',\n",
              " 'sentenc murder rare book dealer',\n",
              " 'latest stock market invest book financi market',\n",
              " 'fashion industri ceo support plan parenthood civic respons',\n",
              " 'anti trump protest paid stage craigslist reveal',\n",
              " 'men exercis put damper sex life new york time',\n",
              " 'bake soda coconut oil kill cancer eye open evid',\n",
              " 'trump cite evid suggest susan rice commit crime new york time',\n",
              " 'breitbart news daili gorsuch scotu breitbart',\n",
              " 'hillari arrest',\n",
              " 'siri open smart lock let neighbor walk hous',\n",
              " 'donald trump michael phelp zika tuesday even brief new york time',\n",
              " 'obama furiou fed deplor drop piec gift',\n",
              " 'l mark year sinc rodney king riot breitbart',\n",
              " 'de facto us al qaeda allianc inform',\n",
              " 'cori booker paul rever moment underway russian come breitbart',\n",
              " 'rapper troy ave shot brooklyn new york time',\n",
              " 'seattl judg ignor jihad convict prior impos refuge reform ban breitbart',\n",
              " 'texa student skip school protest arrest violent crimin',\n",
              " 'trump aid tri reassur europ mani wari new york time',\n",
              " 'china trigger next global recess',\n",
              " 'bomb kill baghdad new york time',\n",
              " 'comment black racism martin wright',\n",
              " 'thank fbi clinton email investig shift poll number significantli trump favor',\n",
              " 'u rescu attempt afghanistan miss western hostag hour new york time',\n",
              " 'rick rule look sprott asset manag client money right',\n",
              " 'farm owner arrest protest dakota access pipelin theft land',\n",
              " 'trump pois lift ban c black site prison new york time',\n",
              " 'tesla musk investig solarc congress',\n",
              " 'ridicul stupid thing men keep women',\n",
              " 'press tv duff un condemn moder terrorist',\n",
              " 'nemesi scourg western world',\n",
              " 'trump budget new foundat american great breitbart',\n",
              " 'exclus islam state support vow terror group retak mosul liber',\n",
              " 'roll thunder motorcyclist return c honor pow mia breitbart',\n",
              " 'interest fun fact stethoscop',\n",
              " 'china seek bigger role world stage xi jinp go davo world econom forum new york time',\n",
              " 'veteran prepar join stand rock protest stop dakota access pipelin',\n",
              " 'photo latin america condemn venezuela excess use forc protest breitbart',\n",
              " 'sugar feed cancer cell may even creat',\n",
              " 'john kerri urg ground militari aircraft key area syria new york time',\n",
              " 'outsid money favor hillari clinton rate donald trump new york time',\n",
              " 'fake news new york time target breitbart report truth breitbart',\n",
              " 'blast new yorker examin psycholog shrapnel new york time',\n",
              " 'resist schwarzenegg call grassroot revolut u exit pari agreement',\n",
              " 'virginia offici request u inquiri inmat death jail new york time',\n",
              " 'report voter fraud crash cours',\n",
              " 'associ press report admit fake news stori hillari clinton',\n",
              " 'review garth brook bring rous anthem ballad yanke stadium new york time',\n",
              " 'sicher trainieren beim spin gilt ab sofort helmpflicht',\n",
              " 'everi asset class collaps need look wealth term mani chicken much ga buy',\n",
              " 'review halt catch fire time travel silicon valley dawn new york time',\n",
              " 'obama use religi test favor muslim christian',\n",
              " 'wingsuit flyer vs tree',\n",
              " 'turkey say airport bomber kyrgyzstan russia uzbekistan new york time',\n",
              " 'turmer power artifici drug',\n",
              " 'facebook caught sell target advertis exclud differ race',\n",
              " 'gatlinburg resid return home wildfir destruct new york time',\n",
              " 'year old girl use human bomb nigeria attack',\n",
              " 'shock berkeley poll california voter want democrat work trump breitbart',\n",
              " 'famili terror attack victim sue twitter provid resourc servic isi breitbart',\n",
              " 'philippin leader vow pardon polic accus mayor death new york time',\n",
              " 'fda found manipul media favor big pharma',\n",
              " 'jay h lehr begin end epa',\n",
              " 'imahdi arriv satan practic leader',\n",
              " 'ag session dem sen harri abl rush fast make nervou breitbart',\n",
              " 'u n envoy say u still back palestinian state new york time',\n",
              " 'trump happen',\n",
              " 'japan vote strengthen shinzo abe goal chang constitut new york time',\n",
              " 'trump camp caught cam brag voter suppress women black video',\n",
              " 'chelsea man ask obama cut sentenc time serv new york time',\n",
              " 'red sox broadcast jerri remi think foreign player use translat',\n",
              " 'shi ite militia join iraq mosul attack',\n",
              " 'escap reign super bowl commerci polit prove inescap new york time',\n",
              " 'naval brief novemb th ledahu',\n",
              " 'scandal video footag anonym expos huma hillari',\n",
              " 'jar new level confront conflict hit washington new york time',\n",
              " 'clinton transmit classifi info lawyer',\n",
              " 'hillari russian hack guid american might trump breitbart',\n",
              " 'gener elect campaign suspend wake manchest suicid bomb',\n",
              " 'grand slam father son film smash hit famili',\n",
              " 'venezuela econom crisi mean left fail',\n",
              " 'herd stamped wild boar kill three islam state jihadist breitbart',\n",
              " 'venu mar believ gender often wrong new york time',\n",
              " 'obama pardon list hotel magnat own studio new york time',\n",
              " 'suspect captur ambush style kill two iowa cop',\n",
              " 'megyn sic kelli gowdi triumphantli comment hillari case reopen',\n",
              " 'famili friendli polici friendliest male professor new york time',\n",
              " 'ringo starr anuncia que deja lo beatl',\n",
              " 'war less immin clinton defeat',\n",
              " 'mi chief present russia grow threat british interest',\n",
              " 'washington state upend trump travel ban new york time',\n",
              " 'protect swerv polic chief caught speed get laugh ticket video',\n",
              " 'fake news trump hit mexico explod',\n",
              " 'go wikileak',\n",
              " 'former cia director blame millenni wikileak document breitbart',\n",
              " 'tell stori slaveri new york time',\n",
              " 'live wire dutch elect high turnout expect controversi turkish mosqu poll centr',\n",
              " 'shave mean freedom omar',\n",
              " 'bombshel leak email expos muslim got obama administr',\n",
              " 'nativ american part ten lost tribe jewish peopl',\n",
              " 'blm rapper bill alleg son nasti surpris hillari',\n",
              " 'kevin durant join golden state warrior new york time',\n",
              " 'indian call center becom major center defraud american breitbart',\n",
              " 'congress attorney gener lynch plead fifth secret iran ransom payment',\n",
              " 'lo angel time editori lose trump narcissist demagogu breitbart',\n",
              " 'swirl untruth falsehood call lie lie new york time',\n",
              " 'hillari clinton lead donald trump new hampshir florida poll show new york time',\n",
              " 'gene wilder huma abedin donald trump monday even brief new york time',\n",
              " 'watch blimp crash catch fire us open breitbart',\n",
              " 'toddler loos gun car mother die new york time',\n",
              " 'asian american actor fight visibl ignor new york time',\n",
              " 'mexican feel environ',\n",
              " 'insid donald trump last stand anxiou nomine seek assur new york time',\n",
              " 'park servic name divers nation landmark new york time',\n",
              " 'weiner rise white hous alli disgrac ex congressman hire breitbart',\n",
              " 'trump lose grab musket former congressman readi go full revolut',\n",
              " 'decod north korea claim success nuclear test new york time',\n",
              " 'bill belichick wit list testifi aaron hernandez doubl murder case breitbart',\n",
              " 'l mayor silent citi rise violent crime breitbart',\n",
              " 'theresa may new british prime minist give bori johnson key post new york time',\n",
              " 'donald trump hillari clinton iphon wednesday even brief new york time',\n",
              " 'usa kill million peopl victim nation sinc world war ii',\n",
              " 'polic offic face backlash hillari photo',\n",
              " 'shakespear remain authent bore',\n",
              " 'georgia candid jon ossoff film firm financ facebook fact check funder',\n",
              " 'effort defeat isi u iran imped one anoth new york time',\n",
              " 'rick put bullet trump wilson potu support see scalis shoot bless breitbart',\n",
              " 'western intellig agenc run al qaeda camp north africa',\n",
              " 'trump tell plan parenthood fund stay abort goe new york time',\n",
              " 'comment hillari clinton gun control agenda expos wikileak email braindiseasecalledliber',\n",
              " 'barack obama delay suspend elect hillari forc new fbi email investig',\n",
              " 'donald trump incit feud g p candid flee shadow new york time',\n",
              " 'germani student forc chant allahu akbar punish refus trip mosqu',\n",
              " 'meteor space junk rocket mysteri flash hit siberia',\n",
              " 'trump nation secur advis call russian envoy day sanction impos new york time',\n",
              " 'project verita implic democrat oper claim credit romney video',\n",
              " 'laid american requir zip lip way grow bolder new york time',\n",
              " ...]"
            ]
          },
          "metadata": {},
          "execution_count": 82
        }
      ]
    },
    {
      "cell_type": "code",
      "source": [
        "# vocab_size\n",
        "vocab_size = 5000\n",
        "\n",
        "# sentence len\n",
        "sen_len = 50\n",
        "\n",
        "\n",
        "# OHE rep of data\n",
        "\n",
        "onehot_rep = [one_hot(words, vocab_size) for words in corpus]\n",
        "onehot_rep"
      ],
      "metadata": {
        "colab": {
          "base_uri": "https://localhost:8080/"
        },
        "id": "W5-sQwDnBasi",
        "outputId": "22794fc2-29ea-47e9-94c0-24473d632dcf"
      },
      "execution_count": 83,
      "outputs": [
        {
          "output_type": "execute_result",
          "data": {
            "text/plain": [
              "[[3291, 4567, 747, 4646, 4288, 4405, 968, 310, 4032, 1753],\n",
              " [170, 1136, 4003, 276, 486, 3404, 1855],\n",
              " [4317, 4653, 1351, 2895],\n",
              " [3906, 3382, 1897, 3206, 1129, 4909],\n",
              " [3178, 486, 4968, 2998, 2738, 1178, 486, 2340, 2834, 3936],\n",
              " [1662,\n",
              "  3040,\n",
              "  2752,\n",
              "  2634,\n",
              "  924,\n",
              "  353,\n",
              "  473,\n",
              "  3169,\n",
              "  1793,\n",
              "  1133,\n",
              "  3709,\n",
              "  811,\n",
              "  2953,\n",
              "  912,\n",
              "  1855],\n",
              " [4958, 3798, 1553, 275, 2464, 3674, 3846, 4605, 3917, 1265, 3813],\n",
              " [1871, 4768, 1696, 1214, 2211, 2514, 353, 3329, 3917, 1265, 3813],\n",
              " [2311, 4334, 606, 441, 2224, 2104, 4740, 4142, 353, 3870],\n",
              " [572, 3162, 3112, 2669, 2153, 1954, 1854, 4052],\n",
              " [4641, 2690, 4689, 4447, 1822, 997, 3296, 856, 1587, 570, 2317],\n",
              " [3206, 2352, 4288, 2104, 353, 2211],\n",
              " [3142, 3813, 2267, 2879, 1165, 4519, 4974, 697, 4051],\n",
              " [5, 2590, 2740, 2918, 2969, 1218, 4903, 3917, 1265, 3813],\n",
              " [127, 1095, 1286, 4283, 3135, 3917, 1265, 3813],\n",
              " [1815, 2529, 4333, 1157, 796, 2906, 1088, 2792, 2172, 1822],\n",
              " [1303, 4031, 1136],\n",
              " [658, 281, 67, 1938, 353, 240, 4218, 1855],\n",
              " [2396, 3649, 4003, 4534, 354, 4897, 2156, 1774, 1178],\n",
              " [3369, 313, 353, 2927, 3282, 1855],\n",
              " [1718, 809, 3984, 4489, 860, 2156, 835, 3178, 973, 3917, 1265, 3813],\n",
              " [249, 3746, 4330, 3540, 3393, 4966, 3534],\n",
              " [2953, 1875, 4985, 2577, 801, 4647, 4385, 4315, 3229, 3886, 542, 1855],\n",
              " [235, 1136, 4266, 4391, 538, 3419, 4922, 1631],\n",
              " [3219, 1051, 2016, 3303, 4468, 2410, 4534, 3693, 1414, 3917, 1265, 3813],\n",
              " [1136, 4003, 354, 3414, 3917, 1265, 3813],\n",
              " [658, 281, 67, 3244, 346, 1587, 3303, 1855],\n",
              " [4379, 1543, 1581, 587, 1788, 3917, 1265, 3813],\n",
              " [662, 2231, 2667, 756, 3025, 2325, 180, 959, 2349, 3917, 1265, 3813],\n",
              " [4582, 556, 1691, 4315, 2317, 1735, 4244, 733, 4333, 3917, 1265, 3813],\n",
              " [2211, 3158, 3393, 3210, 4097, 3154, 3917, 1265, 3813],\n",
              " [2111, 1343, 418, 749, 3317],\n",
              " [4021, 2635, 3736, 1940],\n",
              " [3287, 3713, 3331, 1592, 3143, 4190, 1539, 1855],\n",
              " [4061, 2469, 4061, 4707, 535, 715, 3917, 1265, 3813],\n",
              " [1067, 4306, 4138, 1926, 4480, 3438, 814, 1855],\n",
              " [108, 4057, 928, 2272],\n",
              " [3048, 1841, 925, 2045, 1823, 4189, 3917, 1265, 3813],\n",
              " [3776, 3877, 2555, 3666, 2311, 4599, 4304, 202, 1855],\n",
              " [2557, 3481, 4106, 2207, 1748, 753, 2016, 3917, 1265, 3813],\n",
              " [548, 716, 423, 1473, 2895, 1469, 3962, 937, 912],\n",
              " [344, 3008, 3828, 2524, 2783, 3917, 2976, 3917, 1265, 3813],\n",
              " [3173, 801, 4228, 920, 521, 2853, 4470, 2286, 3244, 3636, 367, 1855],\n",
              " [4515, 4416, 1188],\n",
              " [2816, 3089, 3851, 1408, 1695, 3125, 1998, 3296, 193, 1855],\n",
              " [353, 1940, 4515, 4600, 4989, 2236],\n",
              " [3707, 4218, 4795, 4153, 1126, 4065, 574, 3138, 1116, 3357, 912],\n",
              " [2509, 2975, 1875, 1263, 3043],\n",
              " [1938, 353, 1553, 1940, 116, 993, 3206, 240, 1462],\n",
              " [3794, 4882, 3665, 3969, 92, 3917, 1265, 3813],\n",
              " [5, 3091, 2142, 1847, 3297, 3484, 3917, 1265, 3813],\n",
              " [1916, 1535, 158, 2718, 1940],\n",
              " [4980, 374, 1317, 620, 2255, 4263, 3831, 579, 3917, 1265, 3813],\n",
              " [2865, 2372, 353, 3145, 3951, 2210, 2561, 2169, 259],\n",
              " [3043, 2902, 2984, 3383, 823, 4571, 3471, 2991, 1560, 3917, 1265, 3813],\n",
              " [3736, 4092, 1875, 4985, 2645, 4906, 2142, 3736, 2080],\n",
              " [1837, 2969, 1877, 4218, 4677, 2700, 2222, 4666, 3143, 3615],\n",
              " [4003, 4267, 1442, 1303, 3056, 3344, 4271, 1136, 4003, 2468],\n",
              " [2117, 2810, 2372, 1718, 1631, 3917, 1265, 3813],\n",
              " [3825, 1582, 1103, 4519, 353, 3238, 240, 4607],\n",
              " [244, 3606, 1214, 4021],\n",
              " [3164, 4180, 801, 2878, 2351],\n",
              " [4946, 158, 486, 4922, 3917, 1265, 3813],\n",
              " [822, 3059, 2111, 2473, 2160, 3917, 860, 3917, 1265, 3813],\n",
              " [548, 2704, 3870, 2311, 2945, 4399, 2859, 4304, 3917, 1265, 3813],\n",
              " [3287, 3493, 1618, 3685, 4289, 3917, 1265, 3813],\n",
              " [1614, 3477, 336, 2655, 2311, 2459, 3265, 3303],\n",
              " [3736, 932, 3877, 2064, 1865, 2542, 3917, 1265, 3813],\n",
              " [1509, 3128, 1708, 4112, 353, 1160, 2364, 1855],\n",
              " [2897, 3698, 3179, 3736, 3846, 3360, 199, 4646, 2674, 3917, 1265, 3813],\n",
              " [3442, 1507, 4021, 920, 4296, 2070, 1363, 4848, 3944],\n",
              " [2009, 4487, 1, 1136],\n",
              " [3274, 1046, 1342, 4795, 2907, 1762, 4202, 379, 4352],\n",
              " [353, 1774, 33, 3599, 3917, 1265, 3813],\n",
              " [213, 4723, 4306, 4146, 4862, 378, 4253, 88, 3917, 1265, 3813],\n",
              " [207],\n",
              " [353, 3977, 1631, 3879, 835, 2577, 937, 3917, 1265, 3813],\n",
              " [2016, 716, 2351, 2078, 1418, 4003, 1631, 2791, 353, 606, 1895, 2718],\n",
              " [2998, 1467, 4722, 1476, 3917, 1265, 3813],\n",
              " [190, 3960, 667, 244, 2704, 2752, 3083, 3917, 1265, 3813],\n",
              " [3775, 1221, 426, 1550, 3365, 1308, 1410, 4579, 4840, 3409],\n",
              " [3601, 49, 4884, 3158, 1202, 1710, 509, 4953, 3917, 1265, 3813],\n",
              " [644,\n",
              "  1779,\n",
              "  4427,\n",
              "  4007,\n",
              "  2424,\n",
              "  1938,\n",
              "  353,\n",
              "  3287,\n",
              "  4604,\n",
              "  4889,\n",
              "  2173,\n",
              "  763,\n",
              "  4745,\n",
              "  3736,\n",
              "  2914,\n",
              "  3766],\n",
              " [1855, 3303, 1214, 353, 3865, 1855],\n",
              " [1407, 3291, 2310, 3230, 3394, 2311, 1850, 2191],\n",
              " [3215, 1378, 367, 3287, 1940, 3766, 1855],\n",
              " [920, 4891, 3079, 2718, 4117, 3127, 3984, 3917, 1265, 3813],\n",
              " [1750, 3736, 1686, 1791, 2654, 1696, 3509, 3917, 1265, 3813],\n",
              " [1188, 2669, 673, 3746, 872, 2366, 3619],\n",
              " [2156, 3125, 1203, 365, 4978, 769, 3917, 1265, 3813],\n",
              " [1136, 4003, 1459, 1157, 2173, 4693, 2462, 1938, 353, 3917, 1265, 3813],\n",
              " [353, 3403, 1595, 2351, 708, 4641, 3371, 1374],\n",
              " [4289, 2591, 4641, 2267, 4480],\n",
              " [1926, 2431, 3312, 4746, 2792, 2172, 1822],\n",
              " [4506, 4985, 169, 2023, 251, 488, 4096, 169, 2023, 251, 1855],\n",
              " [2056, 276, 3497, 282, 497, 662, 811, 3170, 1855],\n",
              " [2865, 66, 4539, 3185, 4939, 1744, 606, 3437, 2586, 3048, 1855],\n",
              " [676, 2968, 4956, 4897, 4220, 3336, 2367, 3196, 276, 4306, 3917, 1265, 3813],\n",
              " [1248, 1334, 9, 3617, 1095, 353, 4767, 1902, 1508, 882],\n",
              " [3963, 353, 1723, 4296, 2870, 4487, 4967, 2172, 4076, 1025, 4349, 438, 4004],\n",
              " [2468, 259, 2589, 848, 1741, 3086, 4810, 592, 3917, 1265, 3813],\n",
              " [4003, 4267, 1149, 3383, 2655, 2130, 2352, 1710, 2718, 1136, 3303, 4276],\n",
              " [716, 4265, 3437, 1974, 82, 4778, 4777, 1710, 2718, 3140, 3358, 1855],\n",
              " [2674, 108, 3025, 763, 1586, 4955, 3828, 806, 1792, 3917, 1265, 3813],\n",
              " [4198, 1762, 835, 4154, 1684, 2453, 3917, 1265, 3813],\n",
              " [3043, 991, 244, 4332, 1741, 4950, 3917, 1265, 3813],\n",
              " [353, 1789, 842, 1657, 997, 3502, 2352, 1103, 3917, 1265, 3813],\n",
              " [4220, 1814, 3143, 2468, 3801, 3666, 2311, 1136, 2468],\n",
              " [2097, 4177, 3291, 3917, 959, 742, 1467, 4879, 3937, 4304, 2136],\n",
              " [2879, 3009, 1474, 1854, 1793, 2879, 699, 3917, 1265, 3813],\n",
              " [3637, 2161, 2463, 3291, 2008, 3409, 3519],\n",
              " [4108, 322, 1309, 4641, 3206, 1940, 1739, 3768, 1136, 1553],\n",
              " [3831, 3885, 1113, 3602, 4947, 4362, 3917, 1265, 3813],\n",
              " [4031, 4122, 3335, 737, 4948, 2627, 158, 3917, 1265, 3813],\n",
              " [716, 2796, 4319, 1407, 3291, 3741, 1938, 353, 1855],\n",
              " [2497, 2914, 3535, 353, 2984, 3588, 937, 1855],\n",
              " [3707, 4962, 374, 2767, 2972],\n",
              " [215, 353, 3303, 4480, 589, 3917, 1265, 3813],\n",
              " [1938, 353, 2783, 1696, 1991, 1160, 763, 3924, 3917, 1265, 3813],\n",
              " [3008, 3287, 3924, 3170, 3393, 339, 259, 3128, 4594, 1855],\n",
              " [1691, 4493, 4584, 1224],\n",
              " [2352, 3698, 3179, 374, 108, 2432, 3917, 1265, 3813],\n",
              " [798, 1521, 1615, 1547, 4579, 2710, 1364, 3084, 3670],\n",
              " [3736, 1750, 2806, 4092, 224, 4665, 2608, 417, 4218, 835],\n",
              " [353, 1644, 2612, 3506, 331, 1178, 2156, 1378, 1829, 81, 912],\n",
              " [1303, 2969, 2511, 3797, 1136, 4003, 2468, 4487, 3079],\n",
              " [2367, 2156, 46, 3382, 4666, 1355, 2542, 4166, 1596],\n",
              " [2351, 4967, 1281, 2119, 749, 4568, 3284, 353, 618],\n",
              " [244, 4258, 425, 3275, 1151, 578],\n",
              " [4955, 3382, 3425, 1712, 3674, 4230, 699, 4906],\n",
              " [587, 170, 2127, 874, 1642, 676, 154, 2968, 1221, 1020, 3704],\n",
              " [3617, 4795, 4822, 1878, 2295, 1232, 3145, 1653, 2536, 3463],\n",
              " [386, 4409, 3143, 2366, 1710, 4713, 4202, 2886, 1583, 2718, 4274],\n",
              " [4489, 3619, 3977, 1159, 3917, 1265, 3813],\n",
              " [1650, 2856, 4506, 1599, 353, 1054, 4581, 3917, 1265, 3813],\n",
              " [4028, 3245, 194, 3140, 2165, 1696, 564, 1657, 3917, 1265, 3813],\n",
              " [3092, 1091],\n",
              " [4238, 2148, 1407, 3291, 2937, 3128, 129, 2209, 3917, 1265, 3813],\n",
              " [3030, 4845, 2895, 4112, 4447, 360, 353, 2374, 1753, 1855],\n",
              " [4003, 2866],\n",
              " [3056, 1022, 4636, 220, 2655, 1249, 1878, 3917, 1265, 3813],\n",
              " [2655, 677, 374, 9, 2109],\n",
              " [3917, 2816, 2104, 3170, 76, 1052, 2872, 3689, 2473],\n",
              " [780, 2770, 2806, 3017],\n",
              " [4795, 1126, 4031, 2648, 689, 3924, 353],\n",
              " [2564, 1775, 121, 2404, 3043, 4795, 1041, 2190, 4244, 1471, 3917, 1265, 3813],\n",
              " [810, 1286, 891, 3943, 4539, 2286, 1696, 3917, 1265, 3813],\n",
              " [1147, 606, 4795, 617, 3917, 1265, 3813],\n",
              " [1061, 2462, 608, 4733, 365, 298, 735, 1855],\n",
              " [1021, 4660, 167, 3348, 509, 4036, 2156, 251, 3615, 699],\n",
              " [3025, 3752, 2628, 2341, 2473, 4539, 1855],\n",
              " [2643, 81, 3260, 1955, 4805, 3151],\n",
              " [353, 1991, 2293, 4086, 4101, 1587, 3025, 4296, 1826],\n",
              " [839,\n",
              "  2445,\n",
              "  4859,\n",
              "  425,\n",
              "  820,\n",
              "  1509,\n",
              "  3398,\n",
              "  4599,\n",
              "  4304,\n",
              "  4453,\n",
              "  3163,\n",
              "  1103,\n",
              "  1981,\n",
              "  887,\n",
              "  1938,\n",
              "  353,\n",
              "  1855],\n",
              " [282, 716, 318, 2914, 4348, 1938, 353, 449, 3917, 1265, 3813],\n",
              " [4021, 968, 353, 1378, 3682, 158],\n",
              " [2282, 2412, 1847, 132, 3446, 1871, 1136, 2341, 3051, 2944],\n",
              " [3393, 1583, 1123, 392, 4169, 4296, 79, 3917, 1265, 3813],\n",
              " [158, 3642, 3642, 102, 3917, 1265, 3813],\n",
              " [2308, 1103, 1762, 2344, 4633, 2827, 2767, 1587, 3917, 1265, 3813],\n",
              " [3691,\n",
              "  2267,\n",
              "  2080,\n",
              "  2535,\n",
              "  2542,\n",
              "  2729,\n",
              "  3051,\n",
              "  3736,\n",
              "  2211,\n",
              "  3241,\n",
              "  3917,\n",
              "  1265,\n",
              "  3813],\n",
              " [3641, 774, 2895, 2355, 1260, 1630, 1810],\n",
              " [4453, 1757, 4782, 4453, 3917, 1265, 3813],\n",
              " [1590, 3488, 3051, 3291, 937, 1940, 353, 3917, 1265, 3813],\n",
              " [2704, 3736, 2615, 3969, 4522, 3017, 3409, 2895],\n",
              " [4039,\n",
              "  3487,\n",
              "  2173,\n",
              "  177,\n",
              "  1351,\n",
              "  2460,\n",
              "  3901,\n",
              "  3130,\n",
              "  3291,\n",
              "  251,\n",
              "  2560,\n",
              "  1351,\n",
              "  3353,\n",
              "  4129,\n",
              "  4084,\n",
              "  2271,\n",
              "  1218],\n",
              " [871, 3969, 2173, 4028, 4518, 2070, 1871, 4967, 2023, 3497, 2070],\n",
              " [269, 353, 3783, 1327, 3917, 1265, 3813],\n",
              " [1303, 1408, 4405, 1992, 2130, 3775, 4003],\n",
              " [749, 2201, 1369, 4757, 1955, 3493, 4906],\n",
              " [2834, 2237, 4985, 1312],\n",
              " [2282, 3713, 2691, 2587, 3851, 3477, 4319, 3382, 1820],\n",
              " [1938, 353, 3153, 4306, 103, 2373, 1940, 3129, 3917, 1265, 3813],\n",
              " [3429, 1892, 4266, 2289, 4171, 1210, 2780, 4773, 3284, 3917, 1265, 3813],\n",
              " [3037, 1884, 2191, 1302, 4286, 2904, 744, 3641],\n",
              " [1938, 353, 3126, 3766, 3917, 1265, 3813],\n",
              " [2072, 3917, 2000, 1136, 2612, 4267, 4389, 169, 3206, 2173, 4160, 285, 4358],\n",
              " [2953,\n",
              "  1991,\n",
              "  3611,\n",
              "  737,\n",
              "  45,\n",
              "  642,\n",
              "  1260,\n",
              "  2512,\n",
              "  1103,\n",
              "  2195,\n",
              "  4362,\n",
              "  3578,\n",
              "  2669,\n",
              "  4126,\n",
              "  1374],\n",
              " [353, 3535, 2351, 3180, 4453, 1789, 880, 1855],\n",
              " [3477, 1568, 3336, 2367],\n",
              " [4417, 1342, 548, 1408, 1178, 3406, 3917, 1265, 3813],\n",
              " [3746, 1696, 4385, 2906, 1466, 70, 4015],\n",
              " [353, 4906, 4289, 1415, 2982, 2282, 3917, 1265, 3813],\n",
              " [4003, 2492, 875, 4837, 2468, 1136, 4967, 3256],\n",
              " [4820, 2140, 2429, 3048, 2864, 4304, 1855],\n",
              " [1938, 353, 3331, 4579, 1408],\n",
              " [3567, 4584, 604, 1633, 3076, 1550, 2775, 367, 2072],\n",
              " [3140, 4289, 3360, 108, 2463, 3922, 3169, 3517, 3917, 1265, 3813],\n",
              " [2953, 1145, 1103, 676, 2968, 2634, 2126, 1871, 2016, 3303],\n",
              " [3963, 4565, 2311, 6, 4792, 4513, 3087, 4532, 2718, 3917, 1265, 3813],\n",
              " [1581, 3924, 4584, 3598, 4352, 2827, 2672, 399, 3917, 1265, 3813],\n",
              " [1617, 2777, 4652, 535, 3303, 353],\n",
              " [1041, 871, 81, 959, 742, 343, 3977, 3642, 4212, 926, 1351, 2172, 2004, 4447],\n",
              " [1489, 3736, 1851, 1161, 2173, 3917, 1265, 3813],\n",
              " [323, 1617, 780, 3654, 4151, 468, 4906, 3917, 1265, 3813],\n",
              " [1797, 3287, 2905, 4096, 3956, 4584, 353],\n",
              " [4028, 872, 4244, 3140, 2827, 2737, 3917, 1265, 3813],\n",
              " [2211, 1828, 4906, 352, 2000, 1103, 284, 1160],\n",
              " [407, 4112, 2499, 1653, 1695, 512, 1106, 3917, 1265, 3813],\n",
              " [4028, 4244, 767, 194, 3140, 2572, 2619, 2397, 3917, 1265, 3813],\n",
              " [767,\n",
              "  2037,\n",
              "  1750,\n",
              "  4722,\n",
              "  2114,\n",
              "  3263,\n",
              "  1053,\n",
              "  767,\n",
              "  3920,\n",
              "  4722,\n",
              "  2114,\n",
              "  4439,\n",
              "  3357,\n",
              "  83],\n",
              " [353, 4988, 3303, 4519, 3917, 715, 2999, 2791, 3917, 1265, 3813],\n",
              " [3736, 4554, 2064, 1001, 152, 587, 3917, 1265, 3813],\n",
              " [3736, 562, 1739, 904, 3854, 4906, 641, 3917, 1265, 3348, 662],\n",
              " [3682, 3851, 425, 809, 580],\n",
              " [2351, 676, 2968, 3135, 2747, 4306, 1144, 1991, 4641],\n",
              " [1983, 3493, 2827, 3175, 1823, 3917, 1265, 3813],\n",
              " [2297,\n",
              "  2536,\n",
              "  3463,\n",
              "  2128,\n",
              "  2870,\n",
              "  4039,\n",
              "  2870,\n",
              "  3599,\n",
              "  3463,\n",
              "  353,\n",
              "  1518,\n",
              "  2634,\n",
              "  4560,\n",
              "  240,\n",
              "  853],\n",
              " [3858, 4289, 127, 1095, 1286, 4843, 1944, 3917, 1265, 3813],\n",
              " [4415, 3858, 2068, 1323, 67, 1587, 3303, 1252, 1855],\n",
              " [4950, 482, 907, 3917, 3704, 353, 4953, 3917, 1265, 3813],\n",
              " [3673, 3268, 3859, 393, 167, 535, 548, 1855],\n",
              " [3022, 2533, 4112, 1550, 2458, 1599, 3917, 1265, 3813],\n",
              " [959, 4094],\n",
              " [122, 783, 3736, 3149, 3833, 556, 364, 1429, 2533, 3917, 1265, 3813],\n",
              " [353, 3207, 169, 3840, 897, 1927, 1474, 3917, 1265, 3813],\n",
              " [2272, 2156, 4747, 1347, 2222, 2267, 819, 4330, 2718, 1855],\n",
              " [1875, 4985, 2577, 3619, 835, 3923, 2725, 2700, 699, 3615, 3348],\n",
              " [3673, 2351, 4584, 4244, 2257, 158, 276, 4571, 3642, 1855],\n",
              " [587, 3398, 2982, 2310, 1553, 3691, 1665, 995],\n",
              " [3445],\n",
              " [275, 760, 4994, 2791, 1149, 336, 2755, 3917, 1265, 3813],\n",
              " [353, 727, 3674, 676, 3143, 2366, 3917, 1265, 3813],\n",
              " [333, 4387, 2810, 4016, 1940],\n",
              " [3263, 912, 1488, 1508, 4565, 1750, 3635, 860, 995, 1508, 4565, 1750, 3635],\n",
              " [3085, 3291, 108, 4673, 4237, 3917, 1265, 3813],\n",
              " [1203, 924, 3177, 1938, 353, 3917, 892, 2603, 3917, 1265, 3813],\n",
              " [1779, 4427, 786, 2577, 1938, 353, 4098, 1761, 3917, 1265, 3813],\n",
              " [2907, 74, 4465, 3623, 2890, 2702, 3917, 1265, 3813],\n",
              " [2162, 839, 3736, 3291, 1776, 2311, 937],\n",
              " [2009, 2042, 2674, 1303, 1421, 556],\n",
              " [1897, 3271, 329, 3004, 418, 1710, 2903, 2691, 3813, 3917, 1265, 3813],\n",
              " [1723, 717, 144, 3910, 3917, 3391, 2533, 1855],\n",
              " [353, 3199, 2686, 702, 4653, 3497, 1122, 719, 259, 3917, 1265, 3813],\n",
              " [539, 4266, 3467, 905, 1601, 3963, 4289, 4953, 4714, 2612, 3583, 3768, 1855],\n",
              " [4085, 4598, 2804, 1850, 246, 945, 3917, 1265, 3813],\n",
              " [1755, 468, 1871, 1665, 89, 3993, 2859],\n",
              " [3969, 835, 3195, 2156, 4634, 3917, 1265, 3813],\n",
              " [1813, 3229, 367, 3406, 1088, 2924, 1855],\n",
              " [4447, 2975, 587],\n",
              " [251, 4518, 1983, 1757, 1, 3244, 4378, 339, 194],\n",
              " [1136, 4267, 4171, 102, 3811, 2914, 2957, 1303, 642, 4810, 4112],\n",
              " [2111, 4266, 984, 2860, 4822, 1601, 353, 1553],\n",
              " [904, 776, 4567, 751, 4586, 4061, 947, 353, 1378, 1855],\n",
              " [1823, 3433, 2380, 3199, 353, 1351, 2191],\n",
              " [3287, 3091, 2555, 3943, 1023, 2794, 1855],\n",
              " [196,\n",
              "  4304,\n",
              "  2907,\n",
              "  149,\n",
              "  1578,\n",
              "  4021,\n",
              "  2895,\n",
              "  196,\n",
              "  4304,\n",
              "  2549,\n",
              "  4221,\n",
              "  4813,\n",
              "  506,\n",
              "  1753],\n",
              " [3273, 3124, 276, 1136],\n",
              " [3169, 679, 2542, 2463, 4452, 27, 3512, 3917, 1265, 3813],\n",
              " [2169, 924, 1374, 4977, 3917, 1265, 3813],\n",
              " [262, 3794, 4453, 3132, 307, 811, 3917, 1265, 3813],\n",
              " [374, 3437, 386, 1075, 1259, 2412, 2548, 4334, 2783, 1075],\n",
              " [2722, 1429, 2718, 2008, 1351, 676, 3917, 1265, 3813],\n",
              " [2324, 353, 918, 3400, 587, 3206, 937, 880, 2211, 1855],\n",
              " [3657, 4361, 1218, 1351, 1389, 2201],\n",
              " [3620, 47, 2351, 1761, 1378, 4427, 1762, 353],\n",
              " [1075, 4772, 4557, 353, 2109, 3956, 2763, 2473, 3917, 1265, 3813],\n",
              " [3630, 839, 1608, 3981, 208, 808, 4755, 3953, 3917, 1265, 3813],\n",
              " [2862, 964, 744, 3917, 1265, 3813],\n",
              " [4164, 2458, 4334, 2986, 4349, 3917, 1265, 3813],\n",
              " [3813, 937, 2351, 3917, 1265, 3813],\n",
              " [3736, 1750, 2593, 2352, 3128, 158, 3586, 2889, 3663, 3917, 1265, 3813],\n",
              " [2209, 798, 3583, 2372, 3062, 959, 158, 1653],\n",
              " [827, 2524, 3433, 4680, 3206, 95, 4560, 3382],\n",
              " [1502, 2078, 1423, 780, 4011, 3747, 887, 3917, 1265, 3813],\n",
              " [353, 1690, 4270, 3984, 3990, 2555, 5, 733, 1855],\n",
              " [4731, 3975, 1391, 2958, 2845, 646],\n",
              " [2313, 353, 1474, 937, 3788, 4579, 417, 3917, 1265, 3813],\n",
              " [1194, 3606, 1779, 828, 4430, 263, 829, 399],\n",
              " [1892, 2239, 3314, 3924, 2739, 3917, 1265, 3813],\n",
              " [3825, 1582, 315, 3287, 2635, 185, 3917, 1265, 3813],\n",
              " [3222, 2412, 2659, 353, 1518, 2456, 1649],\n",
              " [2211, 3900, 996, 1634, 1178, 1162, 2999, 4361, 3917, 1265, 3813],\n",
              " [1543, 1153, 353, 801, 3736, 3599, 3917, 1265, 3813],\n",
              " [1938, 353, 4994, 1665, 671, 2577],\n",
              " [4324, 2352, 2191, 1302, 1425, 59, 367, 893, 3917, 1265, 3813],\n",
              " [3412, 4560, 356, 374, 417, 312, 4700],\n",
              " [158, 244, 4278, 108, 3004, 3917, 1265, 3813],\n",
              " [353, 4605, 1045, 2982, 2228, 1892, 3917, 1265, 3813],\n",
              " [159, 3835, 3086, 1537, 430, 737, 3180, 3592],\n",
              " [3738, 3206, 1940],\n",
              " [880, 2276, 3037, 4129, 1294, 4385, 874, 3917, 1265, 3813],\n",
              " [4328, 1372, 2793, 103, 2400, 3956, 1039, 3376, 525, 3104, 4968, 1855],\n",
              " [1938, 353, 3245, 4904, 1631, 3844, 2251, 935, 730, 2806, 3917, 1265, 3813],\n",
              " [2173, 3900, 502, 719, 1617, 3917, 1265, 3813],\n",
              " [4285, 3776, 1450, 4985, 1153, 897, 3917, 1265, 3813],\n",
              " [1938,\n",
              "  353,\n",
              "  3535,\n",
              "  1750,\n",
              "  3829,\n",
              "  1136,\n",
              "  4003,\n",
              "  872,\n",
              "  3994,\n",
              "  3583,\n",
              "  4126,\n",
              "  4584,\n",
              "  323,\n",
              "  3917,\n",
              "  1265,\n",
              "  3813],\n",
              " [1490, 4231, 353, 2072, 199, 2674, 3917, 1265, 3813],\n",
              " [441, 2718, 3934, 2577, 4967, 1774],\n",
              " [353, 4267, 1967],\n",
              " [3287, 1744, 783, 2555, 2310, 3969, 1855],\n",
              " [3963, 3303, 1548, 1584, 2861, 4551, 269, 353, 1054, 1952, 4163, 879, 853],\n",
              " [767, 2709, 4834, 3298, 423, 1508, 2918],\n",
              " [2722, 2907, 2159, 1459, 1123, 374],\n",
              " [3217, 2546, 46, 4899, 881],\n",
              " [4957, 4031, 3377, 2640, 3984, 59, 2111, 2246, 1286, 2069, 3917, 1265, 3813],\n",
              " [4048, 1136, 4003, 4889, 1855],\n",
              " [146, 4411, 244, 2433, 1895, 1836, 2859, 4671, 2367],\n",
              " [4668, 3477, 2191, 2700, 4291, 2937, 566, 4578],\n",
              " [1157, 2156, 3382, 4782],\n",
              " [1596, 552, 2364, 4604, 3969, 194, 3180, 1210],\n",
              " [2769, 1214, 524, 1547],\n",
              " [3593, 2351, 2311, 4267, 4801, 3051, 149, 2568],\n",
              " [3355],\n",
              " [4402, 1471, 3437, 3813, 3885, 3516, 3917, 1265, 3813],\n",
              " [353, 571, 1103, 3248, 1294, 4967],\n",
              " [3440, 1300, 382, 4021, 2056, 3917, 1265, 3813],\n",
              " [2577, 509, 3665, 4306, 4588, 204, 353, 4532],\n",
              " [3215, 468, 1871, 2506, 3736, 353, 912],\n",
              " [3833, 2267, 4296, 4797, 3051, 353, 4348, 1855],\n",
              " [4490, 2351, 454, 2973, 969, 2174, 3292, 1474, 3917, 1265, 3813],\n",
              " [863, 2016, 2104],\n",
              " [4332, 2969, 4827, 1218, 2191, 3917, 1265, 3813],\n",
              " [1961, 1520, 807, 2429, 3048, 4843, 2638, 3752, 3170, 1855],\n",
              " [336, 811, 423, 330, 998, 1856, 4158, 4598, 3917, 1265, 3813],\n",
              " [2311, 1136, 872, 2924, 1403, 2010, 3382],\n",
              " [973, 3619, 2224, 3329, 4389, 3691, 3426, 4755, 2440, 1715, 158],\n",
              " [1136, 1477, 1303, 4487, 2468],\n",
              " [4621, 4782, 353, 4677, 4552, 1692, 620, 3917, 1265, 3813],\n",
              " [1710, 4324, 2885, 45, 3754, 3477, 3917, 1265, 3813],\n",
              " [3969, 1797, 805, 747, 2669, 1710],\n",
              " [641, 4646, 2674, 1581, 1718, 3704, 2593, 3917, 1265, 3813],\n",
              " [4470, 1657, 1581, 3170, 4518, 1158, 1158],\n",
              " [2292, 2293, 3623, 1188, 1342, 1218, 3917, 1265, 3813],\n",
              " [3178, 4509, 3518, 3736, 3178, 3914, 3737, 2542],\n",
              " [3334, 2905, 3140, 3924, 4717, 3655, 3599, 323, 418, 3477],\n",
              " [1303, 4405, 2734, 562, 4418, 678, 1855],\n",
              " [4956, 858, 3154, 1173, 3437, 1974, 2533, 641, 3917, 1265, 3813],\n",
              " [4212, 2367, 4795, 1762, 835, 2512],\n",
              " [2655, 4859, 2090, 4713, 3526, 532, 3615, 4252, 486, 2367, 1855],\n",
              " [912, 3639, 3789, 4287, 3329, 3743, 879, 4671],\n",
              " [1665, 1799, 509, 1649, 2834],\n",
              " [353, 3169, 3517, 4453, 1553, 2291, 2311, 719, 4098, 3917, 1265, 3813],\n",
              " [1628, 3161, 4657, 353, 1213, 4439, 1665, 2834, 1855],\n",
              " [4806, 1501, 2577, 353],\n",
              " [4966, 303, 3206, 2211, 2532, 1343, 751],\n",
              " [4698, 2338, 4754, 491, 1269, 3177, 2557, 4126, 1892],\n",
              " [2276, 509, 808, 937, 353, 1792],\n",
              " [2311, 3877, 1938, 353, 1854, 674, 1450, 4590, 608, 763, 3917, 1265, 3813],\n",
              " [158, 993, 486, 3990, 3074, 7, 106, 2672, 4175, 3836, 3917, 1265, 3813],\n",
              " [4105, 3029, 4903, 4889, 4889, 4889, 3917, 1265, 3813],\n",
              " [322, 1586, 4144, 3963, 3990, 3858, 888, 1186],\n",
              " [1136, 2316, 4306, 4673, 1136, 1617, 4617, 3452, 1109],\n",
              " [3933, 312, 1178, 4158, 2056, 3917, 1265, 3813],\n",
              " [1779, 2919, 2608, 1243, 3736, 1695, 3442, 2908, 3917, 1265, 3813],\n",
              " [353, 747, 3880, 1535, 3736, 3958, 842, 4304, 1830, 4971, 962, 4096, 1855],\n",
              " [2367, 4117, 4641, 3642, 2810, 1438],\n",
              " [2412, 1847, 132, 3446, 1871, 1136, 2341, 3051],\n",
              " [204, 4942, 587, 2367, 1189, 3917, 1265, 3813],\n",
              " [2501, 1762, 4405, 2895, 765, 2879, 353, 4567, 1855],\n",
              " [4173, 4133, 2267, 1601, 1704, 3002, 4924, 353, 3917, 1265, 3813],\n",
              " [3430, 1019, 1218, 3298, 2000, 3917, 1265, 3813],\n",
              " [4405, 968, 4003, 2468, 2530, 3124, 1721, 3481, 3917, 1265, 3813],\n",
              " [2549, 79, 3736, 4039, 2286, 1036, 9, 4641, 1793, 608, 2270, 1307],\n",
              " [3043, 1534, 3025, 2672, 2622, 2999, 3895, 3917, 1265, 3813],\n",
              " [509, 4760, 4324, 1534, 914, 4453],\n",
              " [486, 1088, 2709, 4296, 3859, 3771],\n",
              " [754,\n",
              "  3831,\n",
              "  3917,\n",
              "  1265,\n",
              "  3813,\n",
              "  1553,\n",
              "  1214,\n",
              "  3303,\n",
              "  3879,\n",
              "  259,\n",
              "  3244,\n",
              "  360,\n",
              "  2255,\n",
              "  3917,\n",
              "  1265,\n",
              "  3813],\n",
              " [1767, 4097, 956, 2506, 4003, 3558, 1938, 353, 4532, 1855],\n",
              " [929, 2876, 2311, 4027, 3316, 343, 3387, 4818, 2858, 509, 1855],\n",
              " [4192, 4964, 3791, 2577, 3917, 1265, 3813],\n",
              " [2315, 539, 256, 3873, 4405, 4924, 2338],\n",
              " [835, 349, 1774, 4599, 2173, 3534, 606, 2552, 330, 251, 920, 4190, 888, 4671],\n",
              " [509, 2886, 1302, 2191, 1331, 3143, 4324, 1103, 3917, 1265, 3813],\n",
              " [2953, 4801, 820, 4954, 353, 3437, 2718, 1823, 425, 1342, 1855],\n",
              " [2575, 4906, 2542, 1710, 937, 2908, 1222, 1855],\n",
              " [3630, 3000, 4009, 2433, 2926, 3977, 2174, 2219],\n",
              " [3641, 774, 2895, 2355, 1260, 1630, 1810],\n",
              " [3354, 3860, 4468, 1136, 1617, 4795, 3924, 4795, 2169],\n",
              " [1954, 7, 3627, 3128, 3917, 3886, 4906, 3917, 1265, 3813],\n",
              " [1214, 4306, 2000, 4960, 4367, 676, 2968, 2747, 848],\n",
              " [719, 1617, 3170, 2081, 1122, 4820, 556, 1855],\n",
              " [4232, 4405, 2209, 3900, 103, 5, 1263, 556, 1855],\n",
              " [4533, 4737, 3801, 3091, 1407, 3291, 548, 2806, 180, 4641],\n",
              " [4003, 4267, 1888, 1779, 1548, 1802, 251, 587, 2970, 3383, 3130, 1440],\n",
              " [2311, 2704, 912, 1850, 4021, 353, 3917, 1265, 3813],\n",
              " [4721, 4560, 1615, 3665, 2827, 2078, 3637, 3917, 1265, 3813],\n",
              " [3102, 4021, 1247, 2219, 1765, 1607, 4266, 2612, 3417],\n",
              " [736, 4970, 1320, 376, 2619],\n",
              " [1140, 353, 182, 3946, 3128, 2829, 4820, 1855],\n",
              " [2970, 3775, 3813, 4453, 3917, 1265, 3813],\n",
              " [535, 3303, 4281, 1991, 486, 4837, 88, 1595, 2957, 4534, 4447],\n",
              " [2982, 2500, 2914, 3674, 3110, 4646, 2674, 3917, 1265, 3813],\n",
              " [4879, 2929, 1308, 998, 2868, 1755, 1855],\n",
              " [701, 3343, 223, 2372, 353, 3145, 1855],\n",
              " [353, 1518, 4922, 491],\n",
              " [4094, 1665, 3635, 2767, 2892, 3917, 1265, 3813],\n",
              " [2311, 1653, 3051, 3264, 6, 2374, 1103, 3704, 2205, 3917, 1265, 3813],\n",
              " [3917, 393, 1657, 4978, 3297, 1583, 1425, 240, 940, 3917, 1265, 3813],\n",
              " [2400, 3229, 4906, 158, 52, 2372, 1875, 4017, 1855],\n",
              " [3584, 2405, 795, 417, 185, 3870],\n",
              " [180, 2156, 3917, 1265, 3813],\n",
              " [1582, 1789, 2311, 3782, 2792, 2172, 1822, 283],\n",
              " [1560, 1069, 180, 3936, 1223, 249, 1407, 3135, 3140, 1855],\n",
              " [420, 4954, 4094, 1755, 3917, 1265, 3813],\n",
              " [4567, 4801, 2382, 353, 7, 1599, 251, 1774, 3751, 33, 1874, 4810, 1855],\n",
              " [2251, 2768, 356, 364, 2768, 4974, 69, 2768],\n",
              " [566, 3654, 1991, 282, 3143, 4954, 113, 3917, 1265, 3813],\n",
              " [1926, 2116, 1408, 1104, 3635, 1471],\n",
              " [4191, 2704, 259, 3433, 3149, 4296, 143, 3372, 4289],\n",
              " [2161, 1214, 524, 1547],\n",
              " [353, 4532, 2434, 4453, 1276, 1020, 3704, 1855],\n",
              " [353, 1365, 3880, 881, 431, 2372, 4506, 3296, 3917, 1265, 3813],\n",
              " [4519, 4052, 1407, 3291, 2953, 1587, 3303, 1855],\n",
              " [210, 2969, 3341, 147, 4817, 3943, 2581],\n",
              " [2311, 1136, 4003, 4027, 3956, 2236, 3614, 835],\n",
              " [1455, 1213],\n",
              " [1884, 2692, 1372, 767, 2050, 1508, 1078],\n",
              " [1374, 2374, 937, 795, 890, 4244, 1599, 3917, 1265, 3813],\n",
              " [2536, 2912, 2533, 4634, 2810, 1577, 1438, 3917, 1265, 3813],\n",
              " [763, 2979, 1735, 353, 4953, 1293, 295, 222, 3870, 966],\n",
              " [377, 1802, 699, 1347, 1710, 3239, 3808, 699, 3296, 1088],\n",
              " [369, 548, 175, 3553, 4057, 1109, 3004, 3917, 1265, 3813],\n",
              " [3178, 997, 3741, 4468, 4184, 835, 1854, 2330, 2778, 3641, 3206, 1363],\n",
              " [3002],\n",
              " [282, 251, 3617, 4468, 2903, 2931, 3382, 1875, 4096, 1855],\n",
              " [700,\n",
              "  2604,\n",
              "  167,\n",
              "  643,\n",
              "  3522,\n",
              "  276,\n",
              "  1246,\n",
              "  3206,\n",
              "  194,\n",
              "  2462,\n",
              "  1178,\n",
              "  3917,\n",
              "  2062,\n",
              "  151],\n",
              " [282, 251, 4036, 4658, 4315, 4600, 2698, 3382, 2695, 1735],\n",
              " [1210, 1, 4609, 3128, 1922, 4257, 1893, 4352, 2859],\n",
              " [880, 3602, 2372, 2267, 46, 1034],\n",
              " [3917, 2215, 259, 169, 3437, 3135, 4437, 2949],\n",
              " [767, 412, 351, 891, 1674, 4028, 2895, 4251, 354, 1855],\n",
              " [4485, 4162, 4319, 1545],\n",
              " [1980, 3060, 4441, 4612, 3233, 1532, 4711, 3917, 1265, 3813],\n",
              " [938, 4117, 1313, 4007, 2732, 2159, 2899, 3917, 1265, 3813],\n",
              " [4765, 4136, 1940, 2072, 2546, 4519],\n",
              " [1755, 3917, 1265, 3813],\n",
              " [4324, 2895, 1196, 1450, 1822, 3145],\n",
              " [1961, 1520, 1095, 2431, 4652, 2650, 2212, 4579, 1954, 4839, 224],\n",
              " [3738, 749, 1474, 962, 3736, 4334, 4009],\n",
              " [2660, 4584, 1550, 1547, 1446, 3917, 1265, 3813],\n",
              " [1136, 4003, 3582, 2367, 438, 2870, 4487, 2833, 2734],\n",
              " [1157, 3825, 1671, 1634, 4385, 918, 3917, 1265, 3813],\n",
              " [885, 2173, 2463, 2945, 3056],\n",
              " [937, 1160, 1789, 3206, 3076, 409, 2211],\n",
              " [3481, 1300, 1508, 3888, 1160, 3409, 1110, 2041, 3360, 3917, 1265, 3813],\n",
              " [3206, 4554, 2064, 1768, 3382, 3020, 3808, 3906],\n",
              " [4095, 3368, 359, 1864, 2019, 1895, 1755, 3917, 1265, 3813],\n",
              " [711, 1632, 1305, 774, 2607, 3691, 2156, 1632, 1802, 1855],\n",
              " [3592, 2512, 2389, 4383, 4967, 3400, 3354, 3394, 3419, 1331],\n",
              " [1936, 2105, 2299, 2311, 353, 872, 2473, 1223, 318],\n",
              " [4754, 2058, 2662, 1202, 2173, 3730, 3787, 4196, 3917, 1265, 3813],\n",
              " [835, 903, 447, 608, 4149, 1300, 3614, 3477],\n",
              " [1180, 3667, 916, 3924, 3736, 785, 1855],\n",
              " [4819, 1581, 4940, 3917, 1265, 3813],\n",
              " [2155, 4652, 1616, 1186, 4007, 3442, 1061, 1855],\n",
              " [4819, 2056, 1389, 3917, 1265, 3813],\n",
              " [3206, 406, 4906, 1160, 997, 4015, 2211, 374, 2173, 1765, 973, 845],\n",
              " [3917, 4003, 2468, 468, 1496, 4534, 4723, 2870, 4487],\n",
              " [3008, 3869, 4906, 1799, 4017, 1568, 3437, 747, 3917, 1265, 3813],\n",
              " [108, 3477, 3917, 1265, 3813],\n",
              " [743, 3135, 2937, 513, 3917, 1265, 3813],\n",
              " [4686, 2311, 2729, 3535, 1109, 4439, 1855],\n",
              " [4246, 1871, 136, 3256, 2031, 3917, 2434, 1103, 3917, 1265, 3813],\n",
              " [3623, 1222, 1550, 1755, 3917, 1265, 3813],\n",
              " [3618, 3358, 1856, 3714, 1583, 3917, 1265, 3813],\n",
              " [2297, 3380, 353, 2672, 2097, 9, 3917, 1265, 3813],\n",
              " [2282,\n",
              "  4755,\n",
              "  2271,\n",
              "  3325,\n",
              "  1351,\n",
              "  3583,\n",
              "  4324,\n",
              "  3477,\n",
              "  3178,\n",
              "  4674,\n",
              "  2326,\n",
              "  2080,\n",
              "  1864,\n",
              "  1748],\n",
              " [1710, 2367, 964, 1212, 2905, 4955, 2718, 1855],\n",
              " [3037, 1934, 4122, 2080, 1001, 407, 624, 3917, 1265, 3813],\n",
              " [2367, 4117, 3063, 4081, 1712, 2191],\n",
              " [587, 2970, 4279, 1548, 2468, 2604, 4389, 453, 2926],\n",
              " [1938, 353, 3221, 4939, 1039, 2766, 2577, 3351, 4985, 3917, 1265, 3813],\n",
              " [657, 3674, 2721, 4379, 872, 3206, 4289, 423, 3807, 4095],\n",
              " [2191, 4352, 348, 206, 2622, 2436, 1823],\n",
              " [4324, 893, 4252, 1781, 3151, 4016, 360, 1, 4102, 1218, 2064, 1855],\n",
              " [854, 676, 2968, 4276, 4071, 2514, 4919, 2628],\n",
              " [149, 1854, 2330, 4283, 3685, 1363, 2751, 4985, 4387, 3092],\n",
              " [1136, 1276, 1938, 353, 937, 4048, 2734],\n",
              " [3785, 353, 1252, 2702, 1810, 562, 1286, 2942, 353, 1855],\n",
              " [4650, 4605, 4745, 1985, 1523, 3828, 2492, 851, 2169, 3917, 1265, 3813],\n",
              " [353, 935, 3351, 484, 4754, 679, 4518, 603, 1408, 3917, 1265, 3813],\n",
              " [1938, 353, 3357, 1810, 952, 4473, 1508, 4722, 3780, 613],\n",
              " [3919, 4092, 556, 3278, 2725, 1574],\n",
              " [2211, 3736, 4509, 730, 4598, 1014, 4939, 2794, 2704],\n",
              " [4506, 1696, 1311, 2542, 393, 4922],\n",
              " [4288, 1581, 194, 1735, 3900, 1075, 3917, 1265, 3813],\n",
              " [3642, 1789, 4266, 3990, 3757, 7, 2070, 1194, 3291],\n",
              " [711, 2557, 1981, 2311, 1372, 3382, 3906, 2542],\n",
              " [2969, 1753, 3432, 2445, 1263, 3176, 3917, 1265, 3813],\n",
              " [3601, 158, 962, 1343, 3456, 943, 2827, 4584, 680],\n",
              " [1289, 2248, 4731, 1122, 4814, 2167, 4075, 2908, 1136, 4003, 3056, 995, 1940],\n",
              " [3956, 3149, 1789, 924, 1710, 3924, 3665, 3917, 1265, 3813],\n",
              " [572, 1789, 393, 1224, 4003, 2866],\n",
              " [353, 935, 3582, 1223, 2655, 942, 571, 3917, 1265, 3813],\n",
              " [3409, 1015],\n",
              " [353, 2530, 4721, 2078, 212, 486, 1450, 113, 3851, 7, 2317, 97, 912],\n",
              " [367, 1592, 4324, 2191, 1715],\n",
              " [1823, 324, 4794, 2072, 912],\n",
              " [1550, 82, 3382, 4172, 251, 3412, 4464],\n",
              " [2282,\n",
              "  173,\n",
              "  1845,\n",
              "  4744,\n",
              "  4484,\n",
              "  509,\n",
              "  4643,\n",
              "  2236,\n",
              "  450,\n",
              "  173,\n",
              "  1845,\n",
              "  4744,\n",
              "  4484,\n",
              "  509,\n",
              "  4643,\n",
              "  2236,\n",
              "  450,\n",
              "  3917,\n",
              "  2767,\n",
              "  4519],\n",
              " [4158, 2173, 715, 491, 2638],\n",
              " [2450, 322, 2810, 1750, 4112, 4641],\n",
              " [282, 880, 924, 2752, 205, 1767, 5, 4698, 3477, 4782, 914, 1940],\n",
              " [1750, 2458, 1938, 353, 3154, 1708, 2718, 1619, 3917, 1265, 3813],\n",
              " [2953, 4908, 1098, 2302, 1103, 4150, 3000, 955, 4768, 4021, 3619, 1855],\n",
              " [1655, 2367, 1309, 4319, 1218],\n",
              " [3376,\n",
              "  2736,\n",
              "  2311,\n",
              "  1586,\n",
              "  2718,\n",
              "  2311,\n",
              "  158,\n",
              "  2740,\n",
              "  4625,\n",
              "  2709,\n",
              "  3577,\n",
              "  4548,\n",
              "  677,\n",
              "  3665,\n",
              "  4708,\n",
              "  912],\n",
              " [3259, 3393, 763, 149],\n",
              " [1583, 3704, 4031, 4003, 1014, 4985, 330],\n",
              " [353, 3969, 1618, 222, 3917, 2062, 151],\n",
              " [1927, 2028, 449, 1474, 4003, 353, 674, 3225, 3917, 1265, 3813],\n",
              " [3043, 4447, 1665, 4183, 668, 510, 3963, 3917, 1265, 3813],\n",
              " [3437, 448, 3573, 2571, 4800, 509, 3560, 4534, 1775, 620],\n",
              " [887, 2999, 2016, 2792, 2172, 1822, 3145],\n",
              " [2834, 1584, 3092, 1955, 3699, 2070, 4098, 4754, 2792],\n",
              " [4714, 2209, 1895, 455, 2124, 3145, 4074, 2895, 625, 3041, 1855],\n",
              " [4787, 4385, 1162, 1110, 3797, 587],\n",
              " [1678, 4511, 2742, 1550, 829, 4967, 920],\n",
              " [4461, 3619, 1527, 3562, 1302, 3627, 3479, 739],\n",
              " [232, 353, 1378, 1624, 4366, 3917, 1265, 3813],\n",
              " [3412, 2156, 2578, 2763, 699, 608, 796, 2251, 749, 3317, 3776, 1214, 2373],\n",
              " [4924, 1425, 2445, 353, 881, 2420, 3886, 542],\n",
              " [1160, 3691, 353, 1369, 2879, 3713, 2897, 4392, 4622],\n",
              " [1537, 4522, 3322, 676, 4942, 3906, 3174, 2615, 2778, 3917, 1265, 3813],\n",
              " [1669, 893, 4846, 4021, 4334, 4765, 1583, 2023, 3383, 3917, 1265, 3813],\n",
              " [2367, 4117, 899, 1210, 4288, 2655, 4394, 4740, 3196, 2255],\n",
              " [2351,\n",
              "  3076,\n",
              "  2386,\n",
              "  3493,\n",
              "  4967,\n",
              "  1281,\n",
              "  737,\n",
              "  3570,\n",
              "  2634,\n",
              "  4333,\n",
              "  353,\n",
              "  737,\n",
              "  3180,\n",
              "  1855],\n",
              " [2167, 3951, 1767, 1586, 4389, 1378],\n",
              " [2330, 3917, 1265, 4324, 2751, 1843, 3886, 4906, 3917, 1265, 3813],\n",
              " [353, 2752, 88, 4388, 1496, 2498, 3917, 912, 2671, 4324, 2674],\n",
              " [3140, 738, 1458, 1356, 1787, 3243, 924, 2910, 3917, 1265, 3813],\n",
              " [3512, 353, 3062, 1160, 1103, 3477, 3437, 1629, 1994, 1855],\n",
              " [284, 1160, 495, 2557, 3801, 3176, 2672, 374, 1239, 284, 1160],\n",
              " [3833, 1165, 4519, 2648, 2751, 4169, 4366, 1855],\n",
              " [3477, 530, 829, 737],\n",
              " [552,\n",
              "  699,\n",
              "  38,\n",
              "  244,\n",
              "  3601,\n",
              "  3128,\n",
              "  4221,\n",
              "  1823,\n",
              "  3619,\n",
              "  3746,\n",
              "  2794,\n",
              "  2271,\n",
              "  937,\n",
              "  1103,\n",
              "  1855],\n",
              " [2567, 1122, 881, 912, 2462, 2612, 4992, 3917, 1265, 3813],\n",
              " [2231, 3713, 3639, 2672, 4175, 1308, 4349, 1041, 215],\n",
              " [1548, 3462, 4584, 3151, 2468],\n",
              " [3766, 4518, 4666, 1355, 2999, 1547],\n",
              " [2297, 2536, 3463, 2297, 1810, 4507, 1136, 3164, 353, 3463, 1553],\n",
              " [4641, 885, 4680, 2156, 890, 3886, 3763, 3298, 4509, 912],\n",
              " [1136, 4003, 158, 331, 606, 3284, 331, 4221, 4306, 3917, 1265, 3813],\n",
              " [3206, 3074, 2615, 1695, 3824, 1954, 4196, 539],\n",
              " [2514, 2859, 2593, 1666, 3181, 1583, 4366, 1940, 2718, 4743],\n",
              " [1980, 2224, 1871, 3611, 4994, 2984, 1613, 835, 129, 2444, 2492, 1855],\n",
              " [3316, 343, 1425, 2907, 3302, 2752, 3917, 1265, 3813],\n",
              " [4795, 353, 509, 2272, 4671, 4849],\n",
              " [3170, 4003, 4703, 3128, 988, 1136, 252],\n",
              " [2211,\n",
              "  3377,\n",
              "  482,\n",
              "  1187,\n",
              "  942,\n",
              "  3249,\n",
              "  2458,\n",
              "  1467,\n",
              "  3298,\n",
              "  551,\n",
              "  3508,\n",
              "  4664,\n",
              "  543,\n",
              "  2412,\n",
              "  208],\n",
              " [214, 4349, 4292, 1471, 1072, 1276, 4188, 3917, 1265, 3813],\n",
              " [1710, 353, 3207, 1450, 3689, 3797, 4584, 2072, 1855],\n",
              " [3170, 4003, 2089, 1407, 2462, 653, 1665, 1739, 2939, 2311, 2367],\n",
              " [4945, 2195, 4362, 1767, 3933, 4389, 4405, 2625, 4899],\n",
              " [478, 353, 606, 2718],\n",
              " [552, 4942, 4805, 9, 3586, 2729, 2267, 2535, 3917, 1265, 3813],\n",
              " [2049, 4949, 2484, 2250, 3733, 2231, 480, 3811, 3917, 1265, 3813],\n",
              " [3453, 2555, 4112, 2078, 4378, 182, 1855],\n",
              " [2729, 202, 4994, 4506, 2674, 2984, 763, 3163, 3917, 1265, 3813],\n",
              " [2837, 2353, 353, 2752, 1878, 1773, 354, 103, 1159],\n",
              " [2372, 222, 353, 1696, 3101, 4489, 3949, 1980, 2224, 4285],\n",
              " [3639, 905, 3647, 2716],\n",
              " [353, 170, 798, 4061, 1587, 4519, 4967, 4837, 1855],\n",
              " [3140, 738, 4343, 4212, 4112, 4741, 3628, 448, 3917, 1265, 3813],\n",
              " [1585, 3398, 3932, 2942, 3278, 623, 3917, 1265, 3813],\n",
              " [4336, 2736, 1586, 1619, 4139, 4650, 3917, 1265, 3813],\n",
              " [1581, 3062, 246, 2827, 3496, 3666, 3963, 3736, 2957, 3917, 1265, 3813],\n",
              " [509, 4770, 4795, 3647, 2191, 3654, 1617, 3961, 3917, 1265, 3813],\n",
              " [3060, 170, 81, 23, 4433, 2211, 2104, 4395, 3917, 1265, 3813],\n",
              " [2222, 1614, 3413, 4263, 4950, 3328, 4955, 1665, 3476],\n",
              " [1938, 353, 2311, 4052, 3903, 2674, 3917, 1265, 3813],\n",
              " [],\n",
              " [3562, 1967, 1665, 2834, 645, 583],\n",
              " [4959, 2190, 4529, 4579, 1926, 202, 4279, 3829, 393],\n",
              " [887, 3994, 4584, 3917, 2367],\n",
              " [2282, 4324, 3951, 2373, 1885, 1136, 1088, 1034, 953],\n",
              " [2834, 1584, 3336, 2848, 4065, 1980, 2224, 1136, 4003],\n",
              " [353, 569, 1223, 2806, 4985, 3917, 1265, 3813],\n",
              " [1248, 3200, 4117, 2031, 353, 1940, 4584, 3127, 251],\n",
              " [2156, 1365, 2655, 4296, 719, 2459, 532, 3917, 1265, 3813],\n",
              " [1051, 2251, 1696, 4889, 3376, 1855],\n",
              " [4967, 1774, 1607, 737, 3924],\n",
              " [2115, 81, 169, 856, 2862, 2115, 3674, 3689, 1727, 2463, 2165, 3914, 548],\n",
              " [4490, 1459, 691, 3917, 1265, 3813],\n",
              " [4889, 1343, 1626, 4287, 3917, 1265, 3813],\n",
              " [767,\n",
              "  2796,\n",
              "  1499,\n",
              "  1508,\n",
              "  1791,\n",
              "  4292,\n",
              "  225,\n",
              "  860,\n",
              "  1735,\n",
              "  764,\n",
              "  4803,\n",
              "  3746,\n",
              "  2128,\n",
              "  1508,\n",
              "  237,\n",
              "  4771,\n",
              "  4722,\n",
              "  4638],\n",
              " [4567, 1553, 1223, 7, 3704, 3990, 4086, 2914, 1590, 2650, 1855],\n",
              " [3308, 3045, 4409, 3143, 2366, 423, 2027, 1855],\n",
              " [1474, 2211, 810, 2116, 4171, 1429, 2865, 2651, 312, 4755, 2440],\n",
              " [1249, 4895, 2585, 234, 3164, 1218, 129, 103, 1609, 3336, 2248, 937, 1855],\n",
              " [283, 1970, 1186, 4028, 1122, 4263, 3831, 3062, 3673],\n",
              " [703, 1408, 482, 1372, 3738, 2348, 3736, 4021, 4097, 882, 2834, 1855],\n",
              " [3244, 1342, 1161, 374, 2156, 2074],\n",
              " [66, 4025, 3200, 3261, 1823, 1046, 42, 2341, 103, 1855],\n",
              " [441, 3034, 2834, 925, 4985, 4075, 678],\n",
              " [2718, 1550, 374, 1351, 3917, 1265, 3813],\n",
              " [2761, 1938, 353, 1888, 3519, 1149, 2674, 3917, 1265, 3813],\n",
              " [622, 1136],\n",
              " [2127, 1414, 2752, 1895, 3193, 3917, 1265, 3813],\n",
              " [2282, 1328, 964, 3920, 1469],\n",
              " [2567, 4003, 2070, 620],\n",
              " [3140, 1090, 3611, 3969, 1871, 353, 3917, 1265, 3813],\n",
              " [3169, 482, 2367, 4117, 2128, 1342, 3917, 1265, 3813],\n",
              " [1136, 4003, 3534, 2634, 2463, 3917, 1265, 3813],\n",
              " [1615, 3248, 3180, 3813, 2016, 3465, 4960],\n",
              " [353, 425, 2429, 779, 2389],\n",
              " [1136, 2640, 3775, 4447, 1951, 1351, 2473, 2484, 3460],\n",
              " [3929, 3851, 2016, 4953, 2116, 3917, 1265, 3813],\n",
              " [3585, 240, 6, 2877, 512, 3917, 1265, 3813],\n",
              " [353, 4641, 3129, 1458, 4446, 449, 3917, 1265, 3813],\n",
              " [3043, 4091, 2594, 4074, 276, 3104, 4650, 4897, 3917, 1265, 3813],\n",
              " [2388, 3213, 4754, 679, 1586, 4955, 2886, 167, 3437, 3917, 1265, 3813],\n",
              " [1351, 353, 1193, 3741, 1286, 1559, 4560, 1855],\n",
              " [4904, 1303, 4003, 2468, 4112, 2885, 3215, 4968, 3546, 353, 4218],\n",
              " [3360, 653, 320, 2914, 144],\n",
              " [2982, 3100, 2902, 259, 1614, 3900, 259, 4518, 4567, 1855],\n",
              " [694, 4985, 1203, 3617, 2373, 1940, 2716, 749, 1217],\n",
              " [2542, 2615, 1450, 4522, 3382, 3879, 1102],\n",
              " [3209, 763, 330, 678, 3517, 4014, 626, 3917, 1265, 3813],\n",
              " [116, 926, 1445, 3736, 3846, 1940],\n",
              " [353, 2645, 1476, 1109, 1710, 2367, 438, 3900, 1224],\n",
              " [4427, 353, 4906, 548, 320, 1351, 1342, 1855],\n",
              " [3079, 2718, 1710, 673, 1583, 2695, 1735, 3477, 3924, 1938, 353],\n",
              " [2908, 3859, 1940],\n",
              " [],\n",
              " [887, 2999, 2016, 4795, 2792, 2172, 1822, 3145],\n",
              " [1075, 2542, 1286, 2069, 4263, 888, 3833, 3617],\n",
              " [4370, 4571, 3975, 3258, 1158, 1974, 1248, 2367, 765],\n",
              " [169, 2984, 1136, 4003, 3124],\n",
              " [2167, 1309, 4126, 1281, 662, 4196],\n",
              " [1940, 4770, 2140, 3917, 1178],\n",
              " [1136, 3149, 2299, 2311, 2078],\n",
              " [3795,\n",
              "  34,\n",
              "  194,\n",
              "  2173,\n",
              "  4628,\n",
              "  3883,\n",
              "  2373,\n",
              "  2729,\n",
              "  4534,\n",
              "  905,\n",
              "  354,\n",
              "  3917,\n",
              "  1265,\n",
              "  3813],\n",
              " [2282,\n",
              "  1792,\n",
              "  689,\n",
              "  1534,\n",
              "  3448,\n",
              "  1432,\n",
              "  1792,\n",
              "  689,\n",
              "  1534,\n",
              "  3448,\n",
              "  1432,\n",
              "  4920,\n",
              "  3794,\n",
              "  2126],\n",
              " [1938, 353, 2542, 3358, 1634, 1149, 2674, 3917, 1265, 3813],\n",
              " [4841, 2672, 2299, 2311, 796, 1136, 3736, 3158, 4173],\n",
              " [170,\n",
              "  4924,\n",
              "  3128,\n",
              "  4966,\n",
              "  2308,\n",
              "  510,\n",
              "  1823,\n",
              "  729,\n",
              "  3359,\n",
              "  3168,\n",
              "  3128,\n",
              "  719,\n",
              "  1617,\n",
              "  3371,\n",
              "  1855],\n",
              " [526,\n",
              "  4822,\n",
              "  3617,\n",
              "  1186,\n",
              "  1158,\n",
              "  2722,\n",
              "  604,\n",
              "  4037,\n",
              "  4880,\n",
              "  3253,\n",
              "  4468,\n",
              "  4581,\n",
              "  4508,\n",
              "  1855],\n",
              " [1472, 3657, 997, 4953, 1990],\n",
              " [3698, 2743, 4755, 1381, 4242, 2622, 3917, 1265, 3813],\n",
              " [3924, 620, 1777, 3984, 4016, 1940],\n",
              " [4249, 1113, 1665, 2308, 4689, 3917, 2344, 608, 1442, 4049, 2463, 970],\n",
              " [353, 1160, 3736, 1954],\n",
              " [2317, 3704, 538, 3403, 1541, 2876, 1134, 1864],\n",
              " [3442, 2571, 1363, 1256, 2729, 4222, 4258, 3917, 1265, 3813],\n",
              " [2734, 1810, 2116, 2751, 835, 194, 1777, 912],\n",
              " [4765, 4985, 4765, 2497, 3273, 1504],\n",
              " [4956, 2140, 2351, 4054, 3303, 374, 2173, 4816, 1755, 3917, 1265, 3813],\n",
              " [3169, 3429, 4324, 2191, 566, 509, 747, 2999, 995, 3917, 1265, 3813],\n",
              " [220, 1041, 1575, 3477, 1161, 2267, 3920, 2908],\n",
              " [4632, 3456, 4324, 941, 1391, 1761, 4109, 144, 3917, 1265, 3813],\n",
              " [674, 5, 4936, 4755, 2440],\n",
              " [1830, 875, 4117, 892, 4492, 3757, 914, 2367, 3932, 3917, 1265, 3813],\n",
              " [2147, 2202, 3267, 3328, 1407, 3371, 1103, 1762, 2013],\n",
              " [4967, 1774, 1632, 3467, 555, 3127, 353],\n",
              " [3799, 2308, 2310, 1938, 353, 4304, 3465, 995],\n",
              " [1855, 3303, 1214, 1054, 1952, 1855],\n",
              " [353, 4519, 3498, 1996],\n",
              " [282, 1561, 204, 1103, 1147, 4953, 1853, 3200, 912, 1855],\n",
              " [417, 1634, 4304, 4666, 1355, 4212, 353, 3917, 1265, 3813],\n",
              " [623, 1813, 4263, 4671, 4185, 2834, 1057, 3851, 3917, 1265, 3813],\n",
              " [222, 1493, 1755, 2108, 1594, 1458, 3917, 1265, 3813],\n",
              " [1920, 1590, 881, 2141, 4519, 3969, 353, 1855],\n",
              " [662, 2860, 1739, 2865, 3874, 2571, 2860, 4822, 3924],\n",
              " [2700, 2412, 102, 520, 2267, 4904],\n",
              " [3379, 3917, 1723, 2718],\n",
              " [546, 2670, 1103, 132, 1550, 4150],\n",
              " [3043, 3575, 2676, 4797, 924, 571, 422, 1871, 353, 3917, 1265, 3813],\n",
              " [4126, 1286],\n",
              " [2267, 2459, 3413],\n",
              " [353, 1581, 1773, 417, 301],\n",
              " [2367, 3775, 839, 2352, 1276, 4891, 4007, 941, 3917, 1265, 3813],\n",
              " [2540, 1583, 3969, 3917, 1265, 3104, 4552, 3917, 1265, 3813],\n",
              " [276, 4067, 3628, 176, 1334, 4173, 1855],\n",
              " [3336, 276, 2145, 4859, 2155, 3625, 1820, 4017, 3917, 1265, 3813],\n",
              " [1672, 3673, 1553, 3360, 2156, 180, 3917, 1265, 3813],\n",
              " [4288, 491, 2116, 3917, 1265, 3813],\n",
              " [1224, 1306, 1985, 1136, 3709, 1302, 4054, 2484],\n",
              " [3170, 2135, 4158, 353, 4985, 323, 3062, 3917, 2313, 3917, 1265, 3813],\n",
              " [2458, 3517, 3169, 4156, 1938, 353, 3813, 3917, 1265, 3813],\n",
              " [1174,\n",
              "  4820,\n",
              "  138,\n",
              "  353,\n",
              "  937,\n",
              "  3917,\n",
              "  374,\n",
              "  3984,\n",
              "  4755,\n",
              "  1581,\n",
              "  425,\n",
              "  2296,\n",
              "  4288,\n",
              "  2224],\n",
              " [4361, 3376, 2718, 3709, 1088, 2763, 4967, 1281, 1967, 1550, 1855],\n",
              " [1938, 353, 1507, 1653, 2209, 2222, 4129, 3768, 2612, 4714, 1895],\n",
              " [],\n",
              " [3170, 2966, 1308, 2173, 374, 2474, 4851, 1755, 3917, 1265, 3813],\n",
              " [3748, 1543, 4636, 2542, 2834, 1854, 1865, 4385, 3917, 1265, 3813],\n",
              " [2914, 4289, 3170, 4321, 3746, 2372, 880, 4610],\n",
              " [839, 1937, 2450, 763, 631, 1755, 3917, 1265, 3813],\n",
              " [1801, 1246, 1187, 2251, 1158, 3775, 3736, 223, 1855],\n",
              " [2542, 4615, 3493, 3795, 85, 1857, 1462, 1602],\n",
              " [4567, 4128, 1392, 2982, 4605, 1892, 606, 4686, 330, 4605, 1855],\n",
              " [4955, 4437, 2413, 4031, 3136],\n",
              " [1450, 3619, 4210, 4953, 3158, 970, 3917, 1265, 3813],\n",
              " [1796, 2965, 2463, 4486, 4347, 2577, 4003, 3917, 1265, 3813],\n",
              " [353, 2577, 1696, 2372, 353, 1631, 1133, 3297, 371],\n",
              " [194, 2166, 2672, 1541, 144, 3752],\n",
              " [353, 3178, 937, 4549, 530, 1617, 1855],\n",
              " [3963, 1983, 730, 2809, 147, 4122, 2156, 3244, 3151, 3419, 1765, 2257],\n",
              " [1160, 571, 169, 2718, 353, 1518, 626, 2078, 1413, 2734],\n",
              " [1601, 1741, 3738, 1243, 378, 2578, 3917, 1265, 3813],\n",
              " [1303, 4003, 2468, 4112, 2885, 3215, 4968, 3546, 353, 4218],\n",
              " [1136, 4424, 1885, 836, 1432, 872],\n",
              " [2429, 4062, 2596, 331, 1103, 4628, 3917, 1265, 3813],\n",
              " [3321, 3001, 1711, 2429, 3628, 4641, 1768, 4239, 1940, 3461, 1534, 914],\n",
              " [3170, 4003, 872, 3128, 2877, 497, 1834, 1136, 1940],\n",
              " [3064, 2834, 2965, 1845, 335, 373, 4306, 3917, 1265, 3813],\n",
              " [353, 3153, 2104, 2211, 2653, 4506, 3917, 1265, 3813],\n",
              " [3169, 4357, 1088, 3382, 4795, 2898, 3746, 3089, 1584, 3917, 1265, 3813],\n",
              " [4927, 4274, 1614, 3233, 4014, 763],\n",
              " [2173, 1210, 3992, 298, 920, 3969, 4889, 3092, 275, 4196],\n",
              " [1258, 1378, 2204, 3743, 4605, 2372, 353, 3062],\n",
              " [662, 3665, 2372, 339, 259],\n",
              " [1592, 4324, 4888, 1149, 145, 3104, 2999, 2222, 2078, 330, 1211, 1774, 1855],\n",
              " [3900, 4242, 2769, 3317, 1050, 333, 2380],\n",
              " [1045, 3798, 1967, 4877, 4884, 204, 1534, 914],\n",
              " [2953,\n",
              "  2729,\n",
              "  2429,\n",
              "  3048,\n",
              "  3752,\n",
              "  1450,\n",
              "  2628,\n",
              "  2569,\n",
              "  3384,\n",
              "  2970,\n",
              "  3091,\n",
              "  4289,\n",
              "  4889,\n",
              "  1855],\n",
              " [3865, 3553, 3834, 1550, 1762, 2299, 2311],\n",
              " [3807, 4584, 1305, 743, 2367, 2504, 4553, 2255, 3917, 1265, 3813],\n",
              " [912, 4917, 3736, 353, 2752, 88, 1351, 535, 3303, 1669, 3932],\n",
              " [2330, 872, 417, 2397, 1550],\n",
              " [108, 719, 922, 4381],\n",
              " [4289, 2310, 1837, 781, 482, 3517, 2876, 3917, 1265, 3813],\n",
              " [4719, 1584, 1336, 1391, 1596, 3461, 3917, 1265, 4846, 3917, 1265, 3813],\n",
              " [2555, 3091, 3050, 2367, 1804, 2148, 2211, 3481, 3917, 1265, 3813],\n",
              " [367, 363, 2655, 4905, 2191, 1669, 3903, 3917, 1265, 3813],\n",
              " [719, 2459, 1696, 3140, 4822, 3752, 4236, 1855],\n",
              " [3900, 158, 4279, 1823, 3287, 4517, 671, 4305],\n",
              " [4680, 2173, 2351, 2769, 3502, 2080, 739, 3017, 995, 4285, 4102, 3586],\n",
              " [1884, 3525, 1351, 1136, 4003, 1351, 1497, 1869, 4711],\n",
              " [4289, 4330, 1728, 4836, 2311, 2313, 799, 3829, 4953, 3917, 1265, 3813],\n",
              " [4771, 4889, 4106, 3601, 420, 1459, 814, 1459, 3917, 1265, 3813],\n",
              " [3788, 123, 2311, 1961, 4003, 240, 3402, 3917, 1265, 3813],\n",
              " [3855, 378, 796, 353, 3145, 2933, 3917, 1265, 3813],\n",
              " [780, 266, 3736, 858, 2029, 4000, 4304, 1372, 3400, 33],\n",
              " [353, 4334, 3158, 4061, 2876, 4023, 194, 3917, 1265, 3813],\n",
              " [2742, 2037, 4324, 2080, 1450, 3963, 751, 4190, 2729, 920, 4835],\n",
              " [2282, 4751, 1491, 1865, 4827, 122, 4751, 1844, 3851, 2460, 1931],\n",
              " [706, 3934, 353, 3064, 259, 3765, 3969, 571, 3917, 1265, 3813],\n",
              " [3072, 2367, 1665, 2484, 3403, 4722, 2276, 121, 1855],\n",
              " [3135, 4551, 2209, 4252, 3917, 1265, 3813],\n",
              " [4508, 714, 1166, 1467, 1351, 929, 4671, 448, 3917, 1265, 3813],\n",
              " [2308, 1103, 3259, 674, 2910, 622, 1281],\n",
              " [3736, 2041, 283, 735, 4468, 1529, 303, 6, 3917, 1265, 3813],\n",
              " [3665, 169, 1502, 1617, 2310, 3917, 1265, 3813],\n",
              " [853, 103, 968, 3877, 3477, 3924, 1938, 353],\n",
              " [4267, 1425, 2002, 4621, 626, 606, 887, 3917, 1265, 3813],\n",
              " [1281, 3728, 88, 1001, 1157, 200, 1223],\n",
              " [1152, 3382, 2218, 3518, 468, 262, 997, 3917, 1265, 3813],\n",
              " [1977, 2062, 1871, 3917, 1265, 3813],\n",
              " [108, 874, 2438, 3268, 4333, 1471, 1799],\n",
              " [2337, 502, 351, 2308, 4042, 993, 1669],\n",
              " [1133, 565, 4682, 3956, 2156, 331, 2955, 1157, 3835, 283, 3917, 1265, 3813],\n",
              " [2942, 1645, 1584, 2438, 4075, 4304, 3673, 1855],\n",
              " [23, 1481, 3057, 4873, 4373, 38, 2211, 2827, 1857, 938, 3917, 1265, 3813],\n",
              " [1303, 4309, 3917, 4112, 2468, 4003, 2241, 4967, 1569],\n",
              " [3493, 4187, 3206, 4066, 4581, 2294],\n",
              " [2351, 676, 4548, 353, 874, 4555, 2251, 2628, 4682],\n",
              " [4641, 2308, 3602, 1836, 2902, 2910],\n",
              " [454, 1160, 996, 3141, 4389, 3206, 552, 3409],\n",
              " [511, 4700, 2353, 2783, 3917, 1265, 3813],\n",
              " [1938, 353, 1069, 2957, 470, 835, 2794, 3153, 3917, 1265, 3813],\n",
              " [690, 2984, 3540, 1391, 4578, 1429, 3917, 1265, 3813],\n",
              " [2914, 2848, 1481, 3110, 4646, 2674, 3917, 1265, 3813],\n",
              " [3043, 2923, 4952, 4505, 3748, 1543, 3665, 3917, 1265, 3813],\n",
              " [344, 3877, 3654, 3076, 7, 3828, 2524, 1004, 2895, 3917, 1265, 3813],\n",
              " [1940, 3997, 3801, 3846, 1940, 4021, 2635],\n",
              " [336, 3278, 3682, 1303, 1408, 4405, 4584, 3244, 3917, 4003, 2468, 4112],\n",
              " [1938, 353, 4489, 1407, 1707, 240],\n",
              " [1765, 4765, 3614, 2768, 1458, 3477, 3917, 1265, 3813],\n",
              " [3308, 4909, 2775, 509, 4906, 1126, 3382, 2972, 3917, 1265, 3813],\n",
              " [2145, 1088, 3516, 4733, 2666],\n",
              " [2627, 964, 2156, 3244, 1351, 1076, 353, 3585, 2604, 1855],\n",
              " [2634, 3050],\n",
              " [3127, 288, 3494, 3419, 982, 3879, 3736, 3038, 737],\n",
              " [4837, 506, 1136, 4003, 1450, 4501, 2581, 1940],\n",
              " [3178, 1246, 698, 4746, 4080, 1843, 2462, 1178, 3917, 1265, 3813],\n",
              " [1683, 2919, 3801, 4680, 1294],\n",
              " [2458,\n",
              "  3661,\n",
              "  1508,\n",
              "  1823,\n",
              "  1218,\n",
              "  1508,\n",
              "  2458,\n",
              "  1211,\n",
              "  953,\n",
              "  569,\n",
              "  1609,\n",
              "  1508,\n",
              "  2458,\n",
              "  2238,\n",
              "  4613,\n",
              "  767,\n",
              "  4775,\n",
              "  4759,\n",
              "  3110],\n",
              " [4021, 737, 608, 4968, 2688, 1311, 3969],\n",
              " [3690, 4507, 298, 1468, 4447, 3658],\n",
              " [353, 1940, 3963, 2192, 240, 3938],\n",
              " [966, 1372, 169, 3611, 1968, 1039, 3477, 3437, 1551, 1696, 1855],\n",
              " [149, 4389, 937, 1940, 353, 391, 3737, 4966, 556, 2311],\n",
              " [1561, 4127, 353, 2255, 2027, 3941, 832, 3577, 1126, 4985],\n",
              " [3025, 278, 1385],\n",
              " [3271, 88, 4835, 4267, 1696, 416],\n",
              " [1865, 1799, 3586, 2080, 4453, 2997, 3917, 1265, 3813],\n",
              " [2117, 1223, 881, 3982, 2480, 1020, 948, 33, 3946, 1855],\n",
              " [4787, 852, 421, 2108, 2420, 872, 3874, 2308, 4296, 2041],\n",
              " [2351, 1560, 2367, 4552, 1158, 4470, 606, 448, 1855],\n",
              " [1789, 4584, 1265, 3627, 2791, 4647, 1263],\n",
              " [3619, 1211],\n",
              " [913, 2182, 717, 3737, 2410, 4624, 3917, 1265, 3813],\n",
              " [1560, 4835, 2143, 1777, 3891, 4770, 3062, 1855],\n",
              " [3215, 4306, 1136, 2160, 40, 4795, 2577],\n",
              " [1308, 1669, 2718, 1131, 606, 441, 3917, 1265, 3813],\n",
              " [938, 4348, 3388, 4492, 3087, 3917, 1265, 3813],\n",
              " [3084, 400, 2727, 4314, 1113, 3917, 1265, 3813],\n",
              " [2317, 2391, 510, 4334, 4743, 1634, 3917, 1265, 3813],\n",
              " [353, 1164, 935, 4633, 3297, 4924, 1219, 572, 1657, 3917, 1265, 3813],\n",
              " [2349,\n",
              "  577,\n",
              "  169,\n",
              "  1380,\n",
              "  1710,\n",
              "  3125,\n",
              "  2937,\n",
              "  386,\n",
              "  3716,\n",
              "  3534,\n",
              "  1553,\n",
              "  1889,\n",
              "  985,\n",
              "  3917,\n",
              "  1265,\n",
              "  3813],\n",
              " [2172, 708, 2998, 4453, 1615, 3917, 1265, 3813],\n",
              " [2858, 3458, 3154, 1753, 4906, 353, 1541],\n",
              " [2351, 353, 3158, 3297, 371, 1696, 829, 3189, 2429, 3048, 1855],\n",
              " [336, 783, 2555, 2783, 1777, 984, 3127, 2924, 4967, 1855],\n",
              " [3619, 3206, 3919, 742, 3917, 1136, 2468, 4271, 3997, 4357, 4285, 1303],\n",
              " [3497, 3164, 1293, 3619, 4953, 1660, 3917, 1265, 3813],\n",
              " [2458, 3683, 272, 1693],\n",
              " [1407, 3477, 623, 4795, 2669, 1665],\n",
              " [949, 2914, 1450, 3393, 2241, 3143, 3048, 1855],\n",
              " [3043, 1231, 4329, 1577, 1921, 3969, 3493, 3917, 1265, 3813],\n",
              " [606, 1550, 259, 535, 1025, 2999, 1596, 352, 3766, 259],\n",
              " [4348, 3067, 3966, 3917, 1265, 3813],\n",
              " [3960, 184, 1136, 2709, 2191, 1293, 1665, 1823, 2616],\n",
              " [2449, 2982, 3519, 832, 393, 1249, 1687, 2634, 9, 4734, 1855],\n",
              " [4891, 4154, 2311, 4727, 3674, 2532, 1474, 3917, 1265, 3813],\n",
              " [673, 4361, 180, 353, 3207],\n",
              " [2303, 2440, 312, 4501],\n",
              " [4276, 1173, 3628, 4138, 1779, 2517, 3223, 4255, 3917, 1265, 3813],\n",
              " [858, 4288, 2126, 1991, 3433, 3733, 2156, 3924, 1938, 353],\n",
              " [2542, 2080, 962, 1731, 4522, 2584, 3092, 1954, 3917, 1265, 3813],\n",
              " [2942, 144, 1160, 920, 158, 912],\n",
              " [2209, 2340, 607, 448, 2996, 2351, 3984, 4333, 1157, 3917, 1265, 3813],\n",
              " [1136, 1595, 2492, 3566, 4487, 4743],\n",
              " [2879, 201, 4851, 3691, 806, 4646, 2674, 3917, 1265, 3813],\n",
              " [2250, 888, 1103, 4031, 1430, 4788, 3442, 4389, 1766],\n",
              " [1584, 4003, 4267, 1149, 3256, 3400, 642, 1246, 4994, 1760],\n",
              " [858, 3969, 353, 3709, 3776, 1634, 2200, 3917, 1265, 3813],\n",
              " [1954, 2471, 3382, 4933, 3906, 1768],\n",
              " [3245, 1136, 3002],\n",
              " [3963, 2353, 2797, 3128, 3591, 1031, 4112, 1136, 4004],\n",
              " [2650, 4563, 2876, 2018, 1000, 851, 699, 3917, 1265, 3813],\n",
              " [2173, 2542, 4615, 4014, 1550, 422, 4096, 636, 1506, 4615, 158, 2273, 2231],\n",
              " [3287, 4683, 3794, 3124, 2228, 1892, 3969, 3917, 1265, 3813],\n",
              " [2282, 108, 4057, 928, 2272, 108, 4057, 928, 2272, 4989, 49, 1921, 4208],\n",
              " [2426, 3182, 890, 4405, 2972, 925, 3460, 1303, 4151, 4641, 353, 1025],\n",
              " [835, 3043, 178, 2076, 1696, 2183, 4646, 1774],\n",
              " [282, 162, 3128, 3206, 2915, 1155, 3874, 2169, 3535, 108],\n",
              " [3336, 3206, 937, 1618, 1183, 1372, 3963, 3303, 912],\n",
              " [4924, 4288, 4632, 2905, 3922, 4215, 4590, 1378, 2209, 3917, 1265, 3813],\n",
              " [4646, 2674, 1136, 4003, 1938, 353, 4581, 1188, 3917, 1265, 3813],\n",
              " [41, 3713, 875, 814, 2367, 2169, 4968, 941, 1103, 175, 1224],\n",
              " [2209, 2340, 689, 4765, 3917, 1412, 3917, 1265, 3813],\n",
              " [2475, 3020, 2686, 702, 1983, 2267, 3571, 3917, 1265, 3813],\n",
              " [2848, 1039, 3944, 3437, 3794, 491, 1286, 2069],\n",
              " [1938, 353, 606, 507, 139, 3794, 2577],\n",
              " [282, 2796, 2092, 1020, 1768, 2173, 4092, 2173, 620, 3246, 1855],\n",
              " [2237, 2412, 2650, 2064, 3170, 201],\n",
              " [2368, 2989, 796, 863, 4605],\n",
              " [905, 1601, 1480, 2750, 4766],\n",
              " [2501, 1762, 1100, 1706, 2201, 4267, 1855],\n",
              " [4634, 154, 353, 2529, 2577, 608, 4792, 3611, 4560, 3917, 1265, 3813],\n",
              " [767, 222, 2718, 1696, 416, 2577, 3076, 3161, 1855],\n",
              " [3791, 1429, 2016, 2437],\n",
              " [3736, 2275, 1157, 4757, 149, 4765, 2484, 1357, 3917, 1265, 3813],\n",
              " [4957, 1103, 1120, 3886, 2275, 3917, 1265, 3813],\n",
              " [3333, 2558, 4985, 2222, 2267, 259, 3331],\n",
              " [1214, 267, 783, 2454, 3763],\n",
              " [3060, 4306, 4851, 3920, 3924, 353, 4827, 407, 2330, 2859, 1035, 1636],\n",
              " [2836, 1696, 1818, 2495, 2514, 353, 1774, 3393, 3917, 1265, 3813],\n",
              " [2372, 353, 671, 918, 2804, 393, 2108, 1845, 4288, 4045],\n",
              " [3527, 509, 3433, 2367, 4505, 1178, 3917, 1265, 3813],\n",
              " [4805, 796, 2426, 2730, 2151, 4713, 3917, 1265, 3813],\n",
              " [1303, 2109, 509, 1218, 2339, 3206, 3157, 616, 2640],\n",
              " [3733, 2985, 782, 4507, 1580, 335],\n",
              " [2895, 716, 2351, 4276, 4805, 4007, 3583, 4221],\n",
              " [2678, 4967, 1281, 1583, 2718, 4194, 2064],\n",
              " [3963, 2646, 2191, 2224, 3382, 4971, 1837, 3917, 1265, 3813],\n",
              " [4967, 1774, 4819, 3382, 2122, 4264],\n",
              " [937,\n",
              "  353,\n",
              "  4588,\n",
              "  3714,\n",
              "  9,\n",
              "  422,\n",
              "  3437,\n",
              "  1407,\n",
              "  3291,\n",
              "  1527,\n",
              "  2458,\n",
              "  2718,\n",
              "  2717,\n",
              "  2367,\n",
              "  1855],\n",
              " [1136, 4003, 2577, 3128, 2739, 3924, 3538, 4985],\n",
              " [348, 347, 559, 3377, 4770, 3162, 4265],\n",
              " [3476, 4671, 2803, 1263, 4020],\n",
              " [4238, 3933, 312, 3775, 1263, 4539, 312],\n",
              " [784, 2294, 4529, 2577, 1696, 416, 2106, 1374],\n",
              " [2372, 353, 3145, 3813, 335, 4933, 2116],\n",
              " [3647, 1601, 1039, 540, 4534, 1665, 3917, 1265, 3813],\n",
              " [3894, 1004, 2273, 2231, 3382, 3641, 497, 4021, 1672],\n",
              " [353, 2572, 1672, 1243, 780, 266, 2775, 1774, 3917, 1265, 3813],\n",
              " [1855, 3303, 1214, 2982, 1442, 1855],\n",
              " [1136, 1088],\n",
              " [324, 4021, 1658, 684, 3994, 4658, 1757, 3291],\n",
              " [1938, 353, 3060, 302, 3178, 199, 4646, 2674, 3917, 1265, 3813],\n",
              " [2311, 4945, 4028, 443, 925, 1663, 3536],\n",
              " [2458, 2128, 2367, 4175, 3893, 4903, 3768, 1855],\n",
              " [1508, 974, 3206, 904, 3854, 4360, 3056],\n",
              " [1495, 3163, 2429, 3526, 1619, 3160, 4641, 3409, 1855],\n",
              " [4784, 862, 2571, 2886, 2072, 3917, 1265, 3813],\n",
              " [2155, 1614, 215, 2907, 4263, 3042, 2622, 2023, 371, 3393, 1855],\n",
              " [662, 3617, 4348, 4598, 3145, 1088, 3583, 4126],\n",
              " [353, 747, 4266, 1069, 1363, 3433, 14, 3917, 1265, 3813],\n",
              " [1474, 4771, 3336, 417, 4507],\n",
              " [473, 3382, 2097, 3917, 1265, 3813],\n",
              " [2282, 4795, 2623, 3628, 164],\n",
              " [4904, 1303, 4003, 2468, 4112, 2885, 3215, 4968, 3546, 353, 4218],\n",
              " [3736, 4352, 147, 1768, 510, 1731, 818, 1222, 3917, 1265, 3813],\n",
              " [2567, 4953, 3900, 3557, 3001, 2041, 3354, 2070, 4304],\n",
              " [1228, 1696, 1088, 3145, 2792, 2172, 1822, 3328, 4296],\n",
              " [353, 993, 4028, 3393, 4950, 4795, 941, 2484, 3917, 1265, 3813],\n",
              " [4583, 462, 4112, 3359, 3775],\n",
              " [1834, 4590, 887, 3647, 3497, 763],\n",
              " [548, 716, 1473, 3746, 4258, 3129, 3886],\n",
              " [3006, 300, 1731, 374],\n",
              " [353, 603, 3917, 3714, 2156, 425, 1855],\n",
              " [2953, 1875, 4985, 2577, 801, 699, 608, 3685, 4522, 2546],\n",
              " [2209, 3762, 4363, 3828, 4950, 4588, 494, 301, 1855],\n",
              " [194, 3313, 1596, 3607],\n",
              " [1474,\n",
              "  2674,\n",
              "  3879,\n",
              "  3946,\n",
              "  374,\n",
              "  335,\n",
              "  365,\n",
              "  2483,\n",
              "  4584,\n",
              "  691,\n",
              "  374,\n",
              "  4579,\n",
              "  697,\n",
              "  3917,\n",
              "  1265,\n",
              "  3813],\n",
              " [3151, 4387, 2338, 1534, 914, 3145, 3076, 2792, 2172, 1822],\n",
              " [2317, 860, 3477, 4258, 3601, 3080, 7, 2080, 3145, 1855],\n",
              " [801, 2473, 3641, 3296, 2827, 4646, 4717],\n",
              " [1779, 2919, 3877, 1767, 997, 4218, 767, 3601, 2542, 3917, 1265, 3813],\n",
              " [4102, 2070, 4218, 1136, 4003, 3140, 1938, 353, 3917, 1265, 3813],\n",
              " [1587, 3303, 3917, 1265, 3813, 1001, 1855, 2351, 4317, 1855],\n",
              " [890, 3917, 2332, 1955, 3796, 4564, 3917, 1265, 3813],\n",
              " [555, 670, 3128, 4191, 1188, 3736, 4578, 3992, 1547],\n",
              " [3348, 2352, 1095, 3736, 3481, 1307, 2834, 4968, 3917, 1265, 3813],\n",
              " [2351, 1378, 3461, 1408, 61],\n",
              " [3329, 548, 2351, 4274, 1587, 3303, 1178, 1136, 4003],\n",
              " [3043, 1281, 2324, 2984, 1170, 4050, 4348, 1466, 4150, 3917, 1265, 3813],\n",
              " [3584, 3700, 4944, 2671, 1970, 1744, 368, 53],\n",
              " [1583, 3001, 653, 1550, 2999, 3900, 3823, 3816, 3433, 2231, 4673, 4978, 1194],\n",
              " [3043, 2023, 3403, 2895, 3813, 4727, 2896, 2621, 482, 3917, 1265, 3813],\n",
              " [2311, 7, 1690, 2148, 4218, 251, 2695],\n",
              " [4790, 1657, 1491, 1113],\n",
              " [3442, 1103, 4162, 3406, 4468, 2211, 3088, 3917, 1265, 3813],\n",
              " [3811, 2412, 82, 905],\n",
              " [1034, 3419, 121, 1001, 1990, 908, 1577, 3360],\n",
              " [2757, 2518, 3828, 1218, 2049, 913, 3917, 1265, 3813],\n",
              " [2367, 4117, 3642, 7, 2859, 473, 1202, 4906],\n",
              " [2072, 2209, 3215, 3140, 1378, 872, 3287, 4453, 353, 1855],\n",
              " [1991, 699, 4906, 3654, 4133, 4173, 1203, 1797, 360, 1954, 1855],\n",
              " [2374, 587, 801, 4027, 4324, 1186, 1616, 2834, 3917, 1265, 3813],\n",
              " [1156, 2191, 4723, 4519, 4218, 276, 4067],\n",
              " [1737, 2688, 3092, 1276, 1583, 2372],\n",
              " [1509, 4319, 4138, 417, 587],\n",
              " [336, 2555, 4567, 4128, 2426, 3742, 2501, 276, 244, 4421, 1855],\n",
              " [3736, 1750, 6, 1103, 3736, 2111, 1871, 4036, 4985, 3917, 1265, 3813],\n",
              " [353, 1224],\n",
              " [2072, 3924, 2619, 2389, 2427, 4135, 4560, 897, 3917, 1265, 3813],\n",
              " [353, 379, 3419, 2662, 2550, 1378, 180, 763, 4795, 912],\n",
              " [2858, 509, 1789, 2311, 4307, 3476, 3813, 3969, 3917, 1265, 3813],\n",
              " [1765, 1984, 2474, 2572, 474, 1823, 3400, 604, 7, 2030],\n",
              " [659, 165, 888, 2338, 1102, 4522, 4906],\n",
              " [329, 1701, 2248, 937, 4806, 240, 3108, 2079, 3917, 1265, 3813],\n",
              " [869, 2674, 2769, 3317, 3003],\n",
              " [354, 912, 2509, 1815, 4507, 2009, 1136],\n",
              " [630, 3917, 1347, 4891, 4023, 1095, 4506, 3917, 1265, 3813],\n",
              " [4003, 1181, 4076, 1025, 3518],\n",
              " [1136, 4641, 1061, 730, 2156, 4653, 353, 1855],\n",
              " [4092, 1940, 4267, 1334, 1828, 3229, 367, 473],\n",
              " [1352, 1981, 1813, 3064, 2339, 271, 1095, 1991],\n",
              " [3601, 4579, 158, 4922, 959, 81],\n",
              " [4445, 1630, 3783, 3658, 3382, 4358, 1875, 4985, 3404, 1855],\n",
              " [3041, 3635, 2931, 4819, 4636, 3426, 3917, 1265, 3813],\n",
              " [2311, 4027, 3834, 2174, 3261, 3747, 4033, 3917, 1265, 3813],\n",
              " [893, 2695, 574, 2060, 3382, 2237, 232, 3477],\n",
              " [676, 154, 2968, 3652, 2132, 2282, 1136, 448, 3344],\n",
              " [1991, 1788, 33, 3096, 587, 2013, 3917, 1265, 3813],\n",
              " [4704, 1295, 1335, 860, 3713, 4722, 1430],\n",
              " [2173, 3087, 866, 4003, 1773],\n",
              " [1909, 1286, 3045, 2211, 3044, 4221, 194, 194],\n",
              " [4506, 4985, 4029, 353, 4727, 3393, 3917, 1265, 3813],\n",
              " [276, 3644, 4324, 1286, 3419, 2668, 1351, 3516, 4805, 912],\n",
              " [1587, 3303, 353, 1095, 3038, 138],\n",
              " [4584, 2734],\n",
              " [3619, 2364, 1408, 3331, 1629, 2734, 1810, 1855],\n",
              " [3535, 1178, 1946, 3917, 1265, 3813],\n",
              " [2169, 3354, 3944, 1940, 4158, 4327, 1739, 4366, 1622, 2518, 3215, 4968],\n",
              " [3166, 4922, 1634, 752],\n",
              " [3460, 4837, 2468, 4507, 251, 1878, 2311, 3207],\n",
              " [3419, 2156, 1122, 2660, 823, 3111, 4904, 1550],\n",
              " [1892, 4784, 3170, 3209, 3064, 4904, 2463, 1136],\n",
              " [4102, 2045, 2338, 4801, 4985, 3430, 3917, 1265, 3813],\n",
              " [1178, 3128, 2640, 4948, 5, 2640, 2234, 2156, 1855],\n",
              " [3775, 3919, 4092, 3278, 2725, 1574, 4447, 149, 646, 4757],\n",
              " [4722, 4227, 3813, 4208, 875, 353, 353, 4635, 1855],\n",
              " [3606, 3038, 3464, 3128, 2459, 2459, 3917, 1265, 3813],\n",
              " [1136, 4003, 2160, 1938, 353, 3917, 526, 3662, 3215, 4306, 3917, 1265, 3813],\n",
              " [470, 2848, 2009, 2042, 1938, 353, 641, 4646, 2674, 3917, 1265, 3813],\n",
              " [282, 703, 1408, 3403, 2895, 3206, 4021, 1855],\n",
              " [4185, 1397, 3143, 3851, 3637, 1755, 3917, 1265, 3813],\n",
              " [1704, 2156, 205, 3969, 3417, 215, 3917, 1265, 3813],\n",
              " [430, 3912, 3882],\n",
              " [4285, 1938, 353, 1308, 1534, 3754, 4715, 2674, 41, 3917, 1265, 3813],\n",
              " [2122, 360, 1173, 2463, 835, 4535, 3917, 1265, 3813],\n",
              " [4487, 4489, 1407, 3291, 2848, 4184, 1936, 4518, 2108, 1855],\n",
              " [353, 875, 563, 4495, 3619, 4518, 4700, 4584, 671, 1188],\n",
              " [1937, 3169, 1793, 4468, 4903, 4966, 2148, 3917, 1265, 3813],\n",
              " [3170, 4905, 4097, 3834, 2224, 4343, 838, 2462, 4671, 448, 1855],\n",
              " [2458, 1616, 3920, 3104, 4489, 3583, 1774, 1855],\n",
              " [246,\n",
              "  2827,\n",
              "  3917,\n",
              "  194,\n",
              "  3196,\n",
              "  2303,\n",
              "  3990,\n",
              "  4379,\n",
              "  1543,\n",
              "  767,\n",
              "  2373,\n",
              "  3917,\n",
              "  1265,\n",
              "  3813],\n",
              " [1938, 353, 1136, 4003, 3757, 2401, 4646, 2674, 3917, 1265, 3813],\n",
              " [1823, 3382, 1157, 1550, 3654, 835, 4175, 374, 2173, 4816],\n",
              " [4324, 2191, 2367, 2141, 1136, 2317],\n",
              " [2410, 4453, 4411, 2724],\n",
              " [623, 3766, 559, 1954, 2339, 1768, 402, 1034, 1596, 352, 4628],\n",
              " [4632, 1773, 1954, 3736, 149, 115, 1710, 167, 3917, 1265, 3813],\n",
              " [2567, 1039, 1450, 353, 1302, 1851, 2577, 4288, 2650, 566, 780, 1855],\n",
              " [1731, 562, 774, 4889, 904, 3854, 379, 3169, 491],\n",
              " [353, 3535, 1696, 416, 4129, 3284, 1718, 3709, 3917, 1265, 3813],\n",
              " [2282, 1136, 4003, 3143, 2366, 3870, 4507, 2734, 2468, 3914],\n",
              " [4686, 2311, 4765, 1334, 1940, 1136, 2080, 3917, 1303, 2468, 4112],\n",
              " [1938, 353, 856, 315, 3169, 3517, 3766, 9, 1161, 3917, 1265, 3813],\n",
              " [1075, 3617, 2080, 2933, 2784, 380, 3482, 1036, 1822, 2518],\n",
              " [3846, 2910, 1121, 3271, 1884, 4606, 1095, 4815],\n",
              " [353, 835, 2794, 571, 3128, 4641, 6, 2718, 1331, 2622, 3917, 1265, 3813],\n",
              " [3592, 2512, 1370, 3287, 995, 4468, 2718, 2424, 912],\n",
              " [2758, 2156, 811, 3445, 1848, 3665, 3044, 3123, 3917, 1265, 3813],\n",
              " ...]"
            ]
          },
          "metadata": {},
          "execution_count": 83
        }
      ]
    },
    {
      "cell_type": "code",
      "source": [
        "corpus[1]"
      ],
      "metadata": {
        "colab": {
          "base_uri": "https://localhost:8080/",
          "height": 36
        },
        "id": "Mgs3qHGrGu3j",
        "outputId": "0a20761c-6002-44ed-f8a5-33b0b4003464"
      },
      "execution_count": 84,
      "outputs": [
        {
          "output_type": "execute_result",
          "data": {
            "text/plain": [
              "'flynn hillari clinton big woman campu breitbart'"
            ],
            "application/vnd.google.colaboratory.intrinsic+json": {
              "type": "string"
            }
          },
          "metadata": {},
          "execution_count": 84
        }
      ]
    },
    {
      "cell_type": "code",
      "source": [
        "onehot_rep[1]"
      ],
      "metadata": {
        "colab": {
          "base_uri": "https://localhost:8080/"
        },
        "id": "BK23QOorG4_t",
        "outputId": "e25e9238-49a9-4ea8-95d0-16ac69adca63"
      },
      "execution_count": 85,
      "outputs": [
        {
          "output_type": "execute_result",
          "data": {
            "text/plain": [
              "[170, 1136, 4003, 276, 486, 3404, 1855]"
            ]
          },
          "metadata": {},
          "execution_count": 85
        }
      ]
    },
    {
      "cell_type": "code",
      "source": [
        "lst = []\n",
        "for i in corpus:\n",
        "  lst.append(len(i.split()))\n",
        "\n",
        "max(lst)"
      ],
      "metadata": {
        "colab": {
          "base_uri": "https://localhost:8080/"
        },
        "id": "AqbrRIOwHTkA",
        "outputId": "4b988fd5-6086-433d-e967-4c950491b9d0"
      },
      "execution_count": 86,
      "outputs": [
        {
          "output_type": "execute_result",
          "data": {
            "text/plain": [
              "47"
            ]
          },
          "metadata": {},
          "execution_count": 86
        }
      ]
    },
    {
      "cell_type": "code",
      "source": [
        "# vocab_size\n",
        "vocab_size = 5000\n",
        "\n",
        "# sentence len\n",
        "sen_len = 50\n",
        "\n",
        "# Embedding Representation\n",
        "embedded_docs = pad_sequences(onehot_rep, padding='pre', maxlen=sen_len)\n",
        "embedded_docs"
      ],
      "metadata": {
        "colab": {
          "base_uri": "https://localhost:8080/"
        },
        "id": "4_mf7Y57G7Mx",
        "outputId": "c58f4d31-04e4-4ed1-e6b9-20b6cb0917b2"
      },
      "execution_count": 87,
      "outputs": [
        {
          "output_type": "execute_result",
          "data": {
            "text/plain": [
              "array([[   0,    0,    0, ...,  310, 4032, 1753],\n",
              "       [   0,    0,    0, ...,  486, 3404, 1855],\n",
              "       [   0,    0,    0, ..., 4653, 1351, 2895],\n",
              "       ...,\n",
              "       [   0,    0,    0, ..., 3917, 1265, 3813],\n",
              "       [   0,    0,    0, ..., 4636, 1601, 4789],\n",
              "       [   0,    0,    0, ..., 3497,  407, 1855]], dtype=int32)"
            ]
          },
          "metadata": {},
          "execution_count": 87
        }
      ]
    },
    {
      "cell_type": "code",
      "source": [
        "embedded_docs[1]"
      ],
      "metadata": {
        "colab": {
          "base_uri": "https://localhost:8080/"
        },
        "id": "H1N03UaEHqju",
        "outputId": "e1db2ea5-312a-4f6a-ee24-e7475f8e99de"
      },
      "execution_count": 88,
      "outputs": [
        {
          "output_type": "execute_result",
          "data": {
            "text/plain": [
              "array([   0,    0,    0,    0,    0,    0,    0,    0,    0,    0,    0,\n",
              "          0,    0,    0,    0,    0,    0,    0,    0,    0,    0,    0,\n",
              "          0,    0,    0,    0,    0,    0,    0,    0,    0,    0,    0,\n",
              "          0,    0,    0,    0,    0,    0,    0,    0,    0,    0,  170,\n",
              "       1136, 4003,  276,  486, 3404, 1855], dtype=int32)"
            ]
          },
          "metadata": {},
          "execution_count": 88
        }
      ]
    },
    {
      "cell_type": "code",
      "source": [
        "## Creating model\n",
        "embedding_vector_features=40 ##features representation\n",
        "model=Sequential()\n",
        "model.add(Embedding(vocab_size,embedding_vector_features,input_length=sen_len))\n",
        "model.add(LSTM(100))\n",
        "model.add(Dense(1,activation='sigmoid'))\n",
        "model.compile(loss='binary_crossentropy',optimizer='adam',metrics=['accuracy'])\n",
        "print(model.summary())"
      ],
      "metadata": {
        "colab": {
          "base_uri": "https://localhost:8080/"
        },
        "id": "0qj4LMZNIk6t",
        "outputId": "3cd23efd-7bf7-4e45-c1ef-3ceeeccc7fae"
      },
      "execution_count": 89,
      "outputs": [
        {
          "output_type": "stream",
          "name": "stdout",
          "text": [
            "Model: \"sequential_3\"\n",
            "_________________________________________________________________\n",
            " Layer (type)                Output Shape              Param #   \n",
            "=================================================================\n",
            " embedding_3 (Embedding)     (None, 50, 40)            200000    \n",
            "                                                                 \n",
            " lstm_3 (LSTM)               (None, 100)               56400     \n",
            "                                                                 \n",
            " dense_3 (Dense)             (None, 1)                 101       \n",
            "                                                                 \n",
            "=================================================================\n",
            "Total params: 256,501\n",
            "Trainable params: 256,501\n",
            "Non-trainable params: 0\n",
            "_________________________________________________________________\n",
            "None\n"
          ]
        }
      ]
    },
    {
      "cell_type": "code",
      "source": [
        "len(embedded_docs),y.shape"
      ],
      "metadata": {
        "colab": {
          "base_uri": "https://localhost:8080/"
        },
        "id": "J-ZZo8sgTtgo",
        "outputId": "7a5b1538-5cf8-465d-fff6-26bbcab8a46e"
      },
      "execution_count": 90,
      "outputs": [
        {
          "output_type": "execute_result",
          "data": {
            "text/plain": [
              "(18285, (18285,))"
            ]
          },
          "metadata": {},
          "execution_count": 90
        }
      ]
    },
    {
      "cell_type": "code",
      "source": [
        "import numpy as np\n",
        "X_final=np.array(embedded_docs)\n",
        "y_final=np.array(y)"
      ],
      "metadata": {
        "id": "n0BvpVyYUYO0"
      },
      "execution_count": 91,
      "outputs": []
    },
    {
      "cell_type": "code",
      "source": [
        "X_final.shape,y_final.shape"
      ],
      "metadata": {
        "colab": {
          "base_uri": "https://localhost:8080/"
        },
        "id": "-Yu9bIy_UZ2j",
        "outputId": "b97a4372-55a6-42e3-e79a-76c5cdecaa01"
      },
      "execution_count": 92,
      "outputs": [
        {
          "output_type": "execute_result",
          "data": {
            "text/plain": [
              "((18285, 50), (18285,))"
            ]
          },
          "metadata": {},
          "execution_count": 92
        }
      ]
    },
    {
      "cell_type": "code",
      "source": [
        "from sklearn.model_selection import train_test_split\n",
        "X_train, X_test, y_train, y_test = train_test_split(X_final, y_final, test_size=0.33, random_state=42)"
      ],
      "metadata": {
        "id": "nuyLyfUYUbbS"
      },
      "execution_count": 93,
      "outputs": []
    },
    {
      "cell_type": "code",
      "source": [
        "### Finally Training\n",
        "model.fit(X_train,y_train,validation_data=(X_test,y_test),epochs=10,batch_size=64)"
      ],
      "metadata": {
        "colab": {
          "base_uri": "https://localhost:8080/"
        },
        "id": "gA5YHgj1Udbu",
        "outputId": "af7dc98a-7162-4814-a2c8-95b1c436ab79"
      },
      "execution_count": 94,
      "outputs": [
        {
          "output_type": "stream",
          "name": "stdout",
          "text": [
            "Epoch 1/10\n",
            "192/192 [==============================] - 17s 76ms/step - loss: 0.3280 - accuracy: 0.8442 - val_loss: 0.1942 - val_accuracy: 0.9168\n",
            "Epoch 2/10\n",
            "192/192 [==============================] - 14s 72ms/step - loss: 0.1356 - accuracy: 0.9474 - val_loss: 0.1939 - val_accuracy: 0.9206\n",
            "Epoch 3/10\n",
            "192/192 [==============================] - 14s 71ms/step - loss: 0.0991 - accuracy: 0.9636 - val_loss: 0.2213 - val_accuracy: 0.9186\n",
            "Epoch 4/10\n",
            "192/192 [==============================] - 14s 72ms/step - loss: 0.0714 - accuracy: 0.9744 - val_loss: 0.2477 - val_accuracy: 0.9165\n",
            "Epoch 5/10\n",
            "192/192 [==============================] - 15s 78ms/step - loss: 0.0479 - accuracy: 0.9850 - val_loss: 0.2591 - val_accuracy: 0.9125\n",
            "Epoch 6/10\n",
            "192/192 [==============================] - 14s 71ms/step - loss: 0.0300 - accuracy: 0.9900 - val_loss: 0.3227 - val_accuracy: 0.9077\n",
            "Epoch 7/10\n",
            "192/192 [==============================] - 14s 71ms/step - loss: 0.0189 - accuracy: 0.9945 - val_loss: 0.3673 - val_accuracy: 0.9128\n",
            "Epoch 8/10\n",
            "192/192 [==============================] - 14s 72ms/step - loss: 0.0131 - accuracy: 0.9958 - val_loss: 0.4612 - val_accuracy: 0.9087\n",
            "Epoch 9/10\n",
            "192/192 [==============================] - 14s 72ms/step - loss: 0.0063 - accuracy: 0.9984 - val_loss: 0.5430 - val_accuracy: 0.9127\n",
            "Epoch 10/10\n",
            "192/192 [==============================] - 14s 72ms/step - loss: 0.0033 - accuracy: 0.9994 - val_loss: 0.5958 - val_accuracy: 0.9029\n"
          ]
        },
        {
          "output_type": "execute_result",
          "data": {
            "text/plain": [
              "<keras.callbacks.History at 0x7fa7cbd982d0>"
            ]
          },
          "metadata": {},
          "execution_count": 94
        }
      ]
    },
    {
      "cell_type": "code",
      "source": [
        "from tensorflow.keras.layers import Dropout\n",
        "## Creating model\n",
        "embedding_vector_features=40\n",
        "model2=Sequential()\n",
        "model2.add(Embedding(vocab_size,embedding_vector_features,input_length=sen_len))\n",
        "model2.add(Dropout(0.3))\n",
        "model2.add(LSTM(100))\n",
        "model2.add(Dropout(0.3))\n",
        "model2.add(Dense(1,activation='sigmoid'))\n",
        "model2.compile(loss='binary_crossentropy',optimizer='adam',metrics=['accuracy'])"
      ],
      "metadata": {
        "id": "ykf_5na2XK3p"
      },
      "execution_count": 95,
      "outputs": []
    },
    {
      "cell_type": "code",
      "source": [
        "### Finally Training\n",
        "model2.fit(X_train,y_train,validation_data=(X_test,y_test),epochs=10,batch_size=64)"
      ],
      "metadata": {
        "colab": {
          "base_uri": "https://localhost:8080/"
        },
        "id": "vg91ASbqZhhD",
        "outputId": "dfe4ea86-8b5b-497a-e4de-bd556967628c"
      },
      "execution_count": 96,
      "outputs": [
        {
          "output_type": "stream",
          "name": "stdout",
          "text": [
            "Epoch 1/10\n",
            "192/192 [==============================] - 20s 79ms/step - loss: 0.3353 - accuracy: 0.8347 - val_loss: 0.1969 - val_accuracy: 0.9155\n",
            "Epoch 2/10\n",
            "192/192 [==============================] - 14s 72ms/step - loss: 0.1797 - accuracy: 0.9327 - val_loss: 0.1983 - val_accuracy: 0.9213\n",
            "Epoch 3/10\n",
            "192/192 [==============================] - 14s 73ms/step - loss: 0.1161 - accuracy: 0.9562 - val_loss: 0.2018 - val_accuracy: 0.9216\n",
            "Epoch 4/10\n",
            "192/192 [==============================] - 14s 75ms/step - loss: 0.0845 - accuracy: 0.9711 - val_loss: 0.2221 - val_accuracy: 0.9213\n",
            "Epoch 5/10\n",
            "192/192 [==============================] - 14s 73ms/step - loss: 0.0620 - accuracy: 0.9784 - val_loss: 0.2453 - val_accuracy: 0.9188\n",
            "Epoch 6/10\n",
            "192/192 [==============================] - 14s 74ms/step - loss: 0.0451 - accuracy: 0.9840 - val_loss: 0.2570 - val_accuracy: 0.9120\n",
            "Epoch 7/10\n",
            "192/192 [==============================] - 15s 80ms/step - loss: 0.0335 - accuracy: 0.9896 - val_loss: 0.3330 - val_accuracy: 0.9143\n",
            "Epoch 8/10\n",
            "192/192 [==============================] - 14s 73ms/step - loss: 0.0258 - accuracy: 0.9920 - val_loss: 0.3701 - val_accuracy: 0.9155\n",
            "Epoch 9/10\n",
            "192/192 [==============================] - 14s 74ms/step - loss: 0.0194 - accuracy: 0.9941 - val_loss: 0.4100 - val_accuracy: 0.9120\n",
            "Epoch 10/10\n",
            "192/192 [==============================] - 14s 74ms/step - loss: 0.0170 - accuracy: 0.9944 - val_loss: 0.3918 - val_accuracy: 0.9140\n"
          ]
        },
        {
          "output_type": "execute_result",
          "data": {
            "text/plain": [
              "<keras.callbacks.History at 0x7fa7cfe7f2d0>"
            ]
          },
          "metadata": {},
          "execution_count": 96
        }
      ]
    },
    {
      "cell_type": "code",
      "source": [
        "y_pred=model2.predict(X_test)\n",
        "y_pred"
      ],
      "metadata": {
        "colab": {
          "base_uri": "https://localhost:8080/"
        },
        "id": "v42MtP88Zn7u",
        "outputId": "a79d15fe-da21-4ad2-cb20-cb6da4bf2bf1"
      },
      "execution_count": 97,
      "outputs": [
        {
          "output_type": "execute_result",
          "data": {
            "text/plain": [
              "array([[9.9991179e-01],\n",
              "       [3.3694506e-04],\n",
              "       [2.9984415e-03],\n",
              "       ...,\n",
              "       [2.2678077e-03],\n",
              "       [9.8955506e-01],\n",
              "       [9.9451327e-01]], dtype=float32)"
            ]
          },
          "metadata": {},
          "execution_count": 97
        }
      ]
    },
    {
      "cell_type": "code",
      "source": [
        "y_pred=np.where(y_pred > 0.6, 1,0) ##AUC ROC Curve"
      ],
      "metadata": {
        "id": "h7jrPNGtafVY"
      },
      "execution_count": 98,
      "outputs": []
    },
    {
      "cell_type": "code",
      "source": [
        "from sklearn.metrics import confusion_matrix\n",
        "\n",
        "confusion_matrix(y_test,y_pred)"
      ],
      "metadata": {
        "colab": {
          "base_uri": "https://localhost:8080/"
        },
        "id": "9MwEDW7pa27R",
        "outputId": "609b9daa-77df-4711-bd2c-2d5f0cad222d"
      },
      "execution_count": 99,
      "outputs": [
        {
          "output_type": "execute_result",
          "data": {
            "text/plain": [
              "array([[3082,  337],\n",
              "       [ 186, 2430]])"
            ]
          },
          "metadata": {},
          "execution_count": 99
        }
      ]
    },
    {
      "cell_type": "code",
      "source": [
        "from sklearn.metrics import accuracy_score\n",
        "accuracy_score(y_test,y_pred)"
      ],
      "metadata": {
        "colab": {
          "base_uri": "https://localhost:8080/"
        },
        "id": "oWRq6NP7a76p",
        "outputId": "af8b34fe-1f2d-411d-d126-b168fa1fff44"
      },
      "execution_count": 100,
      "outputs": [
        {
          "output_type": "execute_result",
          "data": {
            "text/plain": [
              "0.9133388566694284"
            ]
          },
          "metadata": {},
          "execution_count": 100
        }
      ]
    },
    {
      "cell_type": "code",
      "source": [
        "from sklearn.metrics import classification_report\n",
        "print(classification_report(y_test,y_pred))"
      ],
      "metadata": {
        "colab": {
          "base_uri": "https://localhost:8080/"
        },
        "id": "oYb0Lz2bbBxz",
        "outputId": "22b3ddc2-e2c7-4189-b40c-e84898bde20b"
      },
      "execution_count": 101,
      "outputs": [
        {
          "output_type": "stream",
          "name": "stdout",
          "text": [
            "              precision    recall  f1-score   support\n",
            "\n",
            "           0       0.94      0.90      0.92      3419\n",
            "           1       0.88      0.93      0.90      2616\n",
            "\n",
            "    accuracy                           0.91      6035\n",
            "   macro avg       0.91      0.92      0.91      6035\n",
            "weighted avg       0.91      0.91      0.91      6035\n",
            "\n"
          ]
        }
      ]
    },
    {
      "cell_type": "code",
      "source": [
        "\n"
      ],
      "metadata": {
        "id": "FfMIKEdGbG2A"
      },
      "execution_count": null,
      "outputs": []
    }
  ]
}