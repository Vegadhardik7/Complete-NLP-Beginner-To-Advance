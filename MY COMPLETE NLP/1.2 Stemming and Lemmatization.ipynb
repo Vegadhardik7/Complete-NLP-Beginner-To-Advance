{
 "cells": [
  {
   "cell_type": "markdown",
   "metadata": {},
   "source": [
    "# Stemming & Stopwords"
   ]
  },
  {
   "cell_type": "code",
   "execution_count": 1,
   "metadata": {},
   "outputs": [],
   "source": [
    "import nltk"
   ]
  },
  {
   "cell_type": "markdown",
   "metadata": {},
   "source": [
    "### How Tokenization really happens?\n",
    "\n",
    "We will be taking a praragraph and than we will be converting those paragraphs into individual characters"
   ]
  },
  {
   "cell_type": "code",
   "execution_count": 2,
   "metadata": {},
   "outputs": [],
   "source": [
    "paragraph = \"\"\"I have three visions for India. In 3000 years of our history, people from all over \n",
    "               the world have come and invaded us, captured our lands, conquered our minds. \n",
    "               From Alexander onwards, the Greeks, the Turks, the Moguls, the Portuguese, the British,\n",
    "               the French, the Dutch, all of them came and looted us, took over what was ours. \n",
    "               Yet we have not done this to any other nation. We have not conquered anyone. \n",
    "               We have not grabbed their land, their culture, \n",
    "               their history and tried to enforce our way of life on them. \n",
    "               Why? Because we respect the freedom of others.That is why my \n",
    "               first vision is that of freedom. I believe that India got its first vision of \n",
    "               this in 1857, when we started the War of Independence. It is this freedom that\n",
    "               we must protect and nurture and build on. If we are not free, no one will respect us.\n",
    "               My second vision for India’s development. For fifty years we have been a developing nation.\n",
    "               It is time we see ourselves as a developed nation. We are among the top 5 nations of the world\n",
    "               in terms of GDP. We have a 10 percent growth rate in most areas. Our poverty levels are falling.\n",
    "               Our achievements are being globally recognised today. Yet we lack the self-confidence to\n",
    "               see ourselves as a developed nation, self-reliant and self-assured. Isn’t this incorrect?\n",
    "               I have a third vision. India must stand up to the world. Because I believe that unless India \n",
    "               stands up to the world, no one will respect us. Only strength respects strength. We must be \n",
    "               strong not only as a military power but also as an economic power. Both must go hand-in-hand. \n",
    "               My good fortune was to have worked with three great minds. Dr. Vikram Sarabhai of the Dept. of \n",
    "               space, Professor Satish Dhawan, who succeeded him and Dr. Brahm Prakash, father of nuclear material.\n",
    "               I was lucky to have worked with all three of them closely and consider this the great opportunity of my life. \n",
    "               I see four milestones in my career\"\"\""
   ]
  },
  {
   "cell_type": "markdown",
   "metadata": {},
   "source": [
    "##### Converting Paragraphs into sentences:"
   ]
  },
  {
   "cell_type": "code",
   "execution_count": 3,
   "metadata": {},
   "outputs": [
    {
     "name": "stdout",
     "output_type": "stream",
     "text": [
      "['I have three visions for India.', 'In 3000 years of our history, people from all over \\n               the world have come and invaded us, captured our lands, conquered our minds.', 'From Alexander onwards, the Greeks, the Turks, the Moguls, the Portuguese, the British,\\n               the French, the Dutch, all of them came and looted us, took over what was ours.', 'Yet we have not done this to any other nation.', 'We have not conquered anyone.', 'We have not grabbed their land, their culture, \\n               their history and tried to enforce our way of life on them.', 'Why?', 'Because we respect the freedom of others.That is why my \\n               first vision is that of freedom.', 'I believe that India got its first vision of \\n               this in 1857, when we started the War of Independence.', 'It is this freedom that\\n               we must protect and nurture and build on.', 'If we are not free, no one will respect us.', 'My second vision for India’s development.', 'For fifty years we have been a developing nation.', 'It is time we see ourselves as a developed nation.', 'We are among the top 5 nations of the world\\n               in terms of GDP.', 'We have a 10 percent growth rate in most areas.', 'Our poverty levels are falling.', 'Our achievements are being globally recognised today.', 'Yet we lack the self-confidence to\\n               see ourselves as a developed nation, self-reliant and self-assured.', 'Isn’t this incorrect?', 'I have a third vision.', 'India must stand up to the world.', 'Because I believe that unless India \\n               stands up to the world, no one will respect us.', 'Only strength respects strength.', 'We must be \\n               strong not only as a military power but also as an economic power.', 'Both must go hand-in-hand.', 'My good fortune was to have worked with three great minds.', 'Dr. Vikram Sarabhai of the Dept.', 'of \\n               space, Professor Satish Dhawan, who succeeded him and Dr. Brahm Prakash, father of nuclear material.', 'I was lucky to have worked with all three of them closely and consider this the great opportunity of my life.', 'I see four milestones in my career']\n"
     ]
    }
   ],
   "source": [
    "# Tokenizing the sentences\n",
    "sen = nltk.sent_tokenize(paragraph)  \n",
    "print(sen)"
   ]
  },
  {
   "cell_type": "code",
   "execution_count": 4,
   "metadata": {},
   "outputs": [
    {
     "data": {
      "text/plain": [
       "31"
      ]
     },
     "execution_count": 4,
     "metadata": {},
     "output_type": "execute_result"
    }
   ],
   "source": [
    "len(sen)"
   ]
  },
  {
   "cell_type": "markdown",
   "metadata": {},
   "source": [
    "### Stopwords"
   ]
  },
  {
   "cell_type": "code",
   "execution_count": 5,
   "metadata": {},
   "outputs": [
    {
     "data": {
      "text/plain": [
       "\"i  |  me  |  my  |  myself  |  we  |  our  |  ours  |  ourselves  |  you  |  you're  |  you've  |  you'll  |  you'd  |  your  |  yours  |  yourself  |  yourselves  |  he  |  him  |  his  |  himself  |  she  |  she's  |  her  |  hers  |  herself  |  it  |  it's  |  its  |  itself  |  they  |  them  |  their  |  theirs  |  themselves  |  what  |  which  |  who  |  whom  |  this  |  that  |  that'll  |  these  |  those  |  am  |  is  |  are  |  was  |  were  |  be  |  been  |  being  |  have  |  has  |  had  |  having  |  do  |  does  |  did  |  doing  |  a  |  an  |  the  |  and  |  but  |  if  |  or  |  because  |  as  |  until  |  while  |  of  |  at  |  by  |  for  |  with  |  about  |  against  |  between  |  into  |  through  |  during  |  before  |  after  |  above  |  below  |  to  |  from  |  up  |  down  |  in  |  out  |  on  |  off  |  over  |  under  |  again  |  further  |  then  |  once  |  here  |  there  |  when  |  where  |  why  |  how  |  all  |  any  |  both  |  each  |  few  |  more  |  most  |  other  |  some  |  such  |  no  |  nor  |  not  |  only  |  own  |  same  |  so  |  than  |  too  |  very  |  s  |  t  |  can  |  will  |  just  |  don  |  don't  |  should  |  should've  |  now  |  d  |  ll  |  m  |  o  |  re  |  ve  |  y  |  ain  |  aren  |  aren't  |  couldn  |  couldn't  |  didn  |  didn't  |  doesn  |  doesn't  |  hadn  |  hadn't  |  hasn  |  hasn't  |  haven  |  haven't  |  isn  |  isn't  |  ma  |  mightn  |  mightn't  |  mustn  |  mustn't  |  needn  |  needn't  |  shan  |  shan't  |  shouldn  |  shouldn't  |  wasn  |  wasn't  |  weren  |  weren't  |  won  |  won't  |  wouldn  |  wouldn't\""
      ]
     },
     "execution_count": 5,
     "metadata": {},
     "output_type": "execute_result"
    }
   ],
   "source": [
    "from nltk.corpus import stopwords\n",
    "\n",
    "'  |  '.join(stopwords.words('english'))"
   ]
  },
  {
   "cell_type": "markdown",
   "metadata": {},
   "source": [
    "### Stemming"
   ]
  },
  {
   "cell_type": "code",
   "execution_count": 6,
   "metadata": {},
   "outputs": [],
   "source": [
    "from nltk.stem import PorterStemmer\n",
    "from nltk.corpus import stopwords\n",
    "\n",
    "stemmer = PorterStemmer()\n",
    "\n",
    "# In stemming we will be removing stop words\n",
    "\n",
    "for i in range(len(sen)):\n",
    "    words = nltk.word_tokenize(sen[i])\n",
    "    words = [stemmer.stem(w) for w in words if w not in set(stopwords.words('english'))] # Remove all stropwords than stem them\n",
    "    sen[i] = ' '.join(words)                                                                      "
   ]
  },
  {
   "cell_type": "code",
   "execution_count": 7,
   "metadata": {},
   "outputs": [
    {
     "name": "stdout",
     "output_type": "stream",
     "text": [
      "['I', 'see', 'four', 'mileston', 'career']\n"
     ]
    }
   ],
   "source": [
    "print(words)"
   ]
  },
  {
   "cell_type": "code",
   "execution_count": 8,
   "metadata": {},
   "outputs": [
    {
     "name": "stdout",
     "output_type": "stream",
     "text": [
      "0 : I three vision india . \n",
      "\n",
      "1 : In 3000 year histori , peopl world come invad us , captur land , conquer mind . \n",
      "\n",
      "2 : from alexand onward , greek , turk , mogul , portugues , british , french , dutch , came loot us , took . \n",
      "\n",
      "3 : yet done nation . \n",
      "\n",
      "4 : We conquer anyon . \n",
      "\n",
      "5 : We grab land , cultur , histori tri enforc way life . \n",
      "\n",
      "6 : whi ? \n",
      "\n",
      "7 : becaus respect freedom others.that first vision freedom . \n",
      "\n",
      "8 : I believ india got first vision 1857 , start war independ . \n",
      "\n",
      "9 : It freedom must protect nurtur build . \n",
      "\n",
      "10 : If free , one respect us . \n",
      "\n",
      "11 : My second vision india ’ develop . \n",
      "\n",
      "12 : for fifti year develop nation . \n",
      "\n",
      "13 : It time see develop nation . \n",
      "\n",
      "14 : We among top 5 nation world term gdp . \n",
      "\n",
      "15 : We 10 percent growth rate area . \n",
      "\n",
      "16 : our poverti level fall . \n",
      "\n",
      "17 : our achiev global recognis today . \n",
      "\n",
      "18 : yet lack self-confid see develop nation , self-reli self-assur . \n",
      "\n",
      "19 : isn ’ incorrect ? \n",
      "\n",
      "20 : I third vision . \n",
      "\n",
      "21 : india must stand world . \n",
      "\n",
      "22 : becaus I believ unless india stand world , one respect us . \n",
      "\n",
      "23 : onli strength respect strength . \n",
      "\n",
      "24 : We must strong militari power also econom power . \n",
      "\n",
      "25 : both must go hand-in-hand . \n",
      "\n",
      "26 : My good fortun work three great mind . \n",
      "\n",
      "27 : dr. vikram sarabhai dept . \n",
      "\n",
      "28 : space , professor satish dhawan , succeed dr. brahm prakash , father nuclear materi . \n",
      "\n",
      "29 : I lucki work three close consid great opportun life . \n",
      "\n",
      "30 : I see four mileston career \n",
      "\n"
     ]
    }
   ],
   "source": [
    "for x,i in enumerate(sen):\n",
    "    print(x,':',i,'\\n')"
   ]
  },
  {
   "cell_type": "markdown",
   "metadata": {},
   "source": [
    "### Lemmatization"
   ]
  },
  {
   "cell_type": "code",
   "execution_count": 9,
   "metadata": {},
   "outputs": [],
   "source": [
    "from nltk.stem import WordNetLemmatizer\n",
    "from nltk.corpus import stopwords\n",
    "\n",
    "sen1 = nltk.sent_tokenize(paragraph)  \n",
    "lemma = WordNetLemmatizer()\n",
    "\n",
    "# Lemmatization\n",
    "\n",
    "for i in range(len(sen1)):\n",
    "    words = nltk.word_tokenize(sen1[i])\n",
    "    words = [lemma.lemmatize(w) for w in words if w not in set(stopwords.words('english'))] \n",
    "    sen1[i] = ' '.join(words)                                                                      "
   ]
  },
  {
   "cell_type": "code",
   "execution_count": 10,
   "metadata": {},
   "outputs": [
    {
     "name": "stdout",
     "output_type": "stream",
     "text": [
      "['I', 'see', 'four', 'milestone', 'career']\n"
     ]
    }
   ],
   "source": [
    "print(words)"
   ]
  },
  {
   "cell_type": "code",
   "execution_count": 11,
   "metadata": {},
   "outputs": [
    {
     "name": "stdout",
     "output_type": "stream",
     "text": [
      "0 : I three vision India . \n",
      "\n",
      "1 : In 3000 year history , people world come invaded u , captured land , conquered mind . \n",
      "\n",
      "2 : From Alexander onwards , Greeks , Turks , Moguls , Portuguese , British , French , Dutch , came looted u , took . \n",
      "\n",
      "3 : Yet done nation . \n",
      "\n",
      "4 : We conquered anyone . \n",
      "\n",
      "5 : We grabbed land , culture , history tried enforce way life . \n",
      "\n",
      "6 : Why ? \n",
      "\n",
      "7 : Because respect freedom others.That first vision freedom . \n",
      "\n",
      "8 : I believe India got first vision 1857 , started War Independence . \n",
      "\n",
      "9 : It freedom must protect nurture build . \n",
      "\n",
      "10 : If free , one respect u . \n",
      "\n",
      "11 : My second vision India ’ development . \n",
      "\n",
      "12 : For fifty year developing nation . \n",
      "\n",
      "13 : It time see developed nation . \n",
      "\n",
      "14 : We among top 5 nation world term GDP . \n",
      "\n",
      "15 : We 10 percent growth rate area . \n",
      "\n",
      "16 : Our poverty level falling . \n",
      "\n",
      "17 : Our achievement globally recognised today . \n",
      "\n",
      "18 : Yet lack self-confidence see developed nation , self-reliant self-assured . \n",
      "\n",
      "19 : Isn ’ incorrect ? \n",
      "\n",
      "20 : I third vision . \n",
      "\n",
      "21 : India must stand world . \n",
      "\n",
      "22 : Because I believe unless India stand world , one respect u . \n",
      "\n",
      "23 : Only strength respect strength . \n",
      "\n",
      "24 : We must strong military power also economic power . \n",
      "\n",
      "25 : Both must go hand-in-hand . \n",
      "\n",
      "26 : My good fortune worked three great mind . \n",
      "\n",
      "27 : Dr. Vikram Sarabhai Dept . \n",
      "\n",
      "28 : space , Professor Satish Dhawan , succeeded Dr. Brahm Prakash , father nuclear material . \n",
      "\n",
      "29 : I lucky worked three closely consider great opportunity life . \n",
      "\n",
      "30 : I see four milestone career \n",
      "\n"
     ]
    }
   ],
   "source": [
    "for x,i in enumerate(sen1):\n",
    "    print(x,':',i,'\\n')"
   ]
  },
  {
   "cell_type": "code",
   "execution_count": null,
   "metadata": {},
   "outputs": [],
   "source": []
  }
 ],
 "metadata": {
  "kernelspec": {
   "display_name": "Python 3",
   "language": "python",
   "name": "python3"
  },
  "language_info": {
   "codemirror_mode": {
    "name": "ipython",
    "version": 3
   },
   "file_extension": ".py",
   "mimetype": "text/x-python",
   "name": "python",
   "nbconvert_exporter": "python",
   "pygments_lexer": "ipython3",
   "version": "3.7.7"
  }
 },
 "nbformat": 4,
 "nbformat_minor": 4
}
