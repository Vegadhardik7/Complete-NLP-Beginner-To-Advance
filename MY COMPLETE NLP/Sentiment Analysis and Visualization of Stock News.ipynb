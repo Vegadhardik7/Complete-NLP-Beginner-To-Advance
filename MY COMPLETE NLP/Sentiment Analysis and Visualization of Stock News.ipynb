{
 "cells": [
  {
   "cell_type": "markdown",
   "metadata": {},
   "source": [
    "### Basic Imports"
   ]
  },
  {
   "cell_type": "code",
   "execution_count": 1,
   "metadata": {},
   "outputs": [],
   "source": [
    "import pandas as pd\n",
    "import numpy as np\n",
    "import seaborn as sns\n",
    "import matplotlib.pyplot as plt\n",
    "%matplotlib inline"
   ]
  },
  {
   "cell_type": "markdown",
   "metadata": {},
   "source": [
    "<br>\n",
    "____________________________________________________________________________________________________________________________"
   ]
  },
  {
   "cell_type": "markdown",
   "metadata": {},
   "source": [
    "### Getting Data"
   ]
  },
  {
   "cell_type": "code",
   "execution_count": 8,
   "metadata": {},
   "outputs": [],
   "source": [
    "from urllib.request import urlopen, Request\n",
    "from bs4 import BeautifulSoup\n",
    "\n",
    "\n",
    "finviz_url = 'https://finviz.com/quote.ashx?t='\n",
    "tickers = ['AMZN', 'GOOG', 'FB']\n",
    "\n",
    "news_tables = {}\n",
    "for ticker in tickers:\n",
    "    url = finviz_url + ticker\n",
    "\n",
    "    req = Request(url=url, headers={'user-agent': 'my-app'})\n",
    "    response = urlopen(req)\n",
    "\n",
    "    html = BeautifulSoup(response, features='html.parser')\n",
    "    news_table = html.find(id='news-table')\n",
    "    news_tables[ticker] = news_table\n",
    "\n",
    "\n",
    "\n",
    "#---------------------------------------------------------------------\n",
    "### This was just a dummy for amazon    \n",
    "# print(news_tables)\n",
    "# amzn_data = news_tables['AMZN']\n",
    "\n",
    "# # FindAll in BeautifulSoup\n",
    "# amzn_rows = amzn_data.findAll('tr')\n",
    "\n",
    "# for index, row in enumerate(amzn_rows):\n",
    "#     title = row.a.text\n",
    "#     timestamp = row.td.text\n",
    "#     print(timestamp+\" \"+title)\n",
    "#---------------------------------------------------------------------\n",
    "\n",
    "parsed_data = []\n",
    "\n",
    "for ticker, news_table in news_tables.items():\n",
    "    for row in news_table.findAll('tr'):\n",
    "        title = row.a.text\n",
    "        date_data = row.td.text.split(' ')\n",
    "\n",
    "        if len(date_data) == 1:\n",
    "            time = date_data[0]\n",
    "        else:\n",
    "            date = date_data[0]\n",
    "            time = date_data[1]\n",
    "\n",
    "        parsed_data.append([ticker, date, time, title])\n",
    "\n",
    "df = pd.DataFrame(parsed_data, columns=['ticker', 'date', 'time', 'title'])\n",
    "df['date'] = pd.to_datetime(df.date).dt.date"
   ]
  },
  {
   "cell_type": "code",
   "execution_count": 9,
   "metadata": {},
   "outputs": [
    {
     "data": {
      "text/html": [
       "<div>\n",
       "<style scoped>\n",
       "    .dataframe tbody tr th:only-of-type {\n",
       "        vertical-align: middle;\n",
       "    }\n",
       "\n",
       "    .dataframe tbody tr th {\n",
       "        vertical-align: top;\n",
       "    }\n",
       "\n",
       "    .dataframe thead th {\n",
       "        text-align: right;\n",
       "    }\n",
       "</style>\n",
       "<table border=\"1\" class=\"dataframe\">\n",
       "  <thead>\n",
       "    <tr style=\"text-align: right;\">\n",
       "      <th></th>\n",
       "      <th>ticker</th>\n",
       "      <th>date</th>\n",
       "      <th>time</th>\n",
       "      <th>title</th>\n",
       "    </tr>\n",
       "  </thead>\n",
       "  <tbody>\n",
       "    <tr>\n",
       "      <th>0</th>\n",
       "      <td>AMZN</td>\n",
       "      <td>2021-02-21</td>\n",
       "      <td>04:01PM</td>\n",
       "      <td>Elizabeth Warren's Economic Plan: Break Things...</td>\n",
       "    </tr>\n",
       "    <tr>\n",
       "      <th>1</th>\n",
       "      <td>AMZN</td>\n",
       "      <td>2021-02-21</td>\n",
       "      <td>09:43AM</td>\n",
       "      <td>UPS's E-Commerce Growth Is Here to Stay</td>\n",
       "    </tr>\n",
       "    <tr>\n",
       "      <th>2</th>\n",
       "      <td>AMZN</td>\n",
       "      <td>2021-02-21</td>\n",
       "      <td>09:20AM</td>\n",
       "      <td>5 Reasons Datadog's Post-Earnings Dip Is a Buy...</td>\n",
       "    </tr>\n",
       "    <tr>\n",
       "      <th>3</th>\n",
       "      <td>AMZN</td>\n",
       "      <td>2021-02-21</td>\n",
       "      <td>08:56AM</td>\n",
       "      <td>Could Walmart Be a Millionaire-Maker Stock?</td>\n",
       "    </tr>\n",
       "    <tr>\n",
       "      <th>4</th>\n",
       "      <td>AMZN</td>\n",
       "      <td>2021-02-21</td>\n",
       "      <td>08:00AM</td>\n",
       "      <td>New York Sues Amazon for Mishandling Coronavir...</td>\n",
       "    </tr>\n",
       "  </tbody>\n",
       "</table>\n",
       "</div>"
      ],
      "text/plain": [
       "  ticker        date       time  \\\n",
       "0   AMZN  2021-02-21  04:01PM     \n",
       "1   AMZN  2021-02-21  09:43AM     \n",
       "2   AMZN  2021-02-21  09:20AM     \n",
       "3   AMZN  2021-02-21  08:56AM     \n",
       "4   AMZN  2021-02-21  08:00AM     \n",
       "\n",
       "                                               title  \n",
       "0  Elizabeth Warren's Economic Plan: Break Things...  \n",
       "1            UPS's E-Commerce Growth Is Here to Stay  \n",
       "2  5 Reasons Datadog's Post-Earnings Dip Is a Buy...  \n",
       "3        Could Walmart Be a Millionaire-Maker Stock?  \n",
       "4  New York Sues Amazon for Mishandling Coronavir...  "
      ]
     },
     "execution_count": 9,
     "metadata": {},
     "output_type": "execute_result"
    }
   ],
   "source": [
    "df.head()"
   ]
  },
  {
   "cell_type": "code",
   "execution_count": 10,
   "metadata": {},
   "outputs": [
    {
     "data": {
      "text/plain": [
       "(300, 4)"
      ]
     },
     "execution_count": 10,
     "metadata": {},
     "output_type": "execute_result"
    }
   ],
   "source": [
    "df.shape"
   ]
  },
  {
   "cell_type": "code",
   "execution_count": 12,
   "metadata": {},
   "outputs": [
    {
     "data": {
      "text/plain": [
       "array(['AMZN', 'GOOG', 'FB'], dtype=object)"
      ]
     },
     "execution_count": 12,
     "metadata": {},
     "output_type": "execute_result"
    }
   ],
   "source": [
    "df.ticker.unique()"
   ]
  },
  {
   "cell_type": "code",
   "execution_count": 14,
   "metadata": {},
   "outputs": [],
   "source": [
    "from nltk.sentiment.vader import SentimentIntensityAnalyzer\n",
    "\n",
    "vader = SentimentIntensityAnalyzer()\n",
    "\n",
    "f = lambda title: vader.polarity_scores(title)['compound']\n",
    "df['compound'] = df['title'].apply(f)"
   ]
  },
  {
   "cell_type": "code",
   "execution_count": 15,
   "metadata": {},
   "outputs": [
    {
     "data": {
      "text/plain": [
       "<Figure size 720x576 with 0 Axes>"
      ]
     },
     "metadata": {},
     "output_type": "display_data"
    },
    {
     "data": {
      "image/png": "[encoded data removed]",
      "text/plain": [
       "<Figure size 432x288 with 1 Axes>"
      ]
     },
     "metadata": {
      "needs_background": "light"
     },
     "output_type": "display_data"
    }
   ],
   "source": [
    "plt.figure(figsize=(10,8))\n",
    "mean_df = df.groupby(['ticker', 'date']).mean().unstack()\n",
    "mean_df = mean_df.xs('compound', axis=\"columns\").transpose()\n",
    "mean_df.plot(kind='bar')\n",
    "plt.show()"
   ]
  },
  {
   "cell_type": "code",
   "execution_count": null,
   "metadata": {},
   "outputs": [],
   "source": []
  }
 ],
 "metadata": {
  "kernelspec": {
   "display_name": "Python 3",
   "language": "python",
   "name": "python3"
  },
  "language_info": {
   "codemirror_mode": {
    "name": "ipython",
    "version": 3
   },
   "file_extension": ".py",
   "mimetype": "text/x-python",
   "name": "python",
   "nbconvert_exporter": "python",
   "pygments_lexer": "ipython3",
   "version": "3.7.7"
  }
 },
 "nbformat": 4,
 "nbformat_minor": 4
}
