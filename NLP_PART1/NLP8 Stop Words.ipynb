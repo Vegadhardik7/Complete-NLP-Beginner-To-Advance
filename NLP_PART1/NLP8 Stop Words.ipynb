{
 "cells": [
  {
   "cell_type": "code",
   "execution_count": 1,
   "metadata": {},
   "outputs": [],
   "source": [
    "import spacy"
   ]
  },
  {
   "cell_type": "code",
   "execution_count": 2,
   "metadata": {},
   "outputs": [],
   "source": [
    "nlp = spacy.load('en_core_web_sm')"
   ]
  },
  {
   "cell_type": "code",
   "execution_count": 3,
   "metadata": {},
   "outputs": [
    {
     "name": "stdout",
     "output_type": "stream",
     "text": [
      "{'to', 'before', 'for', 'did', 'forty', 'noone', 'bottom', 'never', 'whereby', 'most', 'anything', 'below', 'namely', 'others', 'have', 'hers', 'take', 'regarding', 'everyone', 'sometime', 'somewhere', 'get', 'had', 'whereafter', 'these', 'thereby', 'by', \"'m\", 'do', 'afterwards', 'further', 'could', 'less', 'whose', 'there', 'done', 'may', 'her', '‘m', 'see', 'own', 'full', 'which', 'under', 'many', 'twelve', 'call', 'will', 'since', 'why', 'please', 'should', 'ourselves', 'so', 'neither', 'give', '‘d', 'ever', 'beforehand', '’d', 'out', 'however', 'empty', 'something', 'their', 'latterly', 'nobody', 'whether', 'does', 'sixty', 'although', 'except', 'across', 'him', 'his', 'thru', 'hence', 'no', 'yourself', 'against', 'yet', 'among', 'several', 'anyone', 'therefore', 'seem', 'same', '‘ve', 'amount', 'make', 'back', 'down', 'yourselves', '’m', 'side', 'meanwhile', 'us', 'nowhere', 'every', 'whither', 'as', 'first', 'than', 'all', 'any', 'still', 'become', 'becomes', 'even', 'rather', 'various', '’ve', 'used', 'quite', 'such', 'whoever', 'per', 'again', \"'ll\", 'eight', 'thereupon', '‘s', 'the', 'been', 'into', 'how', 'using', 'an', 'say', '‘ll', 'himself', 'latter', 'its', 'whom', 'while', 'doing', 'within', 'anywhere', 'then', 'put', \"'ve\", 'between', 'therein', 'who', 'unless', 'cannot', 'were', 'otherwise', 'if', 'much', 'she', 'last', 'whole', \"'d\", 'whereupon', 'very', 'nor', 'nothing', 'can', 'up', 'during', 'is', 'behind', 'both', 'hereafter', 'my', 'four', 'anyhow', 'me', 'part', 'moreover', 'former', 'everything', 'off', 'around', 'show', 'made', 'seemed', 'where', 'anyway', 'be', 'really', 'either', 'beside', 'amongst', 'because', 'itself', 'must', 'they', 'toward', 'mine', 'go', 'once', 'from', 'next', 'seeming', 'thereafter', 'myself', 'on', 'indeed', 'twenty', 'five', 'them', 'of', 'above', 'only', 'what', 'themselves', 'top', '’s', 'about', 'might', 'hereupon', 'ten', 'name', 'he', 'we', '‘re', 'became', 'almost', 'whenever', 'your', 'has', 'front', 're', 'via', 'elsewhere', 'towards', 'after', 'whatever', 'perhaps', 'when', 'nine', 'i', 'whence', 'at', 'each', 'well', 'yours', 'thus', 'thence', 'wherever', 'someone', 'hereby', '’re', 'not', 'fifteen', 'seems', 'now', 'those', 'always', 'herein', 'somehow', 'am', 'other', 'wherein', 'herself', 'whereas', 'until', 'onto', \"'re\", 'just', 'through', 'more', 'six', 'keep', 'besides', 'alone', 'with', 'few', 'serious', 'three', 'was', 'our', 'move', 'nevertheless', 'often', 'along', 'together', 'hundred', 'some', 'third', 'another', 'sometimes', 'in', 'eleven', 'fifty', 'though', 'n’t', 'over', 'too', \"'s\", 'upon', 'n‘t', 'already', 'becoming', 'this', 'are', 'but', 'due', 'without', 'that', 'formerly', 'beyond', 'one', '’ll', 'everywhere', 'would', \"n't\", 'else', 'or', 'you', 'being', 'enough', 'it', 'two', 'a', 'and', 'ca', 'throughout', 'also', 'mostly', 'least', 'here', 'ours', 'none'}\n"
     ]
    }
   ],
   "source": [
    "print(nlp.Defaults.stop_words)"
   ]
  },
  {
   "cell_type": "code",
   "execution_count": 4,
   "metadata": {},
   "outputs": [
    {
     "data": {
      "text/plain": [
       "326"
      ]
     },
     "execution_count": 4,
     "metadata": {},
     "output_type": "execute_result"
    }
   ],
   "source": [
    "len(nlp.Defaults.stop_words)"
   ]
  },
  {
   "cell_type": "code",
   "execution_count": 5,
   "metadata": {},
   "outputs": [
    {
     "data": {
      "text/plain": [
       "<spacy.lexeme.Lexeme at 0x147028eab88>"
      ]
     },
     "execution_count": 5,
     "metadata": {},
     "output_type": "execute_result"
    }
   ],
   "source": [
    "nlp.vocab['onto']"
   ]
  },
  {
   "cell_type": "code",
   "execution_count": 6,
   "metadata": {},
   "outputs": [
    {
     "data": {
      "text/plain": [
       "True"
      ]
     },
     "execution_count": 6,
     "metadata": {},
     "output_type": "execute_result"
    }
   ],
   "source": [
    "nlp.vocab['onto'].is_stop"
   ]
  },
  {
   "cell_type": "code",
   "execution_count": 7,
   "metadata": {},
   "outputs": [
    {
     "data": {
      "text/plain": [
       "False"
      ]
     },
     "execution_count": 7,
     "metadata": {},
     "output_type": "execute_result"
    }
   ],
   "source": [
    "nlp.vocab['Location'].is_stop"
   ]
  },
  {
   "cell_type": "markdown",
   "metadata": {},
   "source": [
    "### Add our own stop words"
   ]
  },
  {
   "cell_type": "code",
   "execution_count": 8,
   "metadata": {},
   "outputs": [],
   "source": [
    "nlp.Defaults.stop_words.add('btw')"
   ]
  },
  {
   "cell_type": "code",
   "execution_count": 9,
   "metadata": {},
   "outputs": [],
   "source": [
    "nlp.vocab['btw'].is_stop = True"
   ]
  },
  {
   "cell_type": "code",
   "execution_count": 10,
   "metadata": {},
   "outputs": [
    {
     "data": {
      "text/plain": [
       "327"
      ]
     },
     "execution_count": 10,
     "metadata": {},
     "output_type": "execute_result"
    }
   ],
   "source": [
    "len(nlp.Defaults.stop_words)"
   ]
  },
  {
   "cell_type": "code",
   "execution_count": 11,
   "metadata": {},
   "outputs": [
    {
     "data": {
      "text/plain": [
       "True"
      ]
     },
     "execution_count": 11,
     "metadata": {},
     "output_type": "execute_result"
    }
   ],
   "source": [
    "nlp.vocab['btw'].is_stop"
   ]
  },
  {
   "cell_type": "markdown",
   "metadata": {},
   "source": [
    "### Remove stop words from the set"
   ]
  },
  {
   "cell_type": "code",
   "execution_count": 12,
   "metadata": {},
   "outputs": [],
   "source": [
    "nlp.Defaults.stop_words.remove('beyond')"
   ]
  },
  {
   "cell_type": "code",
   "execution_count": 13,
   "metadata": {},
   "outputs": [],
   "source": [
    "nlp.vocab['beyond'].is_stop = False"
   ]
  },
  {
   "cell_type": "code",
   "execution_count": 14,
   "metadata": {},
   "outputs": [
    {
     "data": {
      "text/plain": [
       "326"
      ]
     },
     "execution_count": 14,
     "metadata": {},
     "output_type": "execute_result"
    }
   ],
   "source": [
    "len(nlp.Defaults.stop_words)"
   ]
  },
  {
   "cell_type": "code",
   "execution_count": 15,
   "metadata": {},
   "outputs": [
    {
     "data": {
      "text/plain": [
       "False"
      ]
     },
     "execution_count": 15,
     "metadata": {},
     "output_type": "execute_result"
    }
   ],
   "source": [
    "nlp.vocab['beyond'].is_stop"
   ]
  },
  {
   "cell_type": "code",
   "execution_count": null,
   "metadata": {},
   "outputs": [],
   "source": []
  }
 ],
 "metadata": {
  "kernelspec": {
   "display_name": "Python 3",
   "language": "python",
   "name": "python3"
  },
  "language_info": {
   "codemirror_mode": {
    "name": "ipython",
    "version": 3
   },
   "file_extension": ".py",
   "mimetype": "text/x-python",
   "name": "python",
   "nbconvert_exporter": "python",
   "pygments_lexer": "ipython3",
   "version": "3.7.7"
  }
 },
 "nbformat": 4,
 "nbformat_minor": 4
}
